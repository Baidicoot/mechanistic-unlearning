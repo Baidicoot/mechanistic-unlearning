{
 "cells": [
  {
   "cell_type": "code",
   "execution_count": 1,
   "metadata": {},
   "outputs": [],
   "source": [
    "# %cd ../../\n",
    "%load_ext autoreload\n",
    "%autoreload 2\n",
    "from dataset.custom_dataset import PairedInstructionDataset"
   ]
  },
  {
   "cell_type": "code",
   "execution_count": 2,
   "metadata": {},
   "outputs": [],
   "source": [
    "from transformer_lens import HookedTransformer\n",
    "import torch\n",
    "import json\n",
    "from transformers import AutoTokenizer"
   ]
  },
  {
   "cell_type": "code",
   "execution_count": 3,
   "metadata": {},
   "outputs": [
    {
     "name": "stdout",
     "output_type": "stream",
     "text": [
      "Loaded pretrained model pythia-2.8b into HookedTransformer\n"
     ]
    }
   ],
   "source": [
    "with open('localizations/eap/eap_sports/sports_data.json') as f:\n",
    "    data = json.load(f)\n",
    "\n",
    "corr_sub_map = data['corr_sub_map']\n",
    "clean_sub_map = data['clean_sub_map']\n",
    "\n",
    "model = HookedTransformer.from_pretrained(\n",
    "    'pythia-2.8b',\n",
    "    device='cuda',\n",
    "    fold_ln=False,\n",
    "    center_writing_weights=False,\n",
    "    center_unembed=False,\n",
    "    default_padding_side=\"left\"\n",
    ")\n",
    "tokenizer=model.tokenizer\n",
    "\n",
    "model.set_use_hook_mlp_in(True)\n",
    "model.set_use_split_qkv_input(True)\n",
    "model.set_use_attn_result(True)\n",
    "\n",
    "def tokenize_instructions(tokenizer, instructions):\n",
    "    # Use this to put the text into INST tokens or add a system prompt\n",
    "    return tokenizer(\n",
    "        instructions,\n",
    "        padding=True,\n",
    "        truncation=False,\n",
    "        return_tensors=\"pt\",\n",
    "        # padding_side=\"left\",\n",
    "    ).input_ids\n",
    "\n",
    "dataset = PairedInstructionDataset(\n",
    "    N=1000,\n",
    "    instruction_templates=data['instruction_templates'],\n",
    "    harmful_substitution_map=corr_sub_map,\n",
    "    harmless_substitution_map=clean_sub_map,\n",
    "    tokenizer=tokenizer,\n",
    "    tokenize_instructions=tokenize_instructions, \n",
    "    device='cuda'\n",
    ")\n",
    "\n",
    "corr_dataset = dataset.harmful_dataset\n",
    "clean_dataset = dataset.harmless_dataset"
   ]
  },
  {
   "cell_type": "code",
   "execution_count": 4,
   "metadata": {},
   "outputs": [
    {
     "name": "stdout",
     "output_type": "stream",
     "text": [
      "['<|endoftext|><|endoftext|><|endoftext|><|endoftext|>Fact: Tiger Woods plays the sport of golf\\nFact: Austin Rivers plays the sport of', '<|endoftext|><|endoftext|><|endoftext|><|endoftext|>Fact: Tiger Woods plays the sport of golf\\nFact: Adam Dunn plays the sport of', '<|endoftext|><|endoftext|><|endoftext|>Fact: Tiger Woods plays the sport of golf\\nFact: Raymond Felton plays the sport of', '<|endoftext|><|endoftext|><|endoftext|><|endoftext|>Fact: Tiger Woods plays the sport of golf\\nFact: Jordan Bell plays the sport of', '<|endoftext|><|endoftext|><|endoftext|><|endoftext|>Fact: Tiger Woods plays the sport of golf\\nFact: Marvin Harrison plays the sport of', '<|endoftext|><|endoftext|><|endoftext|><|endoftext|>Fact: Tiger Woods plays the sport of golf\\nFact: Bill Self plays the sport of', '<|endoftext|><|endoftext|><|endoftext|><|endoftext|>Fact: Tiger Woods plays the sport of golf\\nFact: Matt Adams plays the sport of', '<|endoftext|><|endoftext|><|endoftext|><|endoftext|>Fact: Tiger Woods plays the sport of golf\\nFact: Josh Hamilton plays the sport of', '<|endoftext|><|endoftext|><|endoftext|><|endoftext|>Fact: Tiger Woods plays the sport of golf\\nFact: Nick Nurse plays the sport of', '<|endoftext|><|endoftext|><|endoftext|><|endoftext|>Fact: Tiger Woods plays the sport of golf\\nFact: Jordan Bell plays the sport of', '<|endoftext|><|endoftext|><|endoftext|><|endoftext|>Fact: Tiger Woods plays the sport of golf\\nFact: Aaron Sanchez plays the sport of', '<|endoftext|><|endoftext|><|endoftext|><|endoftext|>Fact: Tiger Woods plays the sport of golf\\nFact: Jordan Davis plays the sport of', '<|endoftext|><|endoftext|>Fact: Tiger Woods plays the sport of golf\\nFact: Jonny Gomes plays the sport of', '<|endoftext|><|endoftext|><|endoftext|><|endoftext|>Fact: Tiger Woods plays the sport of golf\\nFact: Riley Cooper plays the sport of', '<|endoftext|><|endoftext|><|endoftext|><|endoftext|>Fact: Tiger Woods plays the sport of golf\\nFact: Ty Lawson plays the sport of', '<|endoftext|><|endoftext|><|endoftext|>Fact: Tiger Woods plays the sport of golf\\nFact: Charles Woodson plays the sport of', '<|endoftext|><|endoftext|><|endoftext|>Fact: Tiger Woods plays the sport of golf\\nFact: José Reyes plays the sport of', '<|endoftext|><|endoftext|><|endoftext|>Fact: Tiger Woods plays the sport of golf\\nFact: Reuben Foster plays the sport of', '<|endoftext|><|endoftext|><|endoftext|><|endoftext|>Fact: Tiger Woods plays the sport of golf\\nFact: Matt Flynn plays the sport of', '<|endoftext|><|endoftext|><|endoftext|><|endoftext|>Fact: Tiger Woods plays the sport of golf\\nFact: Josh Allen plays the sport of', '<|endoftext|><|endoftext|><|endoftext|>Fact: Tiger Woods plays the sport of golf\\nFact: Christian Ponder plays the sport of', '<|endoftext|><|endoftext|><|endoftext|>Fact: Tiger Woods plays the sport of golf\\nFact: Robert Horry plays the sport of', '<|endoftext|><|endoftext|><|endoftext|>Fact: Tiger Woods plays the sport of golf\\nFact: Nick Bosa plays the sport of', '<|endoftext|><|endoftext|><|endoftext|><|endoftext|>Fact: Tiger Woods plays the sport of golf\\nFact: Urban Meyer plays the sport of', '<|endoftext|><|endoftext|><|endoftext|><|endoftext|>Fact: Tiger Woods plays the sport of golf\\nFact: Anthony Randolph plays the sport of', '<|endoftext|><|endoftext|><|endoftext|><|endoftext|>Fact: Tiger Woods plays the sport of golf\\nFact: Kyle Allen plays the sport of', '<|endoftext|>Fact: Tiger Woods plays the sport of golf\\nFact: Mark Teixeira plays the sport of', '<|endoftext|><|endoftext|><|endoftext|><|endoftext|>Fact: Tiger Woods plays the sport of golf\\nFact: Brandon Knight plays the sport of', '<|endoftext|><|endoftext|><|endoftext|>Fact: Tiger Woods plays the sport of golf\\nFact: Mike Zimmer plays the sport of', '<|endoftext|>Fact: Tiger Woods plays the sport of golf\\nFact: Colin Kaepernick plays the sport of', '<|endoftext|><|endoftext|><|endoftext|><|endoftext|>Fact: Tiger Woods plays the sport of golf\\nFact: Ben Tate plays the sport of', '<|endoftext|><|endoftext|><|endoftext|>Fact: Tiger Woods plays the sport of golf\\nFact: Curtis Granderson plays the sport of', '<|endoftext|><|endoftext|><|endoftext|><|endoftext|>Fact: Tiger Woods plays the sport of golf\\nFact: Baron Davis plays the sport of', '<|endoftext|><|endoftext|><|endoftext|><|endoftext|>Fact: Tiger Woods plays the sport of golf\\nFact: Jordan Howard plays the sport of', '<|endoftext|><|endoftext|><|endoftext|><|endoftext|>Fact: Tiger Woods plays the sport of golf\\nFact: Brandon Graham plays the sport of', '<|endoftext|><|endoftext|><|endoftext|>Fact: Tiger Woods plays the sport of golf\\nFact: Tevin Coleman plays the sport of', '<|endoftext|><|endoftext|><|endoftext|><|endoftext|>Fact: Tiger Woods plays the sport of golf\\nFact: Ty Lawson plays the sport of', '<|endoftext|><|endoftext|><|endoftext|><|endoftext|>Fact: Tiger Woods plays the sport of golf\\nFact: Jimmy Butler plays the sport of', '<|endoftext|><|endoftext|><|endoftext|><|endoftext|>Fact: Tiger Woods plays the sport of golf\\nFact: Andrew Luck plays the sport of', '<|endoftext|><|endoftext|><|endoftext|>Fact: Tiger Woods plays the sport of golf\\nFact: Julius Randle plays the sport of', '<|endoftext|><|endoftext|><|endoftext|><|endoftext|>Fact: Tiger Woods plays the sport of golf\\nFact: Anthony Davis plays the sport of', '<|endoftext|><|endoftext|><|endoftext|><|endoftext|>Fact: Tiger Woods plays the sport of golf\\nFact: Brandon Marshall plays the sport of', '<|endoftext|>Fact: Tiger Woods plays the sport of golf\\nFact: Lastings Milledge plays the sport of', '<|endoftext|><|endoftext|><|endoftext|><|endoftext|>Fact: Tiger Woods plays the sport of golf\\nFact: Mike McCarthy plays the sport of', '<|endoftext|><|endoftext|><|endoftext|>Fact: Tiger Woods plays the sport of golf\\nFact: EJ Manuel plays the sport of', '<|endoftext|><|endoftext|><|endoftext|><|endoftext|>Fact: Tiger Woods plays the sport of golf\\nFact: Justin Turner plays the sport of', '<|endoftext|><|endoftext|><|endoftext|><|endoftext|>Fact: Tiger Woods plays the sport of golf\\nFact: Greg Hardy plays the sport of', '<|endoftext|><|endoftext|><|endoftext|><|endoftext|>Fact: Tiger Woods plays the sport of golf\\nFact: Isaiah Hicks plays the sport of', '<|endoftext|><|endoftext|><|endoftext|>Fact: Tiger Woods plays the sport of golf\\nFact: Kyle Boller plays the sport of', '<|endoftext|><|endoftext|><|endoftext|>Fact: Tiger Woods plays the sport of golf\\nFact: Tony Dorsett plays the sport of', '<|endoftext|>Fact: Tiger Woods plays the sport of golf\\nFact: Courtney Upshaw plays the sport of', '<|endoftext|><|endoftext|><|endoftext|>Fact: Tiger Woods plays the sport of golf\\nFact: Spencer Hawes plays the sport of', '<|endoftext|><|endoftext|><|endoftext|>Fact: Tiger Woods plays the sport of golf\\nFact: Kevin Millwood plays the sport of', '<|endoftext|><|endoftext|><|endoftext|>Fact: Tiger Woods plays the sport of golf\\nFact: Steve McNair plays the sport of', '<|endoftext|><|endoftext|><|endoftext|><|endoftext|>Fact: Tiger Woods plays the sport of golf\\nFact: Aaron Rodgers plays the sport of', '<|endoftext|><|endoftext|><|endoftext|>Fact: Tiger Woods plays the sport of golf\\nFact: Jalen Ramsey plays the sport of', '<|endoftext|><|endoftext|><|endoftext|><|endoftext|>Fact: Tiger Woods plays the sport of golf\\nFact: Steve Sax plays the sport of', '<|endoftext|><|endoftext|><|endoftext|><|endoftext|>Fact: Tiger Woods plays the sport of golf\\nFact: Will Fuller plays the sport of', '<|endoftext|><|endoftext|><|endoftext|><|endoftext|>Fact: Tiger Woods plays the sport of golf\\nFact: Jordan Reed plays the sport of', '<|endoftext|><|endoftext|><|endoftext|><|endoftext|>Fact: Tiger Woods plays the sport of golf\\nFact: Rex Ryan plays the sport of', '<|endoftext|><|endoftext|>Fact: Tiger Woods plays the sport of golf\\nFact: Caleb Swanigan plays the sport of', '<|endoftext|><|endoftext|><|endoftext|><|endoftext|>Fact: Tiger Woods plays the sport of golf\\nFact: Russell Martin plays the sport of', '<|endoftext|><|endoftext|><|endoftext|><|endoftext|>Fact: Tiger Woods plays the sport of golf\\nFact: Steve Young plays the sport of', '<|endoftext|><|endoftext|>Fact: Tiger Woods plays the sport of golf\\nFact: Justise Winslow plays the sport of', '<|endoftext|><|endoftext|><|endoftext|><|endoftext|>Fact: Tiger Woods plays the sport of golf\\nFact: Trevor Hoffman plays the sport of', '<|endoftext|><|endoftext|><|endoftext|><|endoftext|>Fact: Tiger Woods plays the sport of golf\\nFact: Vince Carter plays the sport of', '<|endoftext|><|endoftext|>Fact: Tiger Woods plays the sport of golf\\nFact: Carlos Beltrán plays the sport of', '<|endoftext|><|endoftext|><|endoftext|><|endoftext|>Fact: Tiger Woods plays the sport of golf\\nFact: Michael Morse plays the sport of', '<|endoftext|><|endoftext|><|endoftext|>Fact: Tiger Woods plays the sport of golf\\nFact: Scott Kazmir plays the sport of', '<|endoftext|><|endoftext|><|endoftext|>Fact: Tiger Woods plays the sport of golf\\nFact: Tyus Jones plays the sport of', '<|endoftext|><|endoftext|><|endoftext|><|endoftext|>Fact: Tiger Woods plays the sport of golf\\nFact: Eric Gordon plays the sport of', '<|endoftext|><|endoftext|><|endoftext|><|endoftext|>Fact: Tiger Woods plays the sport of golf\\nFact: Greg Monroe plays the sport of', '<|endoftext|><|endoftext|><|endoftext|><|endoftext|>Fact: Tiger Woods plays the sport of golf\\nFact: Brandon Marshall plays the sport of', '<|endoftext|><|endoftext|>Fact: Tiger Woods plays the sport of golf\\nFact: Brandon Scherff plays the sport of', '<|endoftext|><|endoftext|>Fact: Tiger Woods plays the sport of golf\\nFact: Willis McGahee plays the sport of', '<|endoftext|><|endoftext|><|endoftext|>Fact: Tiger Woods plays the sport of golf\\nFact: Joe Ingles plays the sport of', '<|endoftext|><|endoftext|><|endoftext|>Fact: Tiger Woods plays the sport of golf\\nFact: John Elway plays the sport of', '<|endoftext|><|endoftext|>Fact: Tiger Woods plays the sport of golf\\nFact: Kareem Hunt plays the sport of', '<|endoftext|><|endoftext|><|endoftext|><|endoftext|>Fact: Tiger Woods plays the sport of golf\\nFact: Mike Webster plays the sport of', '<|endoftext|><|endoftext|><|endoftext|><|endoftext|>Fact: Tiger Woods plays the sport of golf\\nFact: Ray Allen plays the sport of', '<|endoftext|><|endoftext|><|endoftext|><|endoftext|>Fact: Tiger Woods plays the sport of golf\\nFact: David Price plays the sport of', '<|endoftext|><|endoftext|><|endoftext|>Fact: Tiger Woods plays the sport of golf\\nFact: Ahmad Bradshaw plays the sport of', '<|endoftext|><|endoftext|><|endoftext|><|endoftext|>Fact: Tiger Woods plays the sport of golf\\nFact: Stephen Drew plays the sport of', '<|endoftext|><|endoftext|><|endoftext|><|endoftext|>Fact: Tiger Woods plays the sport of golf\\nFact: Josh Freeman plays the sport of', '<|endoftext|><|endoftext|><|endoftext|><|endoftext|>Fact: Tiger Woods plays the sport of golf\\nFact: Lawrence Taylor plays the sport of', '<|endoftext|><|endoftext|><|endoftext|><|endoftext|>Fact: Tiger Woods plays the sport of golf\\nFact: Brandon Knight plays the sport of', '<|endoftext|><|endoftext|><|endoftext|><|endoftext|>Fact: Tiger Woods plays the sport of golf\\nFact: Brandon Graham plays the sport of', '<|endoftext|><|endoftext|><|endoftext|><|endoftext|>Fact: Tiger Woods plays the sport of golf\\nFact: Stephen Curry plays the sport of', '<|endoftext|><|endoftext|><|endoftext|>Fact: Tiger Woods plays the sport of golf\\nFact: Kyle Seager plays the sport of', '<|endoftext|><|endoftext|>Fact: Tiger Woods plays the sport of golf\\nFact: Mike Pouncey plays the sport of', '<|endoftext|><|endoftext|><|endoftext|>Fact: Tiger Woods plays the sport of golf\\nFact: Sean Payton plays the sport of', '<|endoftext|><|endoftext|><|endoftext|>Fact: Tiger Woods plays the sport of golf\\nFact: Mike Zimmer plays the sport of', '<|endoftext|><|endoftext|><|endoftext|><|endoftext|>Fact: Tiger Woods plays the sport of golf\\nFact: Matt Bryant plays the sport of', '<|endoftext|><|endoftext|><|endoftext|><|endoftext|>Fact: Tiger Woods plays the sport of golf\\nFact: Vince Carter plays the sport of', '<|endoftext|><|endoftext|><|endoftext|><|endoftext|>Fact: Tiger Woods plays the sport of golf\\nFact: Sue Bird plays the sport of', '<|endoftext|><|endoftext|><|endoftext|>Fact: Tiger Woods plays the sport of golf\\nFact: Nick Fairley plays the sport of', '<|endoftext|>Fact: Tiger Woods plays the sport of golf\\nFact: Randal Grichuk plays the sport of', '<|endoftext|>Fact: Tiger Woods plays the sport of golf\\nFact: Enes Kanter Freedom plays the sport of', '<|endoftext|><|endoftext|>Fact: Tiger Woods plays the sport of golf\\nFact: Andrew Benintendi plays the sport of', '<|endoftext|><|endoftext|><|endoftext|><|endoftext|>Fact: Tiger Woods plays the sport of golf\\nFact: Michael Floyd plays the sport of', '<|endoftext|><|endoftext|>Fact: Tiger Woods plays the sport of golf\\nFact: Kirk Hinrich plays the sport of', '<|endoftext|><|endoftext|><|endoftext|><|endoftext|>Fact: Tiger Woods plays the sport of golf\\nFact: Philip Rivers plays the sport of', '<|endoftext|><|endoftext|><|endoftext|><|endoftext|>Fact: Tiger Woods plays the sport of golf\\nFact: Brad Stevens plays the sport of', '<|endoftext|><|endoftext|><|endoftext|><|endoftext|>Fact: Tiger Woods plays the sport of golf\\nFact: Aaron Donald plays the sport of', '<|endoftext|><|endoftext|><|endoftext|><|endoftext|>Fact: Tiger Woods plays the sport of golf\\nFact: Brett Gardner plays the sport of', '<|endoftext|><|endoftext|><|endoftext|><|endoftext|>Fact: Tiger Woods plays the sport of golf\\nFact: Andrew Luck plays the sport of', '<|endoftext|>Fact: Tiger Woods plays the sport of golf\\nFact: Masai Ujiri plays the sport of', '<|endoftext|><|endoftext|><|endoftext|><|endoftext|>Fact: Tiger Woods plays the sport of golf\\nFact: Paul Pierce plays the sport of', '<|endoftext|><|endoftext|><|endoftext|><|endoftext|>Fact: Tiger Woods plays the sport of golf\\nFact: Justin Tucker plays the sport of', '<|endoftext|><|endoftext|><|endoftext|>Fact: Tiger Woods plays the sport of golf\\nFact: John Elway plays the sport of', '<|endoftext|><|endoftext|><|endoftext|><|endoftext|>Fact: Tiger Woods plays the sport of golf\\nFact: Zach Randolph plays the sport of', '<|endoftext|><|endoftext|><|endoftext|><|endoftext|>Fact: Tiger Woods plays the sport of golf\\nFact: Greg Hardy plays the sport of', '<|endoftext|><|endoftext|><|endoftext|><|endoftext|>Fact: Tiger Woods plays the sport of golf\\nFact: Jonathan Allen plays the sport of', '<|endoftext|><|endoftext|><|endoftext|><|endoftext|>Fact: Tiger Woods plays the sport of golf\\nFact: Andrew Luck plays the sport of', '<|endoftext|><|endoftext|><|endoftext|>Fact: Tiger Woods plays the sport of golf\\nFact: James Conner plays the sport of', '<|endoftext|><|endoftext|><|endoftext|><|endoftext|>Fact: Tiger Woods plays the sport of golf\\nFact: Mike Daniels plays the sport of', '<|endoftext|><|endoftext|>Fact: Tiger Woods plays the sport of golf\\nFact: Greg Wiltjer plays the sport of', '<|endoftext|><|endoftext|><|endoftext|>Fact: Tiger Woods plays the sport of golf\\nFact: Vince Wilfork plays the sport of', '<|endoftext|><|endoftext|><|endoftext|><|endoftext|>Fact: Tiger Woods plays the sport of golf\\nFact: Brett Gardner plays the sport of', '<|endoftext|><|endoftext|><|endoftext|><|endoftext|>Fact: Tiger Woods plays the sport of golf\\nFact: Jason Terry plays the sport of', '<|endoftext|><|endoftext|><|endoftext|>Fact: Tiger Woods plays the sport of golf\\nFact: Tiki Barber plays the sport of', '<|endoftext|><|endoftext|><|endoftext|><|endoftext|>Fact: Tiger Woods plays the sport of golf\\nFact: Ty Lawson plays the sport of', '<|endoftext|><|endoftext|><|endoftext|><|endoftext|>Fact: Tiger Woods plays the sport of golf\\nFact: Chip Kelly plays the sport of', '<|endoftext|><|endoftext|><|endoftext|>Fact: Tiger Woods plays the sport of golf\\nFact: Miguel Cabrera plays the sport of', '<|endoftext|><|endoftext|><|endoftext|><|endoftext|>Fact: Tiger Woods plays the sport of golf\\nFact: Joe Nathan plays the sport of', '<|endoftext|><|endoftext|><|endoftext|><|endoftext|>Fact: Tiger Woods plays the sport of golf\\nFact: Ryan Grant plays the sport of', '<|endoftext|><|endoftext|>Fact: Tiger Woods plays the sport of golf\\nFact: Carlos Beltrán plays the sport of', '<|endoftext|><|endoftext|><|endoftext|><|endoftext|>Fact: Tiger Woods plays the sport of golf\\nFact: Jamie Collins plays the sport of', '<|endoftext|><|endoftext|><|endoftext|>Fact: Tiger Woods plays the sport of golf\\nFact: Ryan Ludwick plays the sport of', '<|endoftext|><|endoftext|><|endoftext|><|endoftext|>Fact: Tiger Woods plays the sport of golf\\nFact: Ryan Howard plays the sport of', '<|endoftext|><|endoftext|><|endoftext|><|endoftext|>Fact: Tiger Woods plays the sport of golf\\nFact: Aaron Rodgers plays the sport of', '<|endoftext|><|endoftext|><|endoftext|>Fact: Tiger Woods plays the sport of golf\\nFact: Jon Gruden plays the sport of', '<|endoftext|><|endoftext|><|endoftext|><|endoftext|>Fact: Tiger Woods plays the sport of golf\\nFact: Cody Ross plays the sport of', '<|endoftext|><|endoftext|>Fact: Tiger Woods plays the sport of golf\\nFact: Greg Wiltjer plays the sport of', '<|endoftext|><|endoftext|><|endoftext|><|endoftext|>Fact: Tiger Woods plays the sport of golf\\nFact: Dante Fowler plays the sport of', '<|endoftext|><|endoftext|>Fact: Tiger Woods plays the sport of golf\\nFact: Sam Darnold plays the sport of', '<|endoftext|><|endoftext|><|endoftext|><|endoftext|>Fact: Tiger Woods plays the sport of golf\\nFact: Michael Floyd plays the sport of', '<|endoftext|><|endoftext|><|endoftext|><|endoftext|>Fact: Tiger Woods plays the sport of golf\\nFact: David Price plays the sport of', '<|endoftext|><|endoftext|><|endoftext|><|endoftext|>Fact: Tiger Woods plays the sport of golf\\nFact: Austin Rivers plays the sport of', '<|endoftext|><|endoftext|><|endoftext|>Fact: Tiger Woods plays the sport of golf\\nFact: Greg Oden plays the sport of', '<|endoftext|><|endoftext|><|endoftext|><|endoftext|>Fact: Tiger Woods plays the sport of golf\\nFact: Jason Garrett plays the sport of', '<|endoftext|><|endoftext|><|endoftext|>Fact: Tiger Woods plays the sport of golf\\nFact: Jacoby Jones plays the sport of', '<|endoftext|><|endoftext|>Fact: Tiger Woods plays the sport of golf\\nFact: Jim Irsay plays the sport of', '<|endoftext|><|endoftext|><|endoftext|>Fact: Tiger Woods plays the sport of golf\\nFact: Chad Henne plays the sport of', '<|endoftext|><|endoftext|><|endoftext|>Fact: Tiger Woods plays the sport of golf\\nFact: Lance Briggs plays the sport of', '<|endoftext|><|endoftext|><|endoftext|><|endoftext|>Fact: Tiger Woods plays the sport of golf\\nFact: Matt Carpenter plays the sport of', '<|endoftext|><|endoftext|><|endoftext|><|endoftext|>Fact: Tiger Woods plays the sport of golf\\nFact: Riley Cooper plays the sport of', '<|endoftext|><|endoftext|><|endoftext|>Fact: Tiger Woods plays the sport of golf\\nFact: Joey Votto plays the sport of', '<|endoftext|><|endoftext|>Fact: Tiger Woods plays the sport of golf\\nFact: Joel Bitonio plays the sport of', '<|endoftext|><|endoftext|><|endoftext|><|endoftext|>Fact: Tiger Woods plays the sport of golf\\nFact: Ryan Leaf plays the sport of', '<|endoftext|><|endoftext|><|endoftext|>Fact: Tiger Woods plays the sport of golf\\nFact: Joe Mauer plays the sport of', '<|endoftext|><|endoftext|><|endoftext|><|endoftext|>Fact: Tiger Woods plays the sport of golf\\nFact: James Johnson plays the sport of', '<|endoftext|><|endoftext|><|endoftext|><|endoftext|>Fact: Tiger Woods plays the sport of golf\\nFact: Lawrence Taylor plays the sport of', '<|endoftext|><|endoftext|><|endoftext|><|endoftext|>Fact: Tiger Woods plays the sport of golf\\nFact: Tom Brady plays the sport of', '<|endoftext|><|endoftext|><|endoftext|><|endoftext|>Fact: Tiger Woods plays the sport of golf\\nFact: Lawrence Taylor plays the sport of', '<|endoftext|><|endoftext|><|endoftext|><|endoftext|>Fact: Tiger Woods plays the sport of golf\\nFact: Joe Nathan plays the sport of', '<|endoftext|><|endoftext|><|endoftext|>Fact: Tiger Woods plays the sport of golf\\nFact: Carl Nassib plays the sport of', '<|endoftext|><|endoftext|>Fact: Tiger Woods plays the sport of golf\\nFact: Josh Sitton plays the sport of', '<|endoftext|><|endoftext|><|endoftext|><|endoftext|>Fact: Tiger Woods plays the sport of golf\\nFact: Dee Ford plays the sport of', '<|endoftext|><|endoftext|><|endoftext|><|endoftext|>Fact: Tiger Woods plays the sport of golf\\nFact: Malcolm Jenkins plays the sport of', '<|endoftext|><|endoftext|><|endoftext|>Fact: Tiger Woods plays the sport of golf\\nFact: Rod Woodson plays the sport of', '<|endoftext|><|endoftext|><|endoftext|><|endoftext|>Fact: Tiger Woods plays the sport of golf\\nFact: Julius Thomas plays the sport of', '<|endoftext|><|endoftext|><|endoftext|><|endoftext|>Fact: Tiger Woods plays the sport of golf\\nFact: Tony Allen plays the sport of', '<|endoftext|><|endoftext|><|endoftext|>Fact: Tiger Woods plays the sport of golf\\nFact: Tony Dorsett plays the sport of', '<|endoftext|><|endoftext|><|endoftext|><|endoftext|>Fact: Tiger Woods plays the sport of golf\\nFact: Tyson Chandler plays the sport of', '<|endoftext|><|endoftext|><|endoftext|>Fact: Tiger Woods plays the sport of golf\\nFact: James Conner plays the sport of', '<|endoftext|><|endoftext|><|endoftext|><|endoftext|>Fact: Tiger Woods plays the sport of golf\\nFact: Ty Lawson plays the sport of', '<|endoftext|><|endoftext|><|endoftext|><|endoftext|>Fact: Tiger Woods plays the sport of golf\\nFact: Greg Hardy plays the sport of', '<|endoftext|><|endoftext|><|endoftext|><|endoftext|>Fact: Tiger Woods plays the sport of golf\\nFact: Brandon Knight plays the sport of', '<|endoftext|><|endoftext|><|endoftext|>Fact: Tiger Woods plays the sport of golf\\nFact: Nick Swisher plays the sport of', '<|endoftext|><|endoftext|>Fact: Tiger Woods plays the sport of golf\\nFact: Greg Maddux plays the sport of', '<|endoftext|><|endoftext|><|endoftext|><|endoftext|>Fact: Tiger Woods plays the sport of golf\\nFact: Gary Carter plays the sport of', '<|endoftext|><|endoftext|><|endoftext|><|endoftext|>Fact: Tiger Woods plays the sport of golf\\nFact: Anthony Barr plays the sport of', '<|endoftext|><|endoftext|>Fact: Tiger Woods plays the sport of golf\\nFact: Brian Orakpo plays the sport of', '<|endoftext|><|endoftext|><|endoftext|>Fact: Tiger Woods plays the sport of golf\\nFact: Torry Holt plays the sport of', '<|endoftext|><|endoftext|><|endoftext|>Fact: Tiger Woods plays the sport of golf\\nFact: Kobe Bryant plays the sport of', '<|endoftext|><|endoftext|>Fact: Tiger Woods plays the sport of golf\\nFact: Terry Rozier plays the sport of', '<|endoftext|><|endoftext|><|endoftext|><|endoftext|>Fact: Tiger Woods plays the sport of golf\\nFact: Isaiah Thomas plays the sport of', '<|endoftext|><|endoftext|><|endoftext|><|endoftext|>Fact: Tiger Woods plays the sport of golf\\nFact: Philip Rivers plays the sport of', '<|endoftext|><|endoftext|><|endoftext|><|endoftext|>Fact: Tiger Woods plays the sport of golf\\nFact: Tony Parker plays the sport of', '<|endoftext|><|endoftext|><|endoftext|>Fact: Tiger Woods plays the sport of golf\\nFact: Torry Holt plays the sport of', '<|endoftext|><|endoftext|><|endoftext|><|endoftext|>Fact: Tiger Woods plays the sport of golf\\nFact: James Harrison plays the sport of', '<|endoftext|><|endoftext|><|endoftext|><|endoftext|>Fact: Tiger Woods plays the sport of golf\\nFact: Jordan Howard plays the sport of', '<|endoftext|><|endoftext|><|endoftext|>Fact: Tiger Woods plays the sport of golf\\nFact: Matt Prater plays the sport of', '<|endoftext|><|endoftext|>Fact: Tiger Woods plays the sport of golf\\nFact: Paul Konerko plays the sport of', '<|endoftext|><|endoftext|><|endoftext|>Fact: Tiger Woods plays the sport of golf\\nFact: Kia Nurse plays the sport of', '<|endoftext|><|endoftext|>Fact: Tiger Woods plays the sport of golf\\nFact: Jarnell Stokes plays the sport of', '<|endoftext|><|endoftext|><|endoftext|><|endoftext|>Fact: Tiger Woods plays the sport of golf\\nFact: Michael Morse plays the sport of', '<|endoftext|><|endoftext|><|endoftext|><|endoftext|>Fact: Tiger Woods plays the sport of golf\\nFact: Taj Gibson plays the sport of', '<|endoftext|><|endoftext|><|endoftext|><|endoftext|>Fact: Tiger Woods plays the sport of golf\\nFact: Paul George plays the sport of', '<|endoftext|><|endoftext|><|endoftext|>Fact: Tiger Woods plays the sport of golf\\nFact: Ryan Ludwick plays the sport of', '<|endoftext|><|endoftext|><|endoftext|>Fact: Tiger Woods plays the sport of golf\\nFact: Jalen Smith plays the sport of', '<|endoftext|><|endoftext|><|endoftext|><|endoftext|>Fact: Tiger Woods plays the sport of golf\\nFact: Zion Williamson plays the sport of', '<|endoftext|><|endoftext|>Fact: Tiger Woods plays the sport of golf\\nFact: Star Lotulelei plays the sport of', '<|endoftext|><|endoftext|><|endoftext|><|endoftext|>Fact: Tiger Woods plays the sport of golf\\nFact: Gary Carter plays the sport of', '<|endoftext|><|endoftext|><|endoftext|><|endoftext|>Fact: Tiger Woods plays the sport of golf\\nFact: Earl Campbell plays the sport of', '<|endoftext|><|endoftext|><|endoftext|>Fact: Tiger Woods plays the sport of golf\\nFact: Chris Ivory plays the sport of', '<|endoftext|>Fact: Tiger Woods plays the sport of golf\\nFact: Ike Diogu plays the sport of', '<|endoftext|><|endoftext|><|endoftext|><|endoftext|>Fact: Tiger Woods plays the sport of golf\\nFact: Stephen Jackson plays the sport of', '<|endoftext|><|endoftext|><|endoftext|><|endoftext|>Fact: Tiger Woods plays the sport of golf\\nFact: Andy Reid plays the sport of', '<|endoftext|><|endoftext|><|endoftext|><|endoftext|>Fact: Tiger Woods plays the sport of golf\\nFact: Michael Bennett plays the sport of', '<|endoftext|><|endoftext|><|endoftext|><|endoftext|>Fact: Tiger Woods plays the sport of golf\\nFact: Jordan Bell plays the sport of', '<|endoftext|><|endoftext|><|endoftext|>Fact: Tiger Woods plays the sport of golf\\nFact: Allen Hurns plays the sport of', '<|endoftext|><|endoftext|><|endoftext|><|endoftext|>Fact: Tiger Woods plays the sport of golf\\nFact: Trent Green plays the sport of', '<|endoftext|><|endoftext|><|endoftext|><|endoftext|>Fact: Tiger Woods plays the sport of golf\\nFact: Jason Peters plays the sport of', '<|endoftext|><|endoftext|><|endoftext|><|endoftext|>Fact: Tiger Woods plays the sport of golf\\nFact: Ryan Howard plays the sport of', '<|endoftext|><|endoftext|><|endoftext|><|endoftext|>Fact: Tiger Woods plays the sport of golf\\nFact: Leonard Floyd plays the sport of', '<|endoftext|><|endoftext|><|endoftext|><|endoftext|>Fact: Tiger Woods plays the sport of golf\\nFact: Bo Jackson plays the sport of', '<|endoftext|><|endoftext|><|endoftext|>Fact: Tiger Woods plays the sport of golf\\nFact: Bradley Roby plays the sport of', '<|endoftext|><|endoftext|><|endoftext|>Fact: Tiger Woods plays the sport of golf\\nFact: Matt Prater plays the sport of', '<|endoftext|><|endoftext|>Fact: Tiger Woods plays the sport of golf\\nFact: Coby Fleener plays the sport of', '<|endoftext|><|endoftext|><|endoftext|><|endoftext|>Fact: Tiger Woods plays the sport of golf\\nFact: Matt Harvey plays the sport of', '<|endoftext|><|endoftext|><|endoftext|>Fact: Tiger Woods plays the sport of golf\\nFact: Jaylen Brown plays the sport of', '<|endoftext|>Fact: Tiger Woods plays the sport of golf\\nFact: Bo Bichette plays the sport of', '<|endoftext|><|endoftext|><|endoftext|>Fact: Tiger Woods plays the sport of golf\\nFact: Todd Helton plays the sport of', '<|endoftext|><|endoftext|><|endoftext|>Fact: Tiger Woods plays the sport of golf\\nFact: Brad Ausmus plays the sport of', '<|endoftext|><|endoftext|><|endoftext|>Fact: Tiger Woods plays the sport of golf\\nFact: Jalen Jones plays the sport of', '<|endoftext|><|endoftext|><|endoftext|><|endoftext|>Fact: Tiger Woods plays the sport of golf\\nFact: Fletcher Cox plays the sport of', '<|endoftext|><|endoftext|><|endoftext|><|endoftext|>Fact: Tiger Woods plays the sport of golf\\nFact: Randy Moss plays the sport of', '<|endoftext|><|endoftext|><|endoftext|><|endoftext|>Fact: Tiger Woods plays the sport of golf\\nFact: Calvin Johnson plays the sport of', '<|endoftext|><|endoftext|><|endoftext|>Fact: Tiger Woods plays the sport of golf\\nFact: Zack Martin plays the sport of', '<|endoftext|><|endoftext|><|endoftext|><|endoftext|>Fact: Tiger Woods plays the sport of golf\\nFact: Isaiah Thomas plays the sport of', '<|endoftext|><|endoftext|><|endoftext|>Fact: Tiger Woods plays the sport of golf\\nFact: Dell Demps plays the sport of', '<|endoftext|><|endoftext|><|endoftext|>Fact: Tiger Woods plays the sport of golf\\nFact: Deron Williams plays the sport of', '<|endoftext|><|endoftext|>Fact: Tiger Woods plays the sport of golf\\nFact: Mike Singletary plays the sport of', '<|endoftext|><|endoftext|><|endoftext|>Fact: Tiger Woods plays the sport of golf\\nFact: Greg Schiano plays the sport of', '<|endoftext|><|endoftext|><|endoftext|><|endoftext|>Fact: Tiger Woods plays the sport of golf\\nFact: Nick Nurse plays the sport of', '<|endoftext|><|endoftext|><|endoftext|>Fact: Tiger Woods plays the sport of golf\\nFact: Tim Wakefield plays the sport of', '<|endoftext|><|endoftext|>Fact: Tiger Woods plays the sport of golf\\nFact: Brendan Haywood plays the sport of', 'Fact: Tiger Woods plays the sport of golf\\nFact: Alejandro De Aza plays the sport of', '<|endoftext|><|endoftext|><|endoftext|>Fact: Tiger Woods plays the sport of golf\\nFact: Ronnie Brown plays the sport of', '<|endoftext|><|endoftext|>Fact: Tiger Woods plays the sport of golf\\nFact: Nicholas Castellanos plays the sport of', '<|endoftext|>Fact: Tiger Woods plays the sport of golf\\nFact: Alshon Jeffery plays the sport of', '<|endoftext|><|endoftext|><|endoftext|>Fact: Tiger Woods plays the sport of golf\\nFact: Lance Briggs plays the sport of', '<|endoftext|><|endoftext|><|endoftext|><|endoftext|>Fact: Tiger Woods plays the sport of golf\\nFact: Luis Gonzalez plays the sport of', '<|endoftext|>Fact: Tiger Woods plays the sport of golf\\nFact: Bronson Arroyo plays the sport of', '<|endoftext|><|endoftext|><|endoftext|><|endoftext|>Fact: Tiger Woods plays the sport of golf\\nFact: Ed Reed plays the sport of', '<|endoftext|><|endoftext|><|endoftext|><|endoftext|>Fact: Tiger Woods plays the sport of golf\\nFact: Matt Harvey plays the sport of', '<|endoftext|><|endoftext|>Fact: Tiger Woods plays the sport of golf\\nFact: Willie McGinest plays the sport of', '<|endoftext|><|endoftext|><|endoftext|><|endoftext|>Fact: Tiger Woods plays the sport of golf\\nFact: Brandon Marshall plays the sport of', '<|endoftext|><|endoftext|><|endoftext|><|endoftext|>Fact: Tiger Woods plays the sport of golf\\nFact: Michael Bennett plays the sport of', '<|endoftext|><|endoftext|><|endoftext|><|endoftext|>Fact: Tiger Woods plays the sport of golf\\nFact: Urban Meyer plays the sport of', '<|endoftext|><|endoftext|><|endoftext|><|endoftext|>Fact: Tiger Woods plays the sport of golf\\nFact: Alex Smith plays the sport of', '<|endoftext|><|endoftext|><|endoftext|><|endoftext|>Fact: Tiger Woods plays the sport of golf\\nFact: Chip Kelly plays the sport of', '<|endoftext|><|endoftext|><|endoftext|><|endoftext|>Fact: Tiger Woods plays the sport of golf\\nFact: Julius Thomas plays the sport of', '<|endoftext|><|endoftext|><|endoftext|><|endoftext|>Fact: Tiger Woods plays the sport of golf\\nFact: Tyson Chandler plays the sport of', '<|endoftext|><|endoftext|><|endoftext|><|endoftext|>Fact: Tiger Woods plays the sport of golf\\nFact: Matt Barnes plays the sport of', '<|endoftext|><|endoftext|><|endoftext|><|endoftext|>Fact: Tiger Woods plays the sport of golf\\nFact: Aaron Sanchez plays the sport of', '<|endoftext|><|endoftext|><|endoftext|><|endoftext|>Fact: Tiger Woods plays the sport of golf\\nFact: Joey Porter plays the sport of', '<|endoftext|><|endoftext|><|endoftext|>Fact: Tiger Woods plays the sport of golf\\nFact: Evan Longoria plays the sport of', '<|endoftext|><|endoftext|><|endoftext|>Fact: Tiger Woods plays the sport of golf\\nFact: Cameron Maybin plays the sport of', '<|endoftext|><|endoftext|><|endoftext|><|endoftext|>Fact: Tiger Woods plays the sport of golf\\nFact: Carlos Hyde plays the sport of', '<|endoftext|><|endoftext|><|endoftext|>Fact: Tiger Woods plays the sport of golf\\nFact: Khris Davis plays the sport of', '<|endoftext|><|endoftext|><|endoftext|><|endoftext|>Fact: Tiger Woods plays the sport of golf\\nFact: Chris Davis plays the sport of', '<|endoftext|><|endoftext|><|endoftext|><|endoftext|>Fact: Tiger Woods plays the sport of golf\\nFact: Zion Williamson plays the sport of', '<|endoftext|><|endoftext|><|endoftext|><|endoftext|>Fact: Tiger Woods plays the sport of golf\\nFact: Mike Daniels plays the sport of', '<|endoftext|><|endoftext|><|endoftext|>Fact: Tiger Woods plays the sport of golf\\nFact: Joe Girardi plays the sport of', '<|endoftext|><|endoftext|>Fact: Tiger Woods plays the sport of golf\\nFact: Diana Taurasi plays the sport of', '<|endoftext|><|endoftext|><|endoftext|><|endoftext|>Fact: Tiger Woods plays the sport of golf\\nFact: Kevin Love plays the sport of', '<|endoftext|><|endoftext|><|endoftext|>Fact: Tiger Woods plays the sport of golf\\nFact: Dan Marino plays the sport of', '<|endoftext|><|endoftext|><|endoftext|><|endoftext|>Fact: Tiger Woods plays the sport of golf\\nFact: Anthony Randolph plays the sport of', '<|endoftext|><|endoftext|><|endoftext|><|endoftext|>Fact: Tiger Woods plays the sport of golf\\nFact: Eric Berry plays the sport of', '<|endoftext|><|endoftext|><|endoftext|>Fact: Tiger Woods plays the sport of golf\\nFact: Shane Vereen plays the sport of', '<|endoftext|><|endoftext|><|endoftext|><|endoftext|>Fact: Tiger Woods plays the sport of golf\\nFact: Josh Freeman plays the sport of', '<|endoftext|><|endoftext|><|endoftext|><|endoftext|>Fact: Tiger Woods plays the sport of golf\\nFact: Larry Bird plays the sport of', '<|endoftext|><|endoftext|>Fact: Tiger Woods plays the sport of golf\\nFact: Ian Kinsler plays the sport of', '<|endoftext|><|endoftext|><|endoftext|>Fact: Tiger Woods plays the sport of golf\\nFact: Bruce Gradkowski plays the sport of', '<|endoftext|><|endoftext|><|endoftext|><|endoftext|>Fact: Tiger Woods plays the sport of golf\\nFact: Brandon Jennings plays the sport of', '<|endoftext|><|endoftext|>Fact: Tiger Woods plays the sport of golf\\nFact: Bryan Colangelo plays the sport of', '<|endoftext|><|endoftext|><|endoftext|><|endoftext|>Fact: Tiger Woods plays the sport of golf\\nFact: Stephen Jackson plays the sport of', '<|endoftext|><|endoftext|><|endoftext|>Fact: Tiger Woods plays the sport of golf\\nFact: Jamal Crawford plays the sport of', '<|endoftext|><|endoftext|><|endoftext|>Fact: Tiger Woods plays the sport of golf\\nFact: Michael Oher plays the sport of', '<|endoftext|><|endoftext|>Fact: Tiger Woods plays the sport of golf\\nFact: Kevin Ollie plays the sport of', '<|endoftext|><|endoftext|><|endoftext|><|endoftext|>Fact: Tiger Woods plays the sport of golf\\nFact: David Wright plays the sport of', 'Fact: Tiger Woods plays the sport of golf\\nFact: Jhonny Peralta plays the sport of', '<|endoftext|><|endoftext|><|endoftext|>Fact: Tiger Woods plays the sport of golf\\nFact: Delanie Walker plays the sport of', '<|endoftext|><|endoftext|><|endoftext|><|endoftext|>Fact: Tiger Woods plays the sport of golf\\nFact: Greg Hardy plays the sport of', '<|endoftext|><|endoftext|><|endoftext|><|endoftext|>Fact: Tiger Woods plays the sport of golf\\nFact: Jason Garrett plays the sport of', '<|endoftext|><|endoftext|><|endoftext|><|endoftext|>Fact: Tiger Woods plays the sport of golf\\nFact: Russell Martin plays the sport of', '<|endoftext|><|endoftext|><|endoftext|><|endoftext|>Fact: Tiger Woods plays the sport of golf\\nFact: Trent Green plays the sport of', '<|endoftext|><|endoftext|><|endoftext|>Fact: Tiger Woods plays the sport of golf\\nFact: Terrence Jones plays the sport of', '<|endoftext|><|endoftext|><|endoftext|>Fact: Tiger Woods plays the sport of golf\\nFact: Kyler Murray plays the sport of', '<|endoftext|><|endoftext|>Fact: Tiger Woods plays the sport of golf\\nFact: Jason Giambi plays the sport of', '<|endoftext|><|endoftext|><|endoftext|><|endoftext|>Fact: Tiger Woods plays the sport of golf\\nFact: Stephen Jackson plays the sport of', '<|endoftext|><|endoftext|><|endoftext|><|endoftext|>Fact: Tiger Woods plays the sport of golf\\nFact: Chris Davis plays the sport of', '<|endoftext|><|endoftext|><|endoftext|>Fact: Tiger Woods plays the sport of golf\\nFact: Jalen Rose plays the sport of', '<|endoftext|><|endoftext|><|endoftext|>Fact: Tiger Woods plays the sport of golf\\nFact: Russell Westbrook plays the sport of', '<|endoftext|><|endoftext|><|endoftext|><|endoftext|>Fact: Tiger Woods plays the sport of golf\\nFact: Brandon Roy plays the sport of', '<|endoftext|><|endoftext|><|endoftext|>Fact: Tiger Woods plays the sport of golf\\nFact: Josh Hader plays the sport of', '<|endoftext|><|endoftext|>Fact: Tiger Woods plays the sport of golf\\nFact: Blaine Gabbert plays the sport of', '<|endoftext|><|endoftext|><|endoftext|><|endoftext|>Fact: Tiger Woods plays the sport of golf\\nFact: Zach Randolph plays the sport of', '<|endoftext|><|endoftext|>Fact: Tiger Woods plays the sport of golf\\nFact: James Laurinaitis plays the sport of', '<|endoftext|><|endoftext|><|endoftext|>Fact: Tiger Woods plays the sport of golf\\nFact: Dexter Fowler plays the sport of', '<|endoftext|><|endoftext|><|endoftext|><|endoftext|>Fact: Tiger Woods plays the sport of golf\\nFact: Urban Meyer plays the sport of', '<|endoftext|><|endoftext|><|endoftext|>Fact: Tiger Woods plays the sport of golf\\nFact: Craig Biggio plays the sport of', '<|endoftext|><|endoftext|><|endoftext|><|endoftext|>Fact: Tiger Woods plays the sport of golf\\nFact: Ray Rice plays the sport of', '<|endoftext|><|endoftext|><|endoftext|><|endoftext|>Fact: Tiger Woods plays the sport of golf\\nFact: Russell Wilson plays the sport of', '<|endoftext|><|endoftext|><|endoftext|><|endoftext|>Fact: Tiger Woods plays the sport of golf\\nFact: Gary Carter plays the sport of', '<|endoftext|><|endoftext|><|endoftext|><|endoftext|>Fact: Tiger Woods plays the sport of golf\\nFact: Kirk Gibson plays the sport of', '<|endoftext|><|endoftext|><|endoftext|><|endoftext|>Fact: Tiger Woods plays the sport of golf\\nFact: Michael Bennett plays the sport of', '<|endoftext|>Fact: Tiger Woods plays the sport of golf\\nFact: Yoan Moncada plays the sport of', '<|endoftext|><|endoftext|><|endoftext|><|endoftext|>Fact: Tiger Woods plays the sport of golf\\nFact: Eric Reid plays the sport of', '<|endoftext|><|endoftext|><|endoftext|><|endoftext|>Fact: Tiger Woods plays the sport of golf\\nFact: Justin Tucker plays the sport of', '<|endoftext|><|endoftext|><|endoftext|><|endoftext|>Fact: Tiger Woods plays the sport of golf\\nFact: Eric Reid plays the sport of', '<|endoftext|><|endoftext|><|endoftext|><|endoftext|>Fact: Tiger Woods plays the sport of golf\\nFact: Justin Turner plays the sport of', '<|endoftext|><|endoftext|><|endoftext|><|endoftext|>Fact: Tiger Woods plays the sport of golf\\nFact: Ben Simmons plays the sport of', '<|endoftext|><|endoftext|><|endoftext|><|endoftext|>Fact: Tiger Woods plays the sport of golf\\nFact: Randy Moss plays the sport of', '<|endoftext|><|endoftext|><|endoftext|><|endoftext|>Fact: Tiger Woods plays the sport of golf\\nFact: Greg Monroe plays the sport of', '<|endoftext|><|endoftext|><|endoftext|><|endoftext|>Fact: Tiger Woods plays the sport of golf\\nFact: Jordan Davis plays the sport of', '<|endoftext|><|endoftext|>Fact: Tiger Woods plays the sport of golf\\nFact: Giovani Bernard plays the sport of', '<|endoftext|><|endoftext|><|endoftext|><|endoftext|>Fact: Tiger Woods plays the sport of golf\\nFact: Anthony Bennett plays the sport of', '<|endoftext|><|endoftext|>Fact: Tiger Woods plays the sport of golf\\nFact: Shawne Merriman plays the sport of', '<|endoftext|><|endoftext|><|endoftext|>Fact: Tiger Woods plays the sport of golf\\nFact: Jason Kelce plays the sport of', '<|endoftext|><|endoftext|><|endoftext|>Fact: Tiger Woods plays the sport of golf\\nFact: JJ Redick plays the sport of', '<|endoftext|><|endoftext|><|endoftext|><|endoftext|>Fact: Tiger Woods plays the sport of golf\\nFact: Jordan Davis plays the sport of', '<|endoftext|><|endoftext|><|endoftext|><|endoftext|>Fact: Tiger Woods plays the sport of golf\\nFact: Michael Morse plays the sport of', '<|endoftext|><|endoftext|><|endoftext|><|endoftext|>Fact: Tiger Woods plays the sport of golf\\nFact: Jonathan Allen plays the sport of', '<|endoftext|><|endoftext|><|endoftext|><|endoftext|>Fact: Tiger Woods plays the sport of golf\\nFact: Allen Robinson plays the sport of', '<|endoftext|><|endoftext|><|endoftext|><|endoftext|>Fact: Tiger Woods plays the sport of golf\\nFact: Michael Floyd plays the sport of', '<|endoftext|><|endoftext|><|endoftext|><|endoftext|>Fact: Tiger Woods plays the sport of golf\\nFact: Andy Reid plays the sport of', '<|endoftext|><|endoftext|><|endoftext|><|endoftext|>Fact: Tiger Woods plays the sport of golf\\nFact: John Fox plays the sport of', '<|endoftext|><|endoftext|><|endoftext|>Fact: Tiger Woods plays the sport of golf\\nFact: Greg Oden plays the sport of', '<|endoftext|><|endoftext|><|endoftext|><|endoftext|>Fact: Tiger Woods plays the sport of golf\\nFact: Chris Paul plays the sport of', '<|endoftext|><|endoftext|>Fact: Tiger Woods plays the sport of golf\\nFact: Bengie Molina plays the sport of', '<|endoftext|><|endoftext|>Fact: Tiger Woods plays the sport of golf\\nFact: Shawne Merriman plays the sport of', '<|endoftext|><|endoftext|><|endoftext|>Fact: Tiger Woods plays the sport of golf\\nFact: Marcus Camby plays the sport of', '<|endoftext|><|endoftext|><|endoftext|><|endoftext|>Fact: Tiger Woods plays the sport of golf\\nFact: Randy Moss plays the sport of', '<|endoftext|><|endoftext|><|endoftext|><|endoftext|>Fact: Tiger Woods plays the sport of golf\\nFact: Vince Young plays the sport of', '<|endoftext|><|endoftext|><|endoftext|>Fact: Tiger Woods plays the sport of golf\\nFact: Joe Dumars plays the sport of', '<|endoftext|><|endoftext|><|endoftext|>Fact: Tiger Woods plays the sport of golf\\nFact: Danny Amendola plays the sport of', '<|endoftext|><|endoftext|><|endoftext|>Fact: Tiger Woods plays the sport of golf\\nFact: Juwan Morgan plays the sport of', '<|endoftext|><|endoftext|><|endoftext|>Fact: Tiger Woods plays the sport of golf\\nFact: David Ortiz plays the sport of', '<|endoftext|><|endoftext|><|endoftext|><|endoftext|>Fact: Tiger Woods plays the sport of golf\\nFact: Logan Morrison plays the sport of', '<|endoftext|><|endoftext|><|endoftext|><|endoftext|>Fact: Tiger Woods plays the sport of golf\\nFact: Jonathan Allen plays the sport of', '<|endoftext|><|endoftext|>Fact: Tiger Woods plays the sport of golf\\nFact: DeMarcus Ware plays the sport of', '<|endoftext|><|endoftext|><|endoftext|><|endoftext|>Fact: Tiger Woods plays the sport of golf\\nFact: Isaiah Hicks plays the sport of', '<|endoftext|><|endoftext|><|endoftext|><|endoftext|>Fact: Tiger Woods plays the sport of golf\\nFact: Alex Cobb plays the sport of', '<|endoftext|><|endoftext|><|endoftext|>Fact: Tiger Woods plays the sport of golf\\nFact: Brian Cashman plays the sport of', '<|endoftext|><|endoftext|>Fact: Tiger Woods plays the sport of golf\\nFact: Hassan Whiteside plays the sport of', '<|endoftext|><|endoftext|><|endoftext|><|endoftext|>Fact: Tiger Woods plays the sport of golf\\nFact: Eric Gordon plays the sport of', '<|endoftext|><|endoftext|><|endoftext|>Fact: Tiger Woods plays the sport of golf\\nFact: Nick Bosa plays the sport of', '<|endoftext|><|endoftext|><|endoftext|><|endoftext|>Fact: Tiger Woods plays the sport of golf\\nFact: Cam Newton plays the sport of', '<|endoftext|><|endoftext|><|endoftext|>Fact: Tiger Woods plays the sport of golf\\nFact: Mike Tomlin plays the sport of', '<|endoftext|><|endoftext|><|endoftext|><|endoftext|>Fact: Tiger Woods plays the sport of golf\\nFact: Isaiah Thomas plays the sport of', '<|endoftext|><|endoftext|><|endoftext|><|endoftext|>Fact: Tiger Woods plays the sport of golf\\nFact: Kyle Allen plays the sport of', '<|endoftext|><|endoftext|><|endoftext|><|endoftext|>Fact: Tiger Woods plays the sport of golf\\nFact: Mike Miller plays the sport of', '<|endoftext|><|endoftext|><|endoftext|>Fact: Tiger Woods plays the sport of golf\\nFact: David Cone plays the sport of', '<|endoftext|><|endoftext|><|endoftext|>Fact: Tiger Woods plays the sport of golf\\nFact: Ryan Ludwick plays the sport of', '<|endoftext|><|endoftext|><|endoftext|><|endoftext|>Fact: Tiger Woods plays the sport of golf\\nFact: Joe Johnson plays the sport of', '<|endoftext|><|endoftext|><|endoftext|><|endoftext|>Fact: Tiger Woods plays the sport of golf\\nFact: Steve Nash plays the sport of', '<|endoftext|><|endoftext|><|endoftext|><|endoftext|>Fact: Tiger Woods plays the sport of golf\\nFact: Jordan Reed plays the sport of', '<|endoftext|><|endoftext|><|endoftext|><|endoftext|>Fact: Tiger Woods plays the sport of golf\\nFact: Lance Lynn plays the sport of', '<|endoftext|><|endoftext|><|endoftext|><|endoftext|>Fact: Tiger Woods plays the sport of golf\\nFact: Cliff Lee plays the sport of', '<|endoftext|><|endoftext|><|endoftext|><|endoftext|>Fact: Tiger Woods plays the sport of golf\\nFact: Fletcher Cox plays the sport of', '<|endoftext|><|endoftext|><|endoftext|><|endoftext|>Fact: Tiger Woods plays the sport of golf\\nFact: Josh Allen plays the sport of', '<|endoftext|><|endoftext|><|endoftext|><|endoftext|>Fact: Tiger Woods plays the sport of golf\\nFact: Antonio Brown plays the sport of', '<|endoftext|><|endoftext|><|endoftext|><|endoftext|>Fact: Tiger Woods plays the sport of golf\\nFact: Anthony Bennett plays the sport of', '<|endoftext|><|endoftext|><|endoftext|>Fact: Tiger Woods plays the sport of golf\\nFact: Charles Barkley plays the sport of', '<|endoftext|><|endoftext|><|endoftext|><|endoftext|>Fact: Tiger Woods plays the sport of golf\\nFact: Carlos Lee plays the sport of', '<|endoftext|><|endoftext|><|endoftext|><|endoftext|>Fact: Tiger Woods plays the sport of golf\\nFact: Philip Rivers plays the sport of', '<|endoftext|><|endoftext|><|endoftext|>Fact: Tiger Woods plays the sport of golf\\nFact: Ryan Mallett plays the sport of', '<|endoftext|><|endoftext|><|endoftext|>Fact: Tiger Woods plays the sport of golf\\nFact: Jimmy Clausen plays the sport of', '<|endoftext|><|endoftext|><|endoftext|>Fact: Tiger Woods plays the sport of golf\\nFact: Andrew Norwell plays the sport of', '<|endoftext|><|endoftext|><|endoftext|>Fact: Tiger Woods plays the sport of golf\\nFact: Nick Collison plays the sport of', '<|endoftext|><|endoftext|><|endoftext|>Fact: Tiger Woods plays the sport of golf\\nFact: Pablo Sandoval plays the sport of', 'Fact: Tiger Woods plays the sport of golf\\nFact: Jeurys Familia plays the sport of', '<|endoftext|><|endoftext|><|endoftext|><|endoftext|>Fact: Tiger Woods plays the sport of golf\\nFact: Urban Meyer plays the sport of', '<|endoftext|><|endoftext|><|endoftext|>Fact: Tiger Woods plays the sport of golf\\nFact: Teddy Bridgewater plays the sport of', '<|endoftext|><|endoftext|><|endoftext|>Fact: Tiger Woods plays the sport of golf\\nFact: Jaylon Ferguson plays the sport of', '<|endoftext|><|endoftext|>Fact: Tiger Woods plays the sport of golf\\nFact: Christian Yelich plays the sport of', '<|endoftext|><|endoftext|><|endoftext|><|endoftext|>Fact: Tiger Woods plays the sport of golf\\nFact: Julius Thomas plays the sport of', '<|endoftext|><|endoftext|><|endoftext|>Fact: Tiger Woods plays the sport of golf\\nFact: Chris Ivory plays the sport of', '<|endoftext|><|endoftext|><|endoftext|>Fact: Tiger Woods plays the sport of golf\\nFact: Rich Gannon plays the sport of', '<|endoftext|><|endoftext|><|endoftext|>Fact: Tiger Woods plays the sport of golf\\nFact: Kevin Millwood plays the sport of', '<|endoftext|><|endoftext|><|endoftext|><|endoftext|>Fact: Tiger Woods plays the sport of golf\\nFact: Barry Sanders plays the sport of', '<|endoftext|><|endoftext|><|endoftext|><|endoftext|>Fact: Tiger Woods plays the sport of golf\\nFact: Randy Moss plays the sport of', '<|endoftext|><|endoftext|>Fact: Tiger Woods plays the sport of golf\\nFact: Willie Hernández plays the sport of', '<|endoftext|><|endoftext|><|endoftext|><|endoftext|>Fact: Tiger Woods plays the sport of golf\\nFact: Ray Lewis plays the sport of', '<|endoftext|><|endoftext|><|endoftext|>Fact: Tiger Woods plays the sport of golf\\nFact: Russell Okung plays the sport of', '<|endoftext|><|endoftext|><|endoftext|><|endoftext|>Fact: Tiger Woods plays the sport of golf\\nFact: Russell Martin plays the sport of', '<|endoftext|><|endoftext|><|endoftext|><|endoftext|>Fact: Tiger Woods plays the sport of golf\\nFact: Doc Rivers plays the sport of', '<|endoftext|><|endoftext|><|endoftext|><|endoftext|>Fact: Tiger Woods plays the sport of golf\\nFact: Lou Williams plays the sport of', '<|endoftext|><|endoftext|><|endoftext|>Fact: Tiger Woods plays the sport of golf\\nFact: David Freese plays the sport of', '<|endoftext|><|endoftext|><|endoftext|><|endoftext|>Fact: Tiger Woods plays the sport of golf\\nFact: Jason Collins plays the sport of', '<|endoftext|><|endoftext|><|endoftext|><|endoftext|>Fact: Tiger Woods plays the sport of golf\\nFact: Michael Jordan plays the sport of', '<|endoftext|>Fact: Tiger Woods plays the sport of golf\\nFact: Tom Thibodeau plays the sport of', '<|endoftext|><|endoftext|><|endoftext|><|endoftext|>Fact: Tiger Woods plays the sport of golf\\nFact: Dante Fowler plays the sport of', '<|endoftext|><|endoftext|><|endoftext|><|endoftext|>Fact: Tiger Woods plays the sport of golf\\nFact: Jordan Hill plays the sport of', '<|endoftext|><|endoftext|><|endoftext|>Fact: Tiger Woods plays the sport of golf\\nFact: Kyle Boller plays the sport of', '<|endoftext|><|endoftext|><|endoftext|><|endoftext|>Fact: Tiger Woods plays the sport of golf\\nFact: Brandon Graham plays the sport of', '<|endoftext|><|endoftext|><|endoftext|><|endoftext|>Fact: Tiger Woods plays the sport of golf\\nFact: Justin Herbert plays the sport of', '<|endoftext|><|endoftext|><|endoftext|><|endoftext|>Fact: Tiger Woods plays the sport of golf\\nFact: Brandon Phillips plays the sport of', '<|endoftext|><|endoftext|><|endoftext|><|endoftext|>Fact: Tiger Woods plays the sport of golf\\nFact: Jonathan Allen plays the sport of', '<|endoftext|><|endoftext|><|endoftext|><|endoftext|>Fact: Tiger Woods plays the sport of golf\\nFact: Glen Davis plays the sport of', '<|endoftext|><|endoftext|>Fact: Tiger Woods plays the sport of golf\\nFact: Jacob deGrom plays the sport of', '<|endoftext|><|endoftext|><|endoftext|><|endoftext|>Fact: Tiger Woods plays the sport of golf\\nFact: Fletcher Cox plays the sport of', '<|endoftext|><|endoftext|><|endoftext|><|endoftext|>Fact: Tiger Woods plays the sport of golf\\nFact: Julius Thomas plays the sport of', '<|endoftext|><|endoftext|><|endoftext|><|endoftext|>Fact: Tiger Woods plays the sport of golf\\nFact: Patrick Willis plays the sport of', '<|endoftext|><|endoftext|><|endoftext|>Fact: Tiger Woods plays the sport of golf\\nFact: Francisco Lindor plays the sport of', '<|endoftext|>Fact: Tiger Woods plays the sport of golf\\nFact: Javier Báez plays the sport of', '<|endoftext|><|endoftext|><|endoftext|><|endoftext|>Fact: Tiger Woods plays the sport of golf\\nFact: Matthew Stafford plays the sport of', '<|endoftext|><|endoftext|><|endoftext|><|endoftext|>Fact: Tiger Woods plays the sport of golf\\nFact: Tyson Chandler plays the sport of', '<|endoftext|><|endoftext|><|endoftext|><|endoftext|>Fact: Tiger Woods plays the sport of golf\\nFact: Taj Gibson plays the sport of', '<|endoftext|><|endoftext|><|endoftext|>Fact: Tiger Woods plays the sport of golf\\nFact: Montee Ball plays the sport of', '<|endoftext|><|endoftext|><|endoftext|>Fact: Tiger Woods plays the sport of golf\\nFact: Jaylon Ferguson plays the sport of', '<|endoftext|>Fact: Tiger Woods plays the sport of golf\\nFact: Ronny Turiaf plays the sport of', '<|endoftext|><|endoftext|><|endoftext|><|endoftext|>Fact: Tiger Woods plays the sport of golf\\nFact: Allen Robinson plays the sport of', '<|endoftext|><|endoftext|><|endoftext|>Fact: Tiger Woods plays the sport of golf\\nFact: David Freese plays the sport of', '<|endoftext|><|endoftext|><|endoftext|><|endoftext|>Fact: Tiger Woods plays the sport of golf\\nFact: Andrew Luck plays the sport of', '<|endoftext|><|endoftext|><|endoftext|>Fact: Tiger Woods plays the sport of golf\\nFact: Mike Zimmer plays the sport of', '<|endoftext|><|endoftext|><|endoftext|><|endoftext|>Fact: Tiger Woods plays the sport of golf\\nFact: Theo Epstein plays the sport of', '<|endoftext|><|endoftext|><|endoftext|><|endoftext|>Fact: Tiger Woods plays the sport of golf\\nFact: Donovan Mitchell plays the sport of', '<|endoftext|><|endoftext|><|endoftext|><|endoftext|>Fact: Tiger Woods plays the sport of golf\\nFact: Carlos Lee plays the sport of', '<|endoftext|><|endoftext|><|endoftext|>Fact: Tiger Woods plays the sport of golf\\nFact: Jared Goff plays the sport of', '<|endoftext|><|endoftext|>Fact: Tiger Woods plays the sport of golf\\nFact: Terry Rozier plays the sport of', '<|endoftext|><|endoftext|><|endoftext|><|endoftext|>Fact: Tiger Woods plays the sport of golf\\nFact: Isaiah Hicks plays the sport of', '<|endoftext|><|endoftext|><|endoftext|>Fact: Tiger Woods plays the sport of golf\\nFact: Wes Welker plays the sport of', '<|endoftext|><|endoftext|>Fact: Tiger Woods plays the sport of golf\\nFact: Willie Hernández plays the sport of', '<|endoftext|><|endoftext|>Fact: Tiger Woods plays the sport of golf\\nFact: Ronald Acuña plays the sport of', '<|endoftext|><|endoftext|><|endoftext|><|endoftext|>Fact: Tiger Woods plays the sport of golf\\nFact: Maya Moore plays the sport of', '<|endoftext|><|endoftext|><|endoftext|>Fact: Tiger Woods plays the sport of golf\\nFact: Trevor Siemian plays the sport of', '<|endoftext|><|endoftext|><|endoftext|>Fact: Tiger Woods plays the sport of golf\\nFact: Charlie Whitehurst plays the sport of', '<|endoftext|><|endoftext|><|endoftext|><|endoftext|>Fact: Tiger Woods plays the sport of golf\\nFact: Carlos Hyde plays the sport of', '<|endoftext|><|endoftext|><|endoftext|>Fact: Tiger Woods plays the sport of golf\\nFact: Brad Ausmus plays the sport of', '<|endoftext|><|endoftext|><|endoftext|><|endoftext|>Fact: Tiger Woods plays the sport of golf\\nFact: Donovan Mitchell plays the sport of', '<|endoftext|><|endoftext|><|endoftext|><|endoftext|>Fact: Tiger Woods plays the sport of golf\\nFact: Derek Carr plays the sport of', '<|endoftext|><|endoftext|><|endoftext|><|endoftext|>Fact: Tiger Woods plays the sport of golf\\nFact: Isaiah Hicks plays the sport of', '<|endoftext|><|endoftext|><|endoftext|>Fact: Tiger Woods plays the sport of golf\\nFact: Gerrit Cole plays the sport of', '<|endoftext|><|endoftext|><|endoftext|><|endoftext|>Fact: Tiger Woods plays the sport of golf\\nFact: Alex Len plays the sport of', '<|endoftext|><|endoftext|><|endoftext|><|endoftext|>Fact: Tiger Woods plays the sport of golf\\nFact: Chris Davis plays the sport of', '<|endoftext|><|endoftext|><|endoftext|><|endoftext|>Fact: Tiger Woods plays the sport of golf\\nFact: David Price plays the sport of', '<|endoftext|><|endoftext|><|endoftext|><|endoftext|>Fact: Tiger Woods plays the sport of golf\\nFact: Maya Moore plays the sport of', '<|endoftext|><|endoftext|><|endoftext|><|endoftext|>Fact: Tiger Woods plays the sport of golf\\nFact: David Robinson plays the sport of', '<|endoftext|><|endoftext|>Fact: Tiger Woods plays the sport of golf\\nFact: Jeremy Giambi plays the sport of', '<|endoftext|>Fact: Tiger Woods plays the sport of golf\\nFact: Rashard Mendenhall plays the sport of', '<|endoftext|><|endoftext|><|endoftext|>Fact: Tiger Woods plays the sport of golf\\nFact: Charles Tillman plays the sport of', '<|endoftext|><|endoftext|><|endoftext|><|endoftext|>Fact: Tiger Woods plays the sport of golf\\nFact: Brandon Marshall plays the sport of', '<|endoftext|><|endoftext|><|endoftext|><|endoftext|>Fact: Tiger Woods plays the sport of golf\\nFact: Matt Bryant plays the sport of', '<|endoftext|><|endoftext|><|endoftext|><|endoftext|>Fact: Tiger Woods plays the sport of golf\\nFact: Adam Dunn plays the sport of', '<|endoftext|><|endoftext|><|endoftext|><|endoftext|>Fact: Tiger Woods plays the sport of golf\\nFact: Dante Fowler plays the sport of', '<|endoftext|><|endoftext|><|endoftext|>Fact: Tiger Woods plays the sport of golf\\nFact: Jeff Teague plays the sport of', '<|endoftext|><|endoftext|>Fact: Tiger Woods plays the sport of golf\\nFact: Marcell Ozuna plays the sport of', '<|endoftext|><|endoftext|><|endoftext|><|endoftext|>Fact: Tiger Woods plays the sport of golf\\nFact: Anthony Randolph plays the sport of', '<|endoftext|><|endoftext|><|endoftext|><|endoftext|>Fact: Tiger Woods plays the sport of golf\\nFact: Josh Richardson plays the sport of', '<|endoftext|><|endoftext|><|endoftext|><|endoftext|>Fact: Tiger Woods plays the sport of golf\\nFact: Glen Davis plays the sport of', '<|endoftext|><|endoftext|>Fact: Tiger Woods plays the sport of golf\\nFact: Jabari Brown plays the sport of', '<|endoftext|><|endoftext|><|endoftext|><|endoftext|>Fact: Tiger Woods plays the sport of golf\\nFact: Earl Campbell plays the sport of', '<|endoftext|><|endoftext|><|endoftext|><|endoftext|>Fact: Tiger Woods plays the sport of golf\\nFact: Justin Turner plays the sport of', '<|endoftext|><|endoftext|><|endoftext|><|endoftext|>Fact: Tiger Woods plays the sport of golf\\nFact: Brandon Roy plays the sport of', '<|endoftext|><|endoftext|>Fact: Tiger Woods plays the sport of golf\\nFact: Kevin Gausman plays the sport of', '<|endoftext|><|endoftext|><|endoftext|>Fact: Tiger Woods plays the sport of golf\\nFact: Trent Dilfer plays the sport of', '<|endoftext|><|endoftext|>Fact: Tiger Woods plays the sport of golf\\nFact: Devin Hester plays the sport of', '<|endoftext|><|endoftext|><|endoftext|><|endoftext|>Fact: Tiger Woods plays the sport of golf\\nFact: Mike Webster plays the sport of', '<|endoftext|><|endoftext|><|endoftext|><|endoftext|>Fact: Tiger Woods plays the sport of golf\\nFact: Chris Paul plays the sport of', '<|endoftext|><|endoftext|><|endoftext|><|endoftext|>Fact: Tiger Woods plays the sport of golf\\nFact: Jimmy Butler plays the sport of', '<|endoftext|><|endoftext|>Fact: Tiger Woods plays the sport of golf\\nFact: Dansby Swanson plays the sport of', '<|endoftext|><|endoftext|><|endoftext|><|endoftext|>Fact: Tiger Woods plays the sport of golf\\nFact: Phil Hughes plays the sport of', '<|endoftext|><|endoftext|><|endoftext|><|endoftext|>Fact: Tiger Woods plays the sport of golf\\nFact: Isaiah Thomas plays the sport of', '<|endoftext|><|endoftext|><|endoftext|><|endoftext|>Fact: Tiger Woods plays the sport of golf\\nFact: Andy Reid plays the sport of', '<|endoftext|><|endoftext|><|endoftext|><|endoftext|>Fact: Tiger Woods plays the sport of golf\\nFact: Anthony Bennett plays the sport of', '<|endoftext|><|endoftext|><|endoftext|><|endoftext|>Fact: Tiger Woods plays the sport of golf\\nFact: Mike Webster plays the sport of', '<|endoftext|><|endoftext|><|endoftext|>Fact: Tiger Woods plays the sport of golf\\nFact: Terrell Owens plays the sport of', '<|endoftext|><|endoftext|><|endoftext|><|endoftext|>Fact: Tiger Woods plays the sport of golf\\nFact: Eric Berry plays the sport of', '<|endoftext|><|endoftext|><|endoftext|><|endoftext|>Fact: Tiger Woods plays the sport of golf\\nFact: Nick Folk plays the sport of', '<|endoftext|><|endoftext|><|endoftext|><|endoftext|>Fact: Tiger Woods plays the sport of golf\\nFact: Freddie Freeman plays the sport of', '<|endoftext|><|endoftext|><|endoftext|><|endoftext|>Fact: Tiger Woods plays the sport of golf\\nFact: Josh Allen plays the sport of', '<|endoftext|><|endoftext|><|endoftext|>Fact: Tiger Woods plays the sport of golf\\nFact: Jalen Ramsey plays the sport of', '<|endoftext|><|endoftext|><|endoftext|><|endoftext|>Fact: Tiger Woods plays the sport of golf\\nFact: Alex Len plays the sport of', '<|endoftext|><|endoftext|><|endoftext|>Fact: Tiger Woods plays the sport of golf\\nFact: Alex Avila plays the sport of', '<|endoftext|><|endoftext|><|endoftext|><|endoftext|>Fact: Tiger Woods plays the sport of golf\\nFact: Larry Bird plays the sport of', '<|endoftext|><|endoftext|><|endoftext|><|endoftext|>Fact: Tiger Woods plays the sport of golf\\nFact: Steven Adams plays the sport of', '<|endoftext|><|endoftext|><|endoftext|>Fact: Tiger Woods plays the sport of golf\\nFact: Joe Flacco plays the sport of', '<|endoftext|><|endoftext|><|endoftext|>Fact: Tiger Woods plays the sport of golf\\nFact: Jaylon Ferguson plays the sport of', '<|endoftext|><|endoftext|><|endoftext|>Fact: Tiger Woods plays the sport of golf\\nFact: Eric Ebron plays the sport of', '<|endoftext|><|endoftext|><|endoftext|><|endoftext|>Fact: Tiger Woods plays the sport of golf\\nFact: Josh Allen plays the sport of', '<|endoftext|><|endoftext|><|endoftext|>Fact: Tiger Woods plays the sport of golf\\nFact: Andrew Norwell plays the sport of', '<|endoftext|><|endoftext|><|endoftext|>Fact: Tiger Woods plays the sport of golf\\nFact: Joe Mauer plays the sport of', '<|endoftext|>Fact: Tiger Woods plays the sport of golf\\nFact: DK Metcalf plays the sport of', '<|endoftext|><|endoftext|><|endoftext|><|endoftext|>Fact: Tiger Woods plays the sport of golf\\nFact: Tony Parker plays the sport of', '<|endoftext|><|endoftext|><|endoftext|><|endoftext|>Fact: Tiger Woods plays the sport of golf\\nFact: Aaron Hicks plays the sport of', '<|endoftext|><|endoftext|><|endoftext|><|endoftext|>Fact: Tiger Woods plays the sport of golf\\nFact: Josh Hamilton plays the sport of', '<|endoftext|><|endoftext|>Fact: Tiger Woods plays the sport of golf\\nFact: Peyton Manning plays the sport of', '<|endoftext|><|endoftext|><|endoftext|>Fact: Tiger Woods plays the sport of golf\\nFact: Rickey Henderson plays the sport of', '<|endoftext|><|endoftext|><|endoftext|><|endoftext|>Fact: Tiger Woods plays the sport of golf\\nFact: Gary Sheffield plays the sport of', '<|endoftext|><|endoftext|><|endoftext|>Fact: Tiger Woods plays the sport of golf\\nFact: Trevor Siemian plays the sport of', '<|endoftext|><|endoftext|><|endoftext|><|endoftext|>Fact: Tiger Woods plays the sport of golf\\nFact: Tony Allen plays the sport of', '<|endoftext|><|endoftext|><|endoftext|><|endoftext|>Fact: Tiger Woods plays the sport of golf\\nFact: Eric Reid plays the sport of', '<|endoftext|><|endoftext|><|endoftext|>Fact: Tiger Woods plays the sport of golf\\nFact: Terrell Owens plays the sport of', '<|endoftext|><|endoftext|><|endoftext|><|endoftext|>Fact: Tiger Woods plays the sport of golf\\nFact: Billy Hamilton plays the sport of', '<|endoftext|><|endoftext|><|endoftext|>Fact: Tiger Woods plays the sport of golf\\nFact: Manny Ramirez plays the sport of', '<|endoftext|><|endoftext|><|endoftext|><|endoftext|>Fact: Tiger Woods plays the sport of golf\\nFact: Kyle Long plays the sport of', '<|endoftext|><|endoftext|><|endoftext|><|endoftext|>Fact: Tiger Woods plays the sport of golf\\nFact: Randy Johnson plays the sport of', '<|endoftext|><|endoftext|><|endoftext|><|endoftext|>Fact: Tiger Woods plays the sport of golf\\nFact: Greg Hardy plays the sport of', '<|endoftext|><|endoftext|><|endoftext|>Fact: Tiger Woods plays the sport of golf\\nFact: Roberto Osuna plays the sport of', '<|endoftext|><|endoftext|><|endoftext|>Fact: Tiger Woods plays the sport of golf\\nFact: Rafael Furcal plays the sport of', '<|endoftext|><|endoftext|><|endoftext|><|endoftext|>Fact: Tiger Woods plays the sport of golf\\nFact: Brandon Graham plays the sport of', '<|endoftext|><|endoftext|><|endoftext|>Fact: Tiger Woods plays the sport of golf\\nFact: Derek Jeter plays the sport of', '<|endoftext|><|endoftext|><|endoftext|><|endoftext|>Fact: Tiger Woods plays the sport of golf\\nFact: Brandon Marshall plays the sport of', '<|endoftext|><|endoftext|><|endoftext|>Fact: Tiger Woods plays the sport of golf\\nFact: Chris Ivory plays the sport of', '<|endoftext|><|endoftext|><|endoftext|><|endoftext|>Fact: Tiger Woods plays the sport of golf\\nFact: Jeff Fisher plays the sport of', '<|endoftext|><|endoftext|><|endoftext|>Fact: Tiger Woods plays the sport of golf\\nFact: Kyle Korver plays the sport of', '<|endoftext|><|endoftext|><|endoftext|><|endoftext|>Fact: Tiger Woods plays the sport of golf\\nFact: Aaron Sanchez plays the sport of', '<|endoftext|><|endoftext|><|endoftext|><|endoftext|>Fact: Tiger Woods plays the sport of golf\\nFact: Marvin Harrison plays the sport of', '<|endoftext|><|endoftext|><|endoftext|>Fact: Tiger Woods plays the sport of golf\\nFact: Ryan Fitzpatrick plays the sport of', '<|endoftext|><|endoftext|>Fact: Tiger Woods plays the sport of golf\\nFact: Mike Alstott plays the sport of', '<|endoftext|><|endoftext|><|endoftext|><|endoftext|>Fact: Tiger Woods plays the sport of golf\\nFact: Ron Rivera plays the sport of', '<|endoftext|><|endoftext|><|endoftext|><|endoftext|>Fact: Tiger Woods plays the sport of golf\\nFact: Freddie Freeman plays the sport of', '<|endoftext|><|endoftext|>Fact: Tiger Woods plays the sport of golf\\nFact: Sam Darnold plays the sport of', '<|endoftext|><|endoftext|><|endoftext|><|endoftext|>Fact: Tiger Woods plays the sport of golf\\nFact: Carlos Lee plays the sport of', '<|endoftext|><|endoftext|><|endoftext|><|endoftext|>Fact: Tiger Woods plays the sport of golf\\nFact: Aaron Gordon plays the sport of', '<|endoftext|><|endoftext|><|endoftext|><|endoftext|>Fact: Tiger Woods plays the sport of golf\\nFact: Trevor Hoffman plays the sport of', '<|endoftext|><|endoftext|><|endoftext|><|endoftext|>Fact: Tiger Woods plays the sport of golf\\nFact: Dante Fowler plays the sport of', '<|endoftext|><|endoftext|><|endoftext|><|endoftext|>Fact: Tiger Woods plays the sport of golf\\nFact: Dante Fowler plays the sport of', '<|endoftext|><|endoftext|><|endoftext|><|endoftext|>Fact: Tiger Woods plays the sport of golf\\nFact: Jordan Davis plays the sport of', '<|endoftext|><|endoftext|><|endoftext|><|endoftext|>Fact: Tiger Woods plays the sport of golf\\nFact: Adam Dunn plays the sport of', '<|endoftext|><|endoftext|><|endoftext|>Fact: Tiger Woods plays the sport of golf\\nFact: Jorge Posada plays the sport of', '<|endoftext|><|endoftext|><|endoftext|><|endoftext|>Fact: Tiger Woods plays the sport of golf\\nFact: Trevor Hoffman plays the sport of', '<|endoftext|><|endoftext|><|endoftext|>Fact: Tiger Woods plays the sport of golf\\nFact: Rafael Soriano plays the sport of', '<|endoftext|><|endoftext|><|endoftext|><|endoftext|>Fact: Tiger Woods plays the sport of golf\\nFact: Jordan Davis plays the sport of', '<|endoftext|><|endoftext|>Fact: Tiger Woods plays the sport of golf\\nFact: Gardner Minshew plays the sport of', '<|endoftext|><|endoftext|><|endoftext|>Fact: Tiger Woods plays the sport of golf\\nFact: Rafael Soriano plays the sport of', '<|endoftext|><|endoftext|><|endoftext|>Fact: Tiger Woods plays the sport of golf\\nFact: Tom Izzo plays the sport of', '<|endoftext|><|endoftext|><|endoftext|><|endoftext|>Fact: Tiger Woods plays the sport of golf\\nFact: Vince Young plays the sport of', '<|endoftext|><|endoftext|><|endoftext|><|endoftext|>Fact: Tiger Woods plays the sport of golf\\nFact: James Harrison plays the sport of', '<|endoftext|><|endoftext|><|endoftext|><|endoftext|>Fact: Tiger Woods plays the sport of golf\\nFact: Kenny Britt plays the sport of', '<|endoftext|><|endoftext|><|endoftext|><|endoftext|>Fact: Tiger Woods plays the sport of golf\\nFact: Joe Nathan plays the sport of', '<|endoftext|><|endoftext|><|endoftext|><|endoftext|>Fact: Tiger Woods plays the sport of golf\\nFact: Kyle Fuller plays the sport of', '<|endoftext|><|endoftext|><|endoftext|>Fact: Tiger Woods plays the sport of golf\\nFact: Matt Nagy plays the sport of', '<|endoftext|><|endoftext|><|endoftext|><|endoftext|>Fact: Tiger Woods plays the sport of golf\\nFact: Josh Allen plays the sport of', '<|endoftext|><|endoftext|>Fact: Tiger Woods plays the sport of golf\\nFact: Julio Lugo plays the sport of', '<|endoftext|><|endoftext|><|endoftext|>Fact: Tiger Woods plays the sport of golf\\nFact: Jared Goff plays the sport of', '<|endoftext|><|endoftext|><|endoftext|><|endoftext|>Fact: Tiger Woods plays the sport of golf\\nFact: Carlos Hyde plays the sport of', '<|endoftext|><|endoftext|><|endoftext|><|endoftext|>Fact: Tiger Woods plays the sport of golf\\nFact: Logan Morrison plays the sport of', '<|endoftext|>Fact: Tiger Woods plays the sport of golf\\nFact: Zack Cozart plays the sport of', '<|endoftext|><|endoftext|><|endoftext|>Fact: Tiger Woods plays the sport of golf\\nFact: Justin Masterson plays the sport of', '<|endoftext|><|endoftext|><|endoftext|><|endoftext|>Fact: Tiger Woods plays the sport of golf\\nFact: Gary Harris plays the sport of', '<|endoftext|><|endoftext|><|endoftext|><|endoftext|>Fact: Tiger Woods plays the sport of golf\\nFact: Ryan Grant plays the sport of', '<|endoftext|><|endoftext|><|endoftext|><|endoftext|>Fact: Tiger Woods plays the sport of golf\\nFact: Anthony Davis plays the sport of', '<|endoftext|><|endoftext|><|endoftext|><|endoftext|>Fact: Tiger Woods plays the sport of golf\\nFact: Aaron Donald plays the sport of', '<|endoftext|><|endoftext|><|endoftext|><|endoftext|>Fact: Tiger Woods plays the sport of golf\\nFact: Ray Rice plays the sport of', '<|endoftext|><|endoftext|><|endoftext|><|endoftext|>Fact: Tiger Woods plays the sport of golf\\nFact: Chris Archer plays the sport of', '<|endoftext|><|endoftext|>Fact: Tiger Woods plays the sport of golf\\nFact: Anthony Rizzo plays the sport of', '<|endoftext|><|endoftext|>Fact: Tiger Woods plays the sport of golf\\nFact: Carlos Carrasco plays the sport of', '<|endoftext|><|endoftext|><|endoftext|><|endoftext|>Fact: Tiger Woods plays the sport of golf\\nFact: David Price plays the sport of', '<|endoftext|><|endoftext|><|endoftext|><|endoftext|>Fact: Tiger Woods plays the sport of golf\\nFact: Tony Gonzalez plays the sport of', '<|endoftext|><|endoftext|><|endoftext|>Fact: Tiger Woods plays the sport of golf\\nFact: Kevin Kolb plays the sport of', '<|endoftext|><|endoftext|><|endoftext|><|endoftext|>Fact: Tiger Woods plays the sport of golf\\nFact: Nick Folk plays the sport of', '<|endoftext|><|endoftext|><|endoftext|>Fact: Tiger Woods plays the sport of golf\\nFact: Kelvin Benjamin plays the sport of', '<|endoftext|><|endoftext|>Fact: Tiger Woods plays the sport of golf\\nFact: Manny Machado plays the sport of', '<|endoftext|><|endoftext|><|endoftext|><|endoftext|>Fact: Tiger Woods plays the sport of golf\\nFact: Jeff Fisher plays the sport of', '<|endoftext|><|endoftext|><|endoftext|>Fact: Tiger Woods plays the sport of golf\\nFact: Jalen Ramsey plays the sport of', '<|endoftext|><|endoftext|>Fact: Tiger Woods plays the sport of golf\\nFact: Noah Syndergaard plays the sport of', '<|endoftext|><|endoftext|><|endoftext|><|endoftext|>Fact: Tiger Woods plays the sport of golf\\nFact: David Wright plays the sport of', '<|endoftext|><|endoftext|><|endoftext|><|endoftext|>Fact: Tiger Woods plays the sport of golf\\nFact: Ryan Leaf plays the sport of', '<|endoftext|><|endoftext|><|endoftext|><|endoftext|>Fact: Tiger Woods plays the sport of golf\\nFact: Andy Reid plays the sport of', '<|endoftext|><|endoftext|><|endoftext|><|endoftext|>Fact: Tiger Woods plays the sport of golf\\nFact: Cam Newton plays the sport of', '<|endoftext|><|endoftext|><|endoftext|>Fact: Tiger Woods plays the sport of golf\\nFact: Prince Fielder plays the sport of', '<|endoftext|><|endoftext|><|endoftext|>Fact: Tiger Woods plays the sport of golf\\nFact: Ryan Kalil plays the sport of', '<|endoftext|><|endoftext|><|endoftext|><|endoftext|>Fact: Tiger Woods plays the sport of golf\\nFact: Zion Williamson plays the sport of', '<|endoftext|><|endoftext|><|endoftext|><|endoftext|>Fact: Tiger Woods plays the sport of golf\\nFact: Emmanuel Sanders plays the sport of', '<|endoftext|><|endoftext|>Fact: Tiger Woods plays the sport of golf\\nFact: Angel McCoughtry plays the sport of', '<|endoftext|>Fact: Tiger Woods plays the sport of golf\\nFact: Madison Bumgarner plays the sport of', '<|endoftext|><|endoftext|><|endoftext|><|endoftext|>Fact: Tiger Woods plays the sport of golf\\nFact: Brandon Knight plays the sport of', '<|endoftext|><|endoftext|><|endoftext|><|endoftext|>Fact: Tiger Woods plays the sport of golf\\nFact: Aaron Gordon plays the sport of', '<|endoftext|><|endoftext|>Fact: Tiger Woods plays the sport of golf\\nFact: Star Lotulelei plays the sport of', '<|endoftext|><|endoftext|><|endoftext|><|endoftext|>Fact: Tiger Woods plays the sport of golf\\nFact: Aaron Sanchez plays the sport of', '<|endoftext|><|endoftext|><|endoftext|>Fact: Tiger Woods plays the sport of golf\\nFact: Jerry Stackhouse plays the sport of', '<|endoftext|><|endoftext|>Fact: Tiger Woods plays the sport of golf\\nFact: Adam Vinatieri plays the sport of', '<|endoftext|><|endoftext|>Fact: Tiger Woods plays the sport of golf\\nFact: Brittney Griner plays the sport of', '<|endoftext|><|endoftext|><|endoftext|><|endoftext|>Fact: Tiger Woods plays the sport of golf\\nFact: Mike McCarthy plays the sport of', '<|endoftext|><|endoftext|><|endoftext|>Fact: Tiger Woods plays the sport of golf\\nFact: Todd Helton plays the sport of', '<|endoftext|><|endoftext|><|endoftext|><|endoftext|>Fact: Tiger Woods plays the sport of golf\\nFact: Anthony Bennett plays the sport of', '<|endoftext|><|endoftext|><|endoftext|><|endoftext|>Fact: Tiger Woods plays the sport of golf\\nFact: Randy Johnson plays the sport of', '<|endoftext|><|endoftext|><|endoftext|><|endoftext|>Fact: Tiger Woods plays the sport of golf\\nFact: Bill Self plays the sport of', '<|endoftext|><|endoftext|><|endoftext|><|endoftext|>Fact: Tiger Woods plays the sport of golf\\nFact: Ed Reed plays the sport of', '<|endoftext|><|endoftext|><|endoftext|><|endoftext|>Fact: Tiger Woods plays the sport of golf\\nFact: Aaron Donald plays the sport of', '<|endoftext|><|endoftext|><|endoftext|><|endoftext|>Fact: Tiger Woods plays the sport of golf\\nFact: Carlos Lee plays the sport of', '<|endoftext|><|endoftext|><|endoftext|><|endoftext|>Fact: Tiger Woods plays the sport of golf\\nFact: Marvin Harrison plays the sport of', '<|endoftext|><|endoftext|><|endoftext|>Fact: Tiger Woods plays the sport of golf\\nFact: Curt Schilling plays the sport of', '<|endoftext|><|endoftext|><|endoftext|><|endoftext|>Fact: Tiger Woods plays the sport of golf\\nFact: John Wall plays the sport of', '<|endoftext|><|endoftext|><|endoftext|>Fact: Tiger Woods plays the sport of golf\\nFact: Torrey Smith plays the sport of', '<|endoftext|><|endoftext|><|endoftext|><|endoftext|>Fact: Tiger Woods plays the sport of golf\\nFact: Randy Moss plays the sport of', '<|endoftext|><|endoftext|><|endoftext|><|endoftext|>Fact: Tiger Woods plays the sport of golf\\nFact: Aaron Gordon plays the sport of', '<|endoftext|><|endoftext|><|endoftext|><|endoftext|>Fact: Tiger Woods plays the sport of golf\\nFact: Paul George plays the sport of', '<|endoftext|><|endoftext|><|endoftext|><|endoftext|>Fact: Tiger Woods plays the sport of golf\\nFact: Greg Monroe plays the sport of', '<|endoftext|><|endoftext|><|endoftext|>Fact: Tiger Woods plays the sport of golf\\nFact: Jalen Adams plays the sport of', '<|endoftext|><|endoftext|>Fact: Tiger Woods plays the sport of golf\\nFact: Mike Alstott plays the sport of', '<|endoftext|><|endoftext|><|endoftext|>Fact: Tiger Woods plays the sport of golf\\nFact: Chris Bosh plays the sport of', '<|endoftext|><|endoftext|><|endoftext|>Fact: Tiger Woods plays the sport of golf\\nFact: Dave Duerson plays the sport of', '<|endoftext|><|endoftext|><|endoftext|>Fact: Tiger Woods plays the sport of golf\\nFact: Doug Marrone plays the sport of', '<|endoftext|><|endoftext|>Fact: Tiger Woods plays the sport of golf\\nFact: Bill Belichick plays the sport of', '<|endoftext|><|endoftext|><|endoftext|><|endoftext|>Fact: Tiger Woods plays the sport of golf\\nFact: Gary Harris plays the sport of', '<|endoftext|><|endoftext|>Fact: Tiger Woods plays the sport of golf\\nFact: Josh Reddick plays the sport of', '<|endoftext|><|endoftext|>Fact: Tiger Woods plays the sport of golf\\nFact: Adam Wainwright plays the sport of', '<|endoftext|><|endoftext|><|endoftext|>Fact: Tiger Woods plays the sport of golf\\nFact: Andre Ingram plays the sport of', '<|endoftext|><|endoftext|><|endoftext|><|endoftext|>Fact: Tiger Woods plays the sport of golf\\nFact: Brandon Graham plays the sport of', '<|endoftext|><|endoftext|><|endoftext|><|endoftext|>Fact: Tiger Woods plays the sport of golf\\nFact: Greg Hardy plays the sport of', '<|endoftext|><|endoftext|><|endoftext|><|endoftext|>Fact: Tiger Woods plays the sport of golf\\nFact: Nick Young plays the sport of', '<|endoftext|><|endoftext|><|endoftext|>Fact: Tiger Woods plays the sport of golf\\nFact: Rod Woodson plays the sport of', '<|endoftext|><|endoftext|><|endoftext|><|endoftext|>Fact: Tiger Woods plays the sport of golf\\nFact: Brandon Roy plays the sport of', '<|endoftext|><|endoftext|><|endoftext|>Fact: Tiger Woods plays the sport of golf\\nFact: Vince Wilfork plays the sport of', '<|endoftext|><|endoftext|><|endoftext|><|endoftext|>Fact: Tiger Woods plays the sport of golf\\nFact: Antonio Brown plays the sport of', '<|endoftext|><|endoftext|><|endoftext|><|endoftext|>Fact: Tiger Woods plays the sport of golf\\nFact: Zion Williamson plays the sport of', '<|endoftext|><|endoftext|><|endoftext|><|endoftext|>Fact: Tiger Woods plays the sport of golf\\nFact: Michael Morse plays the sport of', '<|endoftext|><|endoftext|><|endoftext|><|endoftext|>Fact: Tiger Woods plays the sport of golf\\nFact: Ben Tate plays the sport of', '<|endoftext|><|endoftext|>Fact: Tiger Woods plays the sport of golf\\nFact: Giovani Bernard plays the sport of', '<|endoftext|><|endoftext|><|endoftext|><|endoftext|>Fact: Tiger Woods plays the sport of golf\\nFact: Matt Bryant plays the sport of', '<|endoftext|><|endoftext|><|endoftext|>Fact: Tiger Woods plays the sport of golf\\nFact: Jimmy Rollins plays the sport of', '<|endoftext|><|endoftext|><|endoftext|><|endoftext|>Fact: Tiger Woods plays the sport of golf\\nFact: Brandon Marshall plays the sport of', '<|endoftext|><|endoftext|><|endoftext|><|endoftext|>Fact: Tiger Woods plays the sport of golf\\nFact: Michael Sam plays the sport of', '<|endoftext|><|endoftext|><|endoftext|><|endoftext|>Fact: Tiger Woods plays the sport of golf\\nFact: Victor Cruz plays the sport of', '<|endoftext|><|endoftext|><|endoftext|>Fact: Tiger Woods plays the sport of golf\\nFact: Cody Zeller plays the sport of', '<|endoftext|><|endoftext|><|endoftext|><|endoftext|>Fact: Tiger Woods plays the sport of golf\\nFact: Matt Carpenter plays the sport of', '<|endoftext|><|endoftext|><|endoftext|>Fact: Tiger Woods plays the sport of golf\\nFact: Tony Romo plays the sport of', '<|endoftext|><|endoftext|><|endoftext|><|endoftext|>Fact: Tiger Woods plays the sport of golf\\nFact: James Harrison plays the sport of', '<|endoftext|><|endoftext|><|endoftext|><|endoftext|>Fact: Tiger Woods plays the sport of golf\\nFact: Russell Wilson plays the sport of', '<|endoftext|><|endoftext|><|endoftext|><|endoftext|>Fact: Tiger Woods plays the sport of golf\\nFact: John Wall plays the sport of', '<|endoftext|><|endoftext|><|endoftext|><|endoftext|>Fact: Tiger Woods plays the sport of golf\\nFact: Urban Meyer plays the sport of', '<|endoftext|><|endoftext|><|endoftext|><|endoftext|>Fact: Tiger Woods plays the sport of golf\\nFact: Gary Harris plays the sport of', '<|endoftext|><|endoftext|><|endoftext|>Fact: Tiger Woods plays the sport of golf\\nFact: Jon Gruden plays the sport of', '<|endoftext|>Fact: Tiger Woods plays the sport of golf\\nFact: Dane De La Rosa plays the sport of', '<|endoftext|><|endoftext|><|endoftext|>Fact: Tiger Woods plays the sport of golf\\nFact: James Loney plays the sport of', '<|endoftext|><|endoftext|><|endoftext|><|endoftext|>Fact: Tiger Woods plays the sport of golf\\nFact: Isaiah Hicks plays the sport of', '<|endoftext|><|endoftext|><|endoftext|><|endoftext|>Fact: Tiger Woods plays the sport of golf\\nFact: Antonio Gates plays the sport of', '<|endoftext|><|endoftext|><|endoftext|><|endoftext|>Fact: Tiger Woods plays the sport of golf\\nFact: Aaron Gordon plays the sport of', '<|endoftext|><|endoftext|><|endoftext|><|endoftext|>Fact: Tiger Woods plays the sport of golf\\nFact: Paul George plays the sport of', '<|endoftext|><|endoftext|><|endoftext|><|endoftext|>Fact: Tiger Woods plays the sport of golf\\nFact: David Wells plays the sport of', '<|endoftext|><|endoftext|><|endoftext|>Fact: Tiger Woods plays the sport of golf\\nFact: Prince Fielder plays the sport of', '<|endoftext|><|endoftext|><|endoftext|><|endoftext|>Fact: Tiger Woods plays the sport of golf\\nFact: Anthony Davis plays the sport of', '<|endoftext|><|endoftext|><|endoftext|><|endoftext|>Fact: Tiger Woods plays the sport of golf\\nFact: Chip Kelly plays the sport of', '<|endoftext|><|endoftext|><|endoftext|><|endoftext|>Fact: Tiger Woods plays the sport of golf\\nFact: Josh Allen plays the sport of', '<|endoftext|>Fact: Tiger Woods plays the sport of golf\\nFact: Geno Auriemma plays the sport of', '<|endoftext|><|endoftext|><|endoftext|><|endoftext|>Fact: Tiger Woods plays the sport of golf\\nFact: Jonathan Allen plays the sport of', '<|endoftext|><|endoftext|><|endoftext|><|endoftext|>Fact: Tiger Woods plays the sport of golf\\nFact: Tyson Chandler plays the sport of', '<|endoftext|><|endoftext|><|endoftext|>Fact: Tiger Woods plays the sport of golf\\nFact: Tobias Harris plays the sport of', '<|endoftext|><|endoftext|><|endoftext|><|endoftext|>Fact: Tiger Woods plays the sport of golf\\nFact: Kyle Long plays the sport of', '<|endoftext|><|endoftext|><|endoftext|><|endoftext|>Fact: Tiger Woods plays the sport of golf\\nFact: Carlos Lee plays the sport of', '<|endoftext|><|endoftext|><|endoftext|>Fact: Tiger Woods plays the sport of golf\\nFact: Cole Hamels plays the sport of', '<|endoftext|><|endoftext|><|endoftext|><|endoftext|>Fact: Tiger Woods plays the sport of golf\\nFact: Gary Sheffield plays the sport of', '<|endoftext|><|endoftext|><|endoftext|><|endoftext|>Fact: Tiger Woods plays the sport of golf\\nFact: Jonathan Allen plays the sport of', '<|endoftext|><|endoftext|>Fact: Tiger Woods plays the sport of golf\\nFact: James Laurinaitis plays the sport of', '<|endoftext|><|endoftext|>Fact: Tiger Woods plays the sport of golf\\nFact: Carlos Beltrán plays the sport of', '<|endoftext|><|endoftext|><|endoftext|><|endoftext|>Fact: Tiger Woods plays the sport of golf\\nFact: Doc Rivers plays the sport of', '<|endoftext|><|endoftext|><|endoftext|><|endoftext|>Fact: Tiger Woods plays the sport of golf\\nFact: Ray Rice plays the sport of', '<|endoftext|><|endoftext|><|endoftext|><|endoftext|>Fact: Tiger Woods plays the sport of golf\\nFact: Russell Martin plays the sport of', '<|endoftext|><|endoftext|><|endoftext|><|endoftext|>Fact: Tiger Woods plays the sport of golf\\nFact: Taj Gibson plays the sport of', '<|endoftext|><|endoftext|><|endoftext|><|endoftext|>Fact: Tiger Woods plays the sport of golf\\nFact: Rex Ryan plays the sport of', '<|endoftext|><|endoftext|><|endoftext|><|endoftext|>Fact: Tiger Woods plays the sport of golf\\nFact: Chris Sale plays the sport of', '<|endoftext|><|endoftext|><|endoftext|><|endoftext|>Fact: Tiger Woods plays the sport of golf\\nFact: Cliff Lee plays the sport of', '<|endoftext|>Fact: Tiger Woods plays the sport of golf\\nFact: Rudy Gobert plays the sport of', '<|endoftext|><|endoftext|><|endoftext|><|endoftext|>Fact: Tiger Woods plays the sport of golf\\nFact: Michael Floyd plays the sport of', '<|endoftext|><|endoftext|><|endoftext|><|endoftext|>Fact: Tiger Woods plays the sport of golf\\nFact: Frank Gore plays the sport of', '<|endoftext|><|endoftext|><|endoftext|><|endoftext|>Fact: Tiger Woods plays the sport of golf\\nFact: Ryan Grant plays the sport of', '<|endoftext|><|endoftext|><|endoftext|>Fact: Tiger Woods plays the sport of golf\\nFact: Joe Haden plays the sport of', '<|endoftext|><|endoftext|><|endoftext|><|endoftext|>Fact: Tiger Woods plays the sport of golf\\nFact: Jordan Hill plays the sport of', '<|endoftext|><|endoftext|><|endoftext|><|endoftext|>Fact: Tiger Woods plays the sport of golf\\nFact: Justin Herbert plays the sport of', '<|endoftext|><|endoftext|><|endoftext|><|endoftext|>Fact: Tiger Woods plays the sport of golf\\nFact: Mario Williams plays the sport of', '<|endoftext|><|endoftext|><|endoftext|>Fact: Tiger Woods plays the sport of golf\\nFact: Francisco Lindor plays the sport of', '<|endoftext|><|endoftext|><|endoftext|>Fact: Tiger Woods plays the sport of golf\\nFact: John Elway plays the sport of', '<|endoftext|><|endoftext|><|endoftext|><|endoftext|>Fact: Tiger Woods plays the sport of golf\\nFact: Steve Young plays the sport of', '<|endoftext|><|endoftext|><|endoftext|><|endoftext|>Fact: Tiger Woods plays the sport of golf\\nFact: Chris Davis plays the sport of', '<|endoftext|><|endoftext|><|endoftext|>Fact: Tiger Woods plays the sport of golf\\nFact: Patrick Mahomes plays the sport of', '<|endoftext|><|endoftext|><|endoftext|>Fact: Tiger Woods plays the sport of golf\\nFact: Todd Frazier plays the sport of', '<|endoftext|><|endoftext|><|endoftext|>Fact: Tiger Woods plays the sport of golf\\nFact: Marshall Faulk plays the sport of', '<|endoftext|><|endoftext|><|endoftext|>Fact: Tiger Woods plays the sport of golf\\nFact: RJ Barrett plays the sport of', '<|endoftext|><|endoftext|><|endoftext|><|endoftext|>Fact: Tiger Woods plays the sport of golf\\nFact: Ryan Howard plays the sport of', '<|endoftext|><|endoftext|><|endoftext|><|endoftext|>Fact: Tiger Woods plays the sport of golf\\nFact: Doc Rivers plays the sport of', '<|endoftext|><|endoftext|><|endoftext|>Fact: Tiger Woods plays the sport of golf\\nFact: Reuben Foster plays the sport of', '<|endoftext|><|endoftext|><|endoftext|><|endoftext|>Fact: Tiger Woods plays the sport of golf\\nFact: Jason Collins plays the sport of', '<|endoftext|><|endoftext|><|endoftext|><|endoftext|>Fact: Tiger Woods plays the sport of golf\\nFact: Brady Quinn plays the sport of', '<|endoftext|><|endoftext|><|endoftext|><|endoftext|>Fact: Tiger Woods plays the sport of golf\\nFact: Zion Williamson plays the sport of', '<|endoftext|><|endoftext|>Fact: Tiger Woods plays the sport of golf\\nFact: Jonathan Papelbon plays the sport of', '<|endoftext|><|endoftext|><|endoftext|>Fact: Tiger Woods plays the sport of golf\\nFact: Nick Foles plays the sport of', 'Fact: Tiger Woods plays the sport of golf\\nFact: Alonzo Mourning plays the sport of', '<|endoftext|><|endoftext|><|endoftext|><|endoftext|>Fact: Tiger Woods plays the sport of golf\\nFact: Brandon Graham plays the sport of', '<|endoftext|><|endoftext|><|endoftext|><|endoftext|>Fact: Tiger Woods plays the sport of golf\\nFact: Freddie Freeman plays the sport of', '<|endoftext|><|endoftext|><|endoftext|><|endoftext|>Fact: Tiger Woods plays the sport of golf\\nFact: Sam Bradford plays the sport of', '<|endoftext|><|endoftext|><|endoftext|>Fact: Tiger Woods plays the sport of golf\\nFact: Freddy Sanchez plays the sport of', '<|endoftext|><|endoftext|><|endoftext|><|endoftext|>Fact: Tiger Woods plays the sport of golf\\nFact: Justin Tucker plays the sport of', '<|endoftext|><|endoftext|><|endoftext|><|endoftext|>Fact: Tiger Woods plays the sport of golf\\nFact: Jay Bruce plays the sport of', '<|endoftext|><|endoftext|><|endoftext|><|endoftext|>Fact: Tiger Woods plays the sport of golf\\nFact: James Johnson plays the sport of', '<|endoftext|><|endoftext|><|endoftext|><|endoftext|>Fact: Tiger Woods plays the sport of golf\\nFact: Paul George plays the sport of', '<|endoftext|><|endoftext|>Fact: Tiger Woods plays the sport of golf\\nFact: Brian Orakpo plays the sport of', '<|endoftext|><|endoftext|>Fact: Tiger Woods plays the sport of golf\\nFact: DeAndre Jordan plays the sport of', '<|endoftext|>Fact: Tiger Woods plays the sport of golf\\nFact: Malik Beasley plays the sport of', '<|endoftext|><|endoftext|><|endoftext|><|endoftext|>Fact: Tiger Woods plays the sport of golf\\nFact: Maya Moore plays the sport of', '<|endoftext|><|endoftext|><|endoftext|><|endoftext|>Fact: Tiger Woods plays the sport of golf\\nFact: Chris Long plays the sport of', '<|endoftext|>Fact: Tiger Woods plays the sport of golf\\nFact: Quincy Pondexter plays the sport of', '<|endoftext|><|endoftext|><|endoftext|>Fact: Tiger Woods plays the sport of golf\\nFact: Brandon Inge plays the sport of', '<|endoftext|><|endoftext|><|endoftext|><|endoftext|>Fact: Tiger Woods plays the sport of golf\\nFact: Cam Newton plays the sport of', '<|endoftext|><|endoftext|><|endoftext|><|endoftext|>Fact: Tiger Woods plays the sport of golf\\nFact: Jason Collins plays the sport of', '<|endoftext|><|endoftext|><|endoftext|><|endoftext|>Fact: Tiger Woods plays the sport of golf\\nFact: Kyle Allen plays the sport of', '<|endoftext|><|endoftext|>Fact: Tiger Woods plays the sport of golf\\nFact: Dallas Keuchel plays the sport of', '<|endoftext|><|endoftext|>Fact: Tiger Woods plays the sport of golf\\nFact: Alan Trammell plays the sport of', '<|endoftext|><|endoftext|><|endoftext|><|endoftext|>Fact: Tiger Woods plays the sport of golf\\nFact: Carlos Hyde plays the sport of', '<|endoftext|><|endoftext|>Fact: Tiger Woods plays the sport of golf\\nFact: Rob Ninkovich plays the sport of', '<|endoftext|><|endoftext|><|endoftext|><|endoftext|>Fact: Tiger Woods plays the sport of golf\\nFact: Will Fuller plays the sport of', '<|endoftext|><|endoftext|><|endoftext|><|endoftext|>Fact: Tiger Woods plays the sport of golf\\nFact: Josh Norman plays the sport of', '<|endoftext|><|endoftext|>Fact: Tiger Woods plays the sport of golf\\nFact: Ian Kinsler plays the sport of', '<|endoftext|><|endoftext|><|endoftext|>Fact: Tiger Woods plays the sport of golf\\nFact: Jered Weaver plays the sport of', '<|endoftext|><|endoftext|><|endoftext|><|endoftext|>Fact: Tiger Woods plays the sport of golf\\nFact: Jordan Davis plays the sport of', '<|endoftext|><|endoftext|><|endoftext|><|endoftext|>Fact: Tiger Woods plays the sport of golf\\nFact: Chris Archer plays the sport of', '<|endoftext|><|endoftext|><|endoftext|><|endoftext|>Fact: Tiger Woods plays the sport of golf\\nFact: Brett Gardner plays the sport of', '<|endoftext|><|endoftext|><|endoftext|>Fact: Tiger Woods plays the sport of golf\\nFact: Marcus Camby plays the sport of', '<|endoftext|><|endoftext|><|endoftext|>Fact: Tiger Woods plays the sport of golf\\nFact: Dez Bryant plays the sport of', '<|endoftext|><|endoftext|><|endoftext|><|endoftext|>Fact: Tiger Woods plays the sport of golf\\nFact: Mario Williams plays the sport of', '<|endoftext|><|endoftext|><|endoftext|><|endoftext|>Fact: Tiger Woods plays the sport of golf\\nFact: Doc Rivers plays the sport of', '<|endoftext|><|endoftext|><|endoftext|>Fact: Tiger Woods plays the sport of golf\\nFact: Danny Ainge plays the sport of', '<|endoftext|><|endoftext|>Fact: Tiger Woods plays the sport of golf\\nFact: Paul Konerko plays the sport of', '<|endoftext|><|endoftext|><|endoftext|><|endoftext|>Fact: Tiger Woods plays the sport of golf\\nFact: Freddie Freeman plays the sport of', '<|endoftext|><|endoftext|><|endoftext|><|endoftext|>Fact: Tiger Woods plays the sport of golf\\nFact: Ben Simmons plays the sport of', '<|endoftext|><|endoftext|><|endoftext|><|endoftext|>Fact: Tiger Woods plays the sport of golf\\nFact: Billy Hamilton plays the sport of', '<|endoftext|><|endoftext|><|endoftext|><|endoftext|>Fact: Tiger Woods plays the sport of golf\\nFact: John Wall plays the sport of', '<|endoftext|><|endoftext|><|endoftext|><|endoftext|>Fact: Tiger Woods plays the sport of golf\\nFact: Bobby Wagner plays the sport of', '<|endoftext|><|endoftext|><|endoftext|>Fact: Tiger Woods plays the sport of golf\\nFact: Adam Eaton plays the sport of', '<|endoftext|><|endoftext|><|endoftext|>Fact: Tiger Woods plays the sport of golf\\nFact: Omar Infante plays the sport of', '<|endoftext|><|endoftext|><|endoftext|>Fact: Tiger Woods plays the sport of golf\\nFact: Barry Zito plays the sport of', '<|endoftext|><|endoftext|><|endoftext|><|endoftext|>Fact: Tiger Woods plays the sport of golf\\nFact: Antonio Brown plays the sport of', '<|endoftext|><|endoftext|><|endoftext|>Fact: Tiger Woods plays the sport of golf\\nFact: James Loney plays the sport of', '<|endoftext|><|endoftext|>Fact: Tiger Woods plays the sport of golf\\nFact: Devin Hester plays the sport of', '<|endoftext|><|endoftext|>Fact: Tiger Woods plays the sport of golf\\nFact: Brandon Scherff plays the sport of', '<|endoftext|><|endoftext|><|endoftext|><|endoftext|>Fact: Tiger Woods plays the sport of golf\\nFact: Donovan Mitchell plays the sport of', '<|endoftext|><|endoftext|>Fact: Tiger Woods plays the sport of golf\\nFact: Ichiro Suzuki plays the sport of', '<|endoftext|><|endoftext|><|endoftext|><|endoftext|>Fact: Tiger Woods plays the sport of golf\\nFact: Nick Folk plays the sport of', '<|endoftext|><|endoftext|><|endoftext|><|endoftext|>Fact: Tiger Woods plays the sport of golf\\nFact: Lawrence Taylor plays the sport of', '<|endoftext|><|endoftext|><|endoftext|><|endoftext|>Fact: Tiger Woods plays the sport of golf\\nFact: Tim Duncan plays the sport of', '<|endoftext|><|endoftext|><|endoftext|><|endoftext|>Fact: Tiger Woods plays the sport of golf\\nFact: Lou Williams plays the sport of', '<|endoftext|><|endoftext|><|endoftext|><|endoftext|>Fact: Tiger Woods plays the sport of golf\\nFact: Josh Smith plays the sport of', '<|endoftext|><|endoftext|><|endoftext|><|endoftext|>Fact: Tiger Woods plays the sport of golf\\nFact: Larry Bird plays the sport of', '<|endoftext|><|endoftext|><|endoftext|><|endoftext|>Fact: Tiger Woods plays the sport of golf\\nFact: David Price plays the sport of', '<|endoftext|>Fact: Tiger Woods plays the sport of golf\\nFact: Jacoby Ellsbury plays the sport of', '<|endoftext|><|endoftext|><|endoftext|><|endoftext|>Fact: Tiger Woods plays the sport of golf\\nFact: Aaron Sanchez plays the sport of', '<|endoftext|><|endoftext|><|endoftext|><|endoftext|>Fact: Tiger Woods plays the sport of golf\\nFact: Mike Miller plays the sport of', '<|endoftext|><|endoftext|><|endoftext|>Fact: Tiger Woods plays the sport of golf\\nFact: Barry Zito plays the sport of', '<|endoftext|><|endoftext|>Fact: Tiger Woods plays the sport of golf\\nFact: Mychal Kendricks plays the sport of', '<|endoftext|><|endoftext|>Fact: Tiger Woods plays the sport of golf\\nFact: Bruno Caboclo plays the sport of', '<|endoftext|><|endoftext|><|endoftext|><|endoftext|>Fact: Tiger Woods plays the sport of golf\\nFact: Derek Carr plays the sport of', '<|endoftext|><|endoftext|><|endoftext|><|endoftext|>Fact: Tiger Woods plays the sport of golf\\nFact: Mike McCarthy plays the sport of', '<|endoftext|><|endoftext|><|endoftext|><|endoftext|>Fact: Tiger Woods plays the sport of golf\\nFact: Russell Wilson plays the sport of', '<|endoftext|>Fact: Tiger Woods plays the sport of golf\\nFact: Antawn Jamison plays the sport of', '<|endoftext|><|endoftext|>Fact: Tiger Woods plays the sport of golf\\nFact: Nicholas Castellanos plays the sport of', '<|endoftext|><|endoftext|><|endoftext|>Fact: Tiger Woods plays the sport of golf\\nFact: Ryan Mallett plays the sport of', '<|endoftext|><|endoftext|><|endoftext|><|endoftext|>Fact: Tiger Woods plays the sport of golf\\nFact: Tony Allen plays the sport of', '<|endoftext|><|endoftext|><|endoftext|><|endoftext|>Fact: Tiger Woods plays the sport of golf\\nFact: Trevor Story plays the sport of', '<|endoftext|><|endoftext|><|endoftext|><|endoftext|>Fact: Tiger Woods plays the sport of golf\\nFact: George Hill plays the sport of', '<|endoftext|><|endoftext|><|endoftext|><|endoftext|>Fact: Tiger Woods plays the sport of golf\\nFact: Mike McCarthy plays the sport of', '<|endoftext|><|endoftext|><|endoftext|>Fact: Tiger Woods plays the sport of golf\\nFact: Wes Welker plays the sport of', '<|endoftext|><|endoftext|><|endoftext|><|endoftext|>Fact: Tiger Woods plays the sport of golf\\nFact: Brandon Jennings plays the sport of', '<|endoftext|><|endoftext|><|endoftext|>Fact: Tiger Woods plays the sport of golf\\nFact: Mike Trout plays the sport of', '<|endoftext|><|endoftext|><|endoftext|>Fact: Tiger Woods plays the sport of golf\\nFact: Sonny Gray plays the sport of', '<|endoftext|><|endoftext|>Fact: Tiger Woods plays the sport of golf\\nFact: Francisco Liriano plays the sport of', '<|endoftext|><|endoftext|>Fact: Tiger Woods plays the sport of golf\\nFact: Kyle Van Noy plays the sport of', '<|endoftext|><|endoftext|><|endoftext|><|endoftext|>Fact: Tiger Woods plays the sport of golf\\nFact: Vince Young plays the sport of', '<|endoftext|><|endoftext|><|endoftext|>Fact: Tiger Woods plays the sport of golf\\nFact: Matt Barkley plays the sport of', '<|endoftext|><|endoftext|><|endoftext|><|endoftext|>Fact: Tiger Woods plays the sport of golf\\nFact: Bobby Wagner plays the sport of', '<|endoftext|><|endoftext|><|endoftext|>Fact: Tiger Woods plays the sport of golf\\nFact: Jered Weaver plays the sport of', '<|endoftext|><|endoftext|><|endoftext|>Fact: Tiger Woods plays the sport of golf\\nFact: Trey Burke plays the sport of', '<|endoftext|><|endoftext|><|endoftext|><|endoftext|>Fact: Tiger Woods plays the sport of golf\\nFact: Baron Davis plays the sport of', '<|endoftext|><|endoftext|><|endoftext|><|endoftext|>Fact: Tiger Woods plays the sport of golf\\nFact: Vince Young plays the sport of', '<|endoftext|><|endoftext|><|endoftext|><|endoftext|>Fact: Tiger Woods plays the sport of golf\\nFact: Kirk Gibson plays the sport of', '<|endoftext|><|endoftext|><|endoftext|><|endoftext|>Fact: Tiger Woods plays the sport of golf\\nFact: Gary Sheffield plays the sport of', '<|endoftext|><|endoftext|><|endoftext|><|endoftext|>Fact: Tiger Woods plays the sport of golf\\nFact: Joe Nathan plays the sport of', '<|endoftext|><|endoftext|><|endoftext|>Fact: Tiger Woods plays the sport of golf\\nFact: Travis Kelce plays the sport of', '<|endoftext|><|endoftext|><|endoftext|><|endoftext|>Fact: Tiger Woods plays the sport of golf\\nFact: Jordan Davis plays the sport of', 'Fact: Tiger Woods plays the sport of golf\\nFact: Terrelle Pryor plays the sport of', 'Fact: Tiger Woods plays the sport of golf\\nFact: Chauncey Billups plays the sport of', '<|endoftext|><|endoftext|><|endoftext|><|endoftext|>Fact: Tiger Woods plays the sport of golf\\nFact: Marvin Harrison plays the sport of', '<|endoftext|><|endoftext|><|endoftext|><|endoftext|>Fact: Tiger Woods plays the sport of golf\\nFact: Jason Terry plays the sport of', '<|endoftext|><|endoftext|><|endoftext|>Fact: Tiger Woods plays the sport of golf\\nFact: Julius Randle plays the sport of', '<|endoftext|><|endoftext|><|endoftext|>Fact: Tiger Woods plays the sport of golf\\nFact: Corey Davis plays the sport of', '<|endoftext|>Fact: Tiger Woods plays the sport of golf\\nFact: Allonzo Trier plays the sport of', '<|endoftext|><|endoftext|><|endoftext|><|endoftext|>Fact: Tiger Woods plays the sport of golf\\nFact: Jason Garrett plays the sport of', '<|endoftext|><|endoftext|><|endoftext|>Fact: Tiger Woods plays the sport of golf\\nFact: Roger Goodell plays the sport of', '<|endoftext|><|endoftext|><|endoftext|>Fact: Tiger Woods plays the sport of golf\\nFact: Mike Gesicki plays the sport of', '<|endoftext|><|endoftext|><|endoftext|><|endoftext|>Fact: Tiger Woods plays the sport of golf\\nFact: Gary Carter plays the sport of', '<|endoftext|><|endoftext|><|endoftext|><|endoftext|>Fact: Tiger Woods plays the sport of golf\\nFact: Jordan Howard plays the sport of', '<|endoftext|><|endoftext|><|endoftext|><|endoftext|>Fact: Tiger Woods plays the sport of golf\\nFact: Ray Lewis plays the sport of', '<|endoftext|><|endoftext|><|endoftext|>Fact: Tiger Woods plays the sport of golf\\nFact: Freddy Sanchez plays the sport of', '<|endoftext|><|endoftext|><|endoftext|><|endoftext|>Fact: Tiger Woods plays the sport of golf\\nFact: Vince Carter plays the sport of', '<|endoftext|><|endoftext|><|endoftext|>Fact: Tiger Woods plays the sport of golf\\nFact: Deonte Burton plays the sport of', '<|endoftext|><|endoftext|><|endoftext|><|endoftext|>Fact: Tiger Woods plays the sport of golf\\nFact: Stephen Drew plays the sport of', '<|endoftext|><|endoftext|><|endoftext|><|endoftext|>Fact: Tiger Woods plays the sport of golf\\nFact: Taj Gibson plays the sport of', '<|endoftext|><|endoftext|><|endoftext|><|endoftext|>Fact: Tiger Woods plays the sport of golf\\nFact: Matt Carpenter plays the sport of', '<|endoftext|><|endoftext|><|endoftext|><|endoftext|>Fact: Tiger Woods plays the sport of golf\\nFact: Chris Long plays the sport of', '<|endoftext|><|endoftext|><|endoftext|>Fact: Tiger Woods plays the sport of golf\\nFact: Deion Branch plays the sport of', '<|endoftext|><|endoftext|><|endoftext|><|endoftext|>Fact: Tiger Woods plays the sport of golf\\nFact: Chris Archer plays the sport of', '<|endoftext|><|endoftext|><|endoftext|>Fact: Tiger Woods plays the sport of golf\\nFact: Ahmad Bradshaw plays the sport of', '<|endoftext|><|endoftext|><|endoftext|><|endoftext|>Fact: Tiger Woods plays the sport of golf\\nFact: Carlos Hyde plays the sport of', '<|endoftext|><|endoftext|>Fact: Tiger Woods plays the sport of golf\\nFact: Yadier Molina plays the sport of', '<|endoftext|><|endoftext|><|endoftext|><|endoftext|>Fact: Tiger Woods plays the sport of golf\\nFact: Gary Sheffield plays the sport of', '<|endoftext|><|endoftext|><|endoftext|><|endoftext|>Fact: Tiger Woods plays the sport of golf\\nFact: Brandon Marshall plays the sport of', '<|endoftext|><|endoftext|><|endoftext|><|endoftext|>Fact: Tiger Woods plays the sport of golf\\nFact: Kevin Love plays the sport of', '<|endoftext|><|endoftext|><|endoftext|><|endoftext|>Fact: Tiger Woods plays the sport of golf\\nFact: Tom Savage plays the sport of', '<|endoftext|><|endoftext|><|endoftext|><|endoftext|>Fact: Tiger Woods plays the sport of golf\\nFact: Pete Carroll plays the sport of', '<|endoftext|><|endoftext|><|endoftext|>Fact: Tiger Woods plays the sport of golf\\nFact: Julius Randle plays the sport of', '<|endoftext|><|endoftext|><|endoftext|><|endoftext|>Fact: Tiger Woods plays the sport of golf\\nFact: Xavier Rhodes plays the sport of', '<|endoftext|><|endoftext|><|endoftext|><|endoftext|>Fact: Tiger Woods plays the sport of golf\\nFact: Joey Porter plays the sport of', '<|endoftext|><|endoftext|><|endoftext|><|endoftext|>Fact: Tiger Woods plays the sport of golf\\nFact: Brandon Graham plays the sport of', '<|endoftext|><|endoftext|><|endoftext|>Fact: Tiger Woods plays the sport of golf\\nFact: Isiah Thomas plays the sport of', '<|endoftext|><|endoftext|><|endoftext|><|endoftext|>Fact: Tiger Woods plays the sport of golf\\nFact: Jordan Hill plays the sport of', '<|endoftext|><|endoftext|><|endoftext|>Fact: Tiger Woods plays the sport of golf\\nFact: EJ Manuel plays the sport of', '<|endoftext|><|endoftext|><|endoftext|><|endoftext|>Fact: Tiger Woods plays the sport of golf\\nFact: Frank Gore plays the sport of', '<|endoftext|><|endoftext|>Fact: Tiger Woods plays the sport of golf\\nFact: Antonio Cromartie plays the sport of', '<|endoftext|><|endoftext|><|endoftext|><|endoftext|>Fact: Tiger Woods plays the sport of golf\\nFact: Kenny Britt plays the sport of', '<|endoftext|><|endoftext|><|endoftext|><|endoftext|>Fact: Tiger Woods plays the sport of golf\\nFact: Andy Reid plays the sport of', '<|endoftext|><|endoftext|><|endoftext|><|endoftext|>Fact: Tiger Woods plays the sport of golf\\nFact: Daniel Murphy plays the sport of', '<|endoftext|><|endoftext|><|endoftext|><|endoftext|>Fact: Tiger Woods plays the sport of golf\\nFact: Jason Peters plays the sport of', '<|endoftext|><|endoftext|><|endoftext|>Fact: Tiger Woods plays the sport of golf\\nFact: Ned Yost plays the sport of', '<|endoftext|><|endoftext|><|endoftext|><|endoftext|>Fact: Tiger Woods plays the sport of golf\\nFact: David Wright plays the sport of', '<|endoftext|><|endoftext|><|endoftext|><|endoftext|>Fact: Tiger Woods plays the sport of golf\\nFact: Michael Sam plays the sport of', '<|endoftext|>Fact: Tiger Woods plays the sport of golf\\nFact: DK Metcalf plays the sport of', '<|endoftext|><|endoftext|><|endoftext|><|endoftext|>Fact: Tiger Woods plays the sport of golf\\nFact: Russell Wilson plays the sport of', '<|endoftext|><|endoftext|><|endoftext|>Fact: Tiger Woods plays the sport of golf\\nFact: Kwame Brown plays the sport of', '<|endoftext|><|endoftext|><|endoftext|>Fact: Tiger Woods plays the sport of golf\\nFact: Scott Brosius plays the sport of', '<|endoftext|><|endoftext|><|endoftext|><|endoftext|>Fact: Tiger Woods plays the sport of golf\\nFact: Greg Monroe plays the sport of', '<|endoftext|><|endoftext|><|endoftext|><|endoftext|>Fact: Tiger Woods plays the sport of golf\\nFact: Barry Sanders plays the sport of', '<|endoftext|><|endoftext|><|endoftext|>Fact: Tiger Woods plays the sport of golf\\nFact: Joey Bosa plays the sport of', '<|endoftext|><|endoftext|><|endoftext|><|endoftext|>Fact: Tiger Woods plays the sport of golf\\nFact: Trevor Story plays the sport of', '<|endoftext|><|endoftext|><|endoftext|>Fact: Tiger Woods plays the sport of golf\\nFact: RJ Barrett plays the sport of', '<|endoftext|><|endoftext|><|endoftext|><|endoftext|>Fact: Tiger Woods plays the sport of golf\\nFact: Taj Gibson plays the sport of', '<|endoftext|><|endoftext|><|endoftext|><|endoftext|>Fact: Tiger Woods plays the sport of golf\\nFact: Freddie Freeman plays the sport of', '<|endoftext|><|endoftext|><|endoftext|>Fact: Tiger Woods plays the sport of golf\\nFact: Jeff Teague plays the sport of', '<|endoftext|><|endoftext|>Fact: Tiger Woods plays the sport of golf\\nFact: Tavon Austin plays the sport of', '<|endoftext|><|endoftext|><|endoftext|>Fact: Tiger Woods plays the sport of golf\\nFact: Emmitt Smith plays the sport of', '<|endoftext|><|endoftext|>Fact: Tiger Woods plays the sport of golf\\nFact: Jarnell Stokes plays the sport of', '<|endoftext|><|endoftext|><|endoftext|><|endoftext|>Fact: Tiger Woods plays the sport of golf\\nFact: Eric Reid plays the sport of', '<|endoftext|><|endoftext|><|endoftext|>Fact: Tiger Woods plays the sport of golf\\nFact: Tiki Barber plays the sport of', '<|endoftext|><|endoftext|><|endoftext|><|endoftext|>Fact: Tiger Woods plays the sport of golf\\nFact: Nick Young plays the sport of', '<|endoftext|><|endoftext|><|endoftext|><|endoftext|>Fact: Tiger Woods plays the sport of golf\\nFact: Aaron Rodgers plays the sport of', '<|endoftext|><|endoftext|><|endoftext|>Fact: Tiger Woods plays the sport of golf\\nFact: Corey Davis plays the sport of', '<|endoftext|><|endoftext|><|endoftext|><|endoftext|>Fact: Tiger Woods plays the sport of golf\\nFact: Kevin Knox plays the sport of', '<|endoftext|><|endoftext|><|endoftext|><|endoftext|>Fact: Tiger Woods plays the sport of golf\\nFact: Lawrence Taylor plays the sport of', '<|endoftext|><|endoftext|><|endoftext|><|endoftext|>Fact: Tiger Woods plays the sport of golf\\nFact: Justin Herbert plays the sport of', '<|endoftext|><|endoftext|>Fact: Tiger Woods plays the sport of golf\\nFact: Michael Brantley plays the sport of', '<|endoftext|><|endoftext|><|endoftext|><|endoftext|>Fact: Tiger Woods plays the sport of golf\\nFact: Vince Carter plays the sport of', '<|endoftext|><|endoftext|><|endoftext|><|endoftext|>Fact: Tiger Woods plays the sport of golf\\nFact: Brandon Graham plays the sport of', '<|endoftext|><|endoftext|><|endoftext|><|endoftext|>Fact: Tiger Woods plays the sport of golf\\nFact: Sue Bird plays the sport of', '<|endoftext|><|endoftext|><|endoftext|><|endoftext|>Fact: Tiger Woods plays the sport of golf\\nFact: Carlos Lee plays the sport of', 'Fact: Tiger Woods plays the sport of golf\\nFact: Donté Stallworth plays the sport of', '<|endoftext|><|endoftext|>Fact: Tiger Woods plays the sport of golf\\nFact: José Canseco plays the sport of', '<|endoftext|><|endoftext|><|endoftext|><|endoftext|>Fact: Tiger Woods plays the sport of golf\\nFact: Austin Rivers plays the sport of', '<|endoftext|><|endoftext|>Fact: Tiger Woods plays the sport of golf\\nFact: Ryan Shazier plays the sport of', '<|endoftext|><|endoftext|><|endoftext|><|endoftext|>Fact: Tiger Woods plays the sport of golf\\nFact: Matt Barnes plays the sport of', '<|endoftext|><|endoftext|><|endoftext|>Fact: Tiger Woods plays the sport of golf\\nFact: Nick Foles plays the sport of', '<|endoftext|><|endoftext|>Fact: Tiger Woods plays the sport of golf\\nFact: DeMarco Murray plays the sport of', '<|endoftext|><|endoftext|>Fact: Tiger Woods plays the sport of golf\\nFact: Sean McVay plays the sport of', '<|endoftext|><|endoftext|><|endoftext|><|endoftext|>Fact: Tiger Woods plays the sport of golf\\nFact: Barry Sanders plays the sport of', '<|endoftext|><|endoftext|><|endoftext|>Fact: Tiger Woods plays the sport of golf\\nFact: Jalen Jones plays the sport of', '<|endoftext|><|endoftext|><|endoftext|><|endoftext|>Fact: Tiger Woods plays the sport of golf\\nFact: Tony Allen plays the sport of', '<|endoftext|><|endoftext|>Fact: Tiger Woods plays the sport of golf\\nFact: Lance Berkman plays the sport of', '<|endoftext|><|endoftext|><|endoftext|><|endoftext|>Fact: Tiger Woods plays the sport of golf\\nFact: Matt Flynn plays the sport of', '<|endoftext|><|endoftext|><|endoftext|>Fact: Tiger Woods plays the sport of golf\\nFact: Khris Davis plays the sport of', '<|endoftext|><|endoftext|><|endoftext|><|endoftext|>Fact: Tiger Woods plays the sport of golf\\nFact: Theo Epstein plays the sport of', '<|endoftext|><|endoftext|><|endoftext|><|endoftext|>Fact: Tiger Woods plays the sport of golf\\nFact: Tom Brady plays the sport of', '<|endoftext|><|endoftext|><|endoftext|><|endoftext|>Fact: Tiger Woods plays the sport of golf\\nFact: Maya Moore plays the sport of', '<|endoftext|><|endoftext|><|endoftext|><|endoftext|>Fact: Tiger Woods plays the sport of golf\\nFact: Earl Campbell plays the sport of', '<|endoftext|><|endoftext|><|endoftext|><|endoftext|>Fact: Tiger Woods plays the sport of golf\\nFact: Jeff Fisher plays the sport of', '<|endoftext|><|endoftext|><|endoftext|>Fact: Tiger Woods plays the sport of golf\\nFact: Michael Fulmer plays the sport of', '<|endoftext|><|endoftext|><|endoftext|>Fact: Tiger Woods plays the sport of golf\\nFact: Cole Hamels plays the sport of', '<|endoftext|><|endoftext|><|endoftext|>Fact: Tiger Woods plays the sport of golf\\nFact: Joey Votto plays the sport of', '<|endoftext|><|endoftext|><|endoftext|>Fact: Tiger Woods plays the sport of golf\\nFact: Kyle Shanahan plays the sport of', '<|endoftext|><|endoftext|><|endoftext|>Fact: Tiger Woods plays the sport of golf\\nFact: Charles Barkley plays the sport of', '<|endoftext|><|endoftext|><|endoftext|><|endoftext|>Fact: Tiger Woods plays the sport of golf\\nFact: Andrew Luck plays the sport of', '<|endoftext|><|endoftext|><|endoftext|>Fact: Tiger Woods plays the sport of golf\\nFact: Deion Jones plays the sport of', '<|endoftext|><|endoftext|><|endoftext|><|endoftext|>Fact: Tiger Woods plays the sport of golf\\nFact: Mike Webster plays the sport of', '<|endoftext|><|endoftext|><|endoftext|><|endoftext|>Fact: Tiger Woods plays the sport of golf\\nFact: Zach Randolph plays the sport of', '<|endoftext|><|endoftext|><|endoftext|><|endoftext|>Fact: Tiger Woods plays the sport of golf\\nFact: Joe Nathan plays the sport of', '<|endoftext|><|endoftext|><|endoftext|><|endoftext|>Fact: Tiger Woods plays the sport of golf\\nFact: Daniel Murphy plays the sport of', '<|endoftext|><|endoftext|><|endoftext|><|endoftext|>Fact: Tiger Woods plays the sport of golf\\nFact: Zach Randolph plays the sport of', '<|endoftext|><|endoftext|><|endoftext|><|endoftext|>Fact: Tiger Woods plays the sport of golf\\nFact: Gary Sheffield plays the sport of', '<|endoftext|><|endoftext|><|endoftext|><|endoftext|>Fact: Tiger Woods plays the sport of golf\\nFact: Ryan Howard plays the sport of', '<|endoftext|><|endoftext|><|endoftext|><|endoftext|>Fact: Tiger Woods plays the sport of golf\\nFact: Chris Paul plays the sport of', '<|endoftext|><|endoftext|><|endoftext|><|endoftext|>Fact: Tiger Woods plays the sport of golf\\nFact: Brandon Roy plays the sport of', '<|endoftext|><|endoftext|>Fact: Tiger Woods plays the sport of golf\\nFact: Marcus Lattimore plays the sport of', '<|endoftext|><|endoftext|><|endoftext|>Fact: Tiger Woods plays the sport of golf\\nFact: Jorge Polanco plays the sport of', '<|endoftext|><|endoftext|><|endoftext|><|endoftext|>Fact: Tiger Woods plays the sport of golf\\nFact: Josh Hamilton plays the sport of', '<|endoftext|><|endoftext|><|endoftext|><|endoftext|>Fact: Tiger Woods plays the sport of golf\\nFact: Kevin Love plays the sport of', '<|endoftext|><|endoftext|><|endoftext|>Fact: Tiger Woods plays the sport of golf\\nFact: Matt Prater plays the sport of', '<|endoftext|><|endoftext|><|endoftext|><|endoftext|>Fact: Tiger Woods plays the sport of golf\\nFact: Chris Sale plays the sport of', '<|endoftext|><|endoftext|><|endoftext|><|endoftext|>Fact: Tiger Woods plays the sport of golf\\nFact: David Wright plays the sport of', '<|endoftext|><|endoftext|><|endoftext|><|endoftext|>Fact: Tiger Woods plays the sport of golf\\nFact: Doug Martin plays the sport of', '<|endoftext|><|endoftext|><|endoftext|><|endoftext|>Fact: Tiger Woods plays the sport of golf\\nFact: Andrew Luck plays the sport of', '<|endoftext|><|endoftext|><|endoftext|><|endoftext|>Fact: Tiger Woods plays the sport of golf\\nFact: Paul Pierce plays the sport of', '<|endoftext|><|endoftext|><|endoftext|><|endoftext|>Fact: Tiger Woods plays the sport of golf\\nFact: Aaron Donald plays the sport of', '<|endoftext|><|endoftext|>Fact: Tiger Woods plays the sport of golf\\nFact: Dallas Keuchel plays the sport of', '<|endoftext|><|endoftext|><|endoftext|><|endoftext|>Fact: Tiger Woods plays the sport of golf\\nFact: Kevin Love plays the sport of', '<|endoftext|><|endoftext|><|endoftext|><|endoftext|>Fact: Tiger Woods plays the sport of golf\\nFact: Ed Reed plays the sport of', '<|endoftext|><|endoftext|><|endoftext|><|endoftext|>Fact: Tiger Woods plays the sport of golf\\nFact: Trent Richardson plays the sport of', '<|endoftext|><|endoftext|><|endoftext|><|endoftext|>Fact: Tiger Woods plays the sport of golf\\nFact: Jamie Collins plays the sport of', '<|endoftext|><|endoftext|><|endoftext|><|endoftext|>Fact: Tiger Woods plays the sport of golf\\nFact: Steven Adams plays the sport of', '<|endoftext|><|endoftext|><|endoftext|><|endoftext|>Fact: Tiger Woods plays the sport of golf\\nFact: Jordan Bell plays the sport of', '<|endoftext|><|endoftext|><|endoftext|><|endoftext|>Fact: Tiger Woods plays the sport of golf\\nFact: Justin Turner plays the sport of', '<|endoftext|><|endoftext|><|endoftext|>Fact: Tiger Woods plays the sport of golf\\nFact: Manute Bol plays the sport of', '<|endoftext|><|endoftext|><|endoftext|><|endoftext|>Fact: Tiger Woods plays the sport of golf\\nFact: Carlos Lee plays the sport of', '<|endoftext|><|endoftext|><|endoftext|><|endoftext|>Fact: Tiger Woods plays the sport of golf\\nFact: Ben Tate plays the sport of', '<|endoftext|>Fact: Tiger Woods plays the sport of golf\\nFact: Dane De La Rosa plays the sport of', '<|endoftext|><|endoftext|><|endoftext|>Fact: Tiger Woods plays the sport of golf\\nFact: David Freese plays the sport of', '<|endoftext|><|endoftext|><|endoftext|><|endoftext|>Fact: Tiger Woods plays the sport of golf\\nFact: Michael Sam plays the sport of', '<|endoftext|><|endoftext|><|endoftext|>Fact: Tiger Woods plays the sport of golf\\nFact: Kyle Hendricks plays the sport of', '<|endoftext|><|endoftext|><|endoftext|><|endoftext|>Fact: Tiger Woods plays the sport of golf\\nFact: Chip Kelly plays the sport of', '<|endoftext|><|endoftext|><|endoftext|>Fact: Tiger Woods plays the sport of golf\\nFact: Tiki Barber plays the sport of', '<|endoftext|><|endoftext|><|endoftext|><|endoftext|>Fact: Tiger Woods plays the sport of golf\\nFact: Tony Parker plays the sport of', '<|endoftext|><|endoftext|><|endoftext|><|endoftext|>Fact: Tiger Woods plays the sport of golf\\nFact: Michael Floyd plays the sport of', '<|endoftext|><|endoftext|><|endoftext|>Fact: Tiger Woods plays the sport of golf\\nFact: Michael Oher plays the sport of', '<|endoftext|><|endoftext|><|endoftext|><|endoftext|>Fact: Tiger Woods plays the sport of golf\\nFact: Josh Richardson plays the sport of', '<|endoftext|><|endoftext|><|endoftext|><|endoftext|>Fact: Tiger Woods plays the sport of golf\\nFact: Jason Terry plays the sport of', '<|endoftext|><|endoftext|><|endoftext|><|endoftext|>Fact: Tiger Woods plays the sport of golf\\nFact: Randy Johnson plays the sport of', '<|endoftext|><|endoftext|>Fact: Tiger Woods plays the sport of golf\\nFact: Jeff Van Gundy plays the sport of', '<|endoftext|><|endoftext|><|endoftext|><|endoftext|>Fact: Tiger Woods plays the sport of golf\\nFact: Josh Allen plays the sport of', '<|endoftext|><|endoftext|><|endoftext|><|endoftext|>Fact: Tiger Woods plays the sport of golf\\nFact: Ben Tate plays the sport of', '<|endoftext|><|endoftext|><|endoftext|><|endoftext|>Fact: Tiger Woods plays the sport of golf\\nFact: Nelson Cruz plays the sport of', '<|endoftext|><|endoftext|><|endoftext|>Fact: Tiger Woods plays the sport of golf\\nFact: Mark Brunell plays the sport of', '<|endoftext|><|endoftext|><|endoftext|>Fact: Tiger Woods plays the sport of golf\\nFact: Dave Duerson plays the sport of', '<|endoftext|><|endoftext|><|endoftext|><|endoftext|>Fact: Tiger Woods plays the sport of golf\\nFact: Austin Rivers plays the sport of', '<|endoftext|><|endoftext|><|endoftext|><|endoftext|>Fact: Tiger Woods plays the sport of golf\\nFact: Frank Thomas plays the sport of', '<|endoftext|><|endoftext|><|endoftext|><|endoftext|>Fact: Tiger Woods plays the sport of golf\\nFact: Steven Adams plays the sport of', '<|endoftext|><|endoftext|><|endoftext|>Fact: Tiger Woods plays the sport of golf\\nFact: Rickey Henderson plays the sport of', '<|endoftext|><|endoftext|><|endoftext|><|endoftext|>Fact: Tiger Woods plays the sport of golf\\nFact: Tom Savage plays the sport of', '<|endoftext|><|endoftext|><|endoftext|><|endoftext|>Fact: Tiger Woods plays the sport of golf\\nFact: Jimmy Graham plays the sport of', '<|endoftext|><|endoftext|>Fact: Tiger Woods plays the sport of golf\\nFact: Diana Taurasi plays the sport of', '<|endoftext|><|endoftext|><|endoftext|><|endoftext|>Fact: Tiger Woods plays the sport of golf\\nFact: Anthony Barr plays the sport of', '<|endoftext|><|endoftext|><|endoftext|><|endoftext|>Fact: Tiger Woods plays the sport of golf\\nFact: Barry Sanders plays the sport of', '<|endoftext|><|endoftext|><|endoftext|><|endoftext|>Fact: Tiger Woods plays the sport of golf\\nFact: Trent Green plays the sport of', '<|endoftext|><|endoftext|><|endoftext|><|endoftext|>Fact: Tiger Woods plays the sport of golf\\nFact: Gary Harris plays the sport of', '<|endoftext|><|endoftext|><|endoftext|><|endoftext|>Fact: Tiger Woods plays the sport of golf\\nFact: Brandon Marshall plays the sport of', '<|endoftext|><|endoftext|><|endoftext|>Fact: Tiger Woods plays the sport of golf\\nFact: Nate Solder plays the sport of', '<|endoftext|><|endoftext|><|endoftext|><|endoftext|>Fact: Tiger Woods plays the sport of golf\\nFact: Jordan Hill plays the sport of', '<|endoftext|><|endoftext|><|endoftext|><|endoftext|>Fact: Tiger Woods plays the sport of golf\\nFact: David Robinson plays the sport of', '<|endoftext|><|endoftext|><|endoftext|><|endoftext|>Fact: Tiger Woods plays the sport of golf\\nFact: Barry Sanders plays the sport of', '<|endoftext|><|endoftext|><|endoftext|><|endoftext|>Fact: Tiger Woods plays the sport of golf\\nFact: Bo Jackson plays the sport of', '<|endoftext|><|endoftext|><|endoftext|><|endoftext|>Fact: Tiger Woods plays the sport of golf\\nFact: Jason Peters plays the sport of', '<|endoftext|><|endoftext|>Fact: Tiger Woods plays the sport of golf\\nFact: Matt Hasselbeck plays the sport of', '<|endoftext|><|endoftext|><|endoftext|><|endoftext|>Fact: Tiger Woods plays the sport of golf\\nFact: Aaron Donald plays the sport of', '<|endoftext|><|endoftext|><|endoftext|><|endoftext|>Fact: Tiger Woods plays the sport of golf\\nFact: David Robinson plays the sport of', '<|endoftext|><|endoftext|><|endoftext|><|endoftext|>Fact: Tiger Woods plays the sport of golf\\nFact: Stephen Jackson plays the sport of', '<|endoftext|><|endoftext|><|endoftext|>Fact: Tiger Woods plays the sport of golf\\nFact: Ron Gardenhire plays the sport of', '<|endoftext|><|endoftext|><|endoftext|><|endoftext|>Fact: Tiger Woods plays the sport of golf\\nFact: David Wells plays the sport of', '<|endoftext|><|endoftext|>Fact: Tiger Woods plays the sport of golf\\nFact: Marcell Ozuna plays the sport of', '<|endoftext|><|endoftext|><|endoftext|><|endoftext|>Fact: Tiger Woods plays the sport of golf\\nFact: Baron Davis plays the sport of', '<|endoftext|><|endoftext|><|endoftext|><|endoftext|>Fact: Tiger Woods plays the sport of golf\\nFact: Chris Long plays the sport of', '<|endoftext|><|endoftext|><|endoftext|>Fact: Tiger Woods plays the sport of golf\\nFact: Paul Millsap plays the sport of', '<|endoftext|><|endoftext|><|endoftext|>Fact: Tiger Woods plays the sport of golf\\nFact: Calais Campbell plays the sport of', '<|endoftext|><|endoftext|><|endoftext|><|endoftext|>Fact: Tiger Woods plays the sport of golf\\nFact: Trevor Story plays the sport of', '<|endoftext|><|endoftext|>Fact: Tiger Woods plays the sport of golf\\nFact: Joakim Noah plays the sport of', '<|endoftext|><|endoftext|>Fact: Tiger Woods plays the sport of golf\\nFact: Mike Pouncey plays the sport of', '<|endoftext|><|endoftext|><|endoftext|><|endoftext|>Fact: Tiger Woods plays the sport of golf\\nFact: Bo Jackson plays the sport of', '<|endoftext|><|endoftext|><|endoftext|><|endoftext|>Fact: Tiger Woods plays the sport of golf\\nFact: Stephen Jackson plays the sport of', '<|endoftext|><|endoftext|><|endoftext|><|endoftext|>Fact: Tiger Woods plays the sport of golf\\nFact: Russell Martin plays the sport of', '<|endoftext|><|endoftext|><|endoftext|><|endoftext|>Fact: Tiger Woods plays the sport of golf\\nFact: Trent Williams plays the sport of', '<|endoftext|><|endoftext|><|endoftext|><|endoftext|>Fact: Tiger Woods plays the sport of golf\\nFact: Russell Wilson plays the sport of', '<|endoftext|><|endoftext|><|endoftext|><|endoftext|>Fact: Tiger Woods plays the sport of golf\\nFact: Matt Harvey plays the sport of', '<|endoftext|><|endoftext|>Fact: Tiger Woods plays the sport of golf\\nFact: Carlos Carrasco plays the sport of', '<|endoftext|><|endoftext|><|endoftext|><|endoftext|>Fact: Tiger Woods plays the sport of golf\\nFact: Donovan Mitchell plays the sport of', '<|endoftext|>Fact: Tiger Woods plays the sport of golf\\nFact: Ben Roethlisberger plays the sport of', '<|endoftext|><|endoftext|>Fact: Tiger Woods plays the sport of golf\\nFact: George Gervin plays the sport of', '<|endoftext|><|endoftext|><|endoftext|><|endoftext|>Fact: Tiger Woods plays the sport of golf\\nFact: Kevin Love plays the sport of', '<|endoftext|><|endoftext|><|endoftext|>Fact: Tiger Woods plays the sport of golf\\nFact: Jaylon Ferguson plays the sport of', '<|endoftext|><|endoftext|><|endoftext|>Fact: Tiger Woods plays the sport of golf\\nFact: Jalen Rose plays the sport of', '<|endoftext|><|endoftext|><|endoftext|><|endoftext|>Fact: Tiger Woods plays the sport of golf\\nFact: Aaron Sanchez plays the sport of', '<|endoftext|><|endoftext|><|endoftext|><|endoftext|>Fact: Tiger Woods plays the sport of golf\\nFact: Alex Cobb plays the sport of', '<|endoftext|><|endoftext|><|endoftext|><|endoftext|>Fact: Tiger Woods plays the sport of golf\\nFact: Urban Meyer plays the sport of', '<|endoftext|><|endoftext|><|endoftext|><|endoftext|>Fact: Tiger Woods plays the sport of golf\\nFact: Vince Carter plays the sport of', '<|endoftext|><|endoftext|><|endoftext|>Fact: Tiger Woods plays the sport of golf\\nFact: Penny Hardaway plays the sport of', 'Fact: Tiger Woods plays the sport of golf\\nFact: Hasheem Thabeet plays the sport of', '<|endoftext|><|endoftext|><|endoftext|><|endoftext|>Fact: Tiger Woods plays the sport of golf\\nFact: Chris Archer plays the sport of', '<|endoftext|><|endoftext|><|endoftext|><|endoftext|>Fact: Tiger Woods plays the sport of golf\\nFact: Fletcher Cox plays the sport of', '<|endoftext|><|endoftext|><|endoftext|>Fact: Tiger Woods plays the sport of golf\\nFact: Chris Kaman plays the sport of', '<|endoftext|><|endoftext|>Fact: Tiger Woods plays the sport of golf\\nFact: Becky Hammon plays the sport of', '<|endoftext|><|endoftext|><|endoftext|><|endoftext|>Fact: Tiger Woods plays the sport of golf\\nFact: Chris Archer plays the sport of', '<|endoftext|><|endoftext|><|endoftext|><|endoftext|>Fact: Tiger Woods plays the sport of golf\\nFact: David Robertson plays the sport of', '<|endoftext|><|endoftext|><|endoftext|><|endoftext|>Fact: Tiger Woods plays the sport of golf\\nFact: Steven Adams plays the sport of', '<|endoftext|><|endoftext|><|endoftext|><|endoftext|>Fact: Tiger Woods plays the sport of golf\\nFact: Ron Rivera plays the sport of', '<|endoftext|><|endoftext|><|endoftext|>Fact: Tiger Woods plays the sport of golf\\nFact: Trae Young plays the sport of', '<|endoftext|><|endoftext|><|endoftext|>Fact: Tiger Woods plays the sport of golf\\nFact: Dan Marino plays the sport of', '<|endoftext|><|endoftext|><|endoftext|>Fact: Tiger Woods plays the sport of golf\\nFact: Kyler Murray plays the sport of', '<|endoftext|><|endoftext|>Fact: Tiger Woods plays the sport of golf\\nFact: Paul Konerko plays the sport of', '<|endoftext|>Fact: Tiger Woods plays the sport of golf\\nFact: Dwayne Bowe plays the sport of', '<|endoftext|><|endoftext|><|endoftext|><|endoftext|>Fact: Tiger Woods plays the sport of golf\\nFact: Stephen Drew plays the sport of', '<|endoftext|><|endoftext|><|endoftext|><|endoftext|>Fact: Tiger Woods plays the sport of golf\\nFact: Matt Flynn plays the sport of', '<|endoftext|><|endoftext|>Fact: Tiger Woods plays the sport of golf\\nFact: Marcus Stroman plays the sport of', '<|endoftext|><|endoftext|><|endoftext|>Fact: Tiger Woods plays the sport of golf\\nFact: Chase Budinger plays the sport of', '<|endoftext|><|endoftext|><|endoftext|><|endoftext|>Fact: Tiger Woods plays the sport of golf\\nFact: Stephen Curry plays the sport of', '<|endoftext|><|endoftext|><|endoftext|><|endoftext|>Fact: Tiger Woods plays the sport of golf\\nFact: Stephen Jackson plays the sport of', '<|endoftext|><|endoftext|>Fact: Tiger Woods plays the sport of golf\\nFact: Adam Wainwright plays the sport of', '<|endoftext|><|endoftext|><|endoftext|>Fact: Tiger Woods plays the sport of golf\\nFact: Wilmer Flores plays the sport of', '<|endoftext|><|endoftext|><|endoftext|><|endoftext|>Fact: Tiger Woods plays the sport of golf\\nFact: Ray Lewis plays the sport of', '<|endoftext|><|endoftext|><|endoftext|><|endoftext|>Fact: Tiger Woods plays the sport of golf\\nFact: George Hill plays the sport of', '<|endoftext|><|endoftext|><|endoftext|><|endoftext|>Fact: Tiger Woods plays the sport of golf\\nFact: Vincent Jackson plays the sport of', '<|endoftext|><|endoftext|><|endoftext|><|endoftext|>Fact: Tiger Woods plays the sport of golf\\nFact: Dante Fowler plays the sport of', '<|endoftext|><|endoftext|><|endoftext|><|endoftext|>Fact: Tiger Woods plays the sport of golf\\nFact: Jerome Jordan plays the sport of', '<|endoftext|><|endoftext|><|endoftext|>Fact: Tiger Woods plays the sport of golf\\nFact: Jeff Withey plays the sport of', '<|endoftext|><|endoftext|><|endoftext|>Fact: Tiger Woods plays the sport of golf\\nFact: Kevin Pillar plays the sport of', '<|endoftext|><|endoftext|><|endoftext|>Fact: Tiger Woods plays the sport of golf\\nFact: Trent Dilfer plays the sport of', '<|endoftext|><|endoftext|><|endoftext|><|endoftext|>Fact: Tiger Woods plays the sport of golf\\nFact: Adrian Peterson plays the sport of', '<|endoftext|><|endoftext|><|endoftext|><|endoftext|>Fact: Tiger Woods plays the sport of golf\\nFact: Jason Peters plays the sport of', '<|endoftext|>Fact: Tiger Woods plays the sport of golf\\nFact: Deandre Ayton plays the sport of', '<|endoftext|><|endoftext|><|endoftext|><|endoftext|>Fact: Tiger Woods plays the sport of golf\\nFact: Jeremy Hill plays the sport of', '<|endoftext|><|endoftext|><|endoftext|><|endoftext|>Fact: Tiger Woods plays the sport of golf\\nFact: Matt Bryant plays the sport of', '<|endoftext|><|endoftext|><|endoftext|><|endoftext|>Fact: Tiger Woods plays the sport of golf\\nFact: Kevin Love plays the sport of', '<|endoftext|><|endoftext|>Fact: Tiger Woods plays the sport of golf\\nFact: DeAngelo Williams plays the sport of']\n",
      "['<|endoftext|><|endoftext|><|endoftext|><|endoftext|>Fact: Tiger Woods plays the sport of golf\\nFact: Lawrence Christian plays the sport of', '<|endoftext|><|endoftext|><|endoftext|><|endoftext|>Fact: Tiger Woods plays the sport of golf\\nFact: Anthony Stewart plays the sport of', '<|endoftext|><|endoftext|><|endoftext|>Fact: Tiger Woods plays the sport of golf\\nFact: Steven Moreno plays the sport of', '<|endoftext|><|endoftext|><|endoftext|><|endoftext|>Fact: Tiger Woods plays the sport of golf\\nFact: Hannah Fleming plays the sport of', '<|endoftext|><|endoftext|><|endoftext|><|endoftext|>Fact: Tiger Woods plays the sport of golf\\nFact: Ashley Williams plays the sport of', '<|endoftext|><|endoftext|><|endoftext|><|endoftext|>Fact: Tiger Woods plays the sport of golf\\nFact: Donna Peterson plays the sport of', '<|endoftext|><|endoftext|><|endoftext|><|endoftext|>Fact: Tiger Woods plays the sport of golf\\nFact: Miranda Elliott plays the sport of', '<|endoftext|><|endoftext|><|endoftext|><|endoftext|>Fact: Tiger Woods plays the sport of golf\\nFact: Thomas Anderson plays the sport of', '<|endoftext|><|endoftext|><|endoftext|><|endoftext|>Fact: Tiger Woods plays the sport of golf\\nFact: Victoria Day plays the sport of', '<|endoftext|><|endoftext|><|endoftext|><|endoftext|>Fact: Tiger Woods plays the sport of golf\\nFact: Emily Hernandez plays the sport of', '<|endoftext|><|endoftext|><|endoftext|><|endoftext|>Fact: Tiger Woods plays the sport of golf\\nFact: James Hart plays the sport of', '<|endoftext|><|endoftext|><|endoftext|><|endoftext|>Fact: Tiger Woods plays the sport of golf\\nFact: Robert Brown plays the sport of', '<|endoftext|><|endoftext|>Fact: Tiger Woods plays the sport of golf\\nFact: Dr. Leslie Morgan plays the sport of', '<|endoftext|><|endoftext|><|endoftext|><|endoftext|>Fact: Tiger Woods plays the sport of golf\\nFact: David Patterson plays the sport of', '<|endoftext|><|endoftext|><|endoftext|><|endoftext|>Fact: Tiger Woods plays the sport of golf\\nFact: William Ramos plays the sport of', '<|endoftext|><|endoftext|><|endoftext|>Fact: Tiger Woods plays the sport of golf\\nFact: Isabel Decker plays the sport of', '<|endoftext|><|endoftext|><|endoftext|>Fact: Tiger Woods plays the sport of golf\\nFact: Tracy Odom plays the sport of', '<|endoftext|><|endoftext|><|endoftext|>Fact: Tiger Woods plays the sport of golf\\nFact: David Knapp plays the sport of', '<|endoftext|><|endoftext|><|endoftext|><|endoftext|>Fact: Tiger Woods plays the sport of golf\\nFact: Michael Gross plays the sport of', '<|endoftext|><|endoftext|><|endoftext|><|endoftext|>Fact: Tiger Woods plays the sport of golf\\nFact: Mary Stevens plays the sport of', '<|endoftext|><|endoftext|><|endoftext|>Fact: Tiger Woods plays the sport of golf\\nFact: Felicia Banks plays the sport of', '<|endoftext|><|endoftext|><|endoftext|>Fact: Tiger Woods plays the sport of golf\\nFact: Jonathon Green plays the sport of', '<|endoftext|><|endoftext|><|endoftext|>Fact: Tiger Woods plays the sport of golf\\nFact: Tamara Bishop plays the sport of', '<|endoftext|><|endoftext|><|endoftext|><|endoftext|>Fact: Tiger Woods plays the sport of golf\\nFact: Sarah Gibbs plays the sport of', '<|endoftext|><|endoftext|><|endoftext|><|endoftext|>Fact: Tiger Woods plays the sport of golf\\nFact: Alex Collins plays the sport of', '<|endoftext|><|endoftext|><|endoftext|><|endoftext|>Fact: Tiger Woods plays the sport of golf\\nFact: Justin Ross plays the sport of', '<|endoftext|>Fact: Tiger Woods plays the sport of golf\\nFact: Annette Santana plays the sport of', '<|endoftext|><|endoftext|><|endoftext|><|endoftext|>Fact: Tiger Woods plays the sport of golf\\nFact: Mark White plays the sport of', '<|endoftext|><|endoftext|><|endoftext|>Fact: Tiger Woods plays the sport of golf\\nFact: Jasmine Hernandez plays the sport of', '<|endoftext|>Fact: Tiger Woods plays the sport of golf\\nFact: Dr. Jason Krause plays the sport of', '<|endoftext|><|endoftext|><|endoftext|><|endoftext|>Fact: Tiger Woods plays the sport of golf\\nFact: Laura Johnson plays the sport of', '<|endoftext|><|endoftext|><|endoftext|>Fact: Tiger Woods plays the sport of golf\\nFact: James Horton plays the sport of', '<|endoftext|><|endoftext|><|endoftext|><|endoftext|>Fact: Tiger Woods plays the sport of golf\\nFact: John Farmer plays the sport of', '<|endoftext|><|endoftext|><|endoftext|><|endoftext|>Fact: Tiger Woods plays the sport of golf\\nFact: Sara Smith plays the sport of', '<|endoftext|><|endoftext|><|endoftext|><|endoftext|>Fact: Tiger Woods plays the sport of golf\\nFact: Teresa Carpenter plays the sport of', '<|endoftext|><|endoftext|><|endoftext|>Fact: Tiger Woods plays the sport of golf\\nFact: Marvin Delgado plays the sport of', '<|endoftext|><|endoftext|><|endoftext|><|endoftext|>Fact: Tiger Woods plays the sport of golf\\nFact: Amy Gomez plays the sport of', '<|endoftext|><|endoftext|><|endoftext|><|endoftext|>Fact: Tiger Woods plays the sport of golf\\nFact: Brian Sanders plays the sport of', '<|endoftext|><|endoftext|><|endoftext|><|endoftext|>Fact: Tiger Woods plays the sport of golf\\nFact: Christopher Griffin plays the sport of', '<|endoftext|><|endoftext|><|endoftext|>Fact: Tiger Woods plays the sport of golf\\nFact: Laura Soto plays the sport of', '<|endoftext|><|endoftext|><|endoftext|><|endoftext|>Fact: Tiger Woods plays the sport of golf\\nFact: Curtis Arnold plays the sport of', '<|endoftext|><|endoftext|><|endoftext|><|endoftext|>Fact: Tiger Woods plays the sport of golf\\nFact: Kenneth Payne plays the sport of', '<|endoftext|>Fact: Tiger Woods plays the sport of golf\\nFact: William Mcintyre plays the sport of', '<|endoftext|><|endoftext|><|endoftext|><|endoftext|>Fact: Tiger Woods plays the sport of golf\\nFact: Karen Dixon plays the sport of', '<|endoftext|><|endoftext|><|endoftext|>Fact: Tiger Woods plays the sport of golf\\nFact: Brooke Sanchez plays the sport of', '<|endoftext|><|endoftext|><|endoftext|><|endoftext|>Fact: Tiger Woods plays the sport of golf\\nFact: Eric Warner plays the sport of', '<|endoftext|><|endoftext|><|endoftext|><|endoftext|>Fact: Tiger Woods plays the sport of golf\\nFact: Dylan Johnson plays the sport of', '<|endoftext|><|endoftext|><|endoftext|><|endoftext|>Fact: Tiger Woods plays the sport of golf\\nFact: Jeffrey Stewart plays the sport of', '<|endoftext|><|endoftext|><|endoftext|>Fact: Tiger Woods plays the sport of golf\\nFact: Cheryl James plays the sport of', '<|endoftext|><|endoftext|><|endoftext|>Fact: Tiger Woods plays the sport of golf\\nFact: Sara Collier plays the sport of', '<|endoftext|>Fact: Tiger Woods plays the sport of golf\\nFact: Mary Maddox DVM plays the sport of', '<|endoftext|><|endoftext|><|endoftext|>Fact: Tiger Woods plays the sport of golf\\nFact: David Sutton II plays the sport of', '<|endoftext|><|endoftext|><|endoftext|>Fact: Tiger Woods plays the sport of golf\\nFact: Diana Christensen plays the sport of', '<|endoftext|><|endoftext|><|endoftext|>Fact: Tiger Woods plays the sport of golf\\nFact: John Hines plays the sport of', '<|endoftext|><|endoftext|><|endoftext|><|endoftext|>Fact: Tiger Woods plays the sport of golf\\nFact: Teresa Welch plays the sport of', '<|endoftext|><|endoftext|><|endoftext|>Fact: Tiger Woods plays the sport of golf\\nFact: Dana Valdez plays the sport of', '<|endoftext|><|endoftext|><|endoftext|><|endoftext|>Fact: Tiger Woods plays the sport of golf\\nFact: Karen Dixon plays the sport of', '<|endoftext|><|endoftext|><|endoftext|><|endoftext|>Fact: Tiger Woods plays the sport of golf\\nFact: Kathy Sherman plays the sport of', '<|endoftext|><|endoftext|><|endoftext|><|endoftext|>Fact: Tiger Woods plays the sport of golf\\nFact: Amanda Peterson plays the sport of', '<|endoftext|><|endoftext|><|endoftext|><|endoftext|>Fact: Tiger Woods plays the sport of golf\\nFact: James Jackson plays the sport of', '<|endoftext|><|endoftext|>Fact: Tiger Woods plays the sport of golf\\nFact: Jared Contreras plays the sport of', '<|endoftext|><|endoftext|><|endoftext|><|endoftext|>Fact: Tiger Woods plays the sport of golf\\nFact: Cody Shah plays the sport of', '<|endoftext|><|endoftext|><|endoftext|><|endoftext|>Fact: Tiger Woods plays the sport of golf\\nFact: Michael Simmons plays the sport of', '<|endoftext|><|endoftext|>Fact: Tiger Woods plays the sport of golf\\nFact: Shelley Morales plays the sport of', '<|endoftext|><|endoftext|><|endoftext|><|endoftext|>Fact: Tiger Woods plays the sport of golf\\nFact: Steven Smith plays the sport of', '<|endoftext|><|endoftext|><|endoftext|><|endoftext|>Fact: Tiger Woods plays the sport of golf\\nFact: Michael Nguyen plays the sport of', '<|endoftext|><|endoftext|>Fact: Tiger Woods plays the sport of golf\\nFact: Kimberly Reese plays the sport of', '<|endoftext|><|endoftext|><|endoftext|><|endoftext|>Fact: Tiger Woods plays the sport of golf\\nFact: Lisa Washington plays the sport of', '<|endoftext|><|endoftext|><|endoftext|>Fact: Tiger Woods plays the sport of golf\\nFact: Mary Carney plays the sport of', '<|endoftext|><|endoftext|><|endoftext|>Fact: Tiger Woods plays the sport of golf\\nFact: Anthony Harrington plays the sport of', '<|endoftext|><|endoftext|><|endoftext|><|endoftext|>Fact: Tiger Woods plays the sport of golf\\nFact: George Williamson plays the sport of', '<|endoftext|><|endoftext|><|endoftext|><|endoftext|>Fact: Tiger Woods plays the sport of golf\\nFact: Karl Morris plays the sport of', '<|endoftext|><|endoftext|><|endoftext|><|endoftext|>Fact: Tiger Woods plays the sport of golf\\nFact: Scott Garcia plays the sport of', '<|endoftext|><|endoftext|>Fact: Tiger Woods plays the sport of golf\\nFact: Caitlin Benson plays the sport of', '<|endoftext|><|endoftext|>Fact: Tiger Woods plays the sport of golf\\nFact: Caitlin Benson plays the sport of', '<|endoftext|><|endoftext|><|endoftext|>Fact: Tiger Woods plays the sport of golf\\nFact: Brittany Brown plays the sport of', '<|endoftext|><|endoftext|><|endoftext|>Fact: Tiger Woods plays the sport of golf\\nFact: James Horton plays the sport of', '<|endoftext|><|endoftext|>Fact: Tiger Woods plays the sport of golf\\nFact: Sandra Phelps plays the sport of', '<|endoftext|><|endoftext|><|endoftext|><|endoftext|>Fact: Tiger Woods plays the sport of golf\\nFact: Robin Alexander plays the sport of', '<|endoftext|><|endoftext|><|endoftext|><|endoftext|>Fact: Tiger Woods plays the sport of golf\\nFact: Theresa Shepherd plays the sport of', '<|endoftext|><|endoftext|><|endoftext|><|endoftext|>Fact: Tiger Woods plays the sport of golf\\nFact: Kathy Sherman plays the sport of', '<|endoftext|><|endoftext|><|endoftext|>Fact: Tiger Woods plays the sport of golf\\nFact: Daniel Rowe plays the sport of', '<|endoftext|><|endoftext|><|endoftext|><|endoftext|>Fact: Tiger Woods plays the sport of golf\\nFact: Teresa Rhodes plays the sport of', '<|endoftext|><|endoftext|><|endoftext|><|endoftext|>Fact: Tiger Woods plays the sport of golf\\nFact: Todd Phillips plays the sport of', '<|endoftext|><|endoftext|><|endoftext|><|endoftext|>Fact: Tiger Woods plays the sport of golf\\nFact: Jessica Johns plays the sport of', '<|endoftext|><|endoftext|><|endoftext|><|endoftext|>Fact: Tiger Woods plays the sport of golf\\nFact: Molly Barnes plays the sport of', '<|endoftext|><|endoftext|><|endoftext|><|endoftext|>Fact: Tiger Woods plays the sport of golf\\nFact: Steven Howard plays the sport of', '<|endoftext|><|endoftext|><|endoftext|><|endoftext|>Fact: Tiger Woods plays the sport of golf\\nFact: Kim Wu plays the sport of', '<|endoftext|><|endoftext|><|endoftext|>Fact: Tiger Woods plays the sport of golf\\nFact: Ashlee Davis plays the sport of', '<|endoftext|><|endoftext|>Fact: Tiger Woods plays the sport of golf\\nFact: Karen Schroeder plays the sport of', '<|endoftext|><|endoftext|><|endoftext|>Fact: Tiger Woods plays the sport of golf\\nFact: Tara Hall plays the sport of', '<|endoftext|><|endoftext|><|endoftext|>Fact: Tiger Woods plays the sport of golf\\nFact: Sarah Buchanan plays the sport of', '<|endoftext|><|endoftext|><|endoftext|><|endoftext|>Fact: Tiger Woods plays the sport of golf\\nFact: Timothy Diaz plays the sport of', '<|endoftext|><|endoftext|><|endoftext|><|endoftext|>Fact: Tiger Woods plays the sport of golf\\nFact: Sarah Williams plays the sport of', '<|endoftext|><|endoftext|><|endoftext|><|endoftext|>Fact: Tiger Woods plays the sport of golf\\nFact: Janet Stark plays the sport of', '<|endoftext|><|endoftext|><|endoftext|>Fact: Tiger Woods plays the sport of golf\\nFact: Michelle Pena plays the sport of', '<|endoftext|>Fact: Tiger Woods plays the sport of golf\\nFact: Wanda Gutierrez plays the sport of', '<|endoftext|>Fact: Tiger Woods plays the sport of golf\\nFact: Steven Mccullough plays the sport of', '<|endoftext|><|endoftext|>Fact: Tiger Woods plays the sport of golf\\nFact: Rebecca Gutierrez plays the sport of', '<|endoftext|><|endoftext|><|endoftext|><|endoftext|>Fact: Tiger Woods plays the sport of golf\\nFact: Matthew Davis plays the sport of', '<|endoftext|><|endoftext|>Fact: Tiger Woods plays the sport of golf\\nFact: Kimberly Reese plays the sport of', '<|endoftext|><|endoftext|><|endoftext|><|endoftext|>Fact: Tiger Woods plays the sport of golf\\nFact: Jessica Johns plays the sport of', '<|endoftext|><|endoftext|><|endoftext|><|endoftext|>Fact: Tiger Woods plays the sport of golf\\nFact: Heather Donovan plays the sport of', '<|endoftext|><|endoftext|><|endoftext|><|endoftext|>Fact: Tiger Woods plays the sport of golf\\nFact: Andrew Barber plays the sport of', '<|endoftext|><|endoftext|><|endoftext|><|endoftext|>Fact: Tiger Woods plays the sport of golf\\nFact: Mary Lopez plays the sport of', '<|endoftext|><|endoftext|><|endoftext|><|endoftext|>Fact: Tiger Woods plays the sport of golf\\nFact: Janet Stark plays the sport of', '<|endoftext|>Fact: Tiger Woods plays the sport of golf\\nFact: Michele Mccoy plays the sport of', '<|endoftext|><|endoftext|><|endoftext|><|endoftext|>Fact: Tiger Woods plays the sport of golf\\nFact: Karen Key plays the sport of', '<|endoftext|><|endoftext|><|endoftext|><|endoftext|>Fact: Tiger Woods plays the sport of golf\\nFact: Michael Thomas plays the sport of', '<|endoftext|><|endoftext|><|endoftext|>Fact: Tiger Woods plays the sport of golf\\nFact: Terry Briggs plays the sport of', '<|endoftext|><|endoftext|><|endoftext|><|endoftext|>Fact: Tiger Woods plays the sport of golf\\nFact: Mitchell Ramsey plays the sport of', '<|endoftext|><|endoftext|><|endoftext|><|endoftext|>Fact: Tiger Woods plays the sport of golf\\nFact: Nicholas Ellis plays the sport of', '<|endoftext|><|endoftext|><|endoftext|><|endoftext|>Fact: Tiger Woods plays the sport of golf\\nFact: Thomas Hawkins plays the sport of', '<|endoftext|><|endoftext|><|endoftext|><|endoftext|>Fact: Tiger Woods plays the sport of golf\\nFact: James Jones plays the sport of', '<|endoftext|><|endoftext|><|endoftext|>Fact: Tiger Woods plays the sport of golf\\nFact: Kathryn Parker plays the sport of', '<|endoftext|><|endoftext|><|endoftext|><|endoftext|>Fact: Tiger Woods plays the sport of golf\\nFact: Theresa Shepherd plays the sport of', '<|endoftext|><|endoftext|>Fact: Tiger Woods plays the sport of golf\\nFact: Cindy Fitzpatrick plays the sport of', '<|endoftext|><|endoftext|><|endoftext|>Fact: Tiger Woods plays the sport of golf\\nFact: Ryan Orr plays the sport of', '<|endoftext|><|endoftext|><|endoftext|><|endoftext|>Fact: Tiger Woods plays the sport of golf\\nFact: Anthony Hill plays the sport of', '<|endoftext|><|endoftext|><|endoftext|><|endoftext|>Fact: Tiger Woods plays the sport of golf\\nFact: Gavin Turner plays the sport of', '<|endoftext|><|endoftext|><|endoftext|>Fact: Tiger Woods plays the sport of golf\\nFact: Samuel Hanson plays the sport of', '<|endoftext|><|endoftext|><|endoftext|><|endoftext|>Fact: Tiger Woods plays the sport of golf\\nFact: James Parks plays the sport of', '<|endoftext|><|endoftext|><|endoftext|><|endoftext|>Fact: Tiger Woods plays the sport of golf\\nFact: Joel Hernandez plays the sport of', '<|endoftext|><|endoftext|><|endoftext|>Fact: Tiger Woods plays the sport of golf\\nFact: Sarah Summers plays the sport of', '<|endoftext|><|endoftext|><|endoftext|><|endoftext|>Fact: Tiger Woods plays the sport of golf\\nFact: Katherine Johnson plays the sport of', '<|endoftext|><|endoftext|><|endoftext|><|endoftext|>Fact: Tiger Woods plays the sport of golf\\nFact: Jeremy Dennis plays the sport of', '<|endoftext|><|endoftext|>Fact: Tiger Woods plays the sport of golf\\nFact: Kevin Ortega plays the sport of', '<|endoftext|><|endoftext|><|endoftext|><|endoftext|>Fact: Tiger Woods plays the sport of golf\\nFact: Julia Hill plays the sport of', '<|endoftext|><|endoftext|><|endoftext|>Fact: Tiger Woods plays the sport of golf\\nFact: Tracey Banks plays the sport of', '<|endoftext|><|endoftext|><|endoftext|><|endoftext|>Fact: Tiger Woods plays the sport of golf\\nFact: Jeremy Riley plays the sport of', '<|endoftext|><|endoftext|><|endoftext|><|endoftext|>Fact: Tiger Woods plays the sport of golf\\nFact: Lynn Wilson plays the sport of', '<|endoftext|><|endoftext|><|endoftext|>Fact: Tiger Woods plays the sport of golf\\nFact: Dustin May plays the sport of', '<|endoftext|><|endoftext|><|endoftext|><|endoftext|>Fact: Tiger Woods plays the sport of golf\\nFact: Susan Ryan plays the sport of', '<|endoftext|><|endoftext|>Fact: Tiger Woods plays the sport of golf\\nFact: Rhonda Jarvis plays the sport of', '<|endoftext|><|endoftext|><|endoftext|><|endoftext|>Fact: Tiger Woods plays the sport of golf\\nFact: Joshua Newton plays the sport of', '<|endoftext|><|endoftext|>Fact: Tiger Woods plays the sport of golf\\nFact: Mr. Patrick Best plays the sport of', '<|endoftext|><|endoftext|><|endoftext|><|endoftext|>Fact: Tiger Woods plays the sport of golf\\nFact: Joshua Cunningham plays the sport of', '<|endoftext|><|endoftext|><|endoftext|><|endoftext|>Fact: Tiger Woods plays the sport of golf\\nFact: Lindsay Berger plays the sport of', '<|endoftext|><|endoftext|><|endoftext|><|endoftext|>Fact: Tiger Woods plays the sport of golf\\nFact: Maria Kim plays the sport of', '<|endoftext|><|endoftext|><|endoftext|>Fact: Tiger Woods plays the sport of golf\\nFact: Gabriel Grimes plays the sport of', '<|endoftext|><|endoftext|><|endoftext|><|endoftext|>Fact: Tiger Woods plays the sport of golf\\nFact: Miranda Elliott plays the sport of', '<|endoftext|><|endoftext|><|endoftext|>Fact: Tiger Woods plays the sport of golf\\nFact: Leslie Walters plays the sport of', '<|endoftext|><|endoftext|>Fact: Tiger Woods plays the sport of golf\\nFact: Adrienne Long plays the sport of', '<|endoftext|><|endoftext|><|endoftext|>Fact: Tiger Woods plays the sport of golf\\nFact: Brenda Smith plays the sport of', '<|endoftext|><|endoftext|><|endoftext|>Fact: Tiger Woods plays the sport of golf\\nFact: Kendra Miller plays the sport of', '<|endoftext|><|endoftext|><|endoftext|><|endoftext|>Fact: Tiger Woods plays the sport of golf\\nFact: Melissa Singh plays the sport of', '<|endoftext|><|endoftext|><|endoftext|><|endoftext|>Fact: Tiger Woods plays the sport of golf\\nFact: William Howard plays the sport of', '<|endoftext|><|endoftext|><|endoftext|>Fact: Tiger Woods plays the sport of golf\\nFact: Sara Collier plays the sport of', '<|endoftext|><|endoftext|>Fact: Tiger Woods plays the sport of golf\\nFact: Karen Mccoy plays the sport of', '<|endoftext|><|endoftext|><|endoftext|><|endoftext|>Fact: Tiger Woods plays the sport of golf\\nFact: Melissa Fox plays the sport of', '<|endoftext|><|endoftext|><|endoftext|>Fact: Tiger Woods plays the sport of golf\\nFact: Joan Munoz plays the sport of', '<|endoftext|><|endoftext|><|endoftext|><|endoftext|>Fact: Tiger Woods plays the sport of golf\\nFact: Marcus Richardson plays the sport of', '<|endoftext|><|endoftext|><|endoftext|><|endoftext|>Fact: Tiger Woods plays the sport of golf\\nFact: Ashley Wright plays the sport of', '<|endoftext|><|endoftext|><|endoftext|><|endoftext|>Fact: Tiger Woods plays the sport of golf\\nFact: John Hamilton plays the sport of', '<|endoftext|><|endoftext|><|endoftext|><|endoftext|>Fact: Tiger Woods plays the sport of golf\\nFact: Stephanie Weiss plays the sport of', '<|endoftext|><|endoftext|><|endoftext|><|endoftext|>Fact: Tiger Woods plays the sport of golf\\nFact: Benjamin Stephens plays the sport of', '<|endoftext|><|endoftext|><|endoftext|>Fact: Tiger Woods plays the sport of golf\\nFact: Patricia Meyers plays the sport of', '<|endoftext|><|endoftext|>Fact: Tiger Woods plays the sport of golf\\nFact: Tammy Huffman plays the sport of', '<|endoftext|><|endoftext|><|endoftext|><|endoftext|>Fact: Tiger Woods plays the sport of golf\\nFact: Amy Gibson plays the sport of', '<|endoftext|><|endoftext|><|endoftext|><|endoftext|>Fact: Tiger Woods plays the sport of golf\\nFact: Karen Walker plays the sport of', '<|endoftext|><|endoftext|><|endoftext|>Fact: Tiger Woods plays the sport of golf\\nFact: Shelly Thomas plays the sport of', '<|endoftext|><|endoftext|><|endoftext|><|endoftext|>Fact: Tiger Woods plays the sport of golf\\nFact: Vincent Young plays the sport of', '<|endoftext|><|endoftext|><|endoftext|><|endoftext|>Fact: Tiger Woods plays the sport of golf\\nFact: Nathan Olson plays the sport of', '<|endoftext|><|endoftext|><|endoftext|>Fact: Tiger Woods plays the sport of golf\\nFact: Gregory Massey plays the sport of', '<|endoftext|><|endoftext|><|endoftext|><|endoftext|>Fact: Tiger Woods plays the sport of golf\\nFact: Jeremy Riley plays the sport of', '<|endoftext|><|endoftext|><|endoftext|>Fact: Tiger Woods plays the sport of golf\\nFact: Mark Riddle plays the sport of', '<|endoftext|><|endoftext|><|endoftext|><|endoftext|>Fact: Tiger Woods plays the sport of golf\\nFact: Elizabeth Terry plays the sport of', '<|endoftext|><|endoftext|><|endoftext|><|endoftext|>Fact: Tiger Woods plays the sport of golf\\nFact: Dan Jackson plays the sport of', '<|endoftext|><|endoftext|><|endoftext|><|endoftext|>Fact: Tiger Woods plays the sport of golf\\nFact: Nathan Williams plays the sport of', '<|endoftext|><|endoftext|><|endoftext|>Fact: Tiger Woods plays the sport of golf\\nFact: Sharon Padilla plays the sport of', '<|endoftext|><|endoftext|>Fact: Tiger Woods plays the sport of golf\\nFact: Austin Mendoza plays the sport of', '<|endoftext|><|endoftext|><|endoftext|><|endoftext|>Fact: Tiger Woods plays the sport of golf\\nFact: Kyle Carpenter plays the sport of', '<|endoftext|><|endoftext|><|endoftext|><|endoftext|>Fact: Tiger Woods plays the sport of golf\\nFact: Marc Andrews plays the sport of', '<|endoftext|><|endoftext|>Fact: Tiger Woods plays the sport of golf\\nFact: Kristin Vaughn plays the sport of', '<|endoftext|><|endoftext|><|endoftext|>Fact: Tiger Woods plays the sport of golf\\nFact: Lori Warner plays the sport of', '<|endoftext|><|endoftext|><|endoftext|>Fact: Tiger Woods plays the sport of golf\\nFact: Jeffrey Cabrera plays the sport of', '<|endoftext|><|endoftext|>Fact: Tiger Woods plays the sport of golf\\nFact: Mr. Benjamin Allen plays the sport of', '<|endoftext|><|endoftext|><|endoftext|><|endoftext|>Fact: Tiger Woods plays the sport of golf\\nFact: Diana Fisher plays the sport of', '<|endoftext|><|endoftext|><|endoftext|><|endoftext|>Fact: Tiger Woods plays the sport of golf\\nFact: Kyle Rodriguez plays the sport of', '<|endoftext|><|endoftext|><|endoftext|><|endoftext|>Fact: Tiger Woods plays the sport of golf\\nFact: Rebecca Johnson plays the sport of', '<|endoftext|><|endoftext|><|endoftext|>Fact: Tiger Woods plays the sport of golf\\nFact: Aaron Chavez plays the sport of', '<|endoftext|><|endoftext|><|endoftext|><|endoftext|>Fact: Tiger Woods plays the sport of golf\\nFact: Bryan Peterson plays the sport of', '<|endoftext|><|endoftext|><|endoftext|><|endoftext|>Fact: Tiger Woods plays the sport of golf\\nFact: Nancy Weber plays the sport of', '<|endoftext|><|endoftext|><|endoftext|>Fact: Tiger Woods plays the sport of golf\\nFact: Debra Blair plays the sport of', '<|endoftext|><|endoftext|>Fact: Tiger Woods plays the sport of golf\\nFact: Savannah Oneill plays the sport of', '<|endoftext|><|endoftext|><|endoftext|>Fact: Tiger Woods plays the sport of golf\\nFact: Kendra Miller plays the sport of', '<|endoftext|><|endoftext|>Fact: Tiger Woods plays the sport of golf\\nFact: Thomas Vargas plays the sport of', '<|endoftext|><|endoftext|><|endoftext|><|endoftext|>Fact: Tiger Woods plays the sport of golf\\nFact: Mark Cox plays the sport of', '<|endoftext|><|endoftext|><|endoftext|><|endoftext|>Fact: Tiger Woods plays the sport of golf\\nFact: Steven Robertson plays the sport of', '<|endoftext|><|endoftext|><|endoftext|><|endoftext|>Fact: Tiger Woods plays the sport of golf\\nFact: Todd Phillips plays the sport of', '<|endoftext|><|endoftext|><|endoftext|>Fact: Tiger Woods plays the sport of golf\\nFact: Christian Medina plays the sport of', '<|endoftext|><|endoftext|><|endoftext|>Fact: Tiger Woods plays the sport of golf\\nFact: Brianna Hart plays the sport of', '<|endoftext|><|endoftext|><|endoftext|><|endoftext|>Fact: Tiger Woods plays the sport of golf\\nFact: Christopher Arnold plays the sport of', '<|endoftext|><|endoftext|>Fact: Tiger Woods plays the sport of golf\\nFact: James Villegas plays the sport of', '<|endoftext|><|endoftext|><|endoftext|><|endoftext|>Fact: Tiger Woods plays the sport of golf\\nFact: Lawrence Christian plays the sport of', '<|endoftext|><|endoftext|><|endoftext|><|endoftext|>Fact: Tiger Woods plays the sport of golf\\nFact: Mason Fox plays the sport of', '<|endoftext|><|endoftext|><|endoftext|>Fact: Tiger Woods plays the sport of golf\\nFact: Jillian Wright plays the sport of', '<|endoftext|>Fact: Tiger Woods plays the sport of golf\\nFact: Valerie Aguirre plays the sport of', '<|endoftext|><|endoftext|><|endoftext|><|endoftext|>Fact: Tiger Woods plays the sport of golf\\nFact: Jonathan Pearson plays the sport of', '<|endoftext|><|endoftext|><|endoftext|><|endoftext|>Fact: Tiger Woods plays the sport of golf\\nFact: William Bradley plays the sport of', '<|endoftext|><|endoftext|><|endoftext|><|endoftext|>Fact: Tiger Woods plays the sport of golf\\nFact: David Howard plays the sport of', '<|endoftext|><|endoftext|><|endoftext|><|endoftext|>Fact: Tiger Woods plays the sport of golf\\nFact: Mike Kim plays the sport of', '<|endoftext|><|endoftext|><|endoftext|>Fact: Tiger Woods plays the sport of golf\\nFact: Joseph Downs plays the sport of', '<|endoftext|><|endoftext|><|endoftext|><|endoftext|>Fact: Tiger Woods plays the sport of golf\\nFact: Janet Stark plays the sport of', '<|endoftext|><|endoftext|><|endoftext|><|endoftext|>Fact: Tiger Woods plays the sport of golf\\nFact: Heather Brooks plays the sport of', '<|endoftext|><|endoftext|><|endoftext|><|endoftext|>Fact: Tiger Woods plays the sport of golf\\nFact: Kathleen Carey plays the sport of', '<|endoftext|><|endoftext|><|endoftext|><|endoftext|>Fact: Tiger Woods plays the sport of golf\\nFact: Julia Hill plays the sport of', '<|endoftext|><|endoftext|><|endoftext|><|endoftext|>Fact: Tiger Woods plays the sport of golf\\nFact: Amber Flores plays the sport of', '<|endoftext|><|endoftext|><|endoftext|>Fact: Tiger Woods plays the sport of golf\\nFact: Melanie Dixon plays the sport of', '<|endoftext|><|endoftext|><|endoftext|>Fact: Tiger Woods plays the sport of golf\\nFact: Krystal Chandler plays the sport of', '<|endoftext|><|endoftext|>Fact: Tiger Woods plays the sport of golf\\nFact: Derrick Woodward plays the sport of', '<|endoftext|><|endoftext|><|endoftext|><|endoftext|>Fact: Tiger Woods plays the sport of golf\\nFact: Jennifer Jones plays the sport of', '<|endoftext|><|endoftext|><|endoftext|>Fact: Tiger Woods plays the sport of golf\\nFact: Alexis White plays the sport of', '<|endoftext|>Fact: Tiger Woods plays the sport of golf\\nFact: Anita Mccann plays the sport of', '<|endoftext|><|endoftext|><|endoftext|>Fact: Tiger Woods plays the sport of golf\\nFact: Bryce Wright plays the sport of', '<|endoftext|><|endoftext|><|endoftext|>Fact: Tiger Woods plays the sport of golf\\nFact: Mary Carney plays the sport of', '<|endoftext|><|endoftext|><|endoftext|>Fact: Tiger Woods plays the sport of golf\\nFact: Dustin May plays the sport of', '<|endoftext|><|endoftext|><|endoftext|><|endoftext|>Fact: Tiger Woods plays the sport of golf\\nFact: David Howard plays the sport of', '<|endoftext|><|endoftext|><|endoftext|><|endoftext|>Fact: Tiger Woods plays the sport of golf\\nFact: Jennifer Green plays the sport of', '<|endoftext|><|endoftext|><|endoftext|><|endoftext|>Fact: Tiger Woods plays the sport of golf\\nFact: Jessica Williams plays the sport of', '<|endoftext|><|endoftext|><|endoftext|>Fact: Tiger Woods plays the sport of golf\\nFact: Darren Yang plays the sport of', '<|endoftext|><|endoftext|><|endoftext|><|endoftext|>Fact: Tiger Woods plays the sport of golf\\nFact: Jason Carey plays the sport of', '<|endoftext|><|endoftext|><|endoftext|>Fact: Tiger Woods plays the sport of golf\\nFact: Tammy Drake plays the sport of', '<|endoftext|><|endoftext|><|endoftext|>Fact: Tiger Woods plays the sport of golf\\nFact: Jason Andrade plays the sport of', '<|endoftext|><|endoftext|>Fact: Tiger Woods plays the sport of golf\\nFact: Christopher Delacruz plays the sport of', '<|endoftext|><|endoftext|><|endoftext|>Fact: Tiger Woods plays the sport of golf\\nFact: Zachary Johnson plays the sport of', '<|endoftext|><|endoftext|><|endoftext|><|endoftext|>Fact: Tiger Woods plays the sport of golf\\nFact: Donald Curtis plays the sport of', '<|endoftext|><|endoftext|><|endoftext|>Fact: Tiger Woods plays the sport of golf\\nFact: Stacy Phillips plays the sport of', '<|endoftext|><|endoftext|>Fact: Tiger Woods plays the sport of golf\\nFact: Tricia Morales plays the sport of', 'Fact: Tiger Woods plays the sport of golf\\nFact: Dr. Mark Rodriguez DDS plays the sport of', '<|endoftext|><|endoftext|><|endoftext|>Fact: Tiger Woods plays the sport of golf\\nFact: Sharon Padilla plays the sport of', '<|endoftext|><|endoftext|>Fact: Tiger Woods plays the sport of golf\\nFact: Christopher Delacruz plays the sport of', '<|endoftext|>Fact: Tiger Woods plays the sport of golf\\nFact: Mr. Scott Combs plays the sport of', '<|endoftext|><|endoftext|><|endoftext|>Fact: Tiger Woods plays the sport of golf\\nFact: Dawn Guerra plays the sport of', '<|endoftext|><|endoftext|><|endoftext|><|endoftext|>Fact: Tiger Woods plays the sport of golf\\nFact: Paul Johnson plays the sport of', '<|endoftext|>Fact: Tiger Woods plays the sport of golf\\nFact: Darlene Salas plays the sport of', '<|endoftext|><|endoftext|><|endoftext|><|endoftext|>Fact: Tiger Woods plays the sport of golf\\nFact: Julie Sutton plays the sport of', '<|endoftext|><|endoftext|><|endoftext|><|endoftext|>Fact: Tiger Woods plays the sport of golf\\nFact: Janet Stark plays the sport of', '<|endoftext|><|endoftext|>Fact: Tiger Woods plays the sport of golf\\nFact: Barbara Webster DDS plays the sport of', '<|endoftext|><|endoftext|><|endoftext|><|endoftext|>Fact: Tiger Woods plays the sport of golf\\nFact: Jeremy Todd plays the sport of', '<|endoftext|><|endoftext|><|endoftext|><|endoftext|>Fact: Tiger Woods plays the sport of golf\\nFact: James Hart plays the sport of', '<|endoftext|><|endoftext|><|endoftext|><|endoftext|>Fact: Tiger Woods plays the sport of golf\\nFact: Ernest Hayes plays the sport of', '<|endoftext|><|endoftext|><|endoftext|><|endoftext|>Fact: Tiger Woods plays the sport of golf\\nFact: Gregory Garcia plays the sport of', '<|endoftext|><|endoftext|><|endoftext|><|endoftext|>Fact: Tiger Woods plays the sport of golf\\nFact: Michael Holland plays the sport of', '<|endoftext|><|endoftext|><|endoftext|><|endoftext|>Fact: Tiger Woods plays the sport of golf\\nFact: Tony Murray plays the sport of', '<|endoftext|><|endoftext|><|endoftext|><|endoftext|>Fact: Tiger Woods plays the sport of golf\\nFact: Alan Mann plays the sport of', '<|endoftext|><|endoftext|><|endoftext|><|endoftext|>Fact: Tiger Woods plays the sport of golf\\nFact: Rebecca Sanders plays the sport of', '<|endoftext|><|endoftext|><|endoftext|><|endoftext|>Fact: Tiger Woods plays the sport of golf\\nFact: Ashley Jordan plays the sport of', '<|endoftext|><|endoftext|><|endoftext|><|endoftext|>Fact: Tiger Woods plays the sport of golf\\nFact: Scott Snyder plays the sport of', '<|endoftext|><|endoftext|><|endoftext|>Fact: Tiger Woods plays the sport of golf\\nFact: Rebecca Vasquez plays the sport of', '<|endoftext|><|endoftext|><|endoftext|>Fact: Tiger Woods plays the sport of golf\\nFact: Patrick Boyle plays the sport of', '<|endoftext|><|endoftext|><|endoftext|><|endoftext|>Fact: Tiger Woods plays the sport of golf\\nFact: Ashley Bryant plays the sport of', '<|endoftext|><|endoftext|><|endoftext|>Fact: Tiger Woods plays the sport of golf\\nFact: Melinda Smith plays the sport of', '<|endoftext|><|endoftext|><|endoftext|><|endoftext|>Fact: Tiger Woods plays the sport of golf\\nFact: Tony Simpson plays the sport of', '<|endoftext|><|endoftext|><|endoftext|><|endoftext|>Fact: Tiger Woods plays the sport of golf\\nFact: Joel Cole plays the sport of', '<|endoftext|><|endoftext|><|endoftext|><|endoftext|>Fact: Tiger Woods plays the sport of golf\\nFact: Edward Gray plays the sport of', '<|endoftext|><|endoftext|><|endoftext|>Fact: Tiger Woods plays the sport of golf\\nFact: Leslie Walters plays the sport of', '<|endoftext|><|endoftext|>Fact: Tiger Woods plays the sport of golf\\nFact: Dr. Leslie Morgan plays the sport of', '<|endoftext|><|endoftext|><|endoftext|><|endoftext|>Fact: Tiger Woods plays the sport of golf\\nFact: Nancy Webb plays the sport of', '<|endoftext|><|endoftext|><|endoftext|>Fact: Tiger Woods plays the sport of golf\\nFact: Jeremy Melendez plays the sport of', '<|endoftext|><|endoftext|><|endoftext|><|endoftext|>Fact: Tiger Woods plays the sport of golf\\nFact: Steve Franklin plays the sport of', '<|endoftext|><|endoftext|><|endoftext|><|endoftext|>Fact: Tiger Woods plays the sport of golf\\nFact: James Parks plays the sport of', '<|endoftext|><|endoftext|><|endoftext|>Fact: Tiger Woods plays the sport of golf\\nFact: Cheryl Martinez plays the sport of', '<|endoftext|><|endoftext|><|endoftext|><|endoftext|>Fact: Tiger Woods plays the sport of golf\\nFact: Kelly Butler plays the sport of', '<|endoftext|><|endoftext|><|endoftext|><|endoftext|>Fact: Tiger Woods plays the sport of golf\\nFact: Sarah Gibbs plays the sport of', '<|endoftext|><|endoftext|>Fact: Tiger Woods plays the sport of golf\\nFact: Alyssa Martin plays the sport of', '<|endoftext|><|endoftext|><|endoftext|>Fact: Tiger Woods plays the sport of golf\\nFact: Joseph Downs plays the sport of', '<|endoftext|><|endoftext|><|endoftext|><|endoftext|>Fact: Tiger Woods plays the sport of golf\\nFact: Nancy Weber plays the sport of', '<|endoftext|><|endoftext|>Fact: Tiger Woods plays the sport of golf\\nFact: Thomas Vargas plays the sport of', '<|endoftext|><|endoftext|><|endoftext|><|endoftext|>Fact: Tiger Woods plays the sport of golf\\nFact: Crystal Anderson plays the sport of', '<|endoftext|><|endoftext|><|endoftext|>Fact: Tiger Woods plays the sport of golf\\nFact: Sarah Buchanan plays the sport of', '<|endoftext|><|endoftext|><|endoftext|>Fact: Tiger Woods plays the sport of golf\\nFact: Kathryn Reid plays the sport of', '<|endoftext|><|endoftext|>Fact: Tiger Woods plays the sport of golf\\nFact: Shannon Mccarthy plays the sport of', '<|endoftext|><|endoftext|><|endoftext|><|endoftext|>Fact: Tiger Woods plays the sport of golf\\nFact: Michael Thomas plays the sport of', 'Fact: Tiger Woods plays the sport of golf\\nFact: Dr. Mark Rodriguez DDS plays the sport of', '<|endoftext|><|endoftext|><|endoftext|>Fact: Tiger Woods plays the sport of golf\\nFact: Kristin Sutton plays the sport of', '<|endoftext|><|endoftext|><|endoftext|><|endoftext|>Fact: Tiger Woods plays the sport of golf\\nFact: Jacob Butler plays the sport of', '<|endoftext|><|endoftext|><|endoftext|><|endoftext|>Fact: Tiger Woods plays the sport of golf\\nFact: Cameron Miller plays the sport of', '<|endoftext|><|endoftext|><|endoftext|><|endoftext|>Fact: Tiger Woods plays the sport of golf\\nFact: Michael Simmons plays the sport of', '<|endoftext|><|endoftext|><|endoftext|><|endoftext|>Fact: Tiger Woods plays the sport of golf\\nFact: Kenneth Long plays the sport of', '<|endoftext|><|endoftext|><|endoftext|>Fact: Tiger Woods plays the sport of golf\\nFact: Tyrone Williams plays the sport of', '<|endoftext|><|endoftext|><|endoftext|>Fact: Tiger Woods plays the sport of golf\\nFact: Heidi Gordon plays the sport of', '<|endoftext|><|endoftext|>Fact: Tiger Woods plays the sport of golf\\nFact: Tara Rosales plays the sport of', '<|endoftext|><|endoftext|><|endoftext|><|endoftext|>Fact: Tiger Woods plays the sport of golf\\nFact: Andrea Fuller plays the sport of', '<|endoftext|><|endoftext|><|endoftext|><|endoftext|>Fact: Tiger Woods plays the sport of golf\\nFact: Timothy Kirby plays the sport of', '<|endoftext|><|endoftext|><|endoftext|>Fact: Tiger Woods plays the sport of golf\\nFact: Jill Kemp plays the sport of', '<|endoftext|><|endoftext|><|endoftext|>Fact: Tiger Woods plays the sport of golf\\nFact: Shannon Mosley plays the sport of', '<|endoftext|><|endoftext|><|endoftext|><|endoftext|>Fact: Tiger Woods plays the sport of golf\\nFact: Megan Mitchell plays the sport of', '<|endoftext|><|endoftext|><|endoftext|>Fact: Tiger Woods plays the sport of golf\\nFact: Sheryl Johnson plays the sport of', '<|endoftext|><|endoftext|>Fact: Tiger Woods plays the sport of golf\\nFact: Jessica Clarke DVM plays the sport of', '<|endoftext|><|endoftext|><|endoftext|><|endoftext|>Fact: Tiger Woods plays the sport of golf\\nFact: Lee Hernandez plays the sport of', '<|endoftext|><|endoftext|>Fact: Tiger Woods plays the sport of golf\\nFact: Karen Schroeder plays the sport of', '<|endoftext|><|endoftext|><|endoftext|>Fact: Tiger Woods plays the sport of golf\\nFact: Heather Bartlett plays the sport of', '<|endoftext|><|endoftext|><|endoftext|><|endoftext|>Fact: Tiger Woods plays the sport of golf\\nFact: Jamie Smith plays the sport of', '<|endoftext|><|endoftext|><|endoftext|>Fact: Tiger Woods plays the sport of golf\\nFact: Willie Clements plays the sport of', '<|endoftext|><|endoftext|><|endoftext|><|endoftext|>Fact: Tiger Woods plays the sport of golf\\nFact: John Hamilton plays the sport of', '<|endoftext|><|endoftext|><|endoftext|><|endoftext|>Fact: Tiger Woods plays the sport of golf\\nFact: Connor Brown plays the sport of', '<|endoftext|><|endoftext|><|endoftext|><|endoftext|>Fact: Tiger Woods plays the sport of golf\\nFact: John Robinson plays the sport of', '<|endoftext|><|endoftext|><|endoftext|><|endoftext|>Fact: Tiger Woods plays the sport of golf\\nFact: Patricia Hunter plays the sport of', '<|endoftext|><|endoftext|><|endoftext|><|endoftext|>Fact: Tiger Woods plays the sport of golf\\nFact: Joseph Hernandez plays the sport of', '<|endoftext|>Fact: Tiger Woods plays the sport of golf\\nFact: George Atkins DDS plays the sport of', '<|endoftext|><|endoftext|><|endoftext|><|endoftext|>Fact: Tiger Woods plays the sport of golf\\nFact: Evan Wilcox plays the sport of', '<|endoftext|><|endoftext|><|endoftext|><|endoftext|>Fact: Tiger Woods plays the sport of golf\\nFact: Amber Ashley plays the sport of', '<|endoftext|><|endoftext|><|endoftext|><|endoftext|>Fact: Tiger Woods plays the sport of golf\\nFact: Ernest Hayes plays the sport of', '<|endoftext|><|endoftext|><|endoftext|><|endoftext|>Fact: Tiger Woods plays the sport of golf\\nFact: Aaron Preston plays the sport of', '<|endoftext|><|endoftext|><|endoftext|><|endoftext|>Fact: Tiger Woods plays the sport of golf\\nFact: Gregory Santos plays the sport of', '<|endoftext|><|endoftext|><|endoftext|><|endoftext|>Fact: Tiger Woods plays the sport of golf\\nFact: Ryan Lewis plays the sport of', '<|endoftext|><|endoftext|><|endoftext|><|endoftext|>Fact: Tiger Woods plays the sport of golf\\nFact: Michael Simmons plays the sport of', '<|endoftext|><|endoftext|><|endoftext|><|endoftext|>Fact: Tiger Woods plays the sport of golf\\nFact: Michelle Freeman plays the sport of', '<|endoftext|><|endoftext|>Fact: Tiger Woods plays the sport of golf\\nFact: Katrina Schultz plays the sport of', '<|endoftext|><|endoftext|><|endoftext|><|endoftext|>Fact: Tiger Woods plays the sport of golf\\nFact: Wendy Carter plays the sport of', '<|endoftext|><|endoftext|>Fact: Tiger Woods plays the sport of golf\\nFact: Sandra Phelps plays the sport of', '<|endoftext|><|endoftext|><|endoftext|>Fact: Tiger Woods plays the sport of golf\\nFact: David Summers plays the sport of', '<|endoftext|><|endoftext|><|endoftext|>Fact: Tiger Woods plays the sport of golf\\nFact: Michael Frey plays the sport of', '<|endoftext|><|endoftext|><|endoftext|><|endoftext|>Fact: Tiger Woods plays the sport of golf\\nFact: Christopher Doyle plays the sport of', '<|endoftext|><|endoftext|><|endoftext|><|endoftext|>Fact: Tiger Woods plays the sport of golf\\nFact: Emily Jackson plays the sport of', '<|endoftext|><|endoftext|><|endoftext|><|endoftext|>Fact: Tiger Woods plays the sport of golf\\nFact: April Miller plays the sport of', '<|endoftext|><|endoftext|><|endoftext|><|endoftext|>Fact: Tiger Woods plays the sport of golf\\nFact: Jerry Fleming plays the sport of', '<|endoftext|><|endoftext|><|endoftext|><|endoftext|>Fact: Tiger Woods plays the sport of golf\\nFact: Robert Wagner plays the sport of', '<|endoftext|><|endoftext|><|endoftext|><|endoftext|>Fact: Tiger Woods plays the sport of golf\\nFact: Wendy Carter plays the sport of', '<|endoftext|><|endoftext|><|endoftext|><|endoftext|>Fact: Tiger Woods plays the sport of golf\\nFact: Jonathan Reed plays the sport of', '<|endoftext|><|endoftext|><|endoftext|>Fact: Tiger Woods plays the sport of golf\\nFact: Cynthia Case plays the sport of', '<|endoftext|><|endoftext|><|endoftext|><|endoftext|>Fact: Tiger Woods plays the sport of golf\\nFact: Robert Cruz plays the sport of', '<|endoftext|><|endoftext|>Fact: Tiger Woods plays the sport of golf\\nFact: Rhonda Jarvis plays the sport of', '<|endoftext|><|endoftext|>Fact: Tiger Woods plays the sport of golf\\nFact: Angela Guzman plays the sport of', '<|endoftext|><|endoftext|><|endoftext|>Fact: Tiger Woods plays the sport of golf\\nFact: Shannon Mosley plays the sport of', '<|endoftext|><|endoftext|><|endoftext|><|endoftext|>Fact: Tiger Woods plays the sport of golf\\nFact: James Flores plays the sport of', '<|endoftext|><|endoftext|><|endoftext|><|endoftext|>Fact: Tiger Woods plays the sport of golf\\nFact: Mary Brown plays the sport of', '<|endoftext|><|endoftext|><|endoftext|>Fact: Tiger Woods plays the sport of golf\\nFact: Diane Osborne plays the sport of', '<|endoftext|><|endoftext|><|endoftext|>Fact: Tiger Woods plays the sport of golf\\nFact: Terry Briggs plays the sport of', '<|endoftext|><|endoftext|><|endoftext|>Fact: Tiger Woods plays the sport of golf\\nFact: Matthew Norris II plays the sport of', '<|endoftext|><|endoftext|><|endoftext|>Fact: Tiger Woods plays the sport of golf\\nFact: Tracey Cook plays the sport of', '<|endoftext|><|endoftext|><|endoftext|><|endoftext|>Fact: Tiger Woods plays the sport of golf\\nFact: Howard Brown plays the sport of', '<|endoftext|><|endoftext|><|endoftext|><|endoftext|>Fact: Tiger Woods plays the sport of golf\\nFact: George Williamson plays the sport of', '<|endoftext|><|endoftext|>Fact: Tiger Woods plays the sport of golf\\nFact: Michael Dickson plays the sport of', '<|endoftext|><|endoftext|><|endoftext|><|endoftext|>Fact: Tiger Woods plays the sport of golf\\nFact: William Ramos plays the sport of', '<|endoftext|><|endoftext|><|endoftext|><|endoftext|>Fact: Tiger Woods plays the sport of golf\\nFact: Katherine Edwards plays the sport of', '<|endoftext|><|endoftext|><|endoftext|>Fact: Tiger Woods plays the sport of golf\\nFact: Kimberly Black plays the sport of', '<|endoftext|><|endoftext|>Fact: Tiger Woods plays the sport of golf\\nFact: Gary Villegas plays the sport of', '<|endoftext|><|endoftext|><|endoftext|><|endoftext|>Fact: Tiger Woods plays the sport of golf\\nFact: Gregory Garcia plays the sport of', '<|endoftext|><|endoftext|><|endoftext|>Fact: Tiger Woods plays the sport of golf\\nFact: Lori Burke plays the sport of', '<|endoftext|><|endoftext|><|endoftext|><|endoftext|>Fact: Tiger Woods plays the sport of golf\\nFact: Nicole Bates plays the sport of', '<|endoftext|><|endoftext|><|endoftext|>Fact: Tiger Woods plays the sport of golf\\nFact: Michelle Pena plays the sport of', '<|endoftext|><|endoftext|><|endoftext|><|endoftext|>Fact: Tiger Woods plays the sport of golf\\nFact: Kevin Smith plays the sport of', '<|endoftext|><|endoftext|><|endoftext|><|endoftext|>Fact: Tiger Woods plays the sport of golf\\nFact: Amanda Walker plays the sport of', '<|endoftext|><|endoftext|><|endoftext|><|endoftext|>Fact: Tiger Woods plays the sport of golf\\nFact: Jay Anderson plays the sport of', '<|endoftext|><|endoftext|><|endoftext|>Fact: Tiger Woods plays the sport of golf\\nFact: Douglas Pittman plays the sport of', '<|endoftext|><|endoftext|><|endoftext|>Fact: Tiger Woods plays the sport of golf\\nFact: Cynthia Case plays the sport of', '<|endoftext|><|endoftext|><|endoftext|><|endoftext|>Fact: Tiger Woods plays the sport of golf\\nFact: Chelsea Harris plays the sport of', '<|endoftext|><|endoftext|><|endoftext|><|endoftext|>Fact: Tiger Woods plays the sport of golf\\nFact: Xavier Hughes plays the sport of', '<|endoftext|><|endoftext|><|endoftext|><|endoftext|>Fact: Tiger Woods plays the sport of golf\\nFact: Ernest Hayes plays the sport of', '<|endoftext|><|endoftext|><|endoftext|><|endoftext|>Fact: Tiger Woods plays the sport of golf\\nFact: Chad Richardson plays the sport of', '<|endoftext|><|endoftext|><|endoftext|><|endoftext|>Fact: Tiger Woods plays the sport of golf\\nFact: Vincent Young plays the sport of', '<|endoftext|><|endoftext|><|endoftext|><|endoftext|>Fact: Tiger Woods plays the sport of golf\\nFact: James Jones plays the sport of', '<|endoftext|><|endoftext|><|endoftext|><|endoftext|>Fact: Tiger Woods plays the sport of golf\\nFact: Glenn Rogers plays the sport of', '<|endoftext|><|endoftext|><|endoftext|><|endoftext|>Fact: Tiger Woods plays the sport of golf\\nFact: Gary Crawford plays the sport of', '<|endoftext|><|endoftext|><|endoftext|><|endoftext|>Fact: Tiger Woods plays the sport of golf\\nFact: Emily Jackson plays the sport of', '<|endoftext|><|endoftext|><|endoftext|>Fact: Tiger Woods plays the sport of golf\\nFact: Zachary Hughes plays the sport of', '<|endoftext|><|endoftext|><|endoftext|><|endoftext|>Fact: Tiger Woods plays the sport of golf\\nFact: Alan Hamilton plays the sport of', '<|endoftext|><|endoftext|><|endoftext|><|endoftext|>Fact: Tiger Woods plays the sport of golf\\nFact: Elizabeth Wright plays the sport of', '<|endoftext|><|endoftext|><|endoftext|>Fact: Tiger Woods plays the sport of golf\\nFact: Deanna David plays the sport of', '<|endoftext|><|endoftext|><|endoftext|>Fact: Tiger Woods plays the sport of golf\\nFact: Matthew Ortiz plays the sport of', '<|endoftext|><|endoftext|><|endoftext|>Fact: Tiger Woods plays the sport of golf\\nFact: Gabriel Grimes plays the sport of', '<|endoftext|><|endoftext|><|endoftext|>Fact: Tiger Woods plays the sport of golf\\nFact: Brianna Hart plays the sport of', '<|endoftext|><|endoftext|><|endoftext|>Fact: Tiger Woods plays the sport of golf\\nFact: Tricia Lee plays the sport of', 'Fact: Tiger Woods plays the sport of golf\\nFact: Mrs. Amy Garcia DVM plays the sport of', '<|endoftext|><|endoftext|><|endoftext|><|endoftext|>Fact: Tiger Woods plays the sport of golf\\nFact: Heather Davis plays the sport of', '<|endoftext|><|endoftext|><|endoftext|>Fact: Tiger Woods plays the sport of golf\\nFact: Jorge Ortiz plays the sport of', '<|endoftext|><|endoftext|><|endoftext|>Fact: Tiger Woods plays the sport of golf\\nFact: Gabriel Grimes plays the sport of', '<|endoftext|><|endoftext|>Fact: Tiger Woods plays the sport of golf\\nFact: Zachary Bauer plays the sport of', '<|endoftext|><|endoftext|><|endoftext|><|endoftext|>Fact: Tiger Woods plays the sport of golf\\nFact: Molly Barnes plays the sport of', '<|endoftext|><|endoftext|><|endoftext|>Fact: Tiger Woods plays the sport of golf\\nFact: Felicia Banks plays the sport of', '<|endoftext|><|endoftext|><|endoftext|>Fact: Tiger Woods plays the sport of golf\\nFact: Courtney Miller plays the sport of', '<|endoftext|><|endoftext|><|endoftext|>Fact: Tiger Woods plays the sport of golf\\nFact: Randall Medina plays the sport of', '<|endoftext|><|endoftext|><|endoftext|><|endoftext|>Fact: Tiger Woods plays the sport of golf\\nFact: Scott Arnold plays the sport of', '<|endoftext|><|endoftext|><|endoftext|><|endoftext|>Fact: Tiger Woods plays the sport of golf\\nFact: Elaine Clark plays the sport of', '<|endoftext|><|endoftext|>Fact: Tiger Woods plays the sport of golf\\nFact: Tricia Morales plays the sport of', '<|endoftext|><|endoftext|><|endoftext|><|endoftext|>Fact: Tiger Woods plays the sport of golf\\nFact: Jordan Washington plays the sport of', '<|endoftext|><|endoftext|><|endoftext|>Fact: Tiger Woods plays the sport of golf\\nFact: Jillian Wright plays the sport of', '<|endoftext|><|endoftext|><|endoftext|><|endoftext|>Fact: Tiger Woods plays the sport of golf\\nFact: Emily Hernandez plays the sport of', '<|endoftext|><|endoftext|><|endoftext|><|endoftext|>Fact: Tiger Woods plays the sport of golf\\nFact: Christine Dixon plays the sport of', '<|endoftext|><|endoftext|><|endoftext|><|endoftext|>Fact: Tiger Woods plays the sport of golf\\nFact: Adam Walker plays the sport of', '<|endoftext|><|endoftext|><|endoftext|>Fact: Tiger Woods plays the sport of golf\\nFact: Cassandra Smith plays the sport of', '<|endoftext|><|endoftext|><|endoftext|><|endoftext|>Fact: Tiger Woods plays the sport of golf\\nFact: Timothy Kirby plays the sport of', '<|endoftext|><|endoftext|><|endoftext|><|endoftext|>Fact: Tiger Woods plays the sport of golf\\nFact: Katie Wallace plays the sport of', '<|endoftext|>Fact: Tiger Woods plays the sport of golf\\nFact: Michele Mccoy plays the sport of', '<|endoftext|><|endoftext|><|endoftext|><|endoftext|>Fact: Tiger Woods plays the sport of golf\\nFact: Timothy Diaz plays the sport of', '<|endoftext|><|endoftext|><|endoftext|><|endoftext|>Fact: Tiger Woods plays the sport of golf\\nFact: Jamie Smith plays the sport of', '<|endoftext|><|endoftext|><|endoftext|>Fact: Tiger Woods plays the sport of golf\\nFact: Gary Larsen plays the sport of', '<|endoftext|><|endoftext|><|endoftext|><|endoftext|>Fact: Tiger Woods plays the sport of golf\\nFact: Michelle Stone plays the sport of', '<|endoftext|><|endoftext|><|endoftext|><|endoftext|>Fact: Tiger Woods plays the sport of golf\\nFact: Charles Sutton plays the sport of', '<|endoftext|><|endoftext|><|endoftext|><|endoftext|>Fact: Tiger Woods plays the sport of golf\\nFact: Jennifer Fleming plays the sport of', '<|endoftext|><|endoftext|><|endoftext|><|endoftext|>Fact: Tiger Woods plays the sport of golf\\nFact: Tony Murray plays the sport of', '<|endoftext|><|endoftext|><|endoftext|><|endoftext|>Fact: Tiger Woods plays the sport of golf\\nFact: Shawn Wagner plays the sport of', '<|endoftext|><|endoftext|>Fact: Tiger Woods plays the sport of golf\\nFact: Andrew Mckenzie plays the sport of', '<|endoftext|><|endoftext|><|endoftext|><|endoftext|>Fact: Tiger Woods plays the sport of golf\\nFact: Joseph Lee plays the sport of', '<|endoftext|><|endoftext|><|endoftext|><|endoftext|>Fact: Tiger Woods plays the sport of golf\\nFact: Robert Kirk plays the sport of', '<|endoftext|><|endoftext|><|endoftext|><|endoftext|>Fact: Tiger Woods plays the sport of golf\\nFact: Chelsea Lee plays the sport of', '<|endoftext|><|endoftext|><|endoftext|>Fact: Tiger Woods plays the sport of golf\\nFact: Kristie Morris plays the sport of', '<|endoftext|>Fact: Tiger Woods plays the sport of golf\\nFact: Dr. Sheila Smith plays the sport of', '<|endoftext|><|endoftext|><|endoftext|><|endoftext|>Fact: Tiger Woods plays the sport of golf\\nFact: Michael Hamilton plays the sport of', '<|endoftext|><|endoftext|><|endoftext|><|endoftext|>Fact: Tiger Woods plays the sport of golf\\nFact: Kenneth Clark plays the sport of', '<|endoftext|><|endoftext|><|endoftext|><|endoftext|>Fact: Tiger Woods plays the sport of golf\\nFact: Chase Hunter plays the sport of', '<|endoftext|><|endoftext|><|endoftext|>Fact: Tiger Woods plays the sport of golf\\nFact: David Sutton II plays the sport of', '<|endoftext|><|endoftext|><|endoftext|>Fact: Tiger Woods plays the sport of golf\\nFact: Steven Ramirez MD plays the sport of', '<|endoftext|>Fact: Tiger Woods plays the sport of golf\\nFact: Mr. Edward Terry MD plays the sport of', '<|endoftext|><|endoftext|><|endoftext|><|endoftext|>Fact: Tiger Woods plays the sport of golf\\nFact: Jessica Cross plays the sport of', '<|endoftext|><|endoftext|><|endoftext|>Fact: Tiger Woods plays the sport of golf\\nFact: Michael Frey plays the sport of', '<|endoftext|><|endoftext|><|endoftext|><|endoftext|>Fact: Tiger Woods plays the sport of golf\\nFact: Brad Freeman plays the sport of', '<|endoftext|><|endoftext|><|endoftext|>Fact: Tiger Woods plays the sport of golf\\nFact: Amber Atkins plays the sport of', '<|endoftext|><|endoftext|><|endoftext|><|endoftext|>Fact: Tiger Woods plays the sport of golf\\nFact: Michelle Hernandez plays the sport of', '<|endoftext|><|endoftext|><|endoftext|><|endoftext|>Fact: Tiger Woods plays the sport of golf\\nFact: William Howard plays the sport of', '<|endoftext|><|endoftext|><|endoftext|><|endoftext|>Fact: Tiger Woods plays the sport of golf\\nFact: Michael West plays the sport of', '<|endoftext|><|endoftext|><|endoftext|>Fact: Tiger Woods plays the sport of golf\\nFact: Samuel Hanson plays the sport of', '<|endoftext|><|endoftext|>Fact: Tiger Woods plays the sport of golf\\nFact: Patricia Mcmahon plays the sport of', '<|endoftext|><|endoftext|><|endoftext|><|endoftext|>Fact: Tiger Woods plays the sport of golf\\nFact: Edward Walker plays the sport of', '<|endoftext|><|endoftext|><|endoftext|>Fact: Tiger Woods plays the sport of golf\\nFact: Kimberly Clark plays the sport of', '<|endoftext|><|endoftext|>Fact: Tiger Woods plays the sport of golf\\nFact: Michael Daugherty plays the sport of', '<|endoftext|><|endoftext|>Fact: Tiger Woods plays the sport of golf\\nFact: Brooke Reese plays the sport of', '<|endoftext|><|endoftext|><|endoftext|><|endoftext|>Fact: Tiger Woods plays the sport of golf\\nFact: Emily Collins plays the sport of', '<|endoftext|><|endoftext|><|endoftext|>Fact: Tiger Woods plays the sport of golf\\nFact: Julie Hendricks plays the sport of', '<|endoftext|><|endoftext|><|endoftext|>Fact: Tiger Woods plays the sport of golf\\nFact: Bryce Wright plays the sport of', '<|endoftext|><|endoftext|><|endoftext|><|endoftext|>Fact: Tiger Woods plays the sport of golf\\nFact: Matthew Lam plays the sport of', '<|endoftext|><|endoftext|><|endoftext|>Fact: Tiger Woods plays the sport of golf\\nFact: Benjamin Peck plays the sport of', '<|endoftext|><|endoftext|><|endoftext|><|endoftext|>Fact: Tiger Woods plays the sport of golf\\nFact: Eric Baker plays the sport of', '<|endoftext|><|endoftext|><|endoftext|><|endoftext|>Fact: Tiger Woods plays the sport of golf\\nFact: Brian Long plays the sport of', '<|endoftext|><|endoftext|><|endoftext|><|endoftext|>Fact: Tiger Woods plays the sport of golf\\nFact: Steven Hicks plays the sport of', '<|endoftext|><|endoftext|><|endoftext|>Fact: Tiger Woods plays the sport of golf\\nFact: Teresa Barron plays the sport of', '<|endoftext|><|endoftext|><|endoftext|><|endoftext|>Fact: Tiger Woods plays the sport of golf\\nFact: Deborah Carter plays the sport of', '<|endoftext|><|endoftext|><|endoftext|><|endoftext|>Fact: Tiger Woods plays the sport of golf\\nFact: Carol Weber plays the sport of', '<|endoftext|><|endoftext|><|endoftext|><|endoftext|>Fact: Tiger Woods plays the sport of golf\\nFact: Brad Anderson plays the sport of', '<|endoftext|><|endoftext|><|endoftext|><|endoftext|>Fact: Tiger Woods plays the sport of golf\\nFact: Charles Joseph plays the sport of', '<|endoftext|><|endoftext|><|endoftext|><|endoftext|>Fact: Tiger Woods plays the sport of golf\\nFact: Mary Lopez plays the sport of', '<|endoftext|><|endoftext|>Fact: Tiger Woods plays the sport of golf\\nFact: Sandra Alvarado plays the sport of', '<|endoftext|>Fact: Tiger Woods plays the sport of golf\\nFact: Mr. Edward Terry MD plays the sport of', '<|endoftext|><|endoftext|><|endoftext|>Fact: Tiger Woods plays the sport of golf\\nFact: Kimberly Sanchez plays the sport of', '<|endoftext|><|endoftext|><|endoftext|><|endoftext|>Fact: Tiger Woods plays the sport of golf\\nFact: Christopher Griffin plays the sport of', '<|endoftext|><|endoftext|><|endoftext|><|endoftext|>Fact: Tiger Woods plays the sport of golf\\nFact: Jose Daniels plays the sport of', '<|endoftext|><|endoftext|><|endoftext|><|endoftext|>Fact: Tiger Woods plays the sport of golf\\nFact: Alan Mann plays the sport of', '<|endoftext|><|endoftext|><|endoftext|><|endoftext|>Fact: Tiger Woods plays the sport of golf\\nFact: Dana Berry plays the sport of', '<|endoftext|><|endoftext|><|endoftext|>Fact: Tiger Woods plays the sport of golf\\nFact: Duane Perez plays the sport of', '<|endoftext|><|endoftext|>Fact: Tiger Woods plays the sport of golf\\nFact: Brandy Dougherty plays the sport of', '<|endoftext|><|endoftext|><|endoftext|><|endoftext|>Fact: Tiger Woods plays the sport of golf\\nFact: Xavier Hughes plays the sport of', '<|endoftext|><|endoftext|><|endoftext|><|endoftext|>Fact: Tiger Woods plays the sport of golf\\nFact: James Adams plays the sport of', '<|endoftext|><|endoftext|><|endoftext|><|endoftext|>Fact: Tiger Woods plays the sport of golf\\nFact: Tony Simpson plays the sport of', '<|endoftext|><|endoftext|>Fact: Tiger Woods plays the sport of golf\\nFact: Kylie Burton plays the sport of', '<|endoftext|><|endoftext|><|endoftext|><|endoftext|>Fact: Tiger Woods plays the sport of golf\\nFact: Amy Fletcher plays the sport of', '<|endoftext|><|endoftext|><|endoftext|><|endoftext|>Fact: Tiger Woods plays the sport of golf\\nFact: James Flores plays the sport of', '<|endoftext|><|endoftext|><|endoftext|><|endoftext|>Fact: Tiger Woods plays the sport of golf\\nFact: Charles Joseph plays the sport of', '<|endoftext|><|endoftext|>Fact: Tiger Woods plays the sport of golf\\nFact: Alyssa Graham plays the sport of', '<|endoftext|><|endoftext|><|endoftext|>Fact: Tiger Woods plays the sport of golf\\nFact: Tara Hall plays the sport of', '<|endoftext|><|endoftext|>Fact: Tiger Woods plays the sport of golf\\nFact: Savannah Oneill plays the sport of', '<|endoftext|><|endoftext|><|endoftext|><|endoftext|>Fact: Tiger Woods plays the sport of golf\\nFact: David Patterson plays the sport of', '<|endoftext|><|endoftext|><|endoftext|><|endoftext|>Fact: Tiger Woods plays the sport of golf\\nFact: Michael Jones plays the sport of', '<|endoftext|><|endoftext|><|endoftext|><|endoftext|>Fact: Tiger Woods plays the sport of golf\\nFact: Ruth Jacobs plays the sport of', '<|endoftext|><|endoftext|>Fact: Tiger Woods plays the sport of golf\\nFact: Patricia Mcmahon plays the sport of', '<|endoftext|><|endoftext|><|endoftext|><|endoftext|>Fact: Tiger Woods plays the sport of golf\\nFact: Christine James plays the sport of', '<|endoftext|><|endoftext|><|endoftext|><|endoftext|>Fact: Tiger Woods plays the sport of golf\\nFact: Nancy Weber plays the sport of', '<|endoftext|><|endoftext|><|endoftext|><|endoftext|>Fact: Tiger Woods plays the sport of golf\\nFact: Kevin Williams plays the sport of', '<|endoftext|><|endoftext|><|endoftext|><|endoftext|>Fact: Tiger Woods plays the sport of golf\\nFact: Andrew Barber plays the sport of', '<|endoftext|><|endoftext|><|endoftext|><|endoftext|>Fact: Tiger Woods plays the sport of golf\\nFact: Beverly Meyer plays the sport of', '<|endoftext|><|endoftext|><|endoftext|>Fact: Tiger Woods plays the sport of golf\\nFact: Madison Bray plays the sport of', '<|endoftext|><|endoftext|><|endoftext|><|endoftext|>Fact: Tiger Woods plays the sport of golf\\nFact: Mary Johnson plays the sport of', '<|endoftext|><|endoftext|><|endoftext|><|endoftext|>Fact: Tiger Woods plays the sport of golf\\nFact: Kim Wu plays the sport of', '<|endoftext|><|endoftext|><|endoftext|><|endoftext|>Fact: Tiger Woods plays the sport of golf\\nFact: Teresa Rhodes plays the sport of', '<|endoftext|><|endoftext|><|endoftext|><|endoftext|>Fact: Tiger Woods plays the sport of golf\\nFact: Katherine Edwards plays the sport of', '<|endoftext|><|endoftext|><|endoftext|>Fact: Tiger Woods plays the sport of golf\\nFact: Jonathan Schultz plays the sport of', '<|endoftext|><|endoftext|><|endoftext|><|endoftext|>Fact: Tiger Woods plays the sport of golf\\nFact: Janet Stark plays the sport of', '<|endoftext|><|endoftext|><|endoftext|>Fact: Tiger Woods plays the sport of golf\\nFact: Jeremiah Rodriguez plays the sport of', '<|endoftext|><|endoftext|><|endoftext|><|endoftext|>Fact: Tiger Woods plays the sport of golf\\nFact: Robert Brady plays the sport of', '<|endoftext|><|endoftext|><|endoftext|><|endoftext|>Fact: Tiger Woods plays the sport of golf\\nFact: Brandon Price plays the sport of', '<|endoftext|><|endoftext|><|endoftext|>Fact: Tiger Woods plays the sport of golf\\nFact: Brenda Wilson plays the sport of', '<|endoftext|><|endoftext|><|endoftext|>Fact: Tiger Woods plays the sport of golf\\nFact: Heather Bartlett plays the sport of', '<|endoftext|><|endoftext|><|endoftext|>Fact: Tiger Woods plays the sport of golf\\nFact: Elizabeth Carney plays the sport of', '<|endoftext|><|endoftext|><|endoftext|><|endoftext|>Fact: Tiger Woods plays the sport of golf\\nFact: Roy Nguyen plays the sport of', '<|endoftext|><|endoftext|><|endoftext|>Fact: Tiger Woods plays the sport of golf\\nFact: Ryan Orr plays the sport of', '<|endoftext|><|endoftext|><|endoftext|>Fact: Tiger Woods plays the sport of golf\\nFact: Hector Strong plays the sport of', '<|endoftext|>Fact: Tiger Woods plays the sport of golf\\nFact: Isabella Mclaughlin plays the sport of', '<|endoftext|><|endoftext|><|endoftext|><|endoftext|>Fact: Tiger Woods plays the sport of golf\\nFact: Joseph Green plays the sport of', '<|endoftext|><|endoftext|><|endoftext|><|endoftext|>Fact: Tiger Woods plays the sport of golf\\nFact: Barbara Miller plays the sport of', '<|endoftext|><|endoftext|><|endoftext|><|endoftext|>Fact: Tiger Woods plays the sport of golf\\nFact: Jamie Nelson plays the sport of', '<|endoftext|><|endoftext|>Fact: Tiger Woods plays the sport of golf\\nFact: David Kaufman plays the sport of', '<|endoftext|><|endoftext|><|endoftext|>Fact: Tiger Woods plays the sport of golf\\nFact: Jose Mercado plays the sport of', '<|endoftext|><|endoftext|><|endoftext|><|endoftext|>Fact: Tiger Woods plays the sport of golf\\nFact: Sara Jensen plays the sport of', '<|endoftext|><|endoftext|><|endoftext|>Fact: Tiger Woods plays the sport of golf\\nFact: Robert Galvan plays the sport of', '<|endoftext|><|endoftext|><|endoftext|><|endoftext|>Fact: Tiger Woods plays the sport of golf\\nFact: Bryan Lane plays the sport of', '<|endoftext|><|endoftext|><|endoftext|><|endoftext|>Fact: Tiger Woods plays the sport of golf\\nFact: Kim Wu plays the sport of', '<|endoftext|><|endoftext|><|endoftext|>Fact: Tiger Woods plays the sport of golf\\nFact: Robert Tucker III plays the sport of', '<|endoftext|><|endoftext|><|endoftext|><|endoftext|>Fact: Tiger Woods plays the sport of golf\\nFact: Sandy Torres plays the sport of', '<|endoftext|><|endoftext|><|endoftext|>Fact: Tiger Woods plays the sport of golf\\nFact: Samuel Hanson plays the sport of', '<|endoftext|><|endoftext|><|endoftext|><|endoftext|>Fact: Tiger Woods plays the sport of golf\\nFact: Robert Hill plays the sport of', '<|endoftext|><|endoftext|><|endoftext|><|endoftext|>Fact: Tiger Woods plays the sport of golf\\nFact: Scott Snyder plays the sport of', '<|endoftext|><|endoftext|><|endoftext|><|endoftext|>Fact: Tiger Woods plays the sport of golf\\nFact: Dylan Johnson plays the sport of', '<|endoftext|><|endoftext|><|endoftext|>Fact: Tiger Woods plays the sport of golf\\nFact: Diana Christensen plays the sport of', '<|endoftext|><|endoftext|><|endoftext|>Fact: Tiger Woods plays the sport of golf\\nFact: Madison Bray plays the sport of', '<|endoftext|><|endoftext|><|endoftext|><|endoftext|>Fact: Tiger Woods plays the sport of golf\\nFact: Christopher Bennett plays the sport of', '<|endoftext|><|endoftext|><|endoftext|>Fact: Tiger Woods plays the sport of golf\\nFact: Kendra Miller plays the sport of', '<|endoftext|><|endoftext|><|endoftext|><|endoftext|>Fact: Tiger Woods plays the sport of golf\\nFact: Glenn Rogers plays the sport of', '<|endoftext|><|endoftext|><|endoftext|>Fact: Tiger Woods plays the sport of golf\\nFact: Shelly Thomas plays the sport of', '<|endoftext|><|endoftext|><|endoftext|><|endoftext|>Fact: Tiger Woods plays the sport of golf\\nFact: Paul Hughes plays the sport of', '<|endoftext|><|endoftext|><|endoftext|>Fact: Tiger Woods plays the sport of golf\\nFact: Anthony Underwood plays the sport of', '<|endoftext|><|endoftext|><|endoftext|><|endoftext|>Fact: Tiger Woods plays the sport of golf\\nFact: Michael Jackson plays the sport of', '<|endoftext|><|endoftext|><|endoftext|><|endoftext|>Fact: Tiger Woods plays the sport of golf\\nFact: Tim Abbott plays the sport of', '<|endoftext|><|endoftext|><|endoftext|>Fact: Tiger Woods plays the sport of golf\\nFact: Brianna Hart plays the sport of', '<|endoftext|><|endoftext|>Fact: Tiger Woods plays the sport of golf\\nFact: Robert Maldonado plays the sport of', '<|endoftext|><|endoftext|><|endoftext|><|endoftext|>Fact: Tiger Woods plays the sport of golf\\nFact: Cameron Miller plays the sport of', '<|endoftext|><|endoftext|><|endoftext|><|endoftext|>Fact: Tiger Woods plays the sport of golf\\nFact: Ruth Jacobs plays the sport of', '<|endoftext|><|endoftext|>Fact: Tiger Woods plays the sport of golf\\nFact: Karen Mccoy plays the sport of', '<|endoftext|><|endoftext|><|endoftext|><|endoftext|>Fact: Tiger Woods plays the sport of golf\\nFact: Julie Brown plays the sport of', '<|endoftext|><|endoftext|><|endoftext|><|endoftext|>Fact: Tiger Woods plays the sport of golf\\nFact: Megan Mitchell plays the sport of', '<|endoftext|><|endoftext|><|endoftext|><|endoftext|>Fact: Tiger Woods plays the sport of golf\\nFact: Heather Donovan plays the sport of', '<|endoftext|><|endoftext|><|endoftext|><|endoftext|>Fact: Tiger Woods plays the sport of golf\\nFact: Benjamin Dawson plays the sport of', '<|endoftext|><|endoftext|><|endoftext|><|endoftext|>Fact: Tiger Woods plays the sport of golf\\nFact: Amy Gibson plays the sport of', '<|endoftext|><|endoftext|><|endoftext|><|endoftext|>Fact: Tiger Woods plays the sport of golf\\nFact: Kathleen Ross plays the sport of', '<|endoftext|><|endoftext|><|endoftext|><|endoftext|>Fact: Tiger Woods plays the sport of golf\\nFact: Erin Davis plays the sport of', '<|endoftext|><|endoftext|><|endoftext|>Fact: Tiger Woods plays the sport of golf\\nFact: Kimberly Clark plays the sport of', '<|endoftext|><|endoftext|><|endoftext|><|endoftext|>Fact: Tiger Woods plays the sport of golf\\nFact: Bailey Garcia plays the sport of', '<|endoftext|><|endoftext|><|endoftext|>Fact: Tiger Woods plays the sport of golf\\nFact: Michael Russo plays the sport of', '<|endoftext|><|endoftext|><|endoftext|><|endoftext|>Fact: Tiger Woods plays the sport of golf\\nFact: Robert Cruz plays the sport of', '<|endoftext|><|endoftext|>Fact: Tiger Woods plays the sport of golf\\nFact: Samantha Higgins plays the sport of', '<|endoftext|><|endoftext|><|endoftext|>Fact: Tiger Woods plays the sport of golf\\nFact: Melanie Warner plays the sport of', '<|endoftext|><|endoftext|><|endoftext|>Fact: Tiger Woods plays the sport of golf\\nFact: Scott Dyer plays the sport of', '<|endoftext|><|endoftext|><|endoftext|><|endoftext|>Fact: Tiger Woods plays the sport of golf\\nFact: Gary White plays the sport of', '<|endoftext|><|endoftext|><|endoftext|><|endoftext|>Fact: Tiger Woods plays the sport of golf\\nFact: Katherine Edwards plays the sport of', '<|endoftext|><|endoftext|><|endoftext|><|endoftext|>Fact: Tiger Woods plays the sport of golf\\nFact: Nicole Moore plays the sport of', '<|endoftext|><|endoftext|><|endoftext|><|endoftext|>Fact: Tiger Woods plays the sport of golf\\nFact: Lawrence Rodgers plays the sport of', '<|endoftext|><|endoftext|><|endoftext|><|endoftext|>Fact: Tiger Woods plays the sport of golf\\nFact: Troy Simpson plays the sport of', '<|endoftext|><|endoftext|><|endoftext|>Fact: Tiger Woods plays the sport of golf\\nFact: Betty Hancock plays the sport of', '<|endoftext|><|endoftext|><|endoftext|><|endoftext|>Fact: Tiger Woods plays the sport of golf\\nFact: Karen Stephens plays the sport of', '<|endoftext|><|endoftext|>Fact: Tiger Woods plays the sport of golf\\nFact: Angela Hickman plays the sport of', '<|endoftext|><|endoftext|><|endoftext|>Fact: Tiger Woods plays the sport of golf\\nFact: Dustin May plays the sport of', '<|endoftext|><|endoftext|><|endoftext|><|endoftext|>Fact: Tiger Woods plays the sport of golf\\nFact: Shane Reynolds plays the sport of', '<|endoftext|><|endoftext|><|endoftext|><|endoftext|>Fact: Tiger Woods plays the sport of golf\\nFact: Jason Carey plays the sport of', '<|endoftext|>Fact: Tiger Woods plays the sport of golf\\nFact: William Mcintyre plays the sport of', '<|endoftext|><|endoftext|><|endoftext|>Fact: Tiger Woods plays the sport of golf\\nFact: Kendra Miller plays the sport of', '<|endoftext|><|endoftext|><|endoftext|><|endoftext|>Fact: Tiger Woods plays the sport of golf\\nFact: Gary James plays the sport of', '<|endoftext|><|endoftext|><|endoftext|><|endoftext|>Fact: Tiger Woods plays the sport of golf\\nFact: Joseph Gould plays the sport of', '<|endoftext|><|endoftext|><|endoftext|><|endoftext|>Fact: Tiger Woods plays the sport of golf\\nFact: Mary Stevens plays the sport of', '<|endoftext|><|endoftext|><|endoftext|><|endoftext|>Fact: Tiger Woods plays the sport of golf\\nFact: Amanda Peterson plays the sport of', '<|endoftext|><|endoftext|><|endoftext|><|endoftext|>Fact: Tiger Woods plays the sport of golf\\nFact: Fernando Lloyd plays the sport of', '<|endoftext|><|endoftext|><|endoftext|><|endoftext|>Fact: Tiger Woods plays the sport of golf\\nFact: Stephanie Tucker plays the sport of', '<|endoftext|><|endoftext|>Fact: Tiger Woods plays the sport of golf\\nFact: Duane Herrera plays the sport of', '<|endoftext|><|endoftext|>Fact: Tiger Woods plays the sport of golf\\nFact: Desiree Gray plays the sport of', '<|endoftext|><|endoftext|><|endoftext|><|endoftext|>Fact: Tiger Woods plays the sport of golf\\nFact: Monica Robinson plays the sport of', '<|endoftext|><|endoftext|><|endoftext|><|endoftext|>Fact: Tiger Woods plays the sport of golf\\nFact: Morgan Hill plays the sport of', '<|endoftext|><|endoftext|><|endoftext|>Fact: Tiger Woods plays the sport of golf\\nFact: Elizabeth Barnett plays the sport of', '<|endoftext|><|endoftext|><|endoftext|><|endoftext|>Fact: Tiger Woods plays the sport of golf\\nFact: Timothy Jordan plays the sport of', '<|endoftext|><|endoftext|><|endoftext|>Fact: Tiger Woods plays the sport of golf\\nFact: Sharon Padilla plays the sport of', '<|endoftext|><|endoftext|>Fact: Tiger Woods plays the sport of golf\\nFact: Samantha Higgins plays the sport of', '<|endoftext|><|endoftext|><|endoftext|><|endoftext|>Fact: Tiger Woods plays the sport of golf\\nFact: James Blair plays the sport of', '<|endoftext|><|endoftext|><|endoftext|>Fact: Tiger Woods plays the sport of golf\\nFact: Matthew Ortiz plays the sport of', '<|endoftext|><|endoftext|>Fact: Tiger Woods plays the sport of golf\\nFact: Duane Herrera plays the sport of', '<|endoftext|><|endoftext|><|endoftext|><|endoftext|>Fact: Tiger Woods plays the sport of golf\\nFact: James Thompson plays the sport of', '<|endoftext|><|endoftext|><|endoftext|><|endoftext|>Fact: Tiger Woods plays the sport of golf\\nFact: Jose Greene plays the sport of', '<|endoftext|><|endoftext|><|endoftext|><|endoftext|>Fact: Tiger Woods plays the sport of golf\\nFact: Aaron Walker plays the sport of', '<|endoftext|><|endoftext|><|endoftext|><|endoftext|>Fact: Tiger Woods plays the sport of golf\\nFact: Christopher Richmond plays the sport of', '<|endoftext|><|endoftext|><|endoftext|>Fact: Tiger Woods plays the sport of golf\\nFact: Jeremiah Rodriguez plays the sport of', '<|endoftext|><|endoftext|><|endoftext|>Fact: Tiger Woods plays the sport of golf\\nFact: Kristina Hernandez plays the sport of', '<|endoftext|><|endoftext|><|endoftext|><|endoftext|>Fact: Tiger Woods plays the sport of golf\\nFact: John Armstrong plays the sport of', '<|endoftext|><|endoftext|><|endoftext|><|endoftext|>Fact: Tiger Woods plays the sport of golf\\nFact: Mark Johnson plays the sport of', '<|endoftext|><|endoftext|>Fact: Tiger Woods plays the sport of golf\\nFact: Kristy Crosby plays the sport of', '<|endoftext|>Fact: Tiger Woods plays the sport of golf\\nFact: Mr. Edward Terry MD plays the sport of', '<|endoftext|><|endoftext|><|endoftext|><|endoftext|>Fact: Tiger Woods plays the sport of golf\\nFact: Nathan Olson plays the sport of', '<|endoftext|><|endoftext|><|endoftext|><|endoftext|>Fact: Tiger Woods plays the sport of golf\\nFact: Tina Blake plays the sport of', '<|endoftext|><|endoftext|>Fact: Tiger Woods plays the sport of golf\\nFact: Mr. Jeffrey Jacobs plays the sport of', '<|endoftext|><|endoftext|><|endoftext|><|endoftext|>Fact: Tiger Woods plays the sport of golf\\nFact: William Hall plays the sport of', '<|endoftext|><|endoftext|><|endoftext|>Fact: Tiger Woods plays the sport of golf\\nFact: Nathan Combs plays the sport of', '<|endoftext|><|endoftext|>Fact: Tiger Woods plays the sport of golf\\nFact: Dylan Vazquez plays the sport of', '<|endoftext|><|endoftext|>Fact: Tiger Woods plays the sport of golf\\nFact: Melinda Dunlap plays the sport of', '<|endoftext|><|endoftext|><|endoftext|><|endoftext|>Fact: Tiger Woods plays the sport of golf\\nFact: Molly Barnes plays the sport of', '<|endoftext|><|endoftext|><|endoftext|>Fact: Tiger Woods plays the sport of golf\\nFact: Valerie Leonard plays the sport of', '<|endoftext|><|endoftext|><|endoftext|><|endoftext|>Fact: Tiger Woods plays the sport of golf\\nFact: Evan Wilcox plays the sport of', '<|endoftext|><|endoftext|><|endoftext|><|endoftext|>Fact: Tiger Woods plays the sport of golf\\nFact: Nancy Webb plays the sport of', '<|endoftext|><|endoftext|><|endoftext|><|endoftext|>Fact: Tiger Woods plays the sport of golf\\nFact: Megan Mitchell plays the sport of', '<|endoftext|><|endoftext|><|endoftext|><|endoftext|>Fact: Tiger Woods plays the sport of golf\\nFact: John Anderson plays the sport of', '<|endoftext|><|endoftext|><|endoftext|><|endoftext|>Fact: Tiger Woods plays the sport of golf\\nFact: Virginia Baxter plays the sport of', '<|endoftext|><|endoftext|><|endoftext|><|endoftext|>Fact: Tiger Woods plays the sport of golf\\nFact: Aaron Walker plays the sport of', '<|endoftext|><|endoftext|><|endoftext|><|endoftext|>Fact: Tiger Woods plays the sport of golf\\nFact: Christopher Kim plays the sport of', '<|endoftext|><|endoftext|><|endoftext|>Fact: Tiger Woods plays the sport of golf\\nFact: Alisha Rodriguez plays the sport of', '<|endoftext|><|endoftext|><|endoftext|><|endoftext|>Fact: Tiger Woods plays the sport of golf\\nFact: Jennifer Jones plays the sport of', '<|endoftext|><|endoftext|><|endoftext|>Fact: Tiger Woods plays the sport of golf\\nFact: Mackenzie Cole plays the sport of', '<|endoftext|><|endoftext|><|endoftext|><|endoftext|>Fact: Tiger Woods plays the sport of golf\\nFact: Michael Lamb plays the sport of', '<|endoftext|><|endoftext|><|endoftext|><|endoftext|>Fact: Tiger Woods plays the sport of golf\\nFact: Wendy Carter plays the sport of', '<|endoftext|><|endoftext|><|endoftext|><|endoftext|>Fact: Tiger Woods plays the sport of golf\\nFact: Daniel Gomez plays the sport of', '<|endoftext|><|endoftext|><|endoftext|><|endoftext|>Fact: Tiger Woods plays the sport of golf\\nFact: Elaine Lambert plays the sport of', '<|endoftext|><|endoftext|><|endoftext|>Fact: Tiger Woods plays the sport of golf\\nFact: Matthew Norris II plays the sport of', '<|endoftext|><|endoftext|>Fact: Tiger Woods plays the sport of golf\\nFact: Kristin Vaughn plays the sport of', '<|endoftext|><|endoftext|><|endoftext|>Fact: Tiger Woods plays the sport of golf\\nFact: Chris Hinton plays the sport of', '<|endoftext|><|endoftext|><|endoftext|>Fact: Tiger Woods plays the sport of golf\\nFact: Gregory Massey plays the sport of', '<|endoftext|><|endoftext|><|endoftext|>Fact: Tiger Woods plays the sport of golf\\nFact: Hector Strong plays the sport of', '<|endoftext|><|endoftext|>Fact: Tiger Woods plays the sport of golf\\nFact: Wanda Davila plays the sport of', '<|endoftext|><|endoftext|><|endoftext|><|endoftext|>Fact: Tiger Woods plays the sport of golf\\nFact: Michelle Freeman plays the sport of', '<|endoftext|><|endoftext|>Fact: Tiger Woods plays the sport of golf\\nFact: Rachael Chen plays the sport of', '<|endoftext|><|endoftext|>Fact: Tiger Woods plays the sport of golf\\nFact: Joseph Guerrero plays the sport of', '<|endoftext|><|endoftext|><|endoftext|>Fact: Tiger Woods plays the sport of golf\\nFact: Lori Burke plays the sport of', '<|endoftext|><|endoftext|><|endoftext|><|endoftext|>Fact: Tiger Woods plays the sport of golf\\nFact: Dana Berry plays the sport of', '<|endoftext|><|endoftext|><|endoftext|><|endoftext|>Fact: Tiger Woods plays the sport of golf\\nFact: Christina Lopez plays the sport of', '<|endoftext|><|endoftext|><|endoftext|><|endoftext|>Fact: Tiger Woods plays the sport of golf\\nFact: John Anderson plays the sport of', '<|endoftext|><|endoftext|><|endoftext|>Fact: Tiger Woods plays the sport of golf\\nFact: Jeffery Ali plays the sport of', '<|endoftext|><|endoftext|><|endoftext|><|endoftext|>Fact: Tiger Woods plays the sport of golf\\nFact: Ruth Jacobs plays the sport of', '<|endoftext|><|endoftext|><|endoftext|>Fact: Tiger Woods plays the sport of golf\\nFact: Michael Hester plays the sport of', '<|endoftext|><|endoftext|><|endoftext|><|endoftext|>Fact: Tiger Woods plays the sport of golf\\nFact: Bruce Sutton plays the sport of', '<|endoftext|><|endoftext|><|endoftext|><|endoftext|>Fact: Tiger Woods plays the sport of golf\\nFact: Daniel Greene plays the sport of', '<|endoftext|><|endoftext|><|endoftext|><|endoftext|>Fact: Tiger Woods plays the sport of golf\\nFact: Beverly Meyer plays the sport of', '<|endoftext|><|endoftext|><|endoftext|><|endoftext|>Fact: Tiger Woods plays the sport of golf\\nFact: Christopher Doyle plays the sport of', '<|endoftext|><|endoftext|>Fact: Tiger Woods plays the sport of golf\\nFact: Karen Schroeder plays the sport of', '<|endoftext|><|endoftext|><|endoftext|><|endoftext|>Fact: Tiger Woods plays the sport of golf\\nFact: Heather Donovan plays the sport of', '<|endoftext|><|endoftext|><|endoftext|>Fact: Tiger Woods plays the sport of golf\\nFact: Kathryn Smith plays the sport of', '<|endoftext|><|endoftext|><|endoftext|><|endoftext|>Fact: Tiger Woods plays the sport of golf\\nFact: Steve Franklin plays the sport of', '<|endoftext|><|endoftext|><|endoftext|><|endoftext|>Fact: Tiger Woods plays the sport of golf\\nFact: Amanda Bush plays the sport of', '<|endoftext|><|endoftext|><|endoftext|><|endoftext|>Fact: Tiger Woods plays the sport of golf\\nFact: Alex Collins plays the sport of', '<|endoftext|><|endoftext|><|endoftext|>Fact: Tiger Woods plays the sport of golf\\nFact: Timothy Robbins plays the sport of', '<|endoftext|><|endoftext|><|endoftext|><|endoftext|>Fact: Tiger Woods plays the sport of golf\\nFact: Larry Compton plays the sport of', '<|endoftext|><|endoftext|><|endoftext|>Fact: Tiger Woods plays the sport of golf\\nFact: Michelle Pena plays the sport of', '<|endoftext|><|endoftext|><|endoftext|><|endoftext|>Fact: Tiger Woods plays the sport of golf\\nFact: Shane Griffith plays the sport of', '<|endoftext|><|endoftext|><|endoftext|><|endoftext|>Fact: Tiger Woods plays the sport of golf\\nFact: Christine Dixon plays the sport of', '<|endoftext|><|endoftext|><|endoftext|><|endoftext|>Fact: Tiger Woods plays the sport of golf\\nFact: Deborah Carter plays the sport of', '<|endoftext|><|endoftext|><|endoftext|><|endoftext|>Fact: Tiger Woods plays the sport of golf\\nFact: Kenneth Clark plays the sport of', '<|endoftext|><|endoftext|><|endoftext|><|endoftext|>Fact: Tiger Woods plays the sport of golf\\nFact: Sharon Spencer plays the sport of', '<|endoftext|><|endoftext|><|endoftext|>Fact: Tiger Woods plays the sport of golf\\nFact: Tricia Lee plays the sport of', '<|endoftext|>Fact: Tiger Woods plays the sport of golf\\nFact: Michele Mccoy plays the sport of', '<|endoftext|><|endoftext|><|endoftext|>Fact: Tiger Woods plays the sport of golf\\nFact: Noah Sellers plays the sport of', '<|endoftext|><|endoftext|><|endoftext|><|endoftext|>Fact: Tiger Woods plays the sport of golf\\nFact: Joseph Lee plays the sport of', '<|endoftext|><|endoftext|><|endoftext|><|endoftext|>Fact: Tiger Woods plays the sport of golf\\nFact: Jeffrey Smith plays the sport of', '<|endoftext|><|endoftext|><|endoftext|><|endoftext|>Fact: Tiger Woods plays the sport of golf\\nFact: Rebecca Johnson plays the sport of', '<|endoftext|><|endoftext|><|endoftext|><|endoftext|>Fact: Tiger Woods plays the sport of golf\\nFact: Katherine Johnson plays the sport of', '<|endoftext|><|endoftext|><|endoftext|><|endoftext|>Fact: Tiger Woods plays the sport of golf\\nFact: Jennifer Martinez plays the sport of', '<|endoftext|><|endoftext|><|endoftext|>Fact: Tiger Woods plays the sport of golf\\nFact: Krystal Chandler plays the sport of', '<|endoftext|><|endoftext|><|endoftext|><|endoftext|>Fact: Tiger Woods plays the sport of golf\\nFact: Michael Nguyen plays the sport of', '<|endoftext|><|endoftext|><|endoftext|><|endoftext|>Fact: Tiger Woods plays the sport of golf\\nFact: Paula Pierce plays the sport of', '<|endoftext|><|endoftext|><|endoftext|><|endoftext|>Fact: Tiger Woods plays the sport of golf\\nFact: Jason Carey plays the sport of', '<|endoftext|>Fact: Tiger Woods plays the sport of golf\\nFact: Michele Mccoy plays the sport of', '<|endoftext|><|endoftext|><|endoftext|><|endoftext|>Fact: Tiger Woods plays the sport of golf\\nFact: Amanda Phillips plays the sport of', '<|endoftext|><|endoftext|><|endoftext|><|endoftext|>Fact: Tiger Woods plays the sport of golf\\nFact: Benjamin Dawson plays the sport of', '<|endoftext|><|endoftext|><|endoftext|>Fact: Tiger Woods plays the sport of golf\\nFact: Teresa Wilkins plays the sport of', '<|endoftext|><|endoftext|><|endoftext|><|endoftext|>Fact: Tiger Woods plays the sport of golf\\nFact: Daniel Gray plays the sport of', '<|endoftext|><|endoftext|><|endoftext|><|endoftext|>Fact: Tiger Woods plays the sport of golf\\nFact: Sarah Taylor plays the sport of', '<|endoftext|><|endoftext|><|endoftext|>Fact: Tiger Woods plays the sport of golf\\nFact: Brandi Hansen plays the sport of', '<|endoftext|><|endoftext|><|endoftext|><|endoftext|>Fact: Tiger Woods plays the sport of golf\\nFact: Paul Lopez plays the sport of', '<|endoftext|><|endoftext|><|endoftext|><|endoftext|>Fact: Tiger Woods plays the sport of golf\\nFact: Justin Reynolds plays the sport of', '<|endoftext|><|endoftext|>Fact: Tiger Woods plays the sport of golf\\nFact: Mr. Jeffrey Jacobs plays the sport of', '<|endoftext|><|endoftext|>Fact: Tiger Woods plays the sport of golf\\nFact: Vickie Peterson plays the sport of', '<|endoftext|><|endoftext|><|endoftext|><|endoftext|>Fact: Tiger Woods plays the sport of golf\\nFact: Michael Hunt plays the sport of', '<|endoftext|><|endoftext|><|endoftext|><|endoftext|>Fact: Tiger Woods plays the sport of golf\\nFact: Kevin Wright plays the sport of', '<|endoftext|><|endoftext|><|endoftext|><|endoftext|>Fact: Tiger Woods plays the sport of golf\\nFact: Nina Young plays the sport of', '<|endoftext|><|endoftext|><|endoftext|><|endoftext|>Fact: Tiger Woods plays the sport of golf\\nFact: Tracy Wagner plays the sport of', '<|endoftext|><|endoftext|><|endoftext|><|endoftext|>Fact: Tiger Woods plays the sport of golf\\nFact: Edward Clark plays the sport of', '<|endoftext|><|endoftext|><|endoftext|><|endoftext|>Fact: Tiger Woods plays the sport of golf\\nFact: Amanda Bush plays the sport of', '<|endoftext|><|endoftext|><|endoftext|><|endoftext|>Fact: Tiger Woods plays the sport of golf\\nFact: Brian Bell plays the sport of', '<|endoftext|>Fact: Tiger Woods plays the sport of golf\\nFact: Valerie Aguirre plays the sport of', '<|endoftext|><|endoftext|><|endoftext|><|endoftext|>Fact: Tiger Woods plays the sport of golf\\nFact: Christopher Nelson plays the sport of', '<|endoftext|><|endoftext|><|endoftext|><|endoftext|>Fact: Tiger Woods plays the sport of golf\\nFact: Jeffrey Bond plays the sport of', '<|endoftext|><|endoftext|><|endoftext|><|endoftext|>Fact: Tiger Woods plays the sport of golf\\nFact: Keith Harper plays the sport of', '<|endoftext|><|endoftext|><|endoftext|>Fact: Tiger Woods plays the sport of golf\\nFact: Kristina Hernandez plays the sport of', '<|endoftext|><|endoftext|><|endoftext|><|endoftext|>Fact: Tiger Woods plays the sport of golf\\nFact: Michael Jackson plays the sport of', '<|endoftext|><|endoftext|><|endoftext|><|endoftext|>Fact: Tiger Woods plays the sport of golf\\nFact: Angela Henderson plays the sport of', '<|endoftext|><|endoftext|><|endoftext|><|endoftext|>Fact: Tiger Woods plays the sport of golf\\nFact: Sarah Gibbs plays the sport of', '<|endoftext|><|endoftext|><|endoftext|>Fact: Tiger Woods plays the sport of golf\\nFact: Christopher Goodwin plays the sport of', '<|endoftext|><|endoftext|><|endoftext|>Fact: Tiger Woods plays the sport of golf\\nFact: Leslie Spence plays the sport of', '<|endoftext|><|endoftext|><|endoftext|><|endoftext|>Fact: Tiger Woods plays the sport of golf\\nFact: Jeffrey Bond plays the sport of', '<|endoftext|><|endoftext|><|endoftext|><|endoftext|>Fact: Tiger Woods plays the sport of golf\\nFact: Craig Austin plays the sport of', '<|endoftext|><|endoftext|><|endoftext|>Fact: Tiger Woods plays the sport of golf\\nFact: Melissa Horne plays the sport of', '<|endoftext|><|endoftext|><|endoftext|>Fact: Tiger Woods plays the sport of golf\\nFact: Heather Delgado plays the sport of', '<|endoftext|><|endoftext|><|endoftext|>Fact: Tiger Woods plays the sport of golf\\nFact: Krystal Chandler plays the sport of', '<|endoftext|><|endoftext|><|endoftext|>Fact: Tiger Woods plays the sport of golf\\nFact: Brandi Hansen plays the sport of', '<|endoftext|><|endoftext|><|endoftext|><|endoftext|>Fact: Tiger Woods plays the sport of golf\\nFact: Jordan Ryan plays the sport of', '<|endoftext|><|endoftext|><|endoftext|><|endoftext|>Fact: Tiger Woods plays the sport of golf\\nFact: Lisa Flores plays the sport of', '<|endoftext|><|endoftext|><|endoftext|>Fact: Tiger Woods plays the sport of golf\\nFact: Tammy Grant plays the sport of', '<|endoftext|><|endoftext|><|endoftext|><|endoftext|>Fact: Tiger Woods plays the sport of golf\\nFact: Adam Walker plays the sport of', '<|endoftext|><|endoftext|><|endoftext|><|endoftext|>Fact: Tiger Woods plays the sport of golf\\nFact: Kenneth Rodriguez plays the sport of', '<|endoftext|><|endoftext|><|endoftext|><|endoftext|>Fact: Tiger Woods plays the sport of golf\\nFact: Joel Hernandez plays the sport of', '<|endoftext|><|endoftext|>Fact: Tiger Woods plays the sport of golf\\nFact: Mr. Wayne Hogan plays the sport of', '<|endoftext|><|endoftext|><|endoftext|>Fact: Tiger Woods plays the sport of golf\\nFact: Christopher Goodwin plays the sport of', 'Fact: Tiger Woods plays the sport of golf\\nFact: Caitlin Sweeney plays the sport of', '<|endoftext|><|endoftext|><|endoftext|><|endoftext|>Fact: Tiger Woods plays the sport of golf\\nFact: Elaine Clark plays the sport of', '<|endoftext|><|endoftext|><|endoftext|><|endoftext|>Fact: Tiger Woods plays the sport of golf\\nFact: Jennifer Martinez plays the sport of', '<|endoftext|><|endoftext|><|endoftext|><|endoftext|>Fact: Tiger Woods plays the sport of golf\\nFact: David Quinn plays the sport of', '<|endoftext|><|endoftext|><|endoftext|>Fact: Tiger Woods plays the sport of golf\\nFact: Katrina Diaz plays the sport of', '<|endoftext|><|endoftext|><|endoftext|><|endoftext|>Fact: Tiger Woods plays the sport of golf\\nFact: Melissa Fox plays the sport of', '<|endoftext|><|endoftext|><|endoftext|><|endoftext|>Fact: Tiger Woods plays the sport of golf\\nFact: Andrea Fuller plays the sport of', '<|endoftext|><|endoftext|><|endoftext|><|endoftext|>Fact: Tiger Woods plays the sport of golf\\nFact: Jennifer Greene plays the sport of', '<|endoftext|><|endoftext|><|endoftext|><|endoftext|>Fact: Tiger Woods plays the sport of golf\\nFact: Jose Greene plays the sport of', '<|endoftext|><|endoftext|>Fact: Tiger Woods plays the sport of golf\\nFact: Renee Wilson plays the sport of', '<|endoftext|><|endoftext|>Fact: Tiger Woods plays the sport of golf\\nFact: Adrienne Long plays the sport of', '<|endoftext|>Fact: Tiger Woods plays the sport of golf\\nFact: George Atkins DDS plays the sport of', '<|endoftext|><|endoftext|><|endoftext|><|endoftext|>Fact: Tiger Woods plays the sport of golf\\nFact: April Miller plays the sport of', '<|endoftext|><|endoftext|><|endoftext|><|endoftext|>Fact: Tiger Woods plays the sport of golf\\nFact: Robin Murray plays the sport of', '<|endoftext|>Fact: Tiger Woods plays the sport of golf\\nFact: Wanda Gutierrez plays the sport of', '<|endoftext|><|endoftext|><|endoftext|>Fact: Tiger Woods plays the sport of golf\\nFact: James Petty plays the sport of', '<|endoftext|><|endoftext|><|endoftext|><|endoftext|>Fact: Tiger Woods plays the sport of golf\\nFact: Megan Davis plays the sport of', '<|endoftext|><|endoftext|><|endoftext|><|endoftext|>Fact: Tiger Woods plays the sport of golf\\nFact: Tracy Wagner plays the sport of', '<|endoftext|><|endoftext|><|endoftext|><|endoftext|>Fact: Tiger Woods plays the sport of golf\\nFact: Charles Sutton plays the sport of', '<|endoftext|><|endoftext|>Fact: Tiger Woods plays the sport of golf\\nFact: Kristin Vaughn plays the sport of', '<|endoftext|><|endoftext|>Fact: Tiger Woods plays the sport of golf\\nFact: Larry Cuevas plays the sport of', '<|endoftext|><|endoftext|><|endoftext|><|endoftext|>Fact: Tiger Woods plays the sport of golf\\nFact: Kevin Gibbs plays the sport of', '<|endoftext|><|endoftext|>Fact: Tiger Woods plays the sport of golf\\nFact: Mrs. Jean Edwards plays the sport of', '<|endoftext|><|endoftext|><|endoftext|><|endoftext|>Fact: Tiger Woods plays the sport of golf\\nFact: Tina Blake plays the sport of', '<|endoftext|><|endoftext|><|endoftext|><|endoftext|>Fact: Tiger Woods plays the sport of golf\\nFact: Curtis Arnold plays the sport of', '<|endoftext|><|endoftext|>Fact: Tiger Woods plays the sport of golf\\nFact: Erik Alvarado plays the sport of', '<|endoftext|><|endoftext|><|endoftext|>Fact: Tiger Woods plays the sport of golf\\nFact: Lori Warner plays the sport of', '<|endoftext|><|endoftext|><|endoftext|><|endoftext|>Fact: Tiger Woods plays the sport of golf\\nFact: Michael Hamilton plays the sport of', '<|endoftext|><|endoftext|><|endoftext|><|endoftext|>Fact: Tiger Woods plays the sport of golf\\nFact: Erin Davis plays the sport of', '<|endoftext|><|endoftext|><|endoftext|><|endoftext|>Fact: Tiger Woods plays the sport of golf\\nFact: James Franklin plays the sport of', '<|endoftext|><|endoftext|><|endoftext|>Fact: Tiger Woods plays the sport of golf\\nFact: Heather Huerta plays the sport of', '<|endoftext|><|endoftext|><|endoftext|>Fact: Tiger Woods plays the sport of golf\\nFact: Kelsey Brown plays the sport of', '<|endoftext|><|endoftext|><|endoftext|><|endoftext|>Fact: Tiger Woods plays the sport of golf\\nFact: Gary Crawford plays the sport of', '<|endoftext|><|endoftext|><|endoftext|><|endoftext|>Fact: Tiger Woods plays the sport of golf\\nFact: Mitchell Lynch plays the sport of', '<|endoftext|><|endoftext|><|endoftext|>Fact: Tiger Woods plays the sport of golf\\nFact: Gina Long plays the sport of', '<|endoftext|><|endoftext|>Fact: Tiger Woods plays the sport of golf\\nFact: Kevin Ortega plays the sport of', '<|endoftext|><|endoftext|><|endoftext|><|endoftext|>Fact: Tiger Woods plays the sport of golf\\nFact: Rebecca Sanders plays the sport of', '<|endoftext|><|endoftext|><|endoftext|><|endoftext|>Fact: Tiger Woods plays the sport of golf\\nFact: Christopher Bennett plays the sport of', '<|endoftext|><|endoftext|><|endoftext|><|endoftext|>Fact: Tiger Woods plays the sport of golf\\nFact: Joseph Clark plays the sport of', '<|endoftext|><|endoftext|><|endoftext|><|endoftext|>Fact: Tiger Woods plays the sport of golf\\nFact: Eric Drake plays the sport of', '<|endoftext|><|endoftext|><|endoftext|><|endoftext|>Fact: Tiger Woods plays the sport of golf\\nFact: Julia Hill plays the sport of', '<|endoftext|><|endoftext|><|endoftext|>Fact: Tiger Woods plays the sport of golf\\nFact: Sheila Lawrence plays the sport of', '<|endoftext|><|endoftext|><|endoftext|>Fact: Tiger Woods plays the sport of golf\\nFact: Sheryl Smith plays the sport of', '<|endoftext|><|endoftext|><|endoftext|>Fact: Tiger Woods plays the sport of golf\\nFact: Tammy West plays the sport of', '<|endoftext|><|endoftext|><|endoftext|><|endoftext|>Fact: Tiger Woods plays the sport of golf\\nFact: Steven Robertson plays the sport of', '<|endoftext|><|endoftext|><|endoftext|>Fact: Tiger Woods plays the sport of golf\\nFact: Deanna David plays the sport of', '<|endoftext|><|endoftext|>Fact: Tiger Woods plays the sport of golf\\nFact: Brooke Reese plays the sport of', '<|endoftext|><|endoftext|>Fact: Tiger Woods plays the sport of golf\\nFact: Alicia Rivas plays the sport of', '<|endoftext|><|endoftext|><|endoftext|><|endoftext|>Fact: Tiger Woods plays the sport of golf\\nFact: Lindsey Roy plays the sport of', '<|endoftext|><|endoftext|>Fact: Tiger Woods plays the sport of golf\\nFact: Kevin Ortega plays the sport of', '<|endoftext|><|endoftext|><|endoftext|><|endoftext|>Fact: Tiger Woods plays the sport of golf\\nFact: Deborah Carter plays the sport of', '<|endoftext|><|endoftext|><|endoftext|><|endoftext|>Fact: Tiger Woods plays the sport of golf\\nFact: Barbara Miller plays the sport of', '<|endoftext|><|endoftext|><|endoftext|><|endoftext|>Fact: Tiger Woods plays the sport of golf\\nFact: Rebecca Harris plays the sport of', '<|endoftext|><|endoftext|><|endoftext|><|endoftext|>Fact: Tiger Woods plays the sport of golf\\nFact: Scott Bean plays the sport of', '<|endoftext|><|endoftext|><|endoftext|><|endoftext|>Fact: Tiger Woods plays the sport of golf\\nFact: Jennifer Jones plays the sport of', '<|endoftext|><|endoftext|><|endoftext|><|endoftext|>Fact: Tiger Woods plays the sport of golf\\nFact: Steven Smith plays the sport of', '<|endoftext|><|endoftext|><|endoftext|><|endoftext|>Fact: Tiger Woods plays the sport of golf\\nFact: Ruth Hunter plays the sport of', '<|endoftext|>Fact: Tiger Woods plays the sport of golf\\nFact: Michele Mccoy plays the sport of', '<|endoftext|><|endoftext|><|endoftext|><|endoftext|>Fact: Tiger Woods plays the sport of golf\\nFact: Gary Crawford plays the sport of', '<|endoftext|><|endoftext|><|endoftext|><|endoftext|>Fact: Tiger Woods plays the sport of golf\\nFact: Carol Cox plays the sport of', '<|endoftext|><|endoftext|><|endoftext|>Fact: Tiger Woods plays the sport of golf\\nFact: Kathryn Parker plays the sport of', '<|endoftext|><|endoftext|>Fact: Tiger Woods plays the sport of golf\\nFact: Tammy Byrd plays the sport of', '<|endoftext|><|endoftext|>Fact: Tiger Woods plays the sport of golf\\nFact: Dr. Adam Johnson plays the sport of', '<|endoftext|><|endoftext|><|endoftext|><|endoftext|>Fact: Tiger Woods plays the sport of golf\\nFact: Michelle Carter plays the sport of', '<|endoftext|><|endoftext|><|endoftext|><|endoftext|>Fact: Tiger Woods plays the sport of golf\\nFact: Scott Bean plays the sport of', '<|endoftext|><|endoftext|><|endoftext|><|endoftext|>Fact: Tiger Woods plays the sport of golf\\nFact: Megan Davis plays the sport of', '<|endoftext|>Fact: Tiger Woods plays the sport of golf\\nFact: Michele Mccoy plays the sport of', '<|endoftext|><|endoftext|>Fact: Tiger Woods plays the sport of golf\\nFact: Lindsay Coffey plays the sport of', '<|endoftext|><|endoftext|><|endoftext|>Fact: Tiger Woods plays the sport of golf\\nFact: Robert Wyatt plays the sport of', '<|endoftext|><|endoftext|><|endoftext|><|endoftext|>Fact: Tiger Woods plays the sport of golf\\nFact: Mary Stevens plays the sport of', '<|endoftext|><|endoftext|><|endoftext|><|endoftext|>Fact: Tiger Woods plays the sport of golf\\nFact: Helen Bailey plays the sport of', '<|endoftext|><|endoftext|><|endoftext|><|endoftext|>Fact: Tiger Woods plays the sport of golf\\nFact: Robert Kirk plays the sport of', '<|endoftext|><|endoftext|><|endoftext|><|endoftext|>Fact: Tiger Woods plays the sport of golf\\nFact: Brad Freeman plays the sport of', '<|endoftext|><|endoftext|><|endoftext|>Fact: Tiger Woods plays the sport of golf\\nFact: Jonathan Schultz plays the sport of', '<|endoftext|><|endoftext|><|endoftext|><|endoftext|>Fact: Tiger Woods plays the sport of golf\\nFact: Anthony Stewart plays the sport of', '<|endoftext|><|endoftext|><|endoftext|>Fact: Tiger Woods plays the sport of golf\\nFact: Angelica Peterson plays the sport of', '<|endoftext|><|endoftext|><|endoftext|>Fact: Tiger Woods plays the sport of golf\\nFact: Tracey Cook plays the sport of', '<|endoftext|><|endoftext|>Fact: Tiger Woods plays the sport of golf\\nFact: Jeff Mccarthy plays the sport of', '<|endoftext|><|endoftext|>Fact: Tiger Woods plays the sport of golf\\nFact: Dylan Vazquez plays the sport of', '<|endoftext|><|endoftext|><|endoftext|><|endoftext|>Fact: Tiger Woods plays the sport of golf\\nFact: Eric Baker plays the sport of', '<|endoftext|><|endoftext|><|endoftext|>Fact: Tiger Woods plays the sport of golf\\nFact: Jennifer Guerra plays the sport of', '<|endoftext|><|endoftext|><|endoftext|><|endoftext|>Fact: Tiger Woods plays the sport of golf\\nFact: William Simpson plays the sport of', '<|endoftext|><|endoftext|><|endoftext|>Fact: Tiger Woods plays the sport of golf\\nFact: Kristen Powell plays the sport of', '<|endoftext|><|endoftext|><|endoftext|>Fact: Tiger Woods plays the sport of golf\\nFact: Kimberly Scott plays the sport of', '<|endoftext|><|endoftext|><|endoftext|><|endoftext|>Fact: Tiger Woods plays the sport of golf\\nFact: Kyle Durham plays the sport of', '<|endoftext|><|endoftext|><|endoftext|><|endoftext|>Fact: Tiger Woods plays the sport of golf\\nFact: Kevin Miller plays the sport of', '<|endoftext|><|endoftext|><|endoftext|><|endoftext|>Fact: Tiger Woods plays the sport of golf\\nFact: Janet Stark plays the sport of', '<|endoftext|><|endoftext|><|endoftext|><|endoftext|>Fact: Tiger Woods plays the sport of golf\\nFact: Molly Barnes plays the sport of', '<|endoftext|><|endoftext|><|endoftext|><|endoftext|>Fact: Tiger Woods plays the sport of golf\\nFact: James Smith plays the sport of', '<|endoftext|><|endoftext|><|endoftext|>Fact: Tiger Woods plays the sport of golf\\nFact: Courtney Miller plays the sport of', '<|endoftext|><|endoftext|><|endoftext|><|endoftext|>Fact: Tiger Woods plays the sport of golf\\nFact: Teresa Rhodes plays the sport of', 'Fact: Tiger Woods plays the sport of golf\\nFact: Mrs. Amy Garcia DVM plays the sport of', 'Fact: Tiger Woods plays the sport of golf\\nFact: Mrs. Amy Garcia DVM plays the sport of', '<|endoftext|><|endoftext|><|endoftext|><|endoftext|>Fact: Tiger Woods plays the sport of golf\\nFact: Elizabeth Williams plays the sport of', '<|endoftext|><|endoftext|><|endoftext|><|endoftext|>Fact: Tiger Woods plays the sport of golf\\nFact: Robert Berry plays the sport of', '<|endoftext|><|endoftext|><|endoftext|>Fact: Tiger Woods plays the sport of golf\\nFact: Kathleen Munoz plays the sport of', '<|endoftext|><|endoftext|><|endoftext|>Fact: Tiger Woods plays the sport of golf\\nFact: Adam Foley plays the sport of', '<|endoftext|>Fact: Tiger Woods plays the sport of golf\\nFact: Mr. Anthony Hurst plays the sport of', '<|endoftext|><|endoftext|><|endoftext|><|endoftext|>Fact: Tiger Woods plays the sport of golf\\nFact: Tyler Brown plays the sport of', '<|endoftext|><|endoftext|><|endoftext|>Fact: Tiger Woods plays the sport of golf\\nFact: Steven Ramirez MD plays the sport of', '<|endoftext|><|endoftext|><|endoftext|>Fact: Tiger Woods plays the sport of golf\\nFact: Robert Galvan plays the sport of', '<|endoftext|><|endoftext|><|endoftext|><|endoftext|>Fact: Tiger Woods plays the sport of golf\\nFact: Mark Webb plays the sport of', '<|endoftext|><|endoftext|><|endoftext|><|endoftext|>Fact: Tiger Woods plays the sport of golf\\nFact: Derek Martinez plays the sport of', '<|endoftext|><|endoftext|><|endoftext|><|endoftext|>Fact: Tiger Woods plays the sport of golf\\nFact: Daniel Greene plays the sport of', '<|endoftext|><|endoftext|><|endoftext|>Fact: Tiger Woods plays the sport of golf\\nFact: Samuel Hanson plays the sport of', '<|endoftext|><|endoftext|><|endoftext|><|endoftext|>Fact: Tiger Woods plays the sport of golf\\nFact: David Baker plays the sport of', '<|endoftext|><|endoftext|><|endoftext|>Fact: Tiger Woods plays the sport of golf\\nFact: Robert Wyatt plays the sport of', '<|endoftext|><|endoftext|><|endoftext|><|endoftext|>Fact: Tiger Woods plays the sport of golf\\nFact: Steven Smith plays the sport of', '<|endoftext|><|endoftext|><|endoftext|><|endoftext|>Fact: Tiger Woods plays the sport of golf\\nFact: Lisa Cox plays the sport of', '<|endoftext|><|endoftext|><|endoftext|><|endoftext|>Fact: Tiger Woods plays the sport of golf\\nFact: Michelle Freeman plays the sport of', '<|endoftext|><|endoftext|><|endoftext|><|endoftext|>Fact: Tiger Woods plays the sport of golf\\nFact: Jackie Brock plays the sport of', '<|endoftext|><|endoftext|><|endoftext|>Fact: Tiger Woods plays the sport of golf\\nFact: Elizabeth Barnett plays the sport of', '<|endoftext|><|endoftext|><|endoftext|><|endoftext|>Fact: Tiger Woods plays the sport of golf\\nFact: Sarah Taylor plays the sport of', '<|endoftext|><|endoftext|><|endoftext|>Fact: Tiger Woods plays the sport of golf\\nFact: Patricia Acosta plays the sport of', '<|endoftext|><|endoftext|><|endoftext|><|endoftext|>Fact: Tiger Woods plays the sport of golf\\nFact: Monica Arnold plays the sport of', '<|endoftext|><|endoftext|>Fact: Tiger Woods plays the sport of golf\\nFact: Barbara Webster DDS plays the sport of', '<|endoftext|><|endoftext|><|endoftext|><|endoftext|>Fact: Tiger Woods plays the sport of golf\\nFact: Steven Wilson plays the sport of', '<|endoftext|><|endoftext|><|endoftext|><|endoftext|>Fact: Tiger Woods plays the sport of golf\\nFact: Emily Lopez plays the sport of', '<|endoftext|><|endoftext|><|endoftext|><|endoftext|>Fact: Tiger Woods plays the sport of golf\\nFact: Connor Brown plays the sport of', '<|endoftext|><|endoftext|><|endoftext|><|endoftext|>Fact: Tiger Woods plays the sport of golf\\nFact: Mason Fox plays the sport of', '<|endoftext|><|endoftext|><|endoftext|><|endoftext|>Fact: Tiger Woods plays the sport of golf\\nFact: Patricia Garcia plays the sport of', '<|endoftext|><|endoftext|><|endoftext|>Fact: Tiger Woods plays the sport of golf\\nFact: Cole Leach plays the sport of', '<|endoftext|><|endoftext|><|endoftext|><|endoftext|>Fact: Tiger Woods plays the sport of golf\\nFact: Nancy Webb plays the sport of', '<|endoftext|><|endoftext|><|endoftext|><|endoftext|>Fact: Tiger Woods plays the sport of golf\\nFact: Amanda Bush plays the sport of', '<|endoftext|><|endoftext|><|endoftext|><|endoftext|>Fact: Tiger Woods plays the sport of golf\\nFact: Dana Berry plays the sport of', '<|endoftext|><|endoftext|><|endoftext|>Fact: Tiger Woods plays the sport of golf\\nFact: Timothy Robbins plays the sport of', '<|endoftext|><|endoftext|><|endoftext|><|endoftext|>Fact: Tiger Woods plays the sport of golf\\nFact: Jessica Cross plays the sport of', '<|endoftext|><|endoftext|><|endoftext|>Fact: Tiger Woods plays the sport of golf\\nFact: Javier Perry plays the sport of', '<|endoftext|><|endoftext|><|endoftext|><|endoftext|>Fact: Tiger Woods plays the sport of golf\\nFact: Beth Huang plays the sport of', '<|endoftext|><|endoftext|>Fact: Tiger Woods plays the sport of golf\\nFact: Zachary Bauer plays the sport of', '<|endoftext|><|endoftext|><|endoftext|><|endoftext|>Fact: Tiger Woods plays the sport of golf\\nFact: Jeffrey Arnold plays the sport of', '<|endoftext|><|endoftext|><|endoftext|><|endoftext|>Fact: Tiger Woods plays the sport of golf\\nFact: Shawn Johnson plays the sport of', '<|endoftext|><|endoftext|><|endoftext|><|endoftext|>Fact: Tiger Woods plays the sport of golf\\nFact: Larry Compton plays the sport of', '<|endoftext|><|endoftext|><|endoftext|><|endoftext|>Fact: Tiger Woods plays the sport of golf\\nFact: Joseph Lee plays the sport of', '<|endoftext|><|endoftext|><|endoftext|>Fact: Tiger Woods plays the sport of golf\\nFact: Cassandra Smith plays the sport of', '<|endoftext|><|endoftext|><|endoftext|><|endoftext|>Fact: Tiger Woods plays the sport of golf\\nFact: Miranda Elliott plays the sport of', '<|endoftext|><|endoftext|><|endoftext|><|endoftext|>Fact: Tiger Woods plays the sport of golf\\nFact: Barbara Miller plays the sport of', '<|endoftext|>Fact: Tiger Woods plays the sport of golf\\nFact: Alyssa Townsend plays the sport of', '<|endoftext|><|endoftext|><|endoftext|><|endoftext|>Fact: Tiger Woods plays the sport of golf\\nFact: Mark Terry plays the sport of', '<|endoftext|><|endoftext|><|endoftext|>Fact: Tiger Woods plays the sport of golf\\nFact: Heather Delgado plays the sport of', '<|endoftext|><|endoftext|><|endoftext|>Fact: Tiger Woods plays the sport of golf\\nFact: Michael Frey plays the sport of', '<|endoftext|><|endoftext|><|endoftext|><|endoftext|>Fact: Tiger Woods plays the sport of golf\\nFact: Robert Brown plays the sport of', '<|endoftext|><|endoftext|><|endoftext|><|endoftext|>Fact: Tiger Woods plays the sport of golf\\nFact: Michelle Freeman plays the sport of', '<|endoftext|><|endoftext|><|endoftext|>Fact: Tiger Woods plays the sport of golf\\nFact: Mandy Stephens plays the sport of', '<|endoftext|><|endoftext|><|endoftext|><|endoftext|>Fact: Tiger Woods plays the sport of golf\\nFact: Colin Singh plays the sport of', '<|endoftext|><|endoftext|><|endoftext|>Fact: Tiger Woods plays the sport of golf\\nFact: Caleb Edwards plays the sport of', '<|endoftext|><|endoftext|><|endoftext|><|endoftext|>Fact: Tiger Woods plays the sport of golf\\nFact: Jesse Walker plays the sport of', '<|endoftext|><|endoftext|><|endoftext|><|endoftext|>Fact: Tiger Woods plays the sport of golf\\nFact: Crystal Roberts plays the sport of', '<|endoftext|><|endoftext|><|endoftext|>Fact: Tiger Woods plays the sport of golf\\nFact: Jeffrey Romero plays the sport of', '<|endoftext|><|endoftext|>Fact: Tiger Woods plays the sport of golf\\nFact: Andrew Mckenzie plays the sport of', '<|endoftext|><|endoftext|><|endoftext|>Fact: Tiger Woods plays the sport of golf\\nFact: Tanya Young plays the sport of', '<|endoftext|><|endoftext|>Fact: Tiger Woods plays the sport of golf\\nFact: Tammy Byrd plays the sport of', '<|endoftext|><|endoftext|><|endoftext|><|endoftext|>Fact: Tiger Woods plays the sport of golf\\nFact: Mary Lopez plays the sport of', '<|endoftext|><|endoftext|><|endoftext|>Fact: Tiger Woods plays the sport of golf\\nFact: Martin Vaughan plays the sport of', '<|endoftext|><|endoftext|><|endoftext|><|endoftext|>Fact: Tiger Woods plays the sport of golf\\nFact: Joel Hernandez plays the sport of', '<|endoftext|><|endoftext|><|endoftext|><|endoftext|>Fact: Tiger Woods plays the sport of golf\\nFact: Paul Myers plays the sport of', '<|endoftext|><|endoftext|><|endoftext|>Fact: Tiger Woods plays the sport of golf\\nFact: Daniel Rowe plays the sport of', '<|endoftext|><|endoftext|><|endoftext|><|endoftext|>Fact: Tiger Woods plays the sport of golf\\nFact: Joseph Hernandez plays the sport of', '<|endoftext|><|endoftext|><|endoftext|><|endoftext|>Fact: Tiger Woods plays the sport of golf\\nFact: Jamie Smith plays the sport of', '<|endoftext|><|endoftext|><|endoftext|><|endoftext|>Fact: Tiger Woods plays the sport of golf\\nFact: Susan Ryan plays the sport of', '<|endoftext|><|endoftext|>Fact: Tiger Woods plays the sport of golf\\nFact: Melinda Dunlap plays the sport of', '<|endoftext|><|endoftext|><|endoftext|><|endoftext|>Fact: Tiger Woods plays the sport of golf\\nFact: Lisa Washington plays the sport of', '<|endoftext|><|endoftext|><|endoftext|><|endoftext|>Fact: Tiger Woods plays the sport of golf\\nFact: Leonard Drake plays the sport of', '<|endoftext|><|endoftext|><|endoftext|><|endoftext|>Fact: Tiger Woods plays the sport of golf\\nFact: Donald Curtis plays the sport of', '<|endoftext|><|endoftext|><|endoftext|><|endoftext|>Fact: Tiger Woods plays the sport of golf\\nFact: Jessica Griffith plays the sport of', 'Fact: Tiger Woods plays the sport of golf\\nFact: Caitlin Sweeney plays the sport of', '<|endoftext|><|endoftext|>Fact: Tiger Woods plays the sport of golf\\nFact: Denise Melton plays the sport of', '<|endoftext|><|endoftext|><|endoftext|><|endoftext|>Fact: Tiger Woods plays the sport of golf\\nFact: Rose Adams plays the sport of', '<|endoftext|><|endoftext|>Fact: Tiger Woods plays the sport of golf\\nFact: John Delacruz plays the sport of', '<|endoftext|><|endoftext|><|endoftext|><|endoftext|>Fact: Tiger Woods plays the sport of golf\\nFact: Bruce Richardson plays the sport of', '<|endoftext|><|endoftext|><|endoftext|>Fact: Tiger Woods plays the sport of golf\\nFact: Courtney Miller plays the sport of', '<|endoftext|><|endoftext|>Fact: Tiger Woods plays the sport of golf\\nFact: Angela Guzman plays the sport of', '<|endoftext|><|endoftext|>Fact: Tiger Woods plays the sport of golf\\nFact: Isaac Vargas plays the sport of', '<|endoftext|><|endoftext|><|endoftext|><|endoftext|>Fact: Tiger Woods plays the sport of golf\\nFact: Gavin Turner plays the sport of', '<|endoftext|><|endoftext|><|endoftext|>Fact: Tiger Woods plays the sport of golf\\nFact: Candace Moon plays the sport of', '<|endoftext|><|endoftext|><|endoftext|><|endoftext|>Fact: Tiger Woods plays the sport of golf\\nFact: Xavier Hughes plays the sport of', '<|endoftext|><|endoftext|>Fact: Tiger Woods plays the sport of golf\\nFact: Michael Dickson plays the sport of', '<|endoftext|><|endoftext|><|endoftext|><|endoftext|>Fact: Tiger Woods plays the sport of golf\\nFact: Jennifer Martinez plays the sport of', '<|endoftext|><|endoftext|><|endoftext|>Fact: Tiger Woods plays the sport of golf\\nFact: Jordan Summers plays the sport of', '<|endoftext|><|endoftext|><|endoftext|><|endoftext|>Fact: Tiger Woods plays the sport of golf\\nFact: James Flores plays the sport of', '<|endoftext|><|endoftext|><|endoftext|><|endoftext|>Fact: Tiger Woods plays the sport of golf\\nFact: Justin Smith plays the sport of', '<|endoftext|><|endoftext|><|endoftext|><|endoftext|>Fact: Tiger Woods plays the sport of golf\\nFact: John Cain plays the sport of', '<|endoftext|><|endoftext|><|endoftext|><|endoftext|>Fact: Tiger Woods plays the sport of golf\\nFact: Monica Robinson plays the sport of', '<|endoftext|><|endoftext|><|endoftext|><|endoftext|>Fact: Tiger Woods plays the sport of golf\\nFact: Mary Brown plays the sport of', '<|endoftext|><|endoftext|><|endoftext|>Fact: Tiger Woods plays the sport of golf\\nFact: Elizabeth Shea plays the sport of', '<|endoftext|><|endoftext|><|endoftext|>Fact: Tiger Woods plays the sport of golf\\nFact: Courtney King plays the sport of', '<|endoftext|><|endoftext|><|endoftext|>Fact: Tiger Woods plays the sport of golf\\nFact: Jeffery Bell plays the sport of', '<|endoftext|><|endoftext|><|endoftext|>Fact: Tiger Woods plays the sport of golf\\nFact: Laura Hebert plays the sport of', '<|endoftext|><|endoftext|><|endoftext|>Fact: Tiger Woods plays the sport of golf\\nFact: James Petty plays the sport of', '<|endoftext|><|endoftext|><|endoftext|><|endoftext|>Fact: Tiger Woods plays the sport of golf\\nFact: Raymond Walker plays the sport of', '<|endoftext|><|endoftext|><|endoftext|>Fact: Tiger Woods plays the sport of golf\\nFact: Laura Hebert plays the sport of', '<|endoftext|><|endoftext|><|endoftext|><|endoftext|>Fact: Tiger Woods plays the sport of golf\\nFact: Jessica Banks plays the sport of', '<|endoftext|><|endoftext|><|endoftext|><|endoftext|>Fact: Tiger Woods plays the sport of golf\\nFact: Julia Hill plays the sport of', '<|endoftext|><|endoftext|><|endoftext|><|endoftext|>Fact: Tiger Woods plays the sport of golf\\nFact: Eric Daniel plays the sport of', '<|endoftext|><|endoftext|><|endoftext|><|endoftext|>Fact: Tiger Woods plays the sport of golf\\nFact: Scott Gonzalez plays the sport of', '<|endoftext|><|endoftext|><|endoftext|><|endoftext|>Fact: Tiger Woods plays the sport of golf\\nFact: Edward Walker plays the sport of', '<|endoftext|><|endoftext|><|endoftext|><|endoftext|>Fact: Tiger Woods plays the sport of golf\\nFact: Sharon Spencer plays the sport of', '<|endoftext|><|endoftext|><|endoftext|><|endoftext|>Fact: Tiger Woods plays the sport of golf\\nFact: Brian Long plays the sport of', '<|endoftext|><|endoftext|><|endoftext|><|endoftext|>Fact: Tiger Woods plays the sport of golf\\nFact: Karen Dixon plays the sport of', '<|endoftext|><|endoftext|><|endoftext|><|endoftext|>Fact: Tiger Woods plays the sport of golf\\nFact: Heather Davis plays the sport of', '<|endoftext|><|endoftext|>Fact: Tiger Woods plays the sport of golf\\nFact: Deanna Hill MD plays the sport of', '<|endoftext|><|endoftext|><|endoftext|>Fact: Tiger Woods plays the sport of golf\\nFact: Lori Payne plays the sport of', '<|endoftext|><|endoftext|><|endoftext|><|endoftext|>Fact: Tiger Woods plays the sport of golf\\nFact: Barbara Miller plays the sport of', '<|endoftext|><|endoftext|><|endoftext|><|endoftext|>Fact: Tiger Woods plays the sport of golf\\nFact: Lauren Jackson plays the sport of', '<|endoftext|><|endoftext|><|endoftext|>Fact: Tiger Woods plays the sport of golf\\nFact: Jason Andrade plays the sport of', '<|endoftext|><|endoftext|><|endoftext|><|endoftext|>Fact: Tiger Woods plays the sport of golf\\nFact: Calvin Brooks plays the sport of', '<|endoftext|><|endoftext|><|endoftext|><|endoftext|>Fact: Tiger Woods plays the sport of golf\\nFact: Carol Cox plays the sport of', '<|endoftext|><|endoftext|><|endoftext|><|endoftext|>Fact: Tiger Woods plays the sport of golf\\nFact: Ricky Little plays the sport of', '<|endoftext|><|endoftext|><|endoftext|><|endoftext|>Fact: Tiger Woods plays the sport of golf\\nFact: Susan Ryan plays the sport of', '<|endoftext|><|endoftext|><|endoftext|><|endoftext|>Fact: Tiger Woods plays the sport of golf\\nFact: Katherine Edwards plays the sport of', '<|endoftext|><|endoftext|><|endoftext|><|endoftext|>Fact: Tiger Woods plays the sport of golf\\nFact: Victoria Day plays the sport of', '<|endoftext|><|endoftext|>Fact: Tiger Woods plays the sport of golf\\nFact: Shannon Gutierrez plays the sport of', '<|endoftext|><|endoftext|><|endoftext|><|endoftext|>Fact: Tiger Woods plays the sport of golf\\nFact: Kathleen Carey plays the sport of', '<|endoftext|><|endoftext|><|endoftext|><|endoftext|>Fact: Tiger Woods plays the sport of golf\\nFact: Charles Jenkins plays the sport of', '<|endoftext|><|endoftext|><|endoftext|><|endoftext|>Fact: Tiger Woods plays the sport of golf\\nFact: Roger Fisher plays the sport of', '<|endoftext|><|endoftext|><|endoftext|><|endoftext|>Fact: Tiger Woods plays the sport of golf\\nFact: Kyle Carpenter plays the sport of', '<|endoftext|><|endoftext|><|endoftext|><|endoftext|>Fact: Tiger Woods plays the sport of golf\\nFact: Tracy Good plays the sport of', '<|endoftext|><|endoftext|><|endoftext|><|endoftext|>Fact: Tiger Woods plays the sport of golf\\nFact: Mary Stevens plays the sport of', '<|endoftext|><|endoftext|><|endoftext|><|endoftext|>Fact: Tiger Woods plays the sport of golf\\nFact: Gary Lopez plays the sport of', '<|endoftext|><|endoftext|><|endoftext|>Fact: Tiger Woods plays the sport of golf\\nFact: Kathryn Parker plays the sport of', '<|endoftext|><|endoftext|><|endoftext|><|endoftext|>Fact: Tiger Woods plays the sport of golf\\nFact: Beth Huang plays the sport of', '<|endoftext|><|endoftext|><|endoftext|><|endoftext|>Fact: Tiger Woods plays the sport of golf\\nFact: Michael Turner plays the sport of', '<|endoftext|>Fact: Tiger Woods plays the sport of golf\\nFact: Anita Mccann plays the sport of', '<|endoftext|><|endoftext|><|endoftext|>Fact: Tiger Woods plays the sport of golf\\nFact: Sheryl Smith plays the sport of', '<|endoftext|><|endoftext|><|endoftext|><|endoftext|>Fact: Tiger Woods plays the sport of golf\\nFact: Stuart Ellis plays the sport of', '<|endoftext|><|endoftext|><|endoftext|>Fact: Tiger Woods plays the sport of golf\\nFact: Carol Mclean plays the sport of', '<|endoftext|><|endoftext|><|endoftext|><|endoftext|>Fact: Tiger Woods plays the sport of golf\\nFact: Lauren Hunter plays the sport of', '<|endoftext|><|endoftext|><|endoftext|>Fact: Tiger Woods plays the sport of golf\\nFact: Sara Beard plays the sport of', '<|endoftext|><|endoftext|><|endoftext|><|endoftext|>Fact: Tiger Woods plays the sport of golf\\nFact: Jeffrey Stewart plays the sport of', '<|endoftext|><|endoftext|><|endoftext|><|endoftext|>Fact: Tiger Woods plays the sport of golf\\nFact: Aaron Bennett plays the sport of', '<|endoftext|><|endoftext|><|endoftext|>Fact: Tiger Woods plays the sport of golf\\nFact: Stacy Phillips plays the sport of', '<|endoftext|><|endoftext|><|endoftext|><|endoftext|>Fact: Tiger Woods plays the sport of golf\\nFact: Mary Taylor plays the sport of', '<|endoftext|><|endoftext|><|endoftext|><|endoftext|>Fact: Tiger Woods plays the sport of golf\\nFact: Kevin Miller plays the sport of', '<|endoftext|><|endoftext|><|endoftext|><|endoftext|>Fact: Tiger Woods plays the sport of golf\\nFact: Heather Donovan plays the sport of', '<|endoftext|><|endoftext|>Fact: Tiger Woods plays the sport of golf\\nFact: Isaac Vargas plays the sport of', '<|endoftext|><|endoftext|><|endoftext|><|endoftext|>Fact: Tiger Woods plays the sport of golf\\nFact: Victoria Day plays the sport of', '<|endoftext|><|endoftext|><|endoftext|><|endoftext|>Fact: Tiger Woods plays the sport of golf\\nFact: Megan Davis plays the sport of', '<|endoftext|><|endoftext|><|endoftext|><|endoftext|>Fact: Tiger Woods plays the sport of golf\\nFact: Jeffrey Bond plays the sport of', '<|endoftext|><|endoftext|><|endoftext|>Fact: Tiger Woods plays the sport of golf\\nFact: Gina Gibson plays the sport of', '<|endoftext|><|endoftext|><|endoftext|>Fact: Tiger Woods plays the sport of golf\\nFact: James Petty plays the sport of', '<|endoftext|><|endoftext|><|endoftext|><|endoftext|>Fact: Tiger Woods plays the sport of golf\\nFact: Anthony Stewart plays the sport of', '<|endoftext|><|endoftext|><|endoftext|><|endoftext|>Fact: Tiger Woods plays the sport of golf\\nFact: Amanda Lee plays the sport of', '<|endoftext|><|endoftext|><|endoftext|><|endoftext|>Fact: Tiger Woods plays the sport of golf\\nFact: Kathy Sherman plays the sport of', '<|endoftext|><|endoftext|><|endoftext|>Fact: Tiger Woods plays the sport of golf\\nFact: Tara Hall plays the sport of', '<|endoftext|><|endoftext|><|endoftext|><|endoftext|>Fact: Tiger Woods plays the sport of golf\\nFact: Christine Dixon plays the sport of', '<|endoftext|><|endoftext|><|endoftext|><|endoftext|>Fact: Tiger Woods plays the sport of golf\\nFact: Michael Gross plays the sport of', '<|endoftext|><|endoftext|>Fact: Tiger Woods plays the sport of golf\\nFact: Brooke Reese plays the sport of', '<|endoftext|><|endoftext|><|endoftext|><|endoftext|>Fact: Tiger Woods plays the sport of golf\\nFact: April Miller plays the sport of', '<|endoftext|><|endoftext|><|endoftext|><|endoftext|>Fact: Tiger Woods plays the sport of golf\\nFact: Glenn Rogers plays the sport of', '<|endoftext|><|endoftext|><|endoftext|><|endoftext|>Fact: Tiger Woods plays the sport of golf\\nFact: Kim Wu plays the sport of', '<|endoftext|><|endoftext|><|endoftext|><|endoftext|>Fact: Tiger Woods plays the sport of golf\\nFact: Carrie Austin plays the sport of', '<|endoftext|><|endoftext|><|endoftext|><|endoftext|>Fact: Tiger Woods plays the sport of golf\\nFact: Cameron Miller plays the sport of', '<|endoftext|><|endoftext|><|endoftext|>Fact: Tiger Woods plays the sport of golf\\nFact: John Hines plays the sport of', '<|endoftext|><|endoftext|><|endoftext|><|endoftext|>Fact: Tiger Woods plays the sport of golf\\nFact: Michael Watkins plays the sport of', '<|endoftext|><|endoftext|><|endoftext|><|endoftext|>Fact: Tiger Woods plays the sport of golf\\nFact: Gregory Lowe plays the sport of', '<|endoftext|><|endoftext|><|endoftext|><|endoftext|>Fact: Tiger Woods plays the sport of golf\\nFact: Monica Arnold plays the sport of', '<|endoftext|><|endoftext|><|endoftext|><|endoftext|>Fact: Tiger Woods plays the sport of golf\\nFact: Wendy Key plays the sport of', '<|endoftext|><|endoftext|><|endoftext|><|endoftext|>Fact: Tiger Woods plays the sport of golf\\nFact: Jeffrey Bond plays the sport of', '<|endoftext|><|endoftext|>Fact: Tiger Woods plays the sport of golf\\nFact: David Mcpherson plays the sport of', '<|endoftext|><|endoftext|><|endoftext|><|endoftext|>Fact: Tiger Woods plays the sport of golf\\nFact: Justin Rivera plays the sport of', '<|endoftext|><|endoftext|><|endoftext|><|endoftext|>Fact: Tiger Woods plays the sport of golf\\nFact: Julie Brown plays the sport of', '<|endoftext|><|endoftext|><|endoftext|><|endoftext|>Fact: Tiger Woods plays the sport of golf\\nFact: Michael Jones plays the sport of', '<|endoftext|><|endoftext|><|endoftext|>Fact: Tiger Woods plays the sport of golf\\nFact: Zachary Hughes plays the sport of', '<|endoftext|><|endoftext|><|endoftext|><|endoftext|>Fact: Tiger Woods plays the sport of golf\\nFact: Sandra Anderson plays the sport of', '<|endoftext|><|endoftext|>Fact: Tiger Woods plays the sport of golf\\nFact: Mr. Patrick Best plays the sport of', '<|endoftext|><|endoftext|><|endoftext|><|endoftext|>Fact: Tiger Woods plays the sport of golf\\nFact: Derek Martinez plays the sport of', '<|endoftext|><|endoftext|><|endoftext|><|endoftext|>Fact: Tiger Woods plays the sport of golf\\nFact: Steven Howard plays the sport of', '<|endoftext|><|endoftext|><|endoftext|>Fact: Tiger Woods plays the sport of golf\\nFact: Gregory Smith PhD plays the sport of', '<|endoftext|><|endoftext|><|endoftext|>Fact: Tiger Woods plays the sport of golf\\nFact: Patricia Acosta plays the sport of', '<|endoftext|><|endoftext|><|endoftext|><|endoftext|>Fact: Tiger Woods plays the sport of golf\\nFact: Jessica Young plays the sport of', '<|endoftext|><|endoftext|>Fact: Tiger Woods plays the sport of golf\\nFact: Kara Walters plays the sport of', '<|endoftext|><|endoftext|>Fact: Tiger Woods plays the sport of golf\\nFact: Isaac Vargas plays the sport of', '<|endoftext|><|endoftext|><|endoftext|><|endoftext|>Fact: Tiger Woods plays the sport of golf\\nFact: Christopher Griffin plays the sport of', '<|endoftext|><|endoftext|><|endoftext|><|endoftext|>Fact: Tiger Woods plays the sport of golf\\nFact: Justin Rivera plays the sport of', '<|endoftext|><|endoftext|><|endoftext|><|endoftext|>Fact: Tiger Woods plays the sport of golf\\nFact: Edward Gray plays the sport of', '<|endoftext|><|endoftext|><|endoftext|><|endoftext|>Fact: Tiger Woods plays the sport of golf\\nFact: Michael Lee plays the sport of', '<|endoftext|><|endoftext|><|endoftext|><|endoftext|>Fact: Tiger Woods plays the sport of golf\\nFact: Shirley Bryant plays the sport of', '<|endoftext|><|endoftext|><|endoftext|><|endoftext|>Fact: Tiger Woods plays the sport of golf\\nFact: Melissa Singh plays the sport of', '<|endoftext|><|endoftext|>Fact: Tiger Woods plays the sport of golf\\nFact: David Kaufman plays the sport of', '<|endoftext|><|endoftext|><|endoftext|><|endoftext|>Fact: Tiger Woods plays the sport of golf\\nFact: Sean Cunningham plays the sport of', '<|endoftext|>Fact: Tiger Woods plays the sport of golf\\nFact: Alejandra Cortez plays the sport of', '<|endoftext|><|endoftext|>Fact: Tiger Woods plays the sport of golf\\nFact: Richard Harvey DDS plays the sport of', '<|endoftext|><|endoftext|><|endoftext|><|endoftext|>Fact: Tiger Woods plays the sport of golf\\nFact: Mary Stevens plays the sport of', '<|endoftext|><|endoftext|><|endoftext|>Fact: Tiger Woods plays the sport of golf\\nFact: Robin Lowery plays the sport of', '<|endoftext|><|endoftext|><|endoftext|>Fact: Tiger Woods plays the sport of golf\\nFact: Laura Hebert plays the sport of', '<|endoftext|><|endoftext|><|endoftext|><|endoftext|>Fact: Tiger Woods plays the sport of golf\\nFact: William Jackson plays the sport of', '<|endoftext|><|endoftext|><|endoftext|><|endoftext|>Fact: Tiger Woods plays the sport of golf\\nFact: Theresa Smith plays the sport of', '<|endoftext|><|endoftext|><|endoftext|><|endoftext|>Fact: Tiger Woods plays the sport of golf\\nFact: Paul Jones plays the sport of', '<|endoftext|><|endoftext|><|endoftext|><|endoftext|>Fact: Tiger Woods plays the sport of golf\\nFact: Sharon Adams plays the sport of', '<|endoftext|><|endoftext|><|endoftext|>Fact: Tiger Woods plays the sport of golf\\nFact: Kimberly Sanchez plays the sport of', 'Fact: Tiger Woods plays the sport of golf\\nFact: Mrs. Nichole Larsen plays the sport of', '<|endoftext|><|endoftext|><|endoftext|><|endoftext|>Fact: Tiger Woods plays the sport of golf\\nFact: Taylor Travis plays the sport of', '<|endoftext|><|endoftext|><|endoftext|><|endoftext|>Fact: Tiger Woods plays the sport of golf\\nFact: Wendy Key plays the sport of', '<|endoftext|><|endoftext|><|endoftext|>Fact: Tiger Woods plays the sport of golf\\nFact: Kristina Hernandez plays the sport of', '<|endoftext|><|endoftext|>Fact: Tiger Woods plays the sport of golf\\nFact: Mrs. Stephanie Walker plays the sport of', '<|endoftext|><|endoftext|><|endoftext|><|endoftext|>Fact: Tiger Woods plays the sport of golf\\nFact: Shawn Johnson plays the sport of', '<|endoftext|><|endoftext|><|endoftext|><|endoftext|>Fact: Tiger Woods plays the sport of golf\\nFact: John Griffith plays the sport of', '<|endoftext|><|endoftext|><|endoftext|><|endoftext|>Fact: Tiger Woods plays the sport of golf\\nFact: Gavin Turner plays the sport of', '<|endoftext|><|endoftext|><|endoftext|><|endoftext|>Fact: Tiger Woods plays the sport of golf\\nFact: Lisa Cox plays the sport of', '<|endoftext|><|endoftext|><|endoftext|>Fact: Tiger Woods plays the sport of golf\\nFact: Antonio Beard plays the sport of', '<|endoftext|><|endoftext|><|endoftext|>Fact: Tiger Woods plays the sport of golf\\nFact: Melanie Warner plays the sport of', '<|endoftext|><|endoftext|><|endoftext|>Fact: Tiger Woods plays the sport of golf\\nFact: Cheryl Martinez plays the sport of', '<|endoftext|><|endoftext|>Fact: Tiger Woods plays the sport of golf\\nFact: Jodi Andrade plays the sport of', '<|endoftext|>Fact: Tiger Woods plays the sport of golf\\nFact: Michele Mccoy plays the sport of', '<|endoftext|><|endoftext|><|endoftext|><|endoftext|>Fact: Tiger Woods plays the sport of golf\\nFact: Jennifer Casey plays the sport of', '<|endoftext|><|endoftext|><|endoftext|><|endoftext|>Fact: Tiger Woods plays the sport of golf\\nFact: Jeffrey Bond plays the sport of', '<|endoftext|><|endoftext|>Fact: Tiger Woods plays the sport of golf\\nFact: Mr. Wayne Hogan plays the sport of', '<|endoftext|><|endoftext|><|endoftext|>Fact: Tiger Woods plays the sport of golf\\nFact: William Mckee plays the sport of', '<|endoftext|><|endoftext|><|endoftext|><|endoftext|>Fact: Tiger Woods plays the sport of golf\\nFact: Lisa Cox plays the sport of', '<|endoftext|><|endoftext|><|endoftext|><|endoftext|>Fact: Tiger Woods plays the sport of golf\\nFact: Lindsey Lee plays the sport of', '<|endoftext|><|endoftext|>Fact: Tiger Woods plays the sport of golf\\nFact: David Mcpherson plays the sport of', '<|endoftext|><|endoftext|><|endoftext|>Fact: Tiger Woods plays the sport of golf\\nFact: Brianna Hart plays the sport of', '<|endoftext|><|endoftext|><|endoftext|><|endoftext|>Fact: Tiger Woods plays the sport of golf\\nFact: Bradley Brown plays the sport of', '<|endoftext|><|endoftext|><|endoftext|><|endoftext|>Fact: Tiger Woods plays the sport of golf\\nFact: John Brooks plays the sport of', '<|endoftext|><|endoftext|><|endoftext|><|endoftext|>Fact: Tiger Woods plays the sport of golf\\nFact: Robert Cruz plays the sport of', '<|endoftext|><|endoftext|><|endoftext|><|endoftext|>Fact: Tiger Woods plays the sport of golf\\nFact: Sharon Adams plays the sport of', '<|endoftext|><|endoftext|><|endoftext|><|endoftext|>Fact: Tiger Woods plays the sport of golf\\nFact: Christopher Kim plays the sport of', '<|endoftext|><|endoftext|><|endoftext|>Fact: Tiger Woods plays the sport of golf\\nFact: Scott Dyer plays the sport of', '<|endoftext|><|endoftext|><|endoftext|>Fact: Tiger Woods plays the sport of golf\\nFact: Kristen Morris plays the sport of', '<|endoftext|><|endoftext|><|endoftext|>Fact: Tiger Woods plays the sport of golf\\nFact: Sheryl Johnson plays the sport of', '<|endoftext|><|endoftext|><|endoftext|><|endoftext|>Fact: Tiger Woods plays the sport of golf\\nFact: Christine Morgan plays the sport of', '<|endoftext|><|endoftext|><|endoftext|><|endoftext|>Fact: Tiger Woods plays the sport of golf\\nFact: John Hamilton plays the sport of', '<|endoftext|>Fact: Tiger Woods plays the sport of golf\\nFact: Isabella Mclaughlin plays the sport of', '<|endoftext|><|endoftext|><|endoftext|><|endoftext|>Fact: Tiger Woods plays the sport of golf\\nFact: Shane Griffith plays the sport of', '<|endoftext|><|endoftext|><|endoftext|><|endoftext|>Fact: Tiger Woods plays the sport of golf\\nFact: Joel Cole plays the sport of', '<|endoftext|><|endoftext|><|endoftext|><|endoftext|>Fact: Tiger Woods plays the sport of golf\\nFact: Alex Collins plays the sport of', '<|endoftext|><|endoftext|>Fact: Tiger Woods plays the sport of golf\\nFact: Joe Fitzgerald DVM plays the sport of']\n"
     ]
    }
   ],
   "source": [
    "print(clean_dataset.str_prompts)\n",
    "print(corr_dataset.str_prompts)"
   ]
  },
  {
   "cell_type": "code",
   "execution_count": 5,
   "metadata": {},
   "outputs": [],
   "source": [
    "with open('localizations/eap/eap_sports/sport_answers.json') as f:\n",
    "    answers = json.load(f)\n",
    "    player_to_sport_tok = {}\n",
    "    set_of_sports = set(['football', 'baseball', 'basketball'])\n",
    "    sport_to_tok = {}\n",
    "    for sport in set_of_sports:\n",
    "        sport_to_tok[sport] = tuple(tokenizer(' ' + sport).input_ids)\n",
    "\n",
    "    for player, sport in zip(answers['players'], answers['sports']):\n",
    "        wrong_sports = set_of_sports - {sport}\n",
    "        wrong_sport_toks = [sport_to_tok[wrong_sport] for wrong_sport in wrong_sports]\n",
    "        player_tuple = tuple(tokenizer(' ' + player).input_ids)\n",
    "        player_to_sport_tok[player_tuple] = (sport_to_tok[sport], wrong_sport_toks)"
   ]
  },
  {
   "cell_type": "code",
   "execution_count": 6,
   "metadata": {},
   "outputs": [
    {
     "name": "stdout",
     "output_type": "stream",
     "text": [
      "tensor([14648, 14623, 14648, 14648,  5842, 14648, 14623, 14623, 14648, 14648,\n",
      "        14623, 14648, 14623,  5842, 14648,  5842, 14623,  5842,  5842,  5842,\n",
      "         5842, 14648,  5842,  5842, 14648,  5842, 14623, 14648,  5842,  5842,\n",
      "         5842, 14623, 14648,  5842,  5842,  5842, 14648, 14648,  5842, 14648,\n",
      "        14648,  5842, 14623,  5842,  5842, 14623,  5842, 14648,  5842,  5842,\n",
      "         5842, 14648, 14623,  5842,  5842,  5842, 14623,  5842,  5842,  5842,\n",
      "        14648, 14623,  5842, 14648, 14623, 14648, 14623, 14623, 14623, 14648,\n",
      "        14648, 14648,  5842,  5842,  5842, 14648,  5842,  5842,  5842, 14648,\n",
      "        14623,  5842, 14623,  5842,  5842, 14648,  5842, 14648, 14623,  5842,\n",
      "         5842,  5842,  5842, 14648, 14648,  5842, 14623, 14648, 14623,  5842,\n",
      "        14648,  5842, 14648,  5842, 14623,  5842, 14648, 14648,  5842,  5842,\n",
      "        14648,  5842,  5842,  5842,  5842,  5842, 14648,  5842, 14623, 14648,\n",
      "         5842, 14648,  5842, 14623, 14623,  5842, 14623,  5842, 14623, 14623,\n",
      "         5842,  5842, 14623, 14648,  5842,  5842,  5842, 14623, 14648, 14648,\n",
      "         5842,  5842,  5842,  5842,  5842, 14623,  5842, 14623,  5842,  5842,\n",
      "        14623, 14648,  5842,  5842,  5842, 14623,  5842,  5842,  5842,  5842,\n",
      "         5842,  5842, 14648,  5842, 14648,  5842, 14648,  5842, 14648, 14623,\n",
      "        14623, 14623,  5842,  5842,  5842, 14648, 14648, 14648,  5842, 14648,\n",
      "         5842,  5842,  5842,  5842, 14623, 14648, 14648, 14623, 14648, 14648,\n",
      "        14623, 14648, 14648,  5842, 14623,  5842,  5842, 14648, 14648,  5842,\n",
      "         5842, 14648,  5842,  5842,  5842, 14623,  5842,  5842,  5842,  5842,\n",
      "         5842, 14623, 14648, 14623, 14623, 14623, 14648,  5842,  5842,  5842,\n",
      "         5842, 14648, 14648, 14648,  5842,  5842, 14648, 14623, 14648, 14623,\n",
      "         5842, 14623,  5842,  5842, 14623, 14623,  5842, 14623,  5842,  5842,\n",
      "         5842,  5842,  5842,  5842,  5842, 14648, 14648, 14623,  5842, 14623,\n",
      "        14623,  5842, 14623, 14623, 14648,  5842, 14623, 14648, 14648,  5842,\n",
      "        14648,  5842,  5842,  5842, 14648, 14623,  5842, 14648, 14648, 14648,\n",
      "        14648,  5842, 14648, 14623, 14623,  5842,  5842,  5842, 14623,  5842,\n",
      "        14648,  5842, 14623, 14648, 14623, 14648, 14648, 14648, 14623,  5842,\n",
      "        14648,  5842, 14623,  5842, 14623,  5842,  5842, 14623, 14623,  5842,\n",
      "        14623,  5842,  5842,  5842, 14623, 14648,  5842, 14648, 14648,  5842,\n",
      "        14648,  5842,  5842, 14648, 14648, 14623,  5842,  5842,  5842,  5842,\n",
      "         5842, 14648, 14648, 14623,  5842, 14648,  5842,  5842, 14648,  5842,\n",
      "        14648, 14623, 14623,  5842,  5842, 14648, 14623, 14623, 14648, 14648,\n",
      "         5842,  5842,  5842, 14648,  5842, 14648, 14623, 14623, 14648, 14648,\n",
      "         5842, 14623, 14623,  5842,  5842,  5842, 14648, 14648, 14623,  5842,\n",
      "         5842,  5842,  5842, 14648, 14623, 14623,  5842,  5842,  5842, 14623,\n",
      "         5842,  5842,  5842, 14623,  5842,  5842, 14623,  5842,  5842, 14623,\n",
      "        14648, 14648, 14623, 14648, 14648, 14648,  5842, 14648,  5842,  5842,\n",
      "         5842, 14623,  5842, 14648, 14623,  5842,  5842,  5842, 14623, 14623,\n",
      "         5842, 14648, 14648,  5842,  5842, 14648,  5842, 14623,  5842,  5842,\n",
      "        14623, 14648, 14623,  5842, 14648, 14648,  5842, 14623, 14623, 14648,\n",
      "         5842,  5842,  5842, 14623, 14648,  5842, 14648, 14623, 14648, 14623,\n",
      "        14623, 14648, 14648, 14623,  5842,  5842,  5842,  5842, 14623,  5842,\n",
      "        14648, 14623, 14648, 14648, 14648, 14648,  5842, 14623, 14648, 14623,\n",
      "         5842,  5842,  5842, 14648, 14648,  5842, 14623, 14648,  5842, 14648,\n",
      "         5842,  5842,  5842,  5842, 14623,  5842,  5842, 14648, 14623, 14648,\n",
      "        14648,  5842,  5842,  5842,  5842,  5842, 14623,  5842, 14648, 14623,\n",
      "        14623,  5842, 14623, 14623,  5842, 14648,  5842,  5842, 14623, 14623,\n",
      "         5842, 14623,  5842, 14623, 14623,  5842, 14623,  5842,  5842,  5842,\n",
      "        14648, 14623,  5842,  5842,  5842,  5842, 14623,  5842, 14623, 14648,\n",
      "        14623,  5842,  5842, 14648, 14623, 14623, 14623, 14623, 14648,  5842,\n",
      "        14623, 14648,  5842,  5842,  5842, 14623,  5842,  5842,  5842, 14623,\n",
      "         5842,  5842, 14623, 14623, 14623, 14648,  5842, 14648,  5842,  5842,\n",
      "        14623, 14623, 14623, 14623,  5842,  5842,  5842,  5842, 14623,  5842,\n",
      "         5842, 14623, 14623,  5842,  5842,  5842, 14623,  5842, 14648,  5842,\n",
      "        14648, 14623, 14648, 14648,  5842, 14623, 14648,  5842, 14648,  5842,\n",
      "        14623, 14648, 14623, 14648,  5842,  5842, 14623,  5842, 14623, 14648,\n",
      "         5842,  5842, 14648, 14648, 14648, 14648,  5842, 14648,  5842,  5842,\n",
      "         5842, 14648, 14623, 14623, 14648,  5842,  5842, 14648,  5842, 14648,\n",
      "         5842,  5842, 14648, 14623,  5842,  5842,  5842, 14623,  5842,  5842,\n",
      "         5842, 14648, 14623,  5842,  5842,  5842, 14648,  5842, 14648,  5842,\n",
      "        14623, 14623, 14648,  5842, 14648, 14648, 14623, 14623, 14648,  5842,\n",
      "         5842, 14648,  5842, 14648, 14648,  5842, 14623, 14623, 14623,  5842,\n",
      "         5842, 14623, 14648,  5842, 14623, 14648,  5842, 14623, 14623, 14648,\n",
      "         5842,  5842,  5842,  5842, 14648,  5842,  5842, 14623,  5842,  5842,\n",
      "        14623,  5842, 14623,  5842, 14648, 14623, 14648,  5842, 14648,  5842,\n",
      "        14648, 14623,  5842, 14648,  5842, 14623,  5842, 14623,  5842, 14623,\n",
      "        14648, 14648,  5842, 14648, 14648, 14648,  5842, 14648, 14623,  5842,\n",
      "        14648,  5842, 14623, 14623,  5842,  5842,  5842,  5842, 14623, 14623,\n",
      "        14648, 14623, 14623, 14648,  5842,  5842, 14648, 14648, 14623, 14623,\n",
      "        14648, 14623, 14648,  5842, 14623, 14623, 14623,  5842, 14623,  5842,\n",
      "         5842, 14648, 14623,  5842,  5842, 14648, 14648, 14648, 14648, 14623,\n",
      "        14623, 14623, 14648, 14623,  5842, 14648,  5842,  5842,  5842, 14648,\n",
      "        14623,  5842, 14648, 14623, 14648,  5842,  5842, 14648, 14623, 14623,\n",
      "        14623,  5842,  5842,  5842,  5842, 14623, 14648, 14648,  5842, 14623,\n",
      "        14623, 14623,  5842, 14648,  5842, 14648,  5842, 14648, 14648,  5842,\n",
      "        14648,  5842,  5842,  5842, 14623,  5842,  5842, 14623, 14648, 14648,\n",
      "        14623, 14648, 14623,  5842,  5842, 14623,  5842,  5842, 14623, 14623,\n",
      "         5842, 14648,  5842,  5842, 14648,  5842,  5842,  5842, 14648, 14648,\n",
      "         5842,  5842,  5842,  5842,  5842, 14623,  5842, 14623, 14623,  5842,\n",
      "         5842,  5842, 14648, 14623, 14648,  5842,  5842, 14623, 14648, 14648,\n",
      "        14623, 14648,  5842,  5842, 14648,  5842,  5842, 14648,  5842,  5842,\n",
      "        14648,  5842,  5842, 14623, 14648,  5842, 14648, 14623,  5842, 14623,\n",
      "        14648,  5842, 14648,  5842,  5842,  5842,  5842, 14648, 14648, 14623,\n",
      "         5842, 14623, 14623,  5842, 14648,  5842,  5842, 14623, 14623, 14623,\n",
      "         5842, 14648,  5842,  5842,  5842, 14648, 14623, 14623, 14648, 14623,\n",
      "        14623, 14648, 14648,  5842, 14623, 14623, 14648,  5842, 14623, 14623,\n",
      "         5842,  5842, 14648,  5842, 14623, 14648,  5842,  5842,  5842, 14648,\n",
      "        14648, 14623, 14648, 14623,  5842, 14623, 14623,  5842, 14623,  5842,\n",
      "         5842, 14648,  5842,  5842, 14648, 14648, 14623, 14648,  5842,  5842,\n",
      "        14623,  5842,  5842, 14648, 14623, 14648, 14623,  5842,  5842, 14648,\n",
      "         5842,  5842,  5842, 14648,  5842,  5842, 14648, 14648,  5842,  5842,\n",
      "         5842,  5842,  5842, 14648, 14648, 14623, 14623, 14623, 14648,  5842,\n",
      "        14648,  5842, 14623, 14648,  5842,  5842, 14648, 14623,  5842,  5842,\n",
      "        14623, 14623, 14648,  5842, 14648, 14648,  5842, 14648, 14623, 14623,\n",
      "         5842, 14648, 14648, 14648, 14623,  5842, 14648, 14648, 14623, 14623,\n",
      "        14648,  5842, 14648,  5842,  5842, 14623,  5842, 14623,  5842, 14623,\n",
      "        14648, 14648, 14648, 14623, 14623,  5842, 14648,  5842,  5842, 14648,\n",
      "        14648, 14623,  5842,  5842,  5842, 14648,  5842,  5842, 14648,  5842],\n",
      "       device='cuda:0')\n",
      "tensor([[[14623],\n",
      "         [ 5842]],\n",
      "\n",
      "        [[ 5842],\n",
      "         [14648]],\n",
      "\n",
      "        [[14623],\n",
      "         [ 5842]],\n",
      "\n",
      "        ...,\n",
      "\n",
      "        [[14623],\n",
      "         [14648]],\n",
      "\n",
      "        [[14623],\n",
      "         [ 5842]],\n",
      "\n",
      "        [[14623],\n",
      "         [14648]]], device='cuda:0')\n"
     ]
    }
   ],
   "source": [
    "clean_tok_answers = []\n",
    "clean_tok_wrong_answers = []\n",
    "\n",
    "for i in range(len(clean_dataset.deltas)):\n",
    "    start = clean_dataset.deltas[i][\"{player}\"].start\n",
    "    end = clean_dataset.deltas[i][\"{player}\"].stop\n",
    "    correct_sport_tok, wrong_sports_toks = player_to_sport_tok[tuple(clean_dataset.toks[i, start:end].tolist())]\n",
    "    clean_tok_answers.append(\n",
    "        torch.tensor(correct_sport_tok)\n",
    "    )\n",
    "    clean_tok_wrong_answers.append(\n",
    "        torch.tensor(wrong_sports_toks)\n",
    "    )\n",
    "clean_tok_answers = torch.tensor(clean_tok_answers, device='cuda:0')\n",
    "clean_tok_wrong_answers = torch.stack(clean_tok_wrong_answers).to(device='cuda:0')\n",
    "print(clean_tok_answers)\n",
    "print(clean_tok_wrong_answers)"
   ]
  },
  {
   "cell_type": "code",
   "execution_count": 7,
   "metadata": {},
   "outputs": [
    {
     "name": "stdout",
     "output_type": "stream",
     "text": [
      "OpenAI API key not found, will not be able to run evaluations on HPSAQ Task\n",
      "OpenAI API key not found, will not be able to run evaluations on HPSAQ Task\n",
      "torch.Size([1000, 22, 50304]), torch.Size([1000]), torch.Size([1000, 2, 1])\n",
      "torch.Size([1000, 22, 50304]), torch.Size([1000]), torch.Size([1000, 2, 1])\n",
      "torch.Size([1000, 22, 50304]), torch.Size([1000]), torch.Size([1000, 2, 1])\n",
      "torch.Size([1000, 22, 50304]), torch.Size([1000]), torch.Size([1000, 2, 1])\n",
      "Clean direction: 2.979696750640869, Corrupt direction: -0.09569133073091507\n",
      "Clean metric: 1.0, Corrupt metric: 0.0\n"
     ]
    }
   ],
   "source": [
    "from localizations.eap.eap_wrapper import EAP\n",
    "from tasks.inference_utils import get_final_logits\n",
    "\n",
    "def ave_logit_diff(\n",
    "    logits,\n",
    "    clean_answers,\n",
    "    wrong_answers,\n",
    "    per_prompt: bool = False,\n",
    "    verbose=False\n",
    "):\n",
    "    '''\n",
    "        Return average logit difference between correct and incorrect answers\n",
    "    '''\n",
    "    if verbose:\n",
    "        print(logits.shape)\n",
    "        last_logits = logits[:, -1, :]\n",
    "\n",
    "        # Get the top 10 logits and their indices for the last sequence position across the batch\n",
    "        top_logits, top_indices = torch.topk(last_logits, 10, dim=-1)\n",
    "\n",
    "        # # Decode the top indices to tokens for each item in the batch\n",
    "        top_tokens = [tokenizer.decode(indices.tolist()) for indices in top_indices]\n",
    "\n",
    "        print(f\"{top_tokens=}\\n{top_logits=}\")\n",
    "    \n",
    "    print(f\"{logits.shape}, {clean_answers.shape}, {wrong_answers.shape}\")\n",
    "    logits_correct = logits[list(range(logits.size(0))), -1, clean_answers]\n",
    "    logits_incorrect = logits[list(range(logits.size(0))), -1, wrong_answers].mean(dim=1)\n",
    "    logit_diff = logits_correct - logits_incorrect\n",
    "    return logit_diff if per_prompt else logit_diff.mean()\n",
    "\n",
    "with torch.no_grad():\n",
    "    clean_logits = model(clean_dataset.toks)\n",
    "    corrupt_logits = model(corr_dataset.toks)\n",
    "    clean_logit_diff = ave_logit_diff(\n",
    "        clean_logits, \n",
    "        clean_answers=clean_tok_answers, \n",
    "        wrong_answers=clean_tok_wrong_answers\n",
    "    ).item()\n",
    "    corrupt_logit_diff = ave_logit_diff(\n",
    "        corrupt_logits, \n",
    "        clean_answers=clean_tok_answers, \n",
    "        wrong_answers=clean_tok_wrong_answers\n",
    "    ).item()\n",
    "\n",
    "def refusals_metric(\n",
    "    logits,\n",
    "    clean_answers=clean_tok_answers,\n",
    "    wrong_answers=clean_tok_wrong_answers,\n",
    "    corrupted_logit_diff: float = corrupt_logit_diff,\n",
    "    clean_logit_diff: float = clean_logit_diff,\n",
    " ):\n",
    "    patched_logit_diff = ave_logit_diff(\n",
    "        logits,\n",
    "        clean_answers,\n",
    "        wrong_answers,\n",
    "    )\n",
    "    return (patched_logit_diff - corrupted_logit_diff) / (clean_logit_diff - corrupted_logit_diff)\n",
    "\n",
    "# Get clean and corrupt logit differences\n",
    "with torch.no_grad():\n",
    "    clean_metric = refusals_metric(clean_logits, corrupted_logit_diff=corrupt_logit_diff, clean_logit_diff=clean_logit_diff)\n",
    "    corrupt_metric = refusals_metric(corrupt_logits, corrupted_logit_diff=corrupt_logit_diff, clean_logit_diff=clean_logit_diff)\n",
    "\n",
    "print(f'Clean direction: {clean_logit_diff}, Corrupt direction: {corrupt_logit_diff}')\n",
    "print(f'Clean metric: {clean_metric}, Corrupt metric: {corrupt_metric}')"
   ]
  },
  {
   "cell_type": "code",
   "execution_count": 8,
   "metadata": {},
   "outputs": [
    {
     "data": {
      "text/plain": [
       "'<|endoftext|><|endoftext|><|endoftext|><|endoftext|>Fact: Tiger Woods plays the sport of golf\\nFact: Austin Rivers plays the sport of'"
      ]
     },
     "execution_count": 8,
     "metadata": {},
     "output_type": "execute_result"
    }
   ],
   "source": [
    "tokenizer.decode(clean_dataset.toks[0])"
   ]
  },
  {
   "cell_type": "code",
   "execution_count": 9,
   "metadata": {},
   "outputs": [
    {
     "name": "stderr",
     "output_type": "stream",
     "text": [
      "Asking to truncate to max_length but no maximum length is provided and the model has no predefined maximum length. Default to no truncation.\n"
     ]
    },
    {
     "name": "stdout",
     "output_type": "stream",
     "text": [
      "0.0625\n",
      "tensor(2.5527, device='cuda:0')\n"
     ]
    }
   ],
   "source": [
    "from tasks import SportsTask\n",
    "sports_task = SportsTask(32, tokenizer, device='cuda:0')\n",
    "print(sports_task.get_test_accuracy(model, check_all_logits=True))\n",
    "print(sports_task.get_logit_diff(model))\n"
   ]
  },
  {
   "cell_type": "code",
   "execution_count": 10,
   "metadata": {},
   "outputs": [
    {
     "name": "stdout",
     "output_type": "stream",
     "text": [
      "Saving activations requires 0.0101 GB of memory per token\n"
     ]
    },
    {
     "name": "stderr",
     "output_type": "stream",
     "text": [
      "  0%|          | 0/100 [00:00<?, ?it/s]"
     ]
    },
    {
     "name": "stdout",
     "output_type": "stream",
     "text": [
      "torch.Size([10, 22, 50304]), torch.Size([10]), torch.Size([10, 2, 1])\n"
     ]
    },
    {
     "name": "stderr",
     "output_type": "stream",
     "text": [
      "  1%|          | 1/100 [00:08<14:33,  8.82s/it]"
     ]
    },
    {
     "name": "stdout",
     "output_type": "stream",
     "text": [
      "torch.Size([10, 22, 50304]), torch.Size([10]), torch.Size([10, 2, 1])\n"
     ]
    },
    {
     "name": "stderr",
     "output_type": "stream",
     "text": [
      "  2%|▏         | 2/100 [00:17<14:27,  8.85s/it]"
     ]
    },
    {
     "name": "stdout",
     "output_type": "stream",
     "text": [
      "torch.Size([10, 22, 50304]), torch.Size([10]), torch.Size([10, 2, 1])\n"
     ]
    },
    {
     "name": "stderr",
     "output_type": "stream",
     "text": [
      "  3%|▎         | 3/100 [00:27<14:42,  9.10s/it]"
     ]
    },
    {
     "name": "stdout",
     "output_type": "stream",
     "text": [
      "torch.Size([10, 22, 50304]), torch.Size([10]), torch.Size([10, 2, 1])\n"
     ]
    },
    {
     "name": "stderr",
     "output_type": "stream",
     "text": [
      "  4%|▍         | 4/100 [00:36<14:36,  9.13s/it]"
     ]
    },
    {
     "name": "stdout",
     "output_type": "stream",
     "text": [
      "torch.Size([10, 22, 50304]), torch.Size([10]), torch.Size([10, 2, 1])\n"
     ]
    },
    {
     "name": "stderr",
     "output_type": "stream",
     "text": [
      "  5%|▌         | 5/100 [00:45<14:28,  9.14s/it]"
     ]
    },
    {
     "name": "stdout",
     "output_type": "stream",
     "text": [
      "torch.Size([10, 22, 50304]), torch.Size([10]), torch.Size([10, 2, 1])\n"
     ]
    },
    {
     "name": "stderr",
     "output_type": "stream",
     "text": [
      "  6%|▌         | 6/100 [00:54<14:20,  9.16s/it]"
     ]
    },
    {
     "name": "stdout",
     "output_type": "stream",
     "text": [
      "torch.Size([10, 22, 50304]), torch.Size([10]), torch.Size([10, 2, 1])\n"
     ]
    },
    {
     "name": "stderr",
     "output_type": "stream",
     "text": [
      "  7%|▋         | 7/100 [01:03<14:09,  9.13s/it]"
     ]
    },
    {
     "name": "stdout",
     "output_type": "stream",
     "text": [
      "torch.Size([10, 22, 50304]), torch.Size([10]), torch.Size([10, 2, 1])\n"
     ]
    },
    {
     "name": "stderr",
     "output_type": "stream",
     "text": [
      "  8%|▊         | 8/100 [01:12<13:53,  9.06s/it]"
     ]
    },
    {
     "name": "stdout",
     "output_type": "stream",
     "text": [
      "torch.Size([10, 22, 50304]), torch.Size([10]), torch.Size([10, 2, 1])\n"
     ]
    },
    {
     "name": "stderr",
     "output_type": "stream",
     "text": [
      "  9%|▉         | 9/100 [01:21<13:52,  9.14s/it]"
     ]
    },
    {
     "name": "stdout",
     "output_type": "stream",
     "text": [
      "torch.Size([10, 22, 50304]), torch.Size([10]), torch.Size([10, 2, 1])\n"
     ]
    },
    {
     "name": "stderr",
     "output_type": "stream",
     "text": [
      " 10%|█         | 10/100 [01:31<13:50,  9.23s/it]"
     ]
    },
    {
     "name": "stdout",
     "output_type": "stream",
     "text": [
      "torch.Size([10, 22, 50304]), torch.Size([10]), torch.Size([10, 2, 1])\n"
     ]
    },
    {
     "name": "stderr",
     "output_type": "stream",
     "text": [
      " 11%|█         | 11/100 [01:40<13:34,  9.15s/it]"
     ]
    },
    {
     "name": "stdout",
     "output_type": "stream",
     "text": [
      "torch.Size([10, 22, 50304]), torch.Size([10]), torch.Size([10, 2, 1])\n"
     ]
    },
    {
     "name": "stderr",
     "output_type": "stream",
     "text": [
      " 12%|█▏        | 12/100 [01:49<13:14,  9.03s/it]"
     ]
    },
    {
     "name": "stdout",
     "output_type": "stream",
     "text": [
      "torch.Size([10, 22, 50304]), torch.Size([10]), torch.Size([10, 2, 1])\n"
     ]
    },
    {
     "name": "stderr",
     "output_type": "stream",
     "text": [
      " 13%|█▎        | 13/100 [01:58<13:07,  9.05s/it]"
     ]
    },
    {
     "name": "stdout",
     "output_type": "stream",
     "text": [
      "torch.Size([10, 22, 50304]), torch.Size([10]), torch.Size([10, 2, 1])\n"
     ]
    },
    {
     "name": "stderr",
     "output_type": "stream",
     "text": [
      " 14%|█▍        | 14/100 [02:07<12:53,  8.99s/it]"
     ]
    },
    {
     "name": "stdout",
     "output_type": "stream",
     "text": [
      "torch.Size([10, 22, 50304]), torch.Size([10]), torch.Size([10, 2, 1])\n"
     ]
    },
    {
     "name": "stderr",
     "output_type": "stream",
     "text": [
      " 15%|█▌        | 15/100 [02:16<12:50,  9.07s/it]"
     ]
    },
    {
     "name": "stdout",
     "output_type": "stream",
     "text": [
      "torch.Size([10, 22, 50304]), torch.Size([10]), torch.Size([10, 2, 1])\n"
     ]
    },
    {
     "name": "stderr",
     "output_type": "stream",
     "text": [
      " 16%|█▌        | 16/100 [02:25<12:40,  9.06s/it]"
     ]
    },
    {
     "name": "stdout",
     "output_type": "stream",
     "text": [
      "torch.Size([10, 22, 50304]), torch.Size([10]), torch.Size([10, 2, 1])\n"
     ]
    },
    {
     "name": "stderr",
     "output_type": "stream",
     "text": [
      " 17%|█▋        | 17/100 [02:34<12:35,  9.11s/it]"
     ]
    },
    {
     "name": "stdout",
     "output_type": "stream",
     "text": [
      "torch.Size([10, 22, 50304]), torch.Size([10]), torch.Size([10, 2, 1])\n"
     ]
    },
    {
     "name": "stderr",
     "output_type": "stream",
     "text": [
      " 18%|█▊        | 18/100 [02:43<12:21,  9.04s/it]"
     ]
    },
    {
     "name": "stdout",
     "output_type": "stream",
     "text": [
      "torch.Size([10, 22, 50304]), torch.Size([10]), torch.Size([10, 2, 1])\n"
     ]
    },
    {
     "name": "stderr",
     "output_type": "stream",
     "text": [
      " 19%|█▉        | 19/100 [02:52<12:06,  8.96s/it]"
     ]
    },
    {
     "name": "stdout",
     "output_type": "stream",
     "text": [
      "torch.Size([10, 22, 50304]), torch.Size([10]), torch.Size([10, 2, 1])\n"
     ]
    },
    {
     "name": "stderr",
     "output_type": "stream",
     "text": [
      " 20%|██        | 20/100 [03:01<12:03,  9.04s/it]"
     ]
    },
    {
     "name": "stdout",
     "output_type": "stream",
     "text": [
      "torch.Size([10, 22, 50304]), torch.Size([10]), torch.Size([10, 2, 1])\n"
     ]
    },
    {
     "name": "stderr",
     "output_type": "stream",
     "text": [
      " 21%|██        | 21/100 [03:10<11:54,  9.04s/it]"
     ]
    },
    {
     "name": "stdout",
     "output_type": "stream",
     "text": [
      "torch.Size([10, 22, 50304]), torch.Size([10]), torch.Size([10, 2, 1])\n"
     ]
    },
    {
     "name": "stderr",
     "output_type": "stream",
     "text": [
      " 22%|██▏       | 22/100 [03:19<11:50,  9.10s/it]"
     ]
    },
    {
     "name": "stdout",
     "output_type": "stream",
     "text": [
      "torch.Size([10, 22, 50304]), torch.Size([10]), torch.Size([10, 2, 1])\n"
     ]
    },
    {
     "name": "stderr",
     "output_type": "stream",
     "text": [
      " 23%|██▎       | 23/100 [03:29<11:49,  9.22s/it]"
     ]
    },
    {
     "name": "stdout",
     "output_type": "stream",
     "text": [
      "torch.Size([10, 22, 50304]), torch.Size([10]), torch.Size([10, 2, 1])\n"
     ]
    },
    {
     "name": "stderr",
     "output_type": "stream",
     "text": [
      " 24%|██▍       | 24/100 [03:38<11:47,  9.31s/it]"
     ]
    },
    {
     "name": "stdout",
     "output_type": "stream",
     "text": [
      "torch.Size([10, 22, 50304]), torch.Size([10]), torch.Size([10, 2, 1])\n"
     ]
    },
    {
     "name": "stderr",
     "output_type": "stream",
     "text": [
      " 25%|██▌       | 25/100 [03:47<11:26,  9.15s/it]"
     ]
    },
    {
     "name": "stdout",
     "output_type": "stream",
     "text": [
      "torch.Size([10, 22, 50304]), torch.Size([10]), torch.Size([10, 2, 1])\n"
     ]
    },
    {
     "name": "stderr",
     "output_type": "stream",
     "text": [
      " 26%|██▌       | 26/100 [03:56<11:18,  9.17s/it]"
     ]
    },
    {
     "name": "stdout",
     "output_type": "stream",
     "text": [
      "torch.Size([10, 22, 50304]), torch.Size([10]), torch.Size([10, 2, 1])\n"
     ]
    },
    {
     "name": "stderr",
     "output_type": "stream",
     "text": [
      " 27%|██▋       | 27/100 [04:06<11:12,  9.21s/it]"
     ]
    },
    {
     "name": "stdout",
     "output_type": "stream",
     "text": [
      "torch.Size([10, 22, 50304]), torch.Size([10]), torch.Size([10, 2, 1])\n"
     ]
    },
    {
     "name": "stderr",
     "output_type": "stream",
     "text": [
      " 28%|██▊       | 28/100 [04:15<11:01,  9.19s/it]"
     ]
    },
    {
     "name": "stdout",
     "output_type": "stream",
     "text": [
      "torch.Size([10, 22, 50304]), torch.Size([10]), torch.Size([10, 2, 1])\n"
     ]
    },
    {
     "name": "stderr",
     "output_type": "stream",
     "text": [
      " 29%|██▉       | 29/100 [04:24<10:56,  9.25s/it]"
     ]
    },
    {
     "name": "stdout",
     "output_type": "stream",
     "text": [
      "torch.Size([10, 22, 50304]), torch.Size([10]), torch.Size([10, 2, 1])\n"
     ]
    },
    {
     "name": "stderr",
     "output_type": "stream",
     "text": [
      " 30%|███       | 30/100 [04:33<10:42,  9.18s/it]"
     ]
    },
    {
     "name": "stdout",
     "output_type": "stream",
     "text": [
      "torch.Size([10, 22, 50304]), torch.Size([10]), torch.Size([10, 2, 1])\n"
     ]
    },
    {
     "name": "stderr",
     "output_type": "stream",
     "text": [
      " 31%|███       | 31/100 [04:43<10:39,  9.27s/it]"
     ]
    },
    {
     "name": "stdout",
     "output_type": "stream",
     "text": [
      "torch.Size([10, 22, 50304]), torch.Size([10]), torch.Size([10, 2, 1])\n"
     ]
    },
    {
     "name": "stderr",
     "output_type": "stream",
     "text": [
      " 32%|███▏      | 32/100 [04:52<10:24,  9.19s/it]"
     ]
    },
    {
     "name": "stdout",
     "output_type": "stream",
     "text": [
      "torch.Size([10, 22, 50304]), torch.Size([10]), torch.Size([10, 2, 1])\n"
     ]
    },
    {
     "name": "stderr",
     "output_type": "stream",
     "text": [
      " 33%|███▎      | 33/100 [05:01<10:12,  9.15s/it]"
     ]
    },
    {
     "name": "stdout",
     "output_type": "stream",
     "text": [
      "torch.Size([10, 22, 50304]), torch.Size([10]), torch.Size([10, 2, 1])\n"
     ]
    },
    {
     "name": "stderr",
     "output_type": "stream",
     "text": [
      " 34%|███▍      | 34/100 [05:10<10:01,  9.11s/it]"
     ]
    },
    {
     "name": "stdout",
     "output_type": "stream",
     "text": [
      "torch.Size([10, 22, 50304]), torch.Size([10]), torch.Size([10, 2, 1])\n"
     ]
    },
    {
     "name": "stderr",
     "output_type": "stream",
     "text": [
      " 35%|███▌      | 35/100 [05:18<09:45,  9.01s/it]"
     ]
    },
    {
     "name": "stdout",
     "output_type": "stream",
     "text": [
      "torch.Size([10, 22, 50304]), torch.Size([10]), torch.Size([10, 2, 1])\n"
     ]
    },
    {
     "name": "stderr",
     "output_type": "stream",
     "text": [
      " 36%|███▌      | 36/100 [05:27<09:31,  8.93s/it]"
     ]
    },
    {
     "name": "stdout",
     "output_type": "stream",
     "text": [
      "torch.Size([10, 22, 50304]), torch.Size([10]), torch.Size([10, 2, 1])\n"
     ]
    },
    {
     "name": "stderr",
     "output_type": "stream",
     "text": [
      " 37%|███▋      | 37/100 [05:37<09:30,  9.06s/it]"
     ]
    },
    {
     "name": "stdout",
     "output_type": "stream",
     "text": [
      "torch.Size([10, 22, 50304]), torch.Size([10]), torch.Size([10, 2, 1])\n"
     ]
    },
    {
     "name": "stderr",
     "output_type": "stream",
     "text": [
      " 38%|███▊      | 38/100 [05:46<09:20,  9.04s/it]"
     ]
    },
    {
     "name": "stdout",
     "output_type": "stream",
     "text": [
      "torch.Size([10, 22, 50304]), torch.Size([10]), torch.Size([10, 2, 1])\n"
     ]
    },
    {
     "name": "stderr",
     "output_type": "stream",
     "text": [
      " 39%|███▉      | 39/100 [05:54<09:06,  8.95s/it]"
     ]
    },
    {
     "name": "stdout",
     "output_type": "stream",
     "text": [
      "torch.Size([10, 22, 50304]), torch.Size([10]), torch.Size([10, 2, 1])\n"
     ]
    },
    {
     "name": "stderr",
     "output_type": "stream",
     "text": [
      " 40%|████      | 40/100 [06:03<08:55,  8.93s/it]"
     ]
    },
    {
     "name": "stdout",
     "output_type": "stream",
     "text": [
      "torch.Size([10, 22, 50304]), torch.Size([10]), torch.Size([10, 2, 1])\n"
     ]
    },
    {
     "name": "stderr",
     "output_type": "stream",
     "text": [
      " 41%|████      | 41/100 [06:12<08:45,  8.90s/it]"
     ]
    },
    {
     "name": "stdout",
     "output_type": "stream",
     "text": [
      "torch.Size([10, 22, 50304]), torch.Size([10]), torch.Size([10, 2, 1])\n"
     ]
    },
    {
     "name": "stderr",
     "output_type": "stream",
     "text": [
      " 42%|████▏     | 42/100 [06:21<08:35,  8.90s/it]"
     ]
    },
    {
     "name": "stdout",
     "output_type": "stream",
     "text": [
      "torch.Size([10, 22, 50304]), torch.Size([10]), torch.Size([10, 2, 1])\n"
     ]
    },
    {
     "name": "stderr",
     "output_type": "stream",
     "text": [
      " 43%|████▎     | 43/100 [06:30<08:24,  8.86s/it]"
     ]
    },
    {
     "name": "stdout",
     "output_type": "stream",
     "text": [
      "torch.Size([10, 22, 50304]), torch.Size([10]), torch.Size([10, 2, 1])\n"
     ]
    },
    {
     "name": "stderr",
     "output_type": "stream",
     "text": [
      " 44%|████▍     | 44/100 [06:38<08:09,  8.74s/it]"
     ]
    },
    {
     "name": "stdout",
     "output_type": "stream",
     "text": [
      "torch.Size([10, 22, 50304]), torch.Size([10]), torch.Size([10, 2, 1])\n"
     ]
    },
    {
     "name": "stderr",
     "output_type": "stream",
     "text": [
      " 45%|████▌     | 45/100 [06:47<08:03,  8.79s/it]"
     ]
    },
    {
     "name": "stdout",
     "output_type": "stream",
     "text": [
      "torch.Size([10, 22, 50304]), torch.Size([10]), torch.Size([10, 2, 1])\n"
     ]
    },
    {
     "name": "stderr",
     "output_type": "stream",
     "text": [
      " 46%|████▌     | 46/100 [06:56<07:57,  8.84s/it]"
     ]
    },
    {
     "name": "stdout",
     "output_type": "stream",
     "text": [
      "torch.Size([10, 22, 50304]), torch.Size([10]), torch.Size([10, 2, 1])\n"
     ]
    },
    {
     "name": "stderr",
     "output_type": "stream",
     "text": [
      " 47%|████▋     | 47/100 [07:05<07:45,  8.79s/it]"
     ]
    },
    {
     "name": "stdout",
     "output_type": "stream",
     "text": [
      "torch.Size([10, 22, 50304]), torch.Size([10]), torch.Size([10, 2, 1])\n"
     ]
    },
    {
     "name": "stderr",
     "output_type": "stream",
     "text": [
      " 48%|████▊     | 48/100 [07:14<07:39,  8.84s/it]"
     ]
    },
    {
     "name": "stdout",
     "output_type": "stream",
     "text": [
      "torch.Size([10, 22, 50304]), torch.Size([10]), torch.Size([10, 2, 1])\n"
     ]
    },
    {
     "name": "stderr",
     "output_type": "stream",
     "text": [
      " 49%|████▉     | 49/100 [07:23<07:32,  8.87s/it]"
     ]
    },
    {
     "name": "stdout",
     "output_type": "stream",
     "text": [
      "torch.Size([10, 22, 50304]), torch.Size([10]), torch.Size([10, 2, 1])\n"
     ]
    },
    {
     "name": "stderr",
     "output_type": "stream",
     "text": [
      " 50%|█████     | 50/100 [07:31<07:19,  8.78s/it]"
     ]
    },
    {
     "name": "stdout",
     "output_type": "stream",
     "text": [
      "torch.Size([10, 22, 50304]), torch.Size([10]), torch.Size([10, 2, 1])\n"
     ]
    },
    {
     "name": "stderr",
     "output_type": "stream",
     "text": [
      " 51%|█████     | 51/100 [07:40<07:12,  8.82s/it]"
     ]
    },
    {
     "name": "stdout",
     "output_type": "stream",
     "text": [
      "torch.Size([10, 22, 50304]), torch.Size([10]), torch.Size([10, 2, 1])\n"
     ]
    },
    {
     "name": "stderr",
     "output_type": "stream",
     "text": [
      " 52%|█████▏    | 52/100 [07:49<07:02,  8.81s/it]"
     ]
    },
    {
     "name": "stdout",
     "output_type": "stream",
     "text": [
      "torch.Size([10, 22, 50304]), torch.Size([10]), torch.Size([10, 2, 1])\n"
     ]
    },
    {
     "name": "stderr",
     "output_type": "stream",
     "text": [
      " 53%|█████▎    | 53/100 [07:58<06:56,  8.85s/it]"
     ]
    },
    {
     "name": "stdout",
     "output_type": "stream",
     "text": [
      "torch.Size([10, 22, 50304]), torch.Size([10]), torch.Size([10, 2, 1])\n"
     ]
    },
    {
     "name": "stderr",
     "output_type": "stream",
     "text": [
      " 54%|█████▍    | 54/100 [08:06<06:44,  8.80s/it]"
     ]
    },
    {
     "name": "stdout",
     "output_type": "stream",
     "text": [
      "torch.Size([10, 22, 50304]), torch.Size([10]), torch.Size([10, 2, 1])\n"
     ]
    },
    {
     "name": "stderr",
     "output_type": "stream",
     "text": [
      " 55%|█████▌    | 55/100 [08:16<06:44,  9.00s/it]"
     ]
    },
    {
     "name": "stdout",
     "output_type": "stream",
     "text": [
      "torch.Size([10, 22, 50304]), torch.Size([10]), torch.Size([10, 2, 1])\n"
     ]
    },
    {
     "name": "stderr",
     "output_type": "stream",
     "text": [
      " 56%|█████▌    | 56/100 [08:25<06:38,  9.05s/it]"
     ]
    },
    {
     "name": "stdout",
     "output_type": "stream",
     "text": [
      "torch.Size([10, 22, 50304]), torch.Size([10]), torch.Size([10, 2, 1])\n"
     ]
    },
    {
     "name": "stderr",
     "output_type": "stream",
     "text": [
      " 57%|█████▋    | 57/100 [08:35<06:40,  9.32s/it]"
     ]
    },
    {
     "name": "stdout",
     "output_type": "stream",
     "text": [
      "torch.Size([10, 22, 50304]), torch.Size([10]), torch.Size([10, 2, 1])\n"
     ]
    },
    {
     "name": "stderr",
     "output_type": "stream",
     "text": [
      " 58%|█████▊    | 58/100 [08:44<06:26,  9.20s/it]"
     ]
    },
    {
     "name": "stdout",
     "output_type": "stream",
     "text": [
      "torch.Size([10, 22, 50304]), torch.Size([10]), torch.Size([10, 2, 1])\n"
     ]
    },
    {
     "name": "stderr",
     "output_type": "stream",
     "text": [
      " 59%|█████▉    | 59/100 [08:53<06:16,  9.18s/it]"
     ]
    },
    {
     "name": "stdout",
     "output_type": "stream",
     "text": [
      "torch.Size([10, 22, 50304]), torch.Size([10]), torch.Size([10, 2, 1])\n"
     ]
    },
    {
     "name": "stderr",
     "output_type": "stream",
     "text": [
      " 60%|██████    | 60/100 [09:02<06:07,  9.20s/it]"
     ]
    },
    {
     "name": "stdout",
     "output_type": "stream",
     "text": [
      "torch.Size([10, 22, 50304]), torch.Size([10]), torch.Size([10, 2, 1])\n"
     ]
    },
    {
     "name": "stderr",
     "output_type": "stream",
     "text": [
      " 61%|██████    | 61/100 [09:11<05:56,  9.13s/it]"
     ]
    },
    {
     "name": "stdout",
     "output_type": "stream",
     "text": [
      "torch.Size([10, 22, 50304]), torch.Size([10]), torch.Size([10, 2, 1])\n"
     ]
    },
    {
     "name": "stderr",
     "output_type": "stream",
     "text": [
      " 62%|██████▏   | 62/100 [09:20<05:47,  9.16s/it]"
     ]
    },
    {
     "name": "stdout",
     "output_type": "stream",
     "text": [
      "torch.Size([10, 22, 50304]), torch.Size([10]), torch.Size([10, 2, 1])\n"
     ]
    },
    {
     "name": "stderr",
     "output_type": "stream",
     "text": [
      " 63%|██████▎   | 63/100 [09:30<05:39,  9.19s/it]"
     ]
    },
    {
     "name": "stdout",
     "output_type": "stream",
     "text": [
      "torch.Size([10, 22, 50304]), torch.Size([10]), torch.Size([10, 2, 1])\n"
     ]
    },
    {
     "name": "stderr",
     "output_type": "stream",
     "text": [
      " 64%|██████▍   | 64/100 [09:39<05:30,  9.18s/it]"
     ]
    },
    {
     "name": "stdout",
     "output_type": "stream",
     "text": [
      "torch.Size([10, 22, 50304]), torch.Size([10]), torch.Size([10, 2, 1])\n"
     ]
    },
    {
     "name": "stderr",
     "output_type": "stream",
     "text": [
      " 65%|██████▌   | 65/100 [09:48<05:23,  9.26s/it]"
     ]
    },
    {
     "name": "stdout",
     "output_type": "stream",
     "text": [
      "torch.Size([10, 22, 50304]), torch.Size([10]), torch.Size([10, 2, 1])\n"
     ]
    },
    {
     "name": "stderr",
     "output_type": "stream",
     "text": [
      " 66%|██████▌   | 66/100 [09:57<05:11,  9.15s/it]"
     ]
    },
    {
     "name": "stdout",
     "output_type": "stream",
     "text": [
      "torch.Size([10, 22, 50304]), torch.Size([10]), torch.Size([10, 2, 1])\n"
     ]
    },
    {
     "name": "stderr",
     "output_type": "stream",
     "text": [
      " 67%|██████▋   | 67/100 [10:06<05:00,  9.11s/it]"
     ]
    },
    {
     "name": "stdout",
     "output_type": "stream",
     "text": [
      "torch.Size([10, 22, 50304]), torch.Size([10]), torch.Size([10, 2, 1])\n"
     ]
    },
    {
     "name": "stderr",
     "output_type": "stream",
     "text": [
      " 68%|██████▊   | 68/100 [10:16<04:55,  9.22s/it]"
     ]
    },
    {
     "name": "stdout",
     "output_type": "stream",
     "text": [
      "torch.Size([10, 22, 50304]), torch.Size([10]), torch.Size([10, 2, 1])\n"
     ]
    },
    {
     "name": "stderr",
     "output_type": "stream",
     "text": [
      " 69%|██████▉   | 69/100 [10:25<04:47,  9.26s/it]"
     ]
    },
    {
     "name": "stdout",
     "output_type": "stream",
     "text": [
      "torch.Size([10, 22, 50304]), torch.Size([10]), torch.Size([10, 2, 1])\n"
     ]
    },
    {
     "name": "stderr",
     "output_type": "stream",
     "text": [
      " 70%|███████   | 70/100 [10:34<04:38,  9.27s/it]"
     ]
    },
    {
     "name": "stdout",
     "output_type": "stream",
     "text": [
      "torch.Size([10, 22, 50304]), torch.Size([10]), torch.Size([10, 2, 1])\n"
     ]
    },
    {
     "name": "stderr",
     "output_type": "stream",
     "text": [
      " 71%|███████   | 71/100 [10:43<04:26,  9.19s/it]"
     ]
    },
    {
     "name": "stdout",
     "output_type": "stream",
     "text": [
      "torch.Size([10, 22, 50304]), torch.Size([10]), torch.Size([10, 2, 1])\n"
     ]
    },
    {
     "name": "stderr",
     "output_type": "stream",
     "text": [
      " 72%|███████▏  | 72/100 [10:52<04:14,  9.08s/it]"
     ]
    },
    {
     "name": "stdout",
     "output_type": "stream",
     "text": [
      "torch.Size([10, 22, 50304]), torch.Size([10]), torch.Size([10, 2, 1])\n"
     ]
    },
    {
     "name": "stderr",
     "output_type": "stream",
     "text": [
      " 73%|███████▎  | 73/100 [11:01<04:05,  9.08s/it]"
     ]
    },
    {
     "name": "stdout",
     "output_type": "stream",
     "text": [
      "torch.Size([10, 22, 50304]), torch.Size([10]), torch.Size([10, 2, 1])\n"
     ]
    },
    {
     "name": "stderr",
     "output_type": "stream",
     "text": [
      " 74%|███████▍  | 74/100 [11:10<03:55,  9.06s/it]"
     ]
    },
    {
     "name": "stdout",
     "output_type": "stream",
     "text": [
      "torch.Size([10, 22, 50304]), torch.Size([10]), torch.Size([10, 2, 1])\n"
     ]
    },
    {
     "name": "stderr",
     "output_type": "stream",
     "text": [
      " 75%|███████▌  | 75/100 [11:19<03:45,  9.04s/it]"
     ]
    },
    {
     "name": "stdout",
     "output_type": "stream",
     "text": [
      "torch.Size([10, 22, 50304]), torch.Size([10]), torch.Size([10, 2, 1])\n"
     ]
    },
    {
     "name": "stderr",
     "output_type": "stream",
     "text": [
      " 76%|███████▌  | 76/100 [11:28<03:35,  8.99s/it]"
     ]
    },
    {
     "name": "stdout",
     "output_type": "stream",
     "text": [
      "torch.Size([10, 22, 50304]), torch.Size([10]), torch.Size([10, 2, 1])\n"
     ]
    },
    {
     "name": "stderr",
     "output_type": "stream",
     "text": [
      " 77%|███████▋  | 77/100 [11:37<03:25,  8.92s/it]"
     ]
    },
    {
     "name": "stdout",
     "output_type": "stream",
     "text": [
      "torch.Size([10, 22, 50304]), torch.Size([10]), torch.Size([10, 2, 1])\n"
     ]
    },
    {
     "name": "stderr",
     "output_type": "stream",
     "text": [
      " 78%|███████▊  | 78/100 [11:46<03:17,  8.97s/it]"
     ]
    },
    {
     "name": "stdout",
     "output_type": "stream",
     "text": [
      "torch.Size([10, 22, 50304]), torch.Size([10]), torch.Size([10, 2, 1])\n"
     ]
    },
    {
     "name": "stderr",
     "output_type": "stream",
     "text": [
      " 79%|███████▉  | 79/100 [11:55<03:09,  9.01s/it]"
     ]
    },
    {
     "name": "stdout",
     "output_type": "stream",
     "text": [
      "torch.Size([10, 22, 50304]), torch.Size([10]), torch.Size([10, 2, 1])\n"
     ]
    },
    {
     "name": "stderr",
     "output_type": "stream",
     "text": [
      " 80%|████████  | 80/100 [12:04<02:59,  8.96s/it]"
     ]
    },
    {
     "name": "stdout",
     "output_type": "stream",
     "text": [
      "torch.Size([10, 22, 50304]), torch.Size([10]), torch.Size([10, 2, 1])\n"
     ]
    },
    {
     "name": "stderr",
     "output_type": "stream",
     "text": [
      " 81%|████████  | 81/100 [12:13<02:51,  9.02s/it]"
     ]
    },
    {
     "name": "stdout",
     "output_type": "stream",
     "text": [
      "torch.Size([10, 22, 50304]), torch.Size([10]), torch.Size([10, 2, 1])\n"
     ]
    },
    {
     "name": "stderr",
     "output_type": "stream",
     "text": [
      " 82%|████████▏ | 82/100 [12:22<02:42,  9.04s/it]"
     ]
    },
    {
     "name": "stdout",
     "output_type": "stream",
     "text": [
      "torch.Size([10, 22, 50304]), torch.Size([10]), torch.Size([10, 2, 1])\n"
     ]
    },
    {
     "name": "stderr",
     "output_type": "stream",
     "text": [
      " 83%|████████▎ | 83/100 [12:31<02:32,  9.00s/it]"
     ]
    },
    {
     "name": "stdout",
     "output_type": "stream",
     "text": [
      "torch.Size([10, 22, 50304]), torch.Size([10]), torch.Size([10, 2, 1])\n"
     ]
    },
    {
     "name": "stderr",
     "output_type": "stream",
     "text": [
      " 84%|████████▍ | 84/100 [12:40<02:23,  8.99s/it]"
     ]
    },
    {
     "name": "stdout",
     "output_type": "stream",
     "text": [
      "torch.Size([10, 22, 50304]), torch.Size([10]), torch.Size([10, 2, 1])\n"
     ]
    },
    {
     "name": "stderr",
     "output_type": "stream",
     "text": [
      " 85%|████████▌ | 85/100 [12:49<02:15,  9.03s/it]"
     ]
    },
    {
     "name": "stdout",
     "output_type": "stream",
     "text": [
      "torch.Size([10, 22, 50304]), torch.Size([10]), torch.Size([10, 2, 1])\n"
     ]
    },
    {
     "name": "stderr",
     "output_type": "stream",
     "text": [
      " 86%|████████▌ | 86/100 [12:58<02:05,  8.98s/it]"
     ]
    },
    {
     "name": "stdout",
     "output_type": "stream",
     "text": [
      "torch.Size([10, 22, 50304]), torch.Size([10]), torch.Size([10, 2, 1])\n"
     ]
    },
    {
     "name": "stderr",
     "output_type": "stream",
     "text": [
      " 87%|████████▋ | 87/100 [13:07<01:55,  8.89s/it]"
     ]
    },
    {
     "name": "stdout",
     "output_type": "stream",
     "text": [
      "torch.Size([10, 22, 50304]), torch.Size([10]), torch.Size([10, 2, 1])\n"
     ]
    },
    {
     "name": "stderr",
     "output_type": "stream",
     "text": [
      " 88%|████████▊ | 88/100 [13:15<01:45,  8.80s/it]"
     ]
    },
    {
     "name": "stdout",
     "output_type": "stream",
     "text": [
      "torch.Size([10, 22, 50304]), torch.Size([10]), torch.Size([10, 2, 1])\n"
     ]
    },
    {
     "name": "stderr",
     "output_type": "stream",
     "text": [
      " 89%|████████▉ | 89/100 [13:24<01:35,  8.71s/it]"
     ]
    },
    {
     "name": "stdout",
     "output_type": "stream",
     "text": [
      "torch.Size([10, 22, 50304]), torch.Size([10]), torch.Size([10, 2, 1])\n"
     ]
    },
    {
     "name": "stderr",
     "output_type": "stream",
     "text": [
      " 90%|█████████ | 90/100 [13:32<01:26,  8.69s/it]"
     ]
    },
    {
     "name": "stdout",
     "output_type": "stream",
     "text": [
      "torch.Size([10, 22, 50304]), torch.Size([10]), torch.Size([10, 2, 1])\n"
     ]
    },
    {
     "name": "stderr",
     "output_type": "stream",
     "text": [
      " 91%|█████████ | 91/100 [13:42<01:19,  8.88s/it]"
     ]
    },
    {
     "name": "stdout",
     "output_type": "stream",
     "text": [
      "torch.Size([10, 22, 50304]), torch.Size([10]), torch.Size([10, 2, 1])\n"
     ]
    },
    {
     "name": "stderr",
     "output_type": "stream",
     "text": [
      " 92%|█████████▏| 92/100 [13:51<01:11,  8.98s/it]"
     ]
    },
    {
     "name": "stdout",
     "output_type": "stream",
     "text": [
      "torch.Size([10, 22, 50304]), torch.Size([10]), torch.Size([10, 2, 1])\n"
     ]
    },
    {
     "name": "stderr",
     "output_type": "stream",
     "text": [
      " 93%|█████████▎| 93/100 [14:00<01:02,  8.91s/it]"
     ]
    },
    {
     "name": "stdout",
     "output_type": "stream",
     "text": [
      "torch.Size([10, 22, 50304]), torch.Size([10]), torch.Size([10, 2, 1])\n"
     ]
    },
    {
     "name": "stderr",
     "output_type": "stream",
     "text": [
      " 94%|█████████▍| 94/100 [14:09<00:53,  8.91s/it]"
     ]
    },
    {
     "name": "stdout",
     "output_type": "stream",
     "text": [
      "torch.Size([10, 22, 50304]), torch.Size([10]), torch.Size([10, 2, 1])\n"
     ]
    },
    {
     "name": "stderr",
     "output_type": "stream",
     "text": [
      " 95%|█████████▌| 95/100 [14:17<00:44,  8.84s/it]"
     ]
    },
    {
     "name": "stdout",
     "output_type": "stream",
     "text": [
      "torch.Size([10, 22, 50304]), torch.Size([10]), torch.Size([10, 2, 1])\n"
     ]
    },
    {
     "name": "stderr",
     "output_type": "stream",
     "text": [
      " 96%|█████████▌| 96/100 [14:26<00:35,  8.82s/it]"
     ]
    },
    {
     "name": "stdout",
     "output_type": "stream",
     "text": [
      "torch.Size([10, 22, 50304]), torch.Size([10]), torch.Size([10, 2, 1])\n"
     ]
    },
    {
     "name": "stderr",
     "output_type": "stream",
     "text": [
      " 97%|█████████▋| 97/100 [14:35<00:26,  8.86s/it]"
     ]
    },
    {
     "name": "stdout",
     "output_type": "stream",
     "text": [
      "torch.Size([10, 22, 50304]), torch.Size([10]), torch.Size([10, 2, 1])\n"
     ]
    },
    {
     "name": "stderr",
     "output_type": "stream",
     "text": [
      " 98%|█████████▊| 98/100 [14:44<00:17,  8.83s/it]"
     ]
    },
    {
     "name": "stdout",
     "output_type": "stream",
     "text": [
      "torch.Size([10, 22, 50304]), torch.Size([10]), torch.Size([10, 2, 1])\n"
     ]
    },
    {
     "name": "stderr",
     "output_type": "stream",
     "text": [
      " 99%|█████████▉| 99/100 [14:52<00:08,  8.78s/it]"
     ]
    },
    {
     "name": "stdout",
     "output_type": "stream",
     "text": [
      "torch.Size([10, 22, 50304]), torch.Size([10]), torch.Size([10, 2, 1])\n"
     ]
    },
    {
     "name": "stderr",
     "output_type": "stream",
     "text": [
      "100%|██████████| 100/100 [15:02<00:00,  9.02s/it]\n"
     ]
    },
    {
     "name": "stdout",
     "output_type": "stream",
     "text": [
      "[('head.0.2', 'mlp.0', 0.009443754330277443), ('head.0.14', 'mlp.0', 0.006188404746353626), ('mlp.6', 'mlp.8', 0.00573932658880949), ('mlp.0', 'mlp.2', 0.005653967149555683), ('head.16.20', 'mlp.16', -0.005345507059246302), ('head.16.20', 'head.17.30.v', 0.005315450485795736), ('mlp.0', 'head.1.16.k', -0.005109565332531929), ('head.14.14', 'mlp.15', -0.004921694286167622), ('mlp.15', 'head.16.20.k', -0.004847021773457527), ('mlp.6', 'mlp.15', -0.004780464340001345), ('mlp.10', 'head.16.20.k', 0.004766407422721386), ('mlp.6', 'head.16.20.k', 0.004757486749440432), ('mlp.0', 'head.1.15.k', -0.004494336899369955), ('mlp.0', 'mlp.5', -0.004315529949963093), ('mlp.0', 'mlp.4', -0.004094669129699469), ('head.16.20', 'mlp.18', 0.004019735846668482), ('head.0.30', 'mlp.0', 0.0039080469869077206), ('mlp.0', 'mlp.6', -0.0038432518485933542), ('mlp.8', 'mlp.9', 0.00376768596470356), ('head.16.20', 'head.21.9.v', 0.003543522208929062), ('mlp.9', 'mlp.11', 0.003415714716538787), ('mlp.6', 'head.21.9.k', 0.0033131211530417204), ('head.15.4', 'mlp.15', -0.003284941893070936), ('head.15.20', 'head.16.20.q', -0.0032149143517017365), ('mlp.5', 'mlp.6', 0.003205507528036833), ('mlp.9', 'mlp.13', 0.003195255296304822), ('mlp.3', 'mlp.6', 0.0031151920557022095), ('mlp.5', 'mlp.8', 0.003063748823478818), ('mlp.12', 'head.16.20.k', -0.0030587592627853155), ('mlp.0', 'head.1.17.k', -0.0030355819035321474), ('mlp.11', 'head.16.20.v', 0.0030052291695028543), ('head.9.15', 'head.16.20.k', 0.002988740336149931), ('head.15.20', 'mlp.15', 0.002843316178768873), ('mlp.4', 'mlp.8', 0.002790694823488593), ('head.15.4', 'mlp.16', -0.002768619218841195), ('mlp.13', 'head.16.20.v', 0.002720218151807785), ('mlp.11', 'mlp.14', 0.0025788003113120794), ('mlp.11', 'head.16.20.k', -0.0025367813650518656), ('mlp.0', 'mlp.7', -0.002536351792514324), ('mlp.11', 'mlp.15', 0.0024518363643437624), ('mlp.8', 'head.16.20.v', 0.0023244901094585657), ('head.0.27', 'mlp.0', -0.0023238908033818007), ('mlp.6', 'mlp.11', 0.002282592235133052), ('head.17.30', 'mlp.18', 0.0022805416956543922), ('mlp.0', 'head.21.9.k', 0.0022331280633807182), ('head.0.21', 'mlp.0', 0.0022144378162920475), ('mlp.3', 'mlp.15', -0.00221416843123734), ('head.15.20', 'head.17.30.q', -0.002205037511885166), ('mlp.10', 'mlp.15', -0.0022013422567397356), ('mlp.4', 'head.16.20.k', 0.0021811285987496376), ('mlp.2', 'mlp.3', 0.0021742351818829775), ('mlp.30', 'mlp.31', -0.002144202124327421), ('mlp.5', 'head.16.20.k', 0.0021362670231610537), ('head.16.17', 'head.17.30.q', 0.002123921876773238), ('mlp.29', 'mlp.31', -0.00211007590405643), ('mlp.14', 'head.16.20.v', 0.0021046672482043505), ('mlp.10', 'mlp.11', -0.0020922652911394835), ('head.12.17', 'mlp.15', -0.0020885460544377565), ('mlp.0', 'mlp.13', -0.0020814668387174606), ('mlp.5', 'head.16.20.v', 0.0020730250980705023), ('mlp.28', 'mlp.31', -0.0020570242777466774), ('mlp.7', 'mlp.8', 0.00204459554515779), ('head.9.15', 'head.11.21.q', -0.002041686326265335), ('mlp.0', 'mlp.14', -0.002014364581555128), ('mlp.0', 'head.15.5.k', -0.002007126808166504), ('mlp.15', 'mlp.16', 0.001995496451854706), ('head.14.14', 'mlp.16', -0.001992548583075404), ('mlp.6', 'mlp.14', -0.001976989908143878), ('mlp.15', 'head.17.30.k', -0.0019326637266203761), ('head.16.20', 'head.22.15.v', 0.001931019127368927), ('mlp.6', 'mlp.12', 0.0019294897792860866), ('head.13.8', 'head.21.9.q', 0.0019150624284520745), ('mlp.0', 'mlp.11', -0.0019050340633839369), ('head.0.21', 'mlp.1', 0.0018889722414314747), ('head.7.8', 'mlp.13', -0.0018879767740145326), ('head.1.25', 'mlp.2', 0.0018849290208891034), ('head.15.4', 'head.16.20.q', 0.0018740722443908453), ('mlp.12', 'mlp.13', 0.001870404346846044), ('head.16.20', 'mlp.17', -0.0018696865299716592), ('head.10.1', 'mlp.15', -0.0018582759657874703), ('mlp.1', 'mlp.2', 0.0018570123938843608), ('mlp.2', 'mlp.5', 0.0018493117531761527), ('mlp.0', 'mlp.1', -0.001831269939430058), ('head.0.6', 'mlp.0', 0.00180960597936064), ('mlp.10', 'head.21.9.k', 0.001803320599719882), ('head.0.31', 'mlp.0', -0.0017993211513385177), ('mlp.12', 'head.15.20.k', 0.0017812863225117326), ('mlp.14', 'head.21.9.k', 0.0017715865978971124), ('head.7.8', 'head.16.20.k', 0.0017514253268018365), ('mlp.10', 'mlp.12', -0.001751400763168931), ('head.16.20', 'head.21.9.k', 0.0017360210185870528), ('mlp.5', 'mlp.15', -0.0017260626191273332), ('head.9.15', 'head.17.30.k', 0.0017186870099976659), ('head.15.4', 'head.21.9.k', 0.00171701202634722), ('mlp.5', 'mlp.9', 0.0017162136500701308), ('mlp.6', 'mlp.9', 0.001710148761048913), ('mlp.3', 'head.16.20.k', 0.0016996695194393396), ('mlp.3', 'mlp.8', 0.001693469937890768), ('mlp.0', 'head.1.11.v', 0.0016771022928878665), ('mlp.0', 'head.1.18.k', 0.001676780404523015)]\n"
     ]
    }
   ],
   "source": [
    "\n",
    "# %%\n",
    "\n",
    "model.reset_hooks()\n",
    "\n",
    "#%%\n",
    "from localizations.eap.eap_wrapper import EAP\n",
    "\n",
    "graph = EAP(\n",
    "    model,\n",
    "    clean_dataset.toks,\n",
    "    corr_dataset.toks,\n",
    "    refusals_metric,\n",
    "    upstream_nodes=[\"mlp\", \"head\"],\n",
    "    downstream_nodes=[\"mlp\", \"head\"],\n",
    "    batch_size=10,\n",
    "    clean_answers=clean_tok_answers,\n",
    "    wrong_answers=clean_tok_wrong_answers,\n",
    ")\n",
    "\n",
    "# %%\n",
    "\n",
    "top_edges = graph.top_edges(n=100, abs_scores=True)\n",
    "print(top_edges)\n",
    "\n",
    "# %%\n",
    "\n",
    "# graph.show(threshold=0.01, abs_scores=True, fname=\"eap_subgraph_bs=100.png\")"
   ]
  },
  {
   "cell_type": "code",
   "execution_count": 11,
   "metadata": {},
   "outputs": [],
   "source": [
    "import pickle\n",
    "with open('localizations/eap/eap_sports/1000_graph.pkl', 'wb') as f:\n",
    "    pickle.dump(graph, f)\n",
    "\n",
    "import pickle\n",
    "with open('localizations/eap/eap_sports/1000_eap_scores.pkl', 'wb') as f:\n",
    "    pickle.dump(graph.eap_scores, f)"
   ]
  },
  {
   "cell_type": "code",
   "execution_count": null,
   "metadata": {},
   "outputs": [],
   "source": []
  }
 ],
 "metadata": {
  "kernelspec": {
   "display_name": "unlrn",
   "language": "python",
   "name": "unlrn"
  },
  "language_info": {
   "codemirror_mode": {
    "name": "ipython",
    "version": 3
   },
   "file_extension": ".py",
   "mimetype": "text/x-python",
   "name": "python",
   "nbconvert_exporter": "python",
   "pygments_lexer": "ipython3",
   "version": "3.10.13"
  }
 },
 "nbformat": 4,
 "nbformat_minor": 2
}
