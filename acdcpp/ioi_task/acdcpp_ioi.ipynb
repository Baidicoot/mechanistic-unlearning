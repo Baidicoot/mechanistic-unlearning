{
 "cells": [
  {
   "cell_type": "code",
   "execution_count": 1,
   "id": "1afba4c7",
   "metadata": {},
   "outputs": [
    {
     "name": "stdout",
     "output_type": "stream",
     "text": [
      "Current working directory: /data/phillip_guo/mechanistic-unlearning\n",
      "Current working directory: /data/phillip_guo/mechanistic-unlearning/acdcpp/ioi_task\n"
     ]
    }
   ],
   "source": [
    "# go into edge-attribution-patching directory\n",
    "import os\n",
    "\n",
    "print(\"Current working directory: {0}\".format(os.getcwd()))\n",
    "os.chdir(\"acdcpp/ioi_task\")\n",
    "print(\"Current working directory: {0}\".format(os.getcwd()))"
   ]
  },
  {
   "cell_type": "code",
   "execution_count": 2,
   "id": "6606875e",
   "metadata": {},
   "outputs": [
    {
     "name": "stdout",
     "output_type": "stream",
     "text": [
      "Device: cuda\n"
     ]
    }
   ],
   "source": [
    "%load_ext autoreload\n",
    "%autoreload 2\n",
    "import os\n",
    "import sys\n",
    "sys.path.append('../Automatic-Circuit-Discovery/')\n",
    "sys.path.append('../tracr/')\n",
    "sys.path.append('..')\n",
    "import re\n",
    "\n",
    "import acdc\n",
    "from acdc.TLACDCExperiment import TLACDCExperiment\n",
    "from acdc.acdc_utils import TorchIndex, EdgeType\n",
    "import numpy as np\n",
    "import torch as t\n",
    "from torch import Tensor\n",
    "import einops\n",
    "import itertools\n",
    "\n",
    "from transformer_lens import HookedTransformer, ActivationCache\n",
    "\n",
    "import tqdm.notebook as tqdm\n",
    "import plotly\n",
    "from rich import print as rprint\n",
    "from rich.table import Table\n",
    "\n",
    "from jaxtyping import Float, Bool\n",
    "from typing import Callable, Tuple, Union, Dict, Optional\n",
    "\n",
    "device = t.device('cuda') if t.cuda.is_available() else t.device('cpu')\n",
    "print(f'Device: {device}')"
   ]
  },
  {
   "cell_type": "markdown",
   "id": "07a16eab",
   "metadata": {},
   "source": [
    "# Model Setup"
   ]
  },
  {
   "cell_type": "code",
   "execution_count": 3,
   "id": "20df2bef",
   "metadata": {},
   "outputs": [
    {
     "name": "stdout",
     "output_type": "stream",
     "text": [
      "Loaded pretrained model gpt2-small into HookedTransformer\n"
     ]
    }
   ],
   "source": [
    "model = HookedTransformer.from_pretrained(\n",
    "    'gpt2-small',\n",
    "    center_writing_weights=False,\n",
    "    center_unembed=False,\n",
    "    fold_ln=False,\n",
    "    device=device,\n",
    ")\n",
    "model.set_use_hook_mlp_in(True)\n",
    "model.set_use_split_qkv_input(True)\n",
    "model.set_use_attn_result(True)"
   ]
  },
  {
   "cell_type": "markdown",
   "id": "bf38f0b5",
   "metadata": {},
   "source": [
    "from acdc.ioi.utils import get_ioi_true_edges\n",
    "ioi_true_edges = get_ioi_true_edges(model)\n",
    "for (b1, i1, b2, i2), val in ioi_true_edges.items():\n",
    "    if val:\n",
    "        print(b1, b2)"
   ]
  },
  {
   "cell_type": "markdown",
   "id": "292dfbf6",
   "metadata": {},
   "source": [
    "# Dataset Setup"
   ]
  },
  {
   "cell_type": "code",
   "execution_count": 4,
   "id": "601a7d92",
   "metadata": {},
   "outputs": [
    {
     "data": {
      "text/html": [
       "<pre style=\"white-space:pre;overflow-x:auto;line-height:normal;font-family:Menlo,'DejaVu Sans Mono',consolas,'Courier New',monospace\"><span style=\"font-style: italic\">                                      Sentences from IOI vs ABC distribution                                       </span>\n",
       "┏━━━━━━━━━━━━━━━━━━━━━━━━━━━━━━━━━━━━━━━━━┳━━━━━━━━━━┳━━━━━━━━━━━━━━━━━━┳━━━━━━━━━━━━━━━━━━━━━━━━━━━━━━━━━━━━━━━━━┓\n",
       "┃<span style=\"font-weight: bold\"> IOI prompt                              </span>┃<span style=\"font-weight: bold\"> IOI subj </span>┃<span style=\"font-weight: bold\"> IOI indirect obj </span>┃<span style=\"font-weight: bold\"> ABC prompt                              </span>┃\n",
       "┡━━━━━━━━━━━━━━━━━━━━━━━━━━━━━━━━━━━━━━━━━╇━━━━━━━━━━╇━━━━━━━━━━━━━━━━━━╇━━━━━━━━━━━━━━━━━━━━━━━━━━━━━━━━━━━━━━━━━┩\n",
       "│ Then, <span style=\"color: #ff8700; text-decoration-color: #ff8700; font-weight: bold; text-decoration: underline\">Marco</span> and <span style=\"color: #ff8700; text-decoration-color: #ff8700; font-weight: bold; text-decoration: underline\">William</span> went to the     │ William  │ Marco            │ Then, <span style=\"color: #ff8700; text-decoration-color: #ff8700; font-weight: bold; text-decoration: underline\">Marco</span> and <span style=\"color: #ff8700; text-decoration-color: #ff8700; font-weight: bold; text-decoration: underline\">William</span> went to the     │\n",
       "│ garden. <span style=\"color: #ff8700; text-decoration-color: #ff8700; font-weight: bold; text-decoration: underline\">William</span> gave a computer to      │          │                  │ garden. <span style=\"color: #ff8700; text-decoration-color: #ff8700; font-weight: bold; text-decoration: underline\">William</span> gave a computer to      │\n",
       "│ <span style=\"color: #ff8700; text-decoration-color: #ff8700; font-weight: bold; text-decoration: underline\">Marco</span>                                   │          │                  │ <span style=\"color: #ff8700; text-decoration-color: #ff8700; font-weight: bold; text-decoration: underline\">Marco</span>                                   │\n",
       "│                                         │          │                  │                                         │\n",
       "│ Then, <span style=\"color: #ff8700; text-decoration-color: #ff8700; font-weight: bold; text-decoration: underline\">Kevin</span> and <span style=\"color: #ff8700; text-decoration-color: #ff8700; font-weight: bold; text-decoration: underline\">Scott</span> went to the       │ Scott    │ Kevin            │ Then, <span style=\"color: #ff8700; text-decoration-color: #ff8700; font-weight: bold; text-decoration: underline\">Kevin</span> and <span style=\"color: #ff8700; text-decoration-color: #ff8700; font-weight: bold; text-decoration: underline\">Scott</span> went to the       │\n",
       "│ station. <span style=\"color: #ff8700; text-decoration-color: #ff8700; font-weight: bold; text-decoration: underline\">Scott</span> gave a drink to <span style=\"color: #ff8700; text-decoration-color: #ff8700; font-weight: bold; text-decoration: underline\">Kevin</span>    │          │                  │ station. <span style=\"color: #ff8700; text-decoration-color: #ff8700; font-weight: bold; text-decoration: underline\">Scott</span> gave a drink to <span style=\"color: #ff8700; text-decoration-color: #ff8700; font-weight: bold; text-decoration: underline\">Kevin</span>    │\n",
       "│                                         │          │                  │                                         │\n",
       "│ Then, <span style=\"color: #ff8700; text-decoration-color: #ff8700; font-weight: bold; text-decoration: underline\">Arthur</span> and <span style=\"color: #ff8700; text-decoration-color: #ff8700; font-weight: bold; text-decoration: underline\">Kelly</span> went to the      │ Kelly    │ Arthur           │ Then, <span style=\"color: #ff8700; text-decoration-color: #ff8700; font-weight: bold; text-decoration: underline\">Arthur</span> and <span style=\"color: #ff8700; text-decoration-color: #ff8700; font-weight: bold; text-decoration: underline\">Kelly</span> went to the      │\n",
       "│ house. <span style=\"color: #ff8700; text-decoration-color: #ff8700; font-weight: bold; text-decoration: underline\">Kelly</span> gave a drink to <span style=\"color: #ff8700; text-decoration-color: #ff8700; font-weight: bold; text-decoration: underline\">Arthur</span>     │          │                  │ house. <span style=\"color: #ff8700; text-decoration-color: #ff8700; font-weight: bold; text-decoration: underline\">Kelly</span> gave a drink to <span style=\"color: #ff8700; text-decoration-color: #ff8700; font-weight: bold; text-decoration: underline\">Arthur</span>     │\n",
       "│                                         │          │                  │                                         │\n",
       "│ Then, <span style=\"color: #ff8700; text-decoration-color: #ff8700; font-weight: bold; text-decoration: underline\">River</span> and <span style=\"color: #ff8700; text-decoration-color: #ff8700; font-weight: bold; text-decoration: underline\">Jordan</span> went to the      │ Jordan   │ River            │ Then, <span style=\"color: #ff8700; text-decoration-color: #ff8700; font-weight: bold; text-decoration: underline\">River</span> and <span style=\"color: #ff8700; text-decoration-color: #ff8700; font-weight: bold; text-decoration: underline\">Jordan</span> went to the      │\n",
       "│ school. <span style=\"color: #ff8700; text-decoration-color: #ff8700; font-weight: bold; text-decoration: underline\">Jordan</span> gave a kiss to <span style=\"color: #ff8700; text-decoration-color: #ff8700; font-weight: bold; text-decoration: underline\">River</span>     │          │                  │ school. <span style=\"color: #ff8700; text-decoration-color: #ff8700; font-weight: bold; text-decoration: underline\">Jordan</span> gave a kiss to <span style=\"color: #ff8700; text-decoration-color: #ff8700; font-weight: bold; text-decoration: underline\">River</span>     │\n",
       "│                                         │          │                  │                                         │\n",
       "│ Then, <span style=\"color: #ff8700; text-decoration-color: #ff8700; font-weight: bold; text-decoration: underline\">Patrick</span> and <span style=\"color: #ff8700; text-decoration-color: #ff8700; font-weight: bold; text-decoration: underline\">Louis</span> went to the     │ Louis    │ Patrick          │ Then, <span style=\"color: #ff8700; text-decoration-color: #ff8700; font-weight: bold; text-decoration: underline\">Patrick</span> and <span style=\"color: #ff8700; text-decoration-color: #ff8700; font-weight: bold; text-decoration: underline\">Louis</span> went to the     │\n",
       "│ house. <span style=\"color: #ff8700; text-decoration-color: #ff8700; font-weight: bold; text-decoration: underline\">Louis</span> gave a basketball to       │          │                  │ house. <span style=\"color: #ff8700; text-decoration-color: #ff8700; font-weight: bold; text-decoration: underline\">Louis</span> gave a basketball to       │\n",
       "│ <span style=\"color: #ff8700; text-decoration-color: #ff8700; font-weight: bold; text-decoration: underline\">Patrick</span>                                 │          │                  │ <span style=\"color: #ff8700; text-decoration-color: #ff8700; font-weight: bold; text-decoration: underline\">Patrick</span>                                 │\n",
       "│                                         │          │                  │                                         │\n",
       "└─────────────────────────────────────────┴──────────┴──────────────────┴─────────────────────────────────────────┘\n",
       "</pre>\n"
      ],
      "text/plain": [
       "\u001b[3m                                      Sentences from IOI vs ABC distribution                                       \u001b[0m\n",
       "┏━━━━━━━━━━━━━━━━━━━━━━━━━━━━━━━━━━━━━━━━━┳━━━━━━━━━━┳━━━━━━━━━━━━━━━━━━┳━━━━━━━━━━━━━━━━━━━━━━━━━━━━━━━━━━━━━━━━━┓\n",
       "┃\u001b[1m \u001b[0m\u001b[1mIOI prompt                             \u001b[0m\u001b[1m \u001b[0m┃\u001b[1m \u001b[0m\u001b[1mIOI subj\u001b[0m\u001b[1m \u001b[0m┃\u001b[1m \u001b[0m\u001b[1mIOI indirect obj\u001b[0m\u001b[1m \u001b[0m┃\u001b[1m \u001b[0m\u001b[1mABC prompt                             \u001b[0m\u001b[1m \u001b[0m┃\n",
       "┡━━━━━━━━━━━━━━━━━━━━━━━━━━━━━━━━━━━━━━━━━╇━━━━━━━━━━╇━━━━━━━━━━━━━━━━━━╇━━━━━━━━━━━━━━━━━━━━━━━━━━━━━━━━━━━━━━━━━┩\n",
       "│ Then, \u001b[1;4;38;5;208mMarco\u001b[0m and \u001b[1;4;38;5;208mWilliam\u001b[0m went to the     │ William  │ Marco            │ Then, \u001b[1;4;38;5;208mMarco\u001b[0m and \u001b[1;4;38;5;208mWilliam\u001b[0m went to the     │\n",
       "│ garden. \u001b[1;4;38;5;208mWilliam\u001b[0m gave a computer to      │          │                  │ garden. \u001b[1;4;38;5;208mWilliam\u001b[0m gave a computer to      │\n",
       "│ \u001b[1;4;38;5;208mMarco\u001b[0m                                   │          │                  │ \u001b[1;4;38;5;208mMarco\u001b[0m                                   │\n",
       "│                                         │          │                  │                                         │\n",
       "│ Then, \u001b[1;4;38;5;208mKevin\u001b[0m and \u001b[1;4;38;5;208mScott\u001b[0m went to the       │ Scott    │ Kevin            │ Then, \u001b[1;4;38;5;208mKevin\u001b[0m and \u001b[1;4;38;5;208mScott\u001b[0m went to the       │\n",
       "│ station. \u001b[1;4;38;5;208mScott\u001b[0m gave a drink to \u001b[1;4;38;5;208mKevin\u001b[0m    │          │                  │ station. \u001b[1;4;38;5;208mScott\u001b[0m gave a drink to \u001b[1;4;38;5;208mKevin\u001b[0m    │\n",
       "│                                         │          │                  │                                         │\n",
       "│ Then, \u001b[1;4;38;5;208mArthur\u001b[0m and \u001b[1;4;38;5;208mKelly\u001b[0m went to the      │ Kelly    │ Arthur           │ Then, \u001b[1;4;38;5;208mArthur\u001b[0m and \u001b[1;4;38;5;208mKelly\u001b[0m went to the      │\n",
       "│ house. \u001b[1;4;38;5;208mKelly\u001b[0m gave a drink to \u001b[1;4;38;5;208mArthur\u001b[0m     │          │                  │ house. \u001b[1;4;38;5;208mKelly\u001b[0m gave a drink to \u001b[1;4;38;5;208mArthur\u001b[0m     │\n",
       "│                                         │          │                  │                                         │\n",
       "│ Then, \u001b[1;4;38;5;208mRiver\u001b[0m and \u001b[1;4;38;5;208mJordan\u001b[0m went to the      │ Jordan   │ River            │ Then, \u001b[1;4;38;5;208mRiver\u001b[0m and \u001b[1;4;38;5;208mJordan\u001b[0m went to the      │\n",
       "│ school. \u001b[1;4;38;5;208mJordan\u001b[0m gave a kiss to \u001b[1;4;38;5;208mRiver\u001b[0m     │          │                  │ school. \u001b[1;4;38;5;208mJordan\u001b[0m gave a kiss to \u001b[1;4;38;5;208mRiver\u001b[0m     │\n",
       "│                                         │          │                  │                                         │\n",
       "│ Then, \u001b[1;4;38;5;208mPatrick\u001b[0m and \u001b[1;4;38;5;208mLouis\u001b[0m went to the     │ Louis    │ Patrick          │ Then, \u001b[1;4;38;5;208mPatrick\u001b[0m and \u001b[1;4;38;5;208mLouis\u001b[0m went to the     │\n",
       "│ house. \u001b[1;4;38;5;208mLouis\u001b[0m gave a basketball to       │          │                  │ house. \u001b[1;4;38;5;208mLouis\u001b[0m gave a basketball to       │\n",
       "│ \u001b[1;4;38;5;208mPatrick\u001b[0m                                 │          │                  │ \u001b[1;4;38;5;208mPatrick\u001b[0m                                 │\n",
       "│                                         │          │                  │                                         │\n",
       "└─────────────────────────────────────────┴──────────┴──────────────────┴─────────────────────────────────────────┘\n"
      ]
     },
     "metadata": {},
     "output_type": "display_data"
    }
   ],
   "source": [
    "from ioi_dataset import IOIDataset, format_prompt, make_table\n",
    "N = 100\n",
    "clean_dataset = IOIDataset(\n",
    "    # prompt_type='mixed',\n",
    "    N=N,\n",
    "    tokenizer=model.tokenizer,\n",
    "    prepend_bos=False,\n",
    "    seed=1,\n",
    "    device=device,\n",
    "    prompt_type='ABBA',\n",
    "    nb_templates=1\n",
    ")\n",
    "corr_dataset = clean_dataset.gen_flipped_prompts('ABC->XYZ, BAB->XYZ')\n",
    "\n",
    "make_table(\n",
    "  colnames = [\"IOI prompt\", \"IOI subj\", \"IOI indirect obj\", \"ABC prompt\"],\n",
    "  cols = [\n",
    "    map(format_prompt, clean_dataset.sentences),\n",
    "    model.to_string(clean_dataset.s_tokenIDs).split(),\n",
    "    model.to_string(clean_dataset.io_tokenIDs).split(),\n",
    "    map(format_prompt, clean_dataset.sentences),\n",
    "  ],\n",
    "  title = \"Sentences from IOI vs ABC distribution\",\n",
    ")"
   ]
  },
  {
   "cell_type": "markdown",
   "id": "6657f126",
   "metadata": {},
   "source": [
    "# Metric Setup"
   ]
  },
  {
   "cell_type": "code",
   "execution_count": 5,
   "id": "d1b9d4d6",
   "metadata": {},
   "outputs": [
    {
     "name": "stdout",
     "output_type": "stream",
     "text": [
      "logits.shape=torch.Size([100, 16, 50257]), ioi_dataset.word_idx['end'].shape=torch.Size([100]), len(ioi_dataset.io_tokenIDs)=100\n",
      "logits.shape=torch.Size([100, 16, 50257]), ioi_dataset.word_idx['end'].shape=torch.Size([100]), len(ioi_dataset.io_tokenIDs)=100\n",
      "logits.shape=torch.Size([100, 16, 50257]), ioi_dataset.word_idx['end'].shape=torch.Size([100]), len(ioi_dataset.io_tokenIDs)=100\n",
      "logits.shape=torch.Size([100, 16, 50257]), ioi_dataset.word_idx['end'].shape=torch.Size([100]), len(ioi_dataset.io_tokenIDs)=100\n",
      "Clean direction: 3.131037473678589, Corrupt direction: 1.5243927240371704\n",
      "Clean metric: 1.0, Corrupt metric: 0.0\n"
     ]
    }
   ],
   "source": [
    "def ave_logit_diff(\n",
    "    logits: Float[Tensor, 'batch seq d_vocab'],\n",
    "    ioi_dataset: IOIDataset,\n",
    "    per_prompt: bool = False\n",
    "):\n",
    "    '''\n",
    "        Return average logit difference between correct and incorrect answers\n",
    "    '''\n",
    "    # Get logits for indirect objects\n",
    "    print(f\"{logits.shape=}, {ioi_dataset.word_idx['end'].shape=}, {len(ioi_dataset.io_tokenIDs)=}\")\n",
    "    io_logits = logits[range(logits.size(0)), ioi_dataset.word_idx['end'], ioi_dataset.io_tokenIDs]\n",
    "    s_logits = logits[range(logits.size(0)), ioi_dataset.word_idx['end'], ioi_dataset.s_tokenIDs]\n",
    "    # Get logits for subject\n",
    "    logit_diff = io_logits - s_logits\n",
    "    return logit_diff if per_prompt else logit_diff.mean()\n",
    "\n",
    "with t.no_grad():\n",
    "    clean_logits = model(clean_dataset.toks)\n",
    "    corrupt_logits = model(corr_dataset.toks)\n",
    "    clean_logit_diff = ave_logit_diff(clean_logits, clean_dataset).item()\n",
    "    # corrupt_logit_diff = ave_logit_diff(corrupt_logits, corr_dataset).item()\n",
    "    corrupt_logit_diff = ave_logit_diff(corrupt_logits, corr_dataset).item()\n",
    "\n",
    "def ioi_metric(\n",
    "    logits: Float[Tensor, \"batch seq_len d_vocab\"],\n",
    "    corrupted_logit_diff: float = corrupt_logit_diff,\n",
    "    clean_logit_diff: float = clean_logit_diff,\n",
    "    ioi_dataset: IOIDataset = clean_dataset\n",
    " ):\n",
    "    patched_logit_diff = ave_logit_diff(logits, ioi_dataset)\n",
    "    return (patched_logit_diff - corrupted_logit_diff) / (clean_logit_diff - corrupted_logit_diff)\n",
    "\n",
    "def abs_ioi_metric(logits: Float[Tensor, \"batch seq_len d_vocab\"]):\n",
    "    return abs(ioi_metric(logits))\n",
    "\n",
    "def negative_ioi_metric(logits: Float[Tensor, \"batch seq_len d_vocab\"]):\n",
    "    return -ioi_metric(logits)\n",
    "\n",
    "def negative_abs_ioi_metric(logits: Float[Tensor, \"batch seq_len d_vocab\"]):\n",
    "    return -abs_ioi_metric(logits)\n",
    "\n",
    "# Get clean and corrupt logit differences\n",
    "with t.no_grad():\n",
    "    clean_metric = ioi_metric(clean_logits, corrupt_logit_diff, clean_logit_diff, clean_dataset)\n",
    "    corrupt_metric = ioi_metric(corrupt_logits, corrupt_logit_diff, clean_logit_diff, corr_dataset)\n",
    "\n",
    "print(f'Clean direction: {clean_logit_diff}, Corrupt direction: {corrupt_logit_diff}')\n",
    "print(f'Clean metric: {clean_metric}, Corrupt metric: {corrupt_metric}')"
   ]
  },
  {
   "cell_type": "code",
   "execution_count": 6,
   "id": "0f81cf14",
   "metadata": {},
   "outputs": [
    {
     "name": "stdout",
     "output_type": "stream",
     "text": [
      "1.5243927240371704\n",
      "3.131037473678589\n"
     ]
    }
   ],
   "source": [
    "print(corrupt_logit_diff)\n",
    "print(clean_logit_diff)"
   ]
  },
  {
   "cell_type": "markdown",
   "id": "cf81ab6e",
   "metadata": {},
   "source": [
    "# Run Experiment"
   ]
  },
  {
   "cell_type": "code",
   "execution_count": 7,
   "id": "c43625b8",
   "metadata": {},
   "outputs": [
    {
     "name": "stdout",
     "output_type": "stream",
     "text": [
      "torch.Size([100, 16])\n",
      "torch.Size([100, 16])\n"
     ]
    }
   ],
   "source": [
    "print(clean_dataset.toks.shape)\n",
    "print(corr_dataset.toks.shape)"
   ]
  },
  {
   "cell_type": "code",
   "execution_count": 8,
   "id": "4a21369c",
   "metadata": {},
   "outputs": [],
   "source": [
    "# import torch\n",
    "# torch.save((clean_dataset.toks, corr_dataset.toks), \"ioi_dataset_toks.pt\")"
   ]
  },
  {
   "cell_type": "code",
   "execution_count": 9,
   "id": "56b08e9e-a140-4a97-a309-3210cc8f8ff3",
   "metadata": {
    "scrolled": true
   },
   "outputs": [
    {
     "name": "stderr",
     "output_type": "stream",
     "text": [
      "  0%|          | 0/2 [00:00<?, ?it/s]WARNING:root:cache_all is deprecated and will eventually be removed, use add_caching_hooks or run_with_cache\n",
      "WARNING:root:cache_all is deprecated and will eventually be removed, use add_caching_hooks or run_with_cache\n"
     ]
    },
    {
     "name": "stdout",
     "output_type": "stream",
     "text": [
      "self.current_node=TLACDCInterpNode(blocks.11.hook_resid_post, [:])\n",
      "logits.shape=torch.Size([100, 16, 50257]), ioi_dataset.word_idx['end'].shape=torch.Size([100]), len(ioi_dataset.io_tokenIDs)=100\n",
      "logits.shape=torch.Size([100, 16, 50257]), ioi_dataset.word_idx['end'].shape=torch.Size([100]), len(ioi_dataset.io_tokenIDs)=100\n"
     ]
    },
    {
     "name": "stderr",
     "output_type": "stream",
     "text": [
      "Edge pruning: 100%|██████████| 1034/1034 [00:00<00:00, 15340.55it/s]\n",
      "Edge pruning: 100%|██████████| 1034/1034 [00:04<00:00, 253.38it/s]\n",
      "Edge pruning: 100%|██████████| 1034/1034 [00:00<00:00, 278990.69it/s]\n",
      " 50%|█████     | 1/2 [00:11<00:11, 11.96s/it]"
     ]
    },
    {
     "name": "stdout",
     "output_type": "stream",
     "text": [
      "dict_keys([-1, 11, 10, 9, 8, 7, 6, 5, 4, 3, 2, 1, 0, 12])\n"
     ]
    },
    {
     "name": "stderr",
     "output_type": "stream",
     "text": [
      "WARNING:root:cache_all is deprecated and will eventually be removed, use add_caching_hooks or run_with_cache\n",
      "WARNING:root:cache_all is deprecated and will eventually be removed, use add_caching_hooks or run_with_cache\n"
     ]
    },
    {
     "name": "stdout",
     "output_type": "stream",
     "text": [
      "self.current_node=TLACDCInterpNode(blocks.11.hook_resid_post, [:])\n",
      "logits.shape=torch.Size([100, 16, 50257]), ioi_dataset.word_idx['end'].shape=torch.Size([100]), len(ioi_dataset.io_tokenIDs)=100\n",
      "logits.shape=torch.Size([100, 16, 50257]), ioi_dataset.word_idx['end'].shape=torch.Size([100]), len(ioi_dataset.io_tokenIDs)=100\n"
     ]
    },
    {
     "name": "stderr",
     "output_type": "stream",
     "text": [
      "Edge pruning: 100%|██████████| 1034/1034 [00:00<00:00, 15496.44it/s]\n",
      "Edge pruning: 100%|██████████| 1034/1034 [00:04<00:00, 252.77it/s]\n",
      "Edge pruning: 100%|██████████| 1034/1034 [00:00<00:00, 293450.87it/s]\n",
      "100%|██████████| 2/2 [00:23<00:00, 11.76s/it]"
     ]
    },
    {
     "name": "stdout",
     "output_type": "stream",
     "text": [
      "dict_keys([-1, 11, 10, 9, 8, 7, 6, 5, 4, 3, 2, 1, 0, 12])\n"
     ]
    },
    {
     "name": "stderr",
     "output_type": "stream",
     "text": [
      "\n"
     ]
    }
   ],
   "source": [
    "from ACDCPPExperiment import ACDCPPExperiment\n",
    "THRESHOLDS = [0.08, .15]#np.arange(0.005, 0.155, 0.005)\n",
    "RUN_NAME = 'abs_edge'\n",
    "\n",
    "acdcpp_exp = ACDCPPExperiment(\n",
    "    model=model,\n",
    "    clean_data=clean_dataset.toks,\n",
    "    corr_data=corr_dataset.toks,\n",
    "    acdc_metric=negative_abs_ioi_metric,\n",
    "    acdcpp_metric=ioi_metric,\n",
    "    thresholds=THRESHOLDS,\n",
    "    run_name=RUN_NAME,\n",
    "    verbose=False,\n",
    "    attr_absolute_val=True,\n",
    "    save_graphs_after=-100,\n",
    "    pruning_mode='edge',\n",
    "    no_pruned_nodes_attr=1,\n",
    "    run_acdc=False,\n",
    "    run_acdcpp=True,\n",
    ")\n",
    "# e=acdcpp_exp.setup_exp(0.0)\n",
    "\n",
    "pruned_heads, num_passes, acdcpp_pruned_attrs, acdc_pruned_attrs, edges_after_acdcpp, edges_after_acdc = acdcpp_exp.run()"
   ]
  },
  {
   "cell_type": "code",
   "execution_count": 10,
   "id": "0595ff62",
   "metadata": {},
   "outputs": [
    {
     "data": {
      "text/plain": [
       "179"
      ]
     },
     "execution_count": 10,
     "metadata": {},
     "output_type": "execute_result"
    }
   ],
   "source": [
    "len(edges_after_acdcpp[0.08])"
   ]
  },
  {
   "cell_type": "code",
   "execution_count": 8,
   "id": "06648800",
   "metadata": {},
   "outputs": [
    {
     "data": {
      "text/plain": [
       "227"
      ]
     },
     "execution_count": 8,
     "metadata": {},
     "output_type": "execute_result"
    }
   ],
   "source": [
    "len(edges_after_acdcpp[0.08])"
   ]
  },
  {
   "cell_type": "code",
   "execution_count": null,
   "metadata": {},
   "outputs": [],
   "source": [
    "import pickle\n",
    "with open(f\"acdcpp_edges.pkl\", \"wb\") as f:\n",
    "    pickle.dump((edges_after_acdcpp, acdcpp_pruned_attrs), f)"
   ]
  },
  {
   "cell_type": "code",
   "execution_count": null,
   "metadata": {},
   "outputs": [
    {
     "data": {
      "text/plain": [
       "{0.3: {'blocks.0.hook_mlp_in[:]blocks.0.hook_resid_pre[:]',\n",
       "  'blocks.0.hook_mlp_out[:]blocks.0.hook_mlp_in[:]',\n",
       "  'blocks.1.hook_mlp_out[:]blocks.1.hook_mlp_in[:]',\n",
       "  'blocks.10.attn.hook_k[:, :, 7]blocks.10.hook_k_input[:, :, 7]',\n",
       "  'blocks.10.attn.hook_q[:, :, 0]blocks.10.hook_q_input[:, :, 0]',\n",
       "  'blocks.10.attn.hook_q[:, :, 6]blocks.10.hook_q_input[:, :, 6]',\n",
       "  'blocks.10.attn.hook_q[:, :, 7]blocks.10.hook_q_input[:, :, 7]',\n",
       "  'blocks.10.attn.hook_result[:, :, 0]blocks.10.attn.hook_k[:, :, 0]',\n",
       "  'blocks.10.attn.hook_result[:, :, 0]blocks.10.attn.hook_q[:, :, 0]',\n",
       "  'blocks.10.attn.hook_result[:, :, 0]blocks.10.attn.hook_v[:, :, 0]',\n",
       "  'blocks.10.attn.hook_result[:, :, 7]blocks.10.attn.hook_k[:, :, 7]',\n",
       "  'blocks.10.attn.hook_result[:, :, 7]blocks.10.attn.hook_q[:, :, 7]',\n",
       "  'blocks.10.attn.hook_result[:, :, 7]blocks.10.attn.hook_v[:, :, 7]',\n",
       "  'blocks.10.attn.hook_v[:, :, 0]blocks.10.hook_v_input[:, :, 0]',\n",
       "  'blocks.10.attn.hook_v[:, :, 7]blocks.10.hook_v_input[:, :, 7]',\n",
       "  'blocks.10.hook_k_input[:, :, 7]blocks.0.hook_mlp_out[:]',\n",
       "  'blocks.10.hook_q_input[:, :, 7]blocks.9.attn.hook_result[:, :, 6]',\n",
       "  'blocks.10.hook_q_input[:, :, 7]blocks.9.attn.hook_result[:, :, 9]',\n",
       "  'blocks.10.hook_v_input[:, :, 7]blocks.0.hook_mlp_out[:]',\n",
       "  'blocks.11.attn.hook_k[:, :, 10]blocks.11.hook_k_input[:, :, 10]',\n",
       "  'blocks.11.attn.hook_q[:, :, 10]blocks.11.hook_q_input[:, :, 10]',\n",
       "  'blocks.11.attn.hook_result[:, :, 10]blocks.11.attn.hook_k[:, :, 10]',\n",
       "  'blocks.11.attn.hook_result[:, :, 10]blocks.11.attn.hook_q[:, :, 10]',\n",
       "  'blocks.11.attn.hook_result[:, :, 10]blocks.11.attn.hook_v[:, :, 10]',\n",
       "  'blocks.11.attn.hook_v[:, :, 10]blocks.11.hook_v_input[:, :, 10]',\n",
       "  'blocks.11.hook_k_input[:, :, 10]blocks.0.hook_mlp_out[:]',\n",
       "  'blocks.11.hook_q_input[:, :, 10]blocks.10.attn.hook_result[:, :, 10]',\n",
       "  'blocks.11.hook_q_input[:, :, 10]blocks.10.attn.hook_result[:, :, 7]',\n",
       "  'blocks.11.hook_q_input[:, :, 10]blocks.9.attn.hook_result[:, :, 6]',\n",
       "  'blocks.11.hook_q_input[:, :, 10]blocks.9.attn.hook_result[:, :, 9]',\n",
       "  'blocks.11.hook_resid_post[:]blocks.10.attn.hook_result[:, :, 0]',\n",
       "  'blocks.11.hook_resid_post[:]blocks.10.attn.hook_result[:, :, 10]',\n",
       "  'blocks.11.hook_resid_post[:]blocks.10.attn.hook_result[:, :, 1]',\n",
       "  'blocks.11.hook_resid_post[:]blocks.10.attn.hook_result[:, :, 6]',\n",
       "  'blocks.11.hook_resid_post[:]blocks.10.attn.hook_result[:, :, 7]',\n",
       "  'blocks.11.hook_resid_post[:]blocks.11.attn.hook_result[:, :, 10]',\n",
       "  'blocks.11.hook_resid_post[:]blocks.8.attn.hook_result[:, :, 10]',\n",
       "  'blocks.11.hook_resid_post[:]blocks.9.attn.hook_result[:, :, 6]',\n",
       "  'blocks.11.hook_resid_post[:]blocks.9.attn.hook_result[:, :, 9]',\n",
       "  'blocks.11.hook_v_input[:, :, 10]blocks.0.hook_mlp_out[:]',\n",
       "  'blocks.2.hook_mlp_in[:]blocks.0.hook_mlp_out[:]',\n",
       "  'blocks.2.hook_mlp_out[:]blocks.2.hook_mlp_in[:]',\n",
       "  'blocks.3.attn.hook_k[:, :, 0]blocks.3.hook_k_input[:, :, 0]',\n",
       "  'blocks.3.attn.hook_q[:, :, 0]blocks.3.hook_q_input[:, :, 0]',\n",
       "  'blocks.3.attn.hook_result[:, :, 0]blocks.3.attn.hook_k[:, :, 0]',\n",
       "  'blocks.3.attn.hook_result[:, :, 0]blocks.3.attn.hook_q[:, :, 0]',\n",
       "  'blocks.3.attn.hook_result[:, :, 0]blocks.3.attn.hook_v[:, :, 0]',\n",
       "  'blocks.3.hook_mlp_in[:]blocks.0.hook_mlp_out[:]',\n",
       "  'blocks.4.hook_mlp_in[:]blocks.0.hook_mlp_out[:]',\n",
       "  'blocks.4.hook_mlp_in[:]blocks.1.hook_mlp_out[:]',\n",
       "  'blocks.4.hook_mlp_in[:]blocks.3.attn.hook_result[:, :, 0]',\n",
       "  'blocks.5.attn.hook_k[:, :, 5]blocks.5.hook_k_input[:, :, 5]',\n",
       "  'blocks.5.attn.hook_q[:, :, 5]blocks.5.hook_q_input[:, :, 5]',\n",
       "  'blocks.5.attn.hook_q[:, :, 9]blocks.5.hook_q_input[:, :, 9]',\n",
       "  'blocks.5.attn.hook_result[:, :, 5]blocks.5.attn.hook_k[:, :, 5]',\n",
       "  'blocks.5.attn.hook_result[:, :, 5]blocks.5.attn.hook_q[:, :, 5]',\n",
       "  'blocks.5.attn.hook_result[:, :, 5]blocks.5.attn.hook_v[:, :, 5]',\n",
       "  'blocks.5.hook_mlp_in[:]blocks.0.hook_mlp_out[:]',\n",
       "  'blocks.5.hook_mlp_in[:]blocks.3.attn.hook_result[:, :, 0]',\n",
       "  'blocks.5.hook_mlp_in[:]blocks.4.attn.hook_result[:, :, 11]',\n",
       "  'blocks.5.hook_mlp_in[:]blocks.5.attn.hook_result[:, :, 5]',\n",
       "  'blocks.6.attn.hook_k[:, :, 9]blocks.6.hook_k_input[:, :, 9]',\n",
       "  'blocks.6.attn.hook_q[:, :, 9]blocks.6.hook_q_input[:, :, 9]',\n",
       "  'blocks.6.attn.hook_result[:, :, 9]blocks.6.attn.hook_k[:, :, 9]',\n",
       "  'blocks.6.attn.hook_result[:, :, 9]blocks.6.attn.hook_q[:, :, 9]',\n",
       "  'blocks.6.attn.hook_result[:, :, 9]blocks.6.attn.hook_v[:, :, 9]',\n",
       "  'blocks.6.attn.hook_v[:, :, 6]blocks.6.hook_v_input[:, :, 6]',\n",
       "  'blocks.6.hook_k_input[:, :, 9]blocks.4.attn.hook_result[:, :, 11]',\n",
       "  'blocks.6.hook_mlp_in[:]blocks.5.attn.hook_result[:, :, 5]',\n",
       "  'blocks.6.hook_mlp_in[:]blocks.5.hook_mlp_out[:]',\n",
       "  'blocks.6.hook_mlp_out[:]blocks.6.hook_mlp_in[:]',\n",
       "  'blocks.6.hook_q_input[:, :, 9]blocks.0.hook_mlp_out[:]',\n",
       "  'blocks.6.hook_q_input[:, :, 9]blocks.5.attn.hook_result[:, :, 5]',\n",
       "  'blocks.7.attn.hook_k[:, :, 9]blocks.7.hook_k_input[:, :, 9]',\n",
       "  'blocks.7.attn.hook_result[:, :, 3]blocks.7.attn.hook_k[:, :, 3]',\n",
       "  'blocks.7.attn.hook_result[:, :, 3]blocks.7.attn.hook_q[:, :, 3]',\n",
       "  'blocks.7.attn.hook_result[:, :, 3]blocks.7.attn.hook_v[:, :, 3]',\n",
       "  'blocks.7.attn.hook_result[:, :, 9]blocks.7.attn.hook_k[:, :, 9]',\n",
       "  'blocks.7.attn.hook_result[:, :, 9]blocks.7.attn.hook_q[:, :, 9]',\n",
       "  'blocks.7.attn.hook_result[:, :, 9]blocks.7.attn.hook_v[:, :, 9]',\n",
       "  'blocks.7.attn.hook_v[:, :, 3]blocks.7.hook_v_input[:, :, 3]',\n",
       "  'blocks.7.attn.hook_v[:, :, 9]blocks.7.hook_v_input[:, :, 9]',\n",
       "  'blocks.7.hook_mlp_out[:]blocks.7.hook_mlp_in[:]',\n",
       "  'blocks.7.hook_v_input[:, :, 9]blocks.5.attn.hook_result[:, :, 5]',\n",
       "  'blocks.8.attn.hook_k[:, :, 6]blocks.8.hook_k_input[:, :, 6]',\n",
       "  'blocks.8.attn.hook_result[:, :, 10]blocks.8.attn.hook_k[:, :, 10]',\n",
       "  'blocks.8.attn.hook_result[:, :, 10]blocks.8.attn.hook_q[:, :, 10]',\n",
       "  'blocks.8.attn.hook_result[:, :, 10]blocks.8.attn.hook_v[:, :, 10]',\n",
       "  'blocks.8.attn.hook_result[:, :, 6]blocks.8.attn.hook_k[:, :, 6]',\n",
       "  'blocks.8.attn.hook_result[:, :, 6]blocks.8.attn.hook_q[:, :, 6]',\n",
       "  'blocks.8.attn.hook_result[:, :, 6]blocks.8.attn.hook_v[:, :, 6]',\n",
       "  'blocks.8.attn.hook_v[:, :, 10]blocks.8.hook_v_input[:, :, 10]',\n",
       "  'blocks.8.attn.hook_v[:, :, 6]blocks.8.hook_v_input[:, :, 6]',\n",
       "  'blocks.8.hook_mlp_out[:]blocks.8.hook_mlp_in[:]',\n",
       "  'blocks.8.hook_v_input[:, :, 10]blocks.5.attn.hook_result[:, :, 5]',\n",
       "  'blocks.8.hook_v_input[:, :, 6]blocks.5.attn.hook_result[:, :, 5]',\n",
       "  'blocks.9.attn.hook_q[:, :, 9]blocks.9.hook_q_input[:, :, 9]',\n",
       "  'blocks.9.attn.hook_result[:, :, 6]blocks.9.attn.hook_k[:, :, 6]',\n",
       "  'blocks.9.attn.hook_result[:, :, 6]blocks.9.attn.hook_q[:, :, 6]',\n",
       "  'blocks.9.attn.hook_result[:, :, 6]blocks.9.attn.hook_v[:, :, 6]',\n",
       "  'blocks.9.attn.hook_result[:, :, 7]blocks.9.attn.hook_k[:, :, 7]',\n",
       "  'blocks.9.attn.hook_result[:, :, 7]blocks.9.attn.hook_q[:, :, 7]',\n",
       "  'blocks.9.attn.hook_result[:, :, 7]blocks.9.attn.hook_v[:, :, 7]',\n",
       "  'blocks.9.attn.hook_result[:, :, 9]blocks.9.attn.hook_k[:, :, 9]',\n",
       "  'blocks.9.attn.hook_result[:, :, 9]blocks.9.attn.hook_q[:, :, 9]',\n",
       "  'blocks.9.attn.hook_result[:, :, 9]blocks.9.attn.hook_v[:, :, 9]',\n",
       "  'blocks.9.attn.hook_v[:, :, 7]blocks.9.hook_v_input[:, :, 7]',\n",
       "  'blocks.9.attn.hook_v[:, :, 9]blocks.9.hook_v_input[:, :, 9]',\n",
       "  'blocks.9.hook_mlp_out[:]blocks.9.hook_mlp_in[:]',\n",
       "  'blocks.9.hook_q_input[:, :, 9]blocks.8.attn.hook_result[:, :, 6]'}}"
      ]
     },
     "execution_count": 9,
     "metadata": {},
     "output_type": "execute_result"
    }
   ],
   "source": [
    "edges_after_acdcpp"
   ]
  },
  {
   "cell_type": "markdown",
   "id": "f3c0b5e5-7732-42da-b92e-687536aca96c",
   "metadata": {},
   "source": [
    "# Save Data"
   ]
  },
  {
   "cell_type": "code",
   "execution_count": null,
   "id": "a563b9a8",
   "metadata": {},
   "outputs": [
    {
     "ename": "ValueError",
     "evalue": "too many values to unpack (expected 2)",
     "output_type": "error",
     "traceback": [
      "\u001b[0;31m---------------------------------------------------------------------------\u001b[0m",
      "\u001b[0;31mValueError\u001b[0m                                Traceback (most recent call last)",
      "\u001b[1;32m/home/phil/deep_learning/mechanistic-unlearning/circuit-breaking/acdcpp/ioi_task/acdcpp_ioi.ipynb Cell 12\u001b[0m line \u001b[0;36m1\n\u001b[1;32m      <a href='vscode-notebook-cell://wsl%2Bubuntu/home/phil/deep_learning/mechanistic-unlearning/circuit-breaking/acdcpp/ioi_task/acdcpp_ioi.ipynb#X14sdnNjb2RlLXJlbW90ZQ%3D%3D?line=7'>8</a>\u001b[0m \u001b[39mfor\u001b[39;00m thresh \u001b[39min\u001b[39;00m acdcpp_pruned_attrs\u001b[39m.\u001b[39mkeys():\n\u001b[1;32m      <a href='vscode-notebook-cell://wsl%2Bubuntu/home/phil/deep_learning/mechanistic-unlearning/circuit-breaking/acdcpp/ioi_task/acdcpp_ioi.ipynb#X14sdnNjb2RlLXJlbW90ZQ%3D%3D?line=8'>9</a>\u001b[0m     cleaned_pp_attrs[thresh] \u001b[39m=\u001b[39m {}\n\u001b[0;32m---> <a href='vscode-notebook-cell://wsl%2Bubuntu/home/phil/deep_learning/mechanistic-unlearning/circuit-breaking/acdcpp/ioi_task/acdcpp_ioi.ipynb#X14sdnNjb2RlLXJlbW90ZQ%3D%3D?line=9'>10</a>\u001b[0m     \u001b[39mfor\u001b[39;00m (parent, child), attr \u001b[39min\u001b[39;00m acdcpp_pruned_attrs[thresh]\u001b[39m.\u001b[39mitems():\n\u001b[1;32m     <a href='vscode-notebook-cell://wsl%2Bubuntu/home/phil/deep_learning/mechanistic-unlearning/circuit-breaking/acdcpp/ioi_task/acdcpp_ioi.ipynb#X14sdnNjb2RlLXJlbW90ZQ%3D%3D?line=10'>11</a>\u001b[0m         cleaned_pp_attrs[thresh]\\\n\u001b[1;32m     <a href='vscode-notebook-cell://wsl%2Bubuntu/home/phil/deep_learning/mechanistic-unlearning/circuit-breaking/acdcpp/ioi_task/acdcpp_ioi.ipynb#X14sdnNjb2RlLXJlbW90ZQ%3D%3D?line=11'>12</a>\u001b[0m         [\u001b[39mf\u001b[39m\u001b[39m'\u001b[39m\u001b[39m{\u001b[39;00mchild\u001b[39m.\u001b[39mhook_point_name\u001b[39m}\u001b[39;00m\u001b[39m{\u001b[39;00mchild\u001b[39m.\u001b[39mreplace_parens(child\u001b[39m.\u001b[39mindex)\u001b[39m}\u001b[39;00m\u001b[39m{\u001b[39;00mparent\u001b[39m.\u001b[39mhook_point_name\u001b[39m}\u001b[39;00m\u001b[39m{\u001b[39;00mparent\u001b[39m.\u001b[39mreplace_parens(parent\u001b[39m.\u001b[39mindex)\u001b[39m}\u001b[39;00m\u001b[39m'\u001b[39m] \u001b[39m=\u001b[39m attr\n\u001b[1;32m     <a href='vscode-notebook-cell://wsl%2Bubuntu/home/phil/deep_learning/mechanistic-unlearning/circuit-breaking/acdcpp/ioi_task/acdcpp_ioi.ipynb#X14sdnNjb2RlLXJlbW90ZQ%3D%3D?line=13'>14</a>\u001b[0m \u001b[39m# Cleaning the edges\u001b[39;00m\n",
      "\u001b[0;31mValueError\u001b[0m: too many values to unpack (expected 2)"
     ]
    }
   ],
   "source": [
    "import json\n",
    "\n",
    "for thresh in pruned_heads.keys():\n",
    "    pruned_heads[thresh][0] = list(pruned_heads[thresh][0])\n",
    "    pruned_heads[thresh][1] = list(pruned_heads[thresh][1])\n",
    "    \n",
    "cleaned_pp_attrs = {}\n",
    "for thresh in acdcpp_pruned_attrs.keys():\n",
    "    cleaned_pp_attrs[thresh] = {}\n",
    "    for (parent, child), attr in acdcpp_pruned_attrs[thresh].items():\n",
    "        cleaned_pp_attrs[thresh]\\\n",
    "        [f'{child.hook_point_name}{child.replace_parens(child.index)}{parent.hook_point_name}{parent.replace_parens(parent.index)}'] = attr\n",
    "        \n",
    "# Cleaning the edges\n",
    "for thresh in edges_after_acdcpp.keys():\n",
    "    edges_after_acdcpp[thresh] = list(edges_after_acdcpp[thresh])\n",
    "    edges_after_acdc[thresh] = list(edges_after_acdc[thresh])\n",
    "    \n",
    "APPEND = False\n",
    "\n",
    "if APPEND:\n",
    "    with open(f'{RUN_NAME}_pruned_heads.json', 'r') as f:\n",
    "        old_pruned_heads = json.load(f)\n",
    "    with open(f'{RUN_NAME}_acdcpp_pruned_attrs.json', 'r') as f:\n",
    "        old_acdcpp_pruned_attrs = json.load(f)\n",
    "    with open(f'{RUN_NAME}_acdc_pruned_attrs.json', 'r') as f:\n",
    "        old_acdc_pruned_attrs = json.load(f)\n",
    "    with open(f'{RUN_NAME}_num_passes.json', 'r') as f:\n",
    "        old_num_passes = json.load(f)\n",
    "    with open(f'{RUN_NAME}_edges_after_acdcpp.json', 'r') as f:\n",
    "        old_edges_after_acdcpp = json.load(f)\n",
    "    with open(f'{RUN_NAME}_edges_after_acdc.json', 'r') as f:\n",
    "        old_edges_after_acdc = json.load(f)\n",
    "    \n",
    "    pruned_heads = pruned_heads.update(old_pruned_heads)\n",
    "    cleaned_pp_attrs = cleaned_pp_attrs.update(old_acdcpp_pruned_attrs)\n",
    "    acdc_pruned_attrs = acdc_pruned_attrs.update(old_acdc_pruned_attrs)\n",
    "    num_passes = num_passes.update(old_num_passes)\n",
    "    edges_after_acdcpp = edges_after_acdcpp.update(old_edges_after_acdcpp)\n",
    "    edges_after_acdc = edges_after_acdc.update(old_edges_after_acdc)\n",
    "\n",
    "with open(f'{RUN_NAME}_pruned_heads.json', 'w') as f:\n",
    "    json.dump(pruned_heads, f)\n",
    "with open(f'{RUN_NAME}_num_passes.json', 'w') as f:\n",
    "    json.dump(num_passes, f)\n",
    "with open(f'{RUN_NAME}_acdcpp_pruned_attrs.json', 'w') as f:\n",
    "    json.dump(cleaned_pp_attrs, f)\n",
    "with open(f'{RUN_NAME}_acdc_pruned_attrs.json', 'w') as f:\n",
    "    json.dump(acdc_pruned_attrs, f)\n",
    "\n",
    "with open(f'{RUN_NAME}_edges_after_acdcpp.json', 'w') as f:\n",
    "    json.dump(edges_after_acdcpp, f)\n",
    "with open(f'{RUN_NAME}_edges_after_acdc.json', 'w') as f:\n",
    "    json.dump(edges_after_acdc, f)"
   ]
  },
  {
   "cell_type": "code",
   "execution_count": null,
   "id": "ca44a0fd",
   "metadata": {},
   "outputs": [],
   "source": []
  }
 ],
 "metadata": {
  "kernelspec": {
   "display_name": "unlrn",
   "language": "python",
   "name": "unlrn"
  },
  "language_info": {
   "codemirror_mode": {
    "name": "ipython",
    "version": 3
   },
   "file_extension": ".py",
   "mimetype": "text/x-python",
   "name": "python",
   "nbconvert_exporter": "python",
   "pygments_lexer": "ipython3",
   "version": "3.10.13"
  }
 },
 "nbformat": 4,
 "nbformat_minor": 5
}
