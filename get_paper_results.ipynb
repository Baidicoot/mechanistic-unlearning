{
 "cells": [
  {
   "cell_type": "code",
   "execution_count": null,
   "metadata": {},
   "outputs": [],
   "source": [
    "%load_ext autoreload\n",
    "%autoreload 2\n",
    "\n",
    "from circuit_breaking.src import *\n",
    "import torch\n",
    "from functools import partial\n",
    "import matplotlib.pyplot as plt\n",
    "import numpy as np\n",
    "import os\n",
    "from circuit_breaking.src.utils import load_model_from_transformers, from_hf_to_tlens\n",
    "from circuit_breaking.src.masks import MLPHiddenMask\n",
    "from tqdm.auto import tqdm\n",
    "#torch.autograd.set_detect_anomaly(True) \n"
   ]
  },
  {
   "cell_type": "code",
   "execution_count": null,
   "metadata": {},
   "outputs": [],
   "source": [
    "from transformers import GPT2Tokenizer, GPTNeoXTokenizerFast, AutoModelForCausalLM, AutoTokenizer\n",
    "model_name_or_path = \"google/gemma-7b\"\n",
    "model_type = \"gemma\"\n",
    "\n",
    "tokenizer = AutoTokenizer.from_pretrained(\"google/gemma-7b\")\n",
    "tokenizer.pad_token_id = tokenizer.eos_token_id\n",
    "tokenizer.padding_side = \"right\"\n",
    "\n",
    "n_layers = 28\n",
    "n_heads = 16\n",
    "\n",
    "print(torch.cuda.memory_allocated() / 1024**3)"
   ]
  },
  {
   "cell_type": "code",
   "execution_count": null,
   "metadata": {},
   "outputs": [],
   "source": [
    "maintain_sport = None\n",
    "\n",
    "\n",
    "forget_sport=None\n",
    "forget_athletes = 16\n",
    "save_dir = f\"results/localized_finetuning_{forget_athletes}_athletes\"\n",
    "\n",
    "# forget_sport=\"basketball\"\n",
    "# forget_athletes = None\n",
    "# save_dir = f\"results/localized_finetuning_{forget_sport}\""
   ]
  },
  {
   "cell_type": "code",
   "execution_count": null,
   "metadata": {},
   "outputs": [],
   "source": [
    "from cb_utils.mask_utils import convert_attrs_to_components, get_top_components, get_top_components_no_subcomponents, get_random_components, load_mask_from_state_dict, get_parameter, apply_localized_gradients\n",
    "\n",
    "import pickle\n",
    "with open(\"models/google_gemma-7b_sports_all_ap_graph.pkl\", \"rb\") as f:\n",
    "    ap_graph = pickle.load(f)\n",
    "print(ap_graph.keys())\n",
    "\n",
    "# ct components\n",
    "with open(\"models/google_gemma-7b_sports_all_ct_graph.pkl\", \"rb\") as f:\n",
    "    ct_graph = pickle.load(f)\n",
    "print(ct_graph)\n",
    "\n",
    "beta = 3\n",
    "top_p = 5\n",
    "combine_heads = True\n",
    "\n",
    "localization_types = [\"localized_ap\", \"localized_ct\", \"random\", \"manual_interp\", \"nonlocalized\"]\n",
    "# localization_types = [\"localized_ap\", \"localized_ct\"]\n",
    "# localization_types = [\"manual_interp\", \"nonlocalized\"]\n",
    "# localization_types = [\"manual_interp\"]\n",
    "\n",
    "colors = ['C0', 'C1', 'C2', 'C3', 'C4', 'C5', 'C6', 'C7', 'C8', 'C9']\n",
    "color_map = {\"localized_ap\": colors[0], \"localized_ct\": colors[1], \"random\": colors[2], \"manual_interp\": colors[3], \"nonlocalized\": colors[4]}\n",
    "formal_name_dict = {\"localized_ap\": \"Localized AP\", \"localized_ct\": \"Localized CT\", \"random\": \"Random\", \"manual_interp\": \"Manual Interp\", \"nonlocalized\": \"Nonlocalized\"}\n",
    "\n",
    "from collections import defaultdict\n",
    "from tasks.facts.SportsTaskAdversarial import adversarial_sports_eval_redo\n",
    "\n",
    "# combine_heads = True\n",
    "top_p = 5\n",
    "learning_rate = 1e-5\n",
    "n_epochs = 50\n",
    "# max_gpu_batch_size=8\n",
    "beta = 3\n",
    "\n",
    "training_dict = {}\n",
    "\n",
    "for localization_type in localization_types:\n",
    "    with open(f\"{save_dir}/models/{model_type}_{localization_type}_{combine_heads=}_{beta=}_unlearn_{forget_sport=}_{forget_athletes=}_metrics.pkl\", \"rb\") as f:\n",
    "        training_dict[localization_type] = pickle.load(f)\n",
    "        # pickle.dump({\"train_losses\": all_train_losses, \"test_losses\": all_test_losses, \"adversarial_evals\": adversarial_evals, \"side_effect_evals\": side_effect_evals}, f)"
   ]
  },
  {
   "cell_type": "code",
   "execution_count": null,
   "metadata": {},
   "outputs": [],
   "source": [
    "# retraining results\n"
   ]
  }
 ],
 "metadata": {
  "language_info": {
   "name": "python"
  }
 },
 "nbformat": 4,
 "nbformat_minor": 2
}
