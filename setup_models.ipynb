{
 "cells": [
  {
   "cell_type": "markdown",
   "metadata": {},
   "source": [
    "# Set up models for edge or weight masking"
   ]
  },
  {
   "cell_type": "markdown",
   "metadata": {},
   "source": [
    "## Workflow:\n",
    "- Load model\n",
    "- Use Task with clean and corrupt data, use ACDCPP and get the ACDCPP-style edges\n",
    "- Convert ACDCPP-style edges to edge mask, get either edge superset of node superset\n",
    "- Apply these masks to the mask training, either by limiting edge mask to only edge superset, node superset, or by limiting weight mask to node superset\n",
    "\n",
    "- Also need to test other baselines, like regular finetuning"
   ]
  },
  {
   "cell_type": "code",
   "execution_count": 1,
   "metadata": {},
   "outputs": [],
   "source": [
    "%load_ext autoreload\n",
    "%autoreload 2\n",
    "import os\n",
    "import sys\n",
    "sys.path.append('acdcpp/Automatic-Circuit-Discovery/')\n",
    "sys.path.append('acdcpp/')\n",
    "from acdc import TLACDCExperiment\n",
    "from acdcpp.ACDCPPExperiment import ACDCPPExperiment"
   ]
  },
  {
   "cell_type": "code",
   "execution_count": 2,
   "metadata": {},
   "outputs": [
    {
     "name": "stdout",
     "output_type": "stream",
     "text": [
      "Device: cuda\n"
     ]
    }
   ],
   "source": [
    "import os\n",
    "import sys\n",
    "import re\n",
    "\n",
    "# import acdc\n",
    "from acdc.TLACDCExperiment import TLACDCExperiment\n",
    "from acdc.acdc_utils import TorchIndex, EdgeType\n",
    "import numpy as np\n",
    "import torch as t\n",
    "from torch import Tensor\n",
    "import einops\n",
    "import itertools\n",
    "\n",
    "from transformer_lens import HookedTransformer, ActivationCache\n",
    "\n",
    "import tqdm.notebook as tqdm\n",
    "import plotly\n",
    "from rich import print as rprint\n",
    "from rich.table import Table\n",
    "\n",
    "from jaxtyping import Float, Bool\n",
    "from typing import Callable, Tuple, Union, Dict, Optional\n",
    "\n",
    "device = t.device('cuda') if t.cuda.is_available() else t.device('cpu')\n",
    "print(f'Device: {device}')"
   ]
  },
  {
   "cell_type": "code",
   "execution_count": 3,
   "metadata": {},
   "outputs": [
    {
     "name": "stdout",
     "output_type": "stream",
     "text": [
      "Loaded pretrained model gpt2-small into HookedTransformer\n"
     ]
    }
   ],
   "source": [
    "# set up pipeline from acdcpp to edge mask\n",
    "model = HookedTransformer.from_pretrained(\n",
    "    'gpt2-small',\n",
    "    center_writing_weights=False,\n",
    "    center_unembed=False,\n",
    "    fold_ln=False,\n",
    "    device=device,\n",
    ")\n",
    "model.set_use_hook_mlp_in(True)\n",
    "model.set_use_split_qkv_input(True)\n",
    "model.set_use_attn_result(True)\n",
    "\n"
   ]
  },
  {
   "cell_type": "code",
   "execution_count": 4,
   "metadata": {},
   "outputs": [],
   "source": [
    "from tasks.ioi.IOITask import IOITask_old, IOITask\n",
    "ioi_task = IOITask(batch_size=5, tokenizer=model.tokenizer, device=device, prep_acdcpp=True, acdcpp_N=25)\n",
    "ioi_task.set_logit_diffs(model)"
   ]
  },
  {
   "cell_type": "code",
   "execution_count": 6,
   "metadata": {},
   "outputs": [],
   "source": [
    "ioi_metric = ioi_task.get_acdcpp_metric()\n",
    "def negative_abs_ioi_metric(logits: Float[Tensor, \"batch seq_len d_vocab\"]):\n",
    "    return -abs(ioi_metric(logits))\n",
    "\n",
    "with t.no_grad():\n",
    "    clean_logits = model(ioi_task.clean_data.toks)\n",
    "    corrupt_logits = model(ioi_task.corr_data.toks)\n",
    "    clean_logit_diff = ioi_task.ave_logit_diff(clean_logits, ioi_task.clean_data).item()\n",
    "    corrupt_logit_diff = ioi_task.ave_logit_diff(corrupt_logits, ioi_task.corr_data).item()"
   ]
  },
  {
   "cell_type": "code",
   "execution_count": 11,
   "metadata": {},
   "outputs": [
    {
     "name": "stdout",
     "output_type": "stream",
     "text": [
      "Clean direction: 3.040117025375366, Corrupt direction: 1.3159735202789307\n",
      "Clean metric: 1.0, Corrupt metric: 0.0\n"
     ]
    }
   ],
   "source": [
    "# Get clean and corrupt logit differences\n",
    "with t.no_grad():\n",
    "    clean_metric = ioi_metric(clean_logits, corrupt_logit_diff, clean_logit_diff, ioi_task.clean_data)\n",
    "    corrupt_metric = ioi_metric(corrupt_logits, corrupt_logit_diff, clean_logit_diff, ioi_task.corr_data)\n",
    "\n",
    "print(f'Clean direction: {clean_logit_diff}, Corrupt direction: {corrupt_logit_diff}')\n",
    "print(f'Clean metric: {clean_metric}, Corrupt metric: {corrupt_metric}')"
   ]
  },
  {
   "cell_type": "code",
   "execution_count": 12,
   "metadata": {},
   "outputs": [
    {
     "name": "stderr",
     "output_type": "stream",
     "text": [
      "  0%|          | 0/2 [00:00<?, ?it/s]WARNING:root:cache_all is deprecated and will eventually be removed, use add_caching_hooks or run_with_cache\n",
      "WARNING:root:cache_all is deprecated and will eventually be removed, use add_caching_hooks or run_with_cache\n"
     ]
    },
    {
     "name": "stdout",
     "output_type": "stream",
     "text": [
      "self.current_node=TLACDCInterpNode(blocks.11.hook_resid_post, [:])\n"
     ]
    },
    {
     "name": "stderr",
     "output_type": "stream",
     "text": [
      "Edge pruning: 100%|██████████| 1034/1034 [00:00<00:00, 15075.78it/s]\n",
      "Edge pruning: 100%|██████████| 1034/1034 [00:04<00:00, 248.65it/s]\n",
      "Edge pruning: 100%|██████████| 1034/1034 [00:00<00:00, 277740.02it/s]\n"
     ]
    },
    {
     "name": "stdout",
     "output_type": "stream",
     "text": [
      "dict_keys([-1, 11, 10, 9, 8, 7, 6, 5, 4, 3, 2, 1, 0, 12])\n"
     ]
    },
    {
     "name": "stderr",
     "output_type": "stream",
     "text": [
      " 50%|█████     | 1/2 [00:08<00:08,  8.38s/it]WARNING:root:cache_all is deprecated and will eventually be removed, use add_caching_hooks or run_with_cache\n",
      "WARNING:root:cache_all is deprecated and will eventually be removed, use add_caching_hooks or run_with_cache\n"
     ]
    },
    {
     "name": "stdout",
     "output_type": "stream",
     "text": [
      "self.current_node=TLACDCInterpNode(blocks.11.hook_resid_post, [:])\n"
     ]
    },
    {
     "name": "stderr",
     "output_type": "stream",
     "text": [
      "Edge pruning: 100%|██████████| 1034/1034 [00:00<00:00, 14782.12it/s]\n",
      "Edge pruning: 100%|██████████| 1034/1034 [00:04<00:00, 248.14it/s]\n",
      "Edge pruning: 100%|██████████| 1034/1034 [00:00<00:00, 289881.05it/s]\n",
      "100%|██████████| 2/2 [00:16<00:00,  8.04s/it]"
     ]
    },
    {
     "name": "stdout",
     "output_type": "stream",
     "text": [
      "dict_keys([-1, 11, 10, 9, 8, 7, 6, 5, 4, 3, 2, 1, 0, 12])\n"
     ]
    },
    {
     "name": "stderr",
     "output_type": "stream",
     "text": [
      "\n"
     ]
    }
   ],
   "source": [
    "from ACDCPPExperiment import ACDCPPExperiment\n",
    "THRESHOLDS = [0.08, .15]#np.arange(0.005, 0.155, 0.005)\n",
    "RUN_NAME = 'abs_edge'\n",
    "\n",
    "acdcpp_exp = ACDCPPExperiment(\n",
    "    model=model,\n",
    "    clean_data=ioi_task.clean_data.toks,\n",
    "    corr_data=ioi_task.corr_data.toks,\n",
    "    acdc_metric=negative_abs_ioi_metric,\n",
    "    acdcpp_metric=ioi_metric,\n",
    "    thresholds=THRESHOLDS,\n",
    "    run_name=RUN_NAME,\n",
    "    verbose=False,\n",
    "    attr_absolute_val=True,\n",
    "    save_graphs_after=-100,\n",
    "    pruning_mode='edge',\n",
    "    no_pruned_nodes_attr=1,\n",
    "    run_acdc=False,\n",
    "    run_acdcpp=True,\n",
    ")\n",
    "# e=acdcpp_exp.setup_exp(0.0)\n",
    "\n",
    "pruned_heads, num_passes, acdcpp_pruned_attrs, acdc_pruned_attrs, edges_after_acdcpp, edges_after_acdc = acdcpp_exp.run()"
   ]
  },
  {
   "cell_type": "code",
   "execution_count": 13,
   "metadata": {},
   "outputs": [
    {
     "data": {
      "text/plain": [
       "{0.08: {'blocks.0.attn.hook_k[:, :, 10]blocks.0.hook_k_input[:, :, 10]',\n",
       "  'blocks.0.attn.hook_q[:, :, 10]blocks.0.hook_q_input[:, :, 10]',\n",
       "  'blocks.0.attn.hook_result[:, :, 10]blocks.0.attn.hook_k[:, :, 10]',\n",
       "  'blocks.0.attn.hook_result[:, :, 10]blocks.0.attn.hook_q[:, :, 10]',\n",
       "  'blocks.0.attn.hook_result[:, :, 10]blocks.0.attn.hook_v[:, :, 10]',\n",
       "  'blocks.0.attn.hook_v[:, :, 1]blocks.0.hook_v_input[:, :, 1]',\n",
       "  'blocks.0.hook_k_input[:, :, 10]blocks.0.hook_resid_pre[:]',\n",
       "  'blocks.0.hook_k_input[:, :, 9]blocks.0.hook_resid_pre[:]',\n",
       "  'blocks.0.hook_mlp_in[:]blocks.0.attn.hook_result[:, :, 10]',\n",
       "  'blocks.0.hook_mlp_in[:]blocks.0.hook_resid_pre[:]',\n",
       "  'blocks.0.hook_mlp_out[:]blocks.0.hook_mlp_in[:]',\n",
       "  'blocks.0.hook_q_input[:, :, 10]blocks.0.hook_resid_pre[:]',\n",
       "  'blocks.1.attn.hook_k[:, :, 11]blocks.1.hook_k_input[:, :, 11]',\n",
       "  'blocks.1.attn.hook_q[:, :, 11]blocks.1.hook_q_input[:, :, 11]',\n",
       "  'blocks.1.hook_mlp_in[:]blocks.0.hook_mlp_out[:]',\n",
       "  'blocks.1.hook_mlp_out[:]blocks.1.hook_mlp_in[:]',\n",
       "  'blocks.10.attn.hook_k[:, :, 0]blocks.10.hook_k_input[:, :, 0]',\n",
       "  'blocks.10.attn.hook_k[:, :, 7]blocks.10.hook_k_input[:, :, 7]',\n",
       "  'blocks.10.attn.hook_q[:, :, 0]blocks.10.hook_q_input[:, :, 0]',\n",
       "  'blocks.10.attn.hook_q[:, :, 6]blocks.10.hook_q_input[:, :, 6]',\n",
       "  'blocks.10.attn.hook_q[:, :, 7]blocks.10.hook_q_input[:, :, 7]',\n",
       "  'blocks.10.attn.hook_result[:, :, 0]blocks.10.attn.hook_k[:, :, 0]',\n",
       "  'blocks.10.attn.hook_result[:, :, 0]blocks.10.attn.hook_q[:, :, 0]',\n",
       "  'blocks.10.attn.hook_result[:, :, 0]blocks.10.attn.hook_v[:, :, 0]',\n",
       "  'blocks.10.attn.hook_result[:, :, 1]blocks.10.attn.hook_k[:, :, 1]',\n",
       "  'blocks.10.attn.hook_result[:, :, 1]blocks.10.attn.hook_q[:, :, 1]',\n",
       "  'blocks.10.attn.hook_result[:, :, 1]blocks.10.attn.hook_v[:, :, 1]',\n",
       "  'blocks.10.attn.hook_result[:, :, 2]blocks.10.attn.hook_k[:, :, 2]',\n",
       "  'blocks.10.attn.hook_result[:, :, 2]blocks.10.attn.hook_q[:, :, 2]',\n",
       "  'blocks.10.attn.hook_result[:, :, 2]blocks.10.attn.hook_v[:, :, 2]',\n",
       "  'blocks.10.attn.hook_result[:, :, 6]blocks.10.attn.hook_k[:, :, 6]',\n",
       "  'blocks.10.attn.hook_result[:, :, 6]blocks.10.attn.hook_q[:, :, 6]',\n",
       "  'blocks.10.attn.hook_result[:, :, 6]blocks.10.attn.hook_v[:, :, 6]',\n",
       "  'blocks.10.attn.hook_result[:, :, 7]blocks.10.attn.hook_k[:, :, 7]',\n",
       "  'blocks.10.attn.hook_result[:, :, 7]blocks.10.attn.hook_q[:, :, 7]',\n",
       "  'blocks.10.attn.hook_result[:, :, 7]blocks.10.attn.hook_v[:, :, 7]',\n",
       "  'blocks.10.attn.hook_v[:, :, 0]blocks.10.hook_v_input[:, :, 0]',\n",
       "  'blocks.10.attn.hook_v[:, :, 1]blocks.10.hook_v_input[:, :, 1]',\n",
       "  'blocks.10.attn.hook_v[:, :, 2]blocks.10.hook_v_input[:, :, 2]',\n",
       "  'blocks.10.attn.hook_v[:, :, 7]blocks.10.hook_v_input[:, :, 7]',\n",
       "  'blocks.10.hook_k_input[:, :, 7]blocks.0.hook_mlp_out[:]',\n",
       "  'blocks.10.hook_q_input[:, :, 0]blocks.8.attn.hook_result[:, :, 10]',\n",
       "  'blocks.10.hook_q_input[:, :, 0]blocks.9.attn.hook_result[:, :, 6]',\n",
       "  'blocks.10.hook_q_input[:, :, 7]blocks.9.attn.hook_result[:, :, 6]',\n",
       "  'blocks.10.hook_q_input[:, :, 7]blocks.9.attn.hook_result[:, :, 9]',\n",
       "  'blocks.10.hook_v_input[:, :, 7]blocks.0.hook_mlp_out[:]',\n",
       "  'blocks.11.attn.hook_k[:, :, 10]blocks.11.hook_k_input[:, :, 10]',\n",
       "  'blocks.11.attn.hook_q[:, :, 10]blocks.11.hook_q_input[:, :, 10]',\n",
       "  'blocks.11.attn.hook_result[:, :, 10]blocks.11.attn.hook_k[:, :, 10]',\n",
       "  'blocks.11.attn.hook_result[:, :, 10]blocks.11.attn.hook_q[:, :, 10]',\n",
       "  'blocks.11.attn.hook_result[:, :, 10]blocks.11.attn.hook_v[:, :, 10]',\n",
       "  'blocks.11.attn.hook_result[:, :, 2]blocks.11.attn.hook_k[:, :, 2]',\n",
       "  'blocks.11.attn.hook_result[:, :, 2]blocks.11.attn.hook_q[:, :, 2]',\n",
       "  'blocks.11.attn.hook_result[:, :, 2]blocks.11.attn.hook_v[:, :, 2]',\n",
       "  'blocks.11.attn.hook_result[:, :, 3]blocks.11.attn.hook_k[:, :, 3]',\n",
       "  'blocks.11.attn.hook_result[:, :, 3]blocks.11.attn.hook_q[:, :, 3]',\n",
       "  'blocks.11.attn.hook_result[:, :, 3]blocks.11.attn.hook_v[:, :, 3]',\n",
       "  'blocks.11.attn.hook_v[:, :, 10]blocks.11.hook_v_input[:, :, 10]',\n",
       "  'blocks.11.attn.hook_v[:, :, 2]blocks.11.hook_v_input[:, :, 2]',\n",
       "  'blocks.11.attn.hook_v[:, :, 3]blocks.11.hook_v_input[:, :, 3]',\n",
       "  'blocks.11.hook_k_input[:, :, 10]blocks.0.hook_mlp_out[:]',\n",
       "  'blocks.11.hook_k_input[:, :, 10]blocks.6.hook_mlp_out[:]',\n",
       "  'blocks.11.hook_k_input[:, :, 10]blocks.8.hook_mlp_out[:]',\n",
       "  'blocks.11.hook_q_input[:, :, 10]blocks.10.attn.hook_result[:, :, 0]',\n",
       "  'blocks.11.hook_q_input[:, :, 10]blocks.10.attn.hook_result[:, :, 10]',\n",
       "  'blocks.11.hook_q_input[:, :, 10]blocks.10.attn.hook_result[:, :, 1]',\n",
       "  'blocks.11.hook_q_input[:, :, 10]blocks.10.attn.hook_result[:, :, 7]',\n",
       "  'blocks.11.hook_q_input[:, :, 10]blocks.8.attn.hook_result[:, :, 10]',\n",
       "  'blocks.11.hook_q_input[:, :, 10]blocks.9.attn.hook_result[:, :, 6]',\n",
       "  'blocks.11.hook_q_input[:, :, 10]blocks.9.attn.hook_result[:, :, 9]',\n",
       "  'blocks.11.hook_q_input[:, :, 2]blocks.10.attn.hook_result[:, :, 0]',\n",
       "  'blocks.11.hook_q_input[:, :, 2]blocks.8.attn.hook_result[:, :, 10]',\n",
       "  'blocks.11.hook_q_input[:, :, 2]blocks.9.attn.hook_result[:, :, 8]',\n",
       "  'blocks.11.hook_q_input[:, :, 2]blocks.9.attn.hook_result[:, :, 9]',\n",
       "  'blocks.11.hook_q_input[:, :, 2]blocks.9.hook_mlp_out[:]',\n",
       "  'blocks.11.hook_resid_post[:]blocks.10.attn.hook_result[:, :, 0]',\n",
       "  'blocks.11.hook_resid_post[:]blocks.10.attn.hook_result[:, :, 10]',\n",
       "  'blocks.11.hook_resid_post[:]blocks.10.attn.hook_result[:, :, 1]',\n",
       "  'blocks.11.hook_resid_post[:]blocks.10.attn.hook_result[:, :, 2]',\n",
       "  'blocks.11.hook_resid_post[:]blocks.10.attn.hook_result[:, :, 6]',\n",
       "  'blocks.11.hook_resid_post[:]blocks.10.attn.hook_result[:, :, 7]',\n",
       "  'blocks.11.hook_resid_post[:]blocks.11.attn.hook_result[:, :, 10]',\n",
       "  'blocks.11.hook_resid_post[:]blocks.11.attn.hook_result[:, :, 2]',\n",
       "  'blocks.11.hook_resid_post[:]blocks.11.attn.hook_result[:, :, 3]',\n",
       "  'blocks.11.hook_resid_post[:]blocks.7.attn.hook_result[:, :, 9]',\n",
       "  'blocks.11.hook_resid_post[:]blocks.8.attn.hook_result[:, :, 10]',\n",
       "  'blocks.11.hook_resid_post[:]blocks.9.attn.hook_result[:, :, 6]',\n",
       "  'blocks.11.hook_resid_post[:]blocks.9.attn.hook_result[:, :, 8]',\n",
       "  'blocks.11.hook_resid_post[:]blocks.9.attn.hook_result[:, :, 9]',\n",
       "  'blocks.11.hook_v_input[:, :, 10]blocks.0.hook_mlp_out[:]',\n",
       "  'blocks.11.hook_v_input[:, :, 2]blocks.0.hook_mlp_out[:]',\n",
       "  'blocks.2.hook_mlp_out[:]blocks.2.hook_mlp_in[:]',\n",
       "  'blocks.3.attn.hook_k[:, :, 0]blocks.3.hook_k_input[:, :, 0]',\n",
       "  'blocks.3.attn.hook_q[:, :, 0]blocks.3.hook_q_input[:, :, 0]',\n",
       "  'blocks.3.attn.hook_result[:, :, 0]blocks.3.attn.hook_k[:, :, 0]',\n",
       "  'blocks.3.attn.hook_result[:, :, 0]blocks.3.attn.hook_q[:, :, 0]',\n",
       "  'blocks.3.attn.hook_result[:, :, 0]blocks.3.attn.hook_v[:, :, 0]',\n",
       "  'blocks.3.hook_k_input[:, :, 0]blocks.0.hook_mlp_out[:]',\n",
       "  'blocks.3.hook_mlp_in[:]blocks.0.hook_mlp_out[:]',\n",
       "  'blocks.3.hook_mlp_in[:]blocks.1.hook_mlp_out[:]',\n",
       "  'blocks.3.hook_mlp_in[:]blocks.3.attn.hook_result[:, :, 0]',\n",
       "  'blocks.3.hook_mlp_out[:]blocks.3.hook_mlp_in[:]',\n",
       "  'blocks.3.hook_q_input[:, :, 0]blocks.0.hook_mlp_out[:]',\n",
       "  'blocks.4.hook_mlp_in[:]blocks.0.hook_mlp_out[:]',\n",
       "  'blocks.4.hook_mlp_in[:]blocks.1.hook_mlp_out[:]',\n",
       "  'blocks.4.hook_mlp_in[:]blocks.3.attn.hook_result[:, :, 0]',\n",
       "  'blocks.4.hook_mlp_out[:]blocks.4.hook_mlp_in[:]',\n",
       "  'blocks.5.attn.hook_k[:, :, 5]blocks.5.hook_k_input[:, :, 5]',\n",
       "  'blocks.5.attn.hook_q[:, :, 5]blocks.5.hook_q_input[:, :, 5]',\n",
       "  'blocks.5.attn.hook_q[:, :, 9]blocks.5.hook_q_input[:, :, 9]',\n",
       "  'blocks.5.attn.hook_result[:, :, 5]blocks.5.attn.hook_k[:, :, 5]',\n",
       "  'blocks.5.attn.hook_result[:, :, 5]blocks.5.attn.hook_q[:, :, 5]',\n",
       "  'blocks.5.attn.hook_result[:, :, 5]blocks.5.attn.hook_v[:, :, 5]',\n",
       "  'blocks.5.attn.hook_result[:, :, 9]blocks.5.attn.hook_k[:, :, 9]',\n",
       "  'blocks.5.attn.hook_result[:, :, 9]blocks.5.attn.hook_q[:, :, 9]',\n",
       "  'blocks.5.attn.hook_result[:, :, 9]blocks.5.attn.hook_v[:, :, 9]',\n",
       "  'blocks.5.hook_mlp_in[:]blocks.3.attn.hook_result[:, :, 0]',\n",
       "  'blocks.5.hook_mlp_in[:]blocks.5.attn.hook_result[:, :, 5]',\n",
       "  'blocks.5.hook_mlp_out[:]blocks.5.hook_mlp_in[:]',\n",
       "  'blocks.5.hook_q_input[:, :, 9]blocks.0.hook_mlp_out[:]',\n",
       "  'blocks.5.hook_q_input[:, :, 9]blocks.1.hook_mlp_out[:]',\n",
       "  'blocks.5.hook_q_input[:, :, 9]blocks.3.attn.hook_result[:, :, 0]',\n",
       "  'blocks.5.hook_q_input[:, :, 9]blocks.3.hook_mlp_out[:]',\n",
       "  'blocks.6.attn.hook_k[:, :, 1]blocks.6.hook_k_input[:, :, 1]',\n",
       "  'blocks.6.hook_mlp_in[:]blocks.3.attn.hook_result[:, :, 0]',\n",
       "  'blocks.6.hook_mlp_in[:]blocks.5.hook_mlp_out[:]',\n",
       "  'blocks.6.hook_mlp_out[:]blocks.6.hook_mlp_in[:]',\n",
       "  'blocks.7.attn.hook_k[:, :, 9]blocks.7.hook_k_input[:, :, 9]',\n",
       "  'blocks.7.attn.hook_result[:, :, 3]blocks.7.attn.hook_k[:, :, 3]',\n",
       "  'blocks.7.attn.hook_result[:, :, 3]blocks.7.attn.hook_q[:, :, 3]',\n",
       "  'blocks.7.attn.hook_result[:, :, 3]blocks.7.attn.hook_v[:, :, 3]',\n",
       "  'blocks.7.attn.hook_result[:, :, 9]blocks.7.attn.hook_k[:, :, 9]',\n",
       "  'blocks.7.attn.hook_result[:, :, 9]blocks.7.attn.hook_q[:, :, 9]',\n",
       "  'blocks.7.attn.hook_result[:, :, 9]blocks.7.attn.hook_v[:, :, 9]',\n",
       "  'blocks.7.attn.hook_v[:, :, 3]blocks.7.hook_v_input[:, :, 3]',\n",
       "  'blocks.7.attn.hook_v[:, :, 9]blocks.7.hook_v_input[:, :, 9]',\n",
       "  'blocks.7.hook_k_input[:, :, 9]blocks.0.hook_mlp_out[:]',\n",
       "  'blocks.7.hook_mlp_in[:]blocks.6.hook_mlp_out[:]',\n",
       "  'blocks.7.hook_mlp_out[:]blocks.7.hook_mlp_in[:]',\n",
       "  'blocks.8.attn.hook_k[:, :, 10]blocks.8.hook_k_input[:, :, 10]',\n",
       "  'blocks.8.attn.hook_q[:, :, 3]blocks.8.hook_q_input[:, :, 3]',\n",
       "  'blocks.8.attn.hook_result[:, :, 10]blocks.8.attn.hook_k[:, :, 10]',\n",
       "  'blocks.8.attn.hook_result[:, :, 10]blocks.8.attn.hook_q[:, :, 10]',\n",
       "  'blocks.8.attn.hook_result[:, :, 10]blocks.8.attn.hook_v[:, :, 10]',\n",
       "  'blocks.8.attn.hook_result[:, :, 3]blocks.8.attn.hook_k[:, :, 3]',\n",
       "  'blocks.8.attn.hook_result[:, :, 3]blocks.8.attn.hook_q[:, :, 3]',\n",
       "  'blocks.8.attn.hook_result[:, :, 3]blocks.8.attn.hook_v[:, :, 3]',\n",
       "  'blocks.8.attn.hook_result[:, :, 6]blocks.8.attn.hook_k[:, :, 6]',\n",
       "  'blocks.8.attn.hook_result[:, :, 6]blocks.8.attn.hook_q[:, :, 6]',\n",
       "  'blocks.8.attn.hook_result[:, :, 6]blocks.8.attn.hook_v[:, :, 6]',\n",
       "  'blocks.8.attn.hook_v[:, :, 10]blocks.8.hook_v_input[:, :, 10]',\n",
       "  'blocks.8.attn.hook_v[:, :, 6]blocks.8.hook_v_input[:, :, 6]',\n",
       "  'blocks.8.hook_k_input[:, :, 10]blocks.4.hook_mlp_out[:]',\n",
       "  'blocks.8.hook_k_input[:, :, 10]blocks.5.attn.hook_result[:, :, 5]',\n",
       "  'blocks.8.hook_mlp_in[:]blocks.7.hook_mlp_out[:]',\n",
       "  'blocks.8.hook_mlp_out[:]blocks.8.hook_mlp_in[:]',\n",
       "  'blocks.8.hook_v_input[:, :, 10]blocks.5.attn.hook_result[:, :, 9]',\n",
       "  'blocks.8.hook_v_input[:, :, 6]blocks.5.attn.hook_result[:, :, 5]',\n",
       "  'blocks.9.attn.hook_k[:, :, 9]blocks.9.hook_k_input[:, :, 9]',\n",
       "  'blocks.9.attn.hook_q[:, :, 6]blocks.9.hook_q_input[:, :, 6]',\n",
       "  'blocks.9.attn.hook_q[:, :, 9]blocks.9.hook_q_input[:, :, 9]',\n",
       "  'blocks.9.attn.hook_result[:, :, 6]blocks.9.attn.hook_k[:, :, 6]',\n",
       "  'blocks.9.attn.hook_result[:, :, 6]blocks.9.attn.hook_q[:, :, 6]',\n",
       "  'blocks.9.attn.hook_result[:, :, 6]blocks.9.attn.hook_v[:, :, 6]',\n",
       "  'blocks.9.attn.hook_result[:, :, 7]blocks.9.attn.hook_k[:, :, 7]',\n",
       "  'blocks.9.attn.hook_result[:, :, 7]blocks.9.attn.hook_q[:, :, 7]',\n",
       "  'blocks.9.attn.hook_result[:, :, 7]blocks.9.attn.hook_v[:, :, 7]',\n",
       "  'blocks.9.attn.hook_result[:, :, 9]blocks.9.attn.hook_k[:, :, 9]',\n",
       "  'blocks.9.attn.hook_result[:, :, 9]blocks.9.attn.hook_q[:, :, 9]',\n",
       "  'blocks.9.attn.hook_result[:, :, 9]blocks.9.attn.hook_v[:, :, 9]',\n",
       "  'blocks.9.attn.hook_v[:, :, 6]blocks.9.hook_v_input[:, :, 6]',\n",
       "  'blocks.9.attn.hook_v[:, :, 7]blocks.9.hook_v_input[:, :, 7]',\n",
       "  'blocks.9.hook_q_input[:, :, 9]blocks.8.attn.hook_result[:, :, 10]'},\n",
       " 0.15: {'blocks.0.attn.hook_k[:, :, 10]blocks.0.hook_k_input[:, :, 10]',\n",
       "  'blocks.0.attn.hook_q[:, :, 10]blocks.0.hook_q_input[:, :, 10]',\n",
       "  'blocks.0.hook_k_input[:, :, 10]blocks.0.hook_resid_pre[:]',\n",
       "  'blocks.0.hook_mlp_in[:]blocks.0.hook_resid_pre[:]',\n",
       "  'blocks.0.hook_mlp_out[:]blocks.0.hook_mlp_in[:]',\n",
       "  'blocks.0.hook_q_input[:, :, 10]blocks.0.hook_resid_pre[:]',\n",
       "  'blocks.1.hook_mlp_in[:]blocks.0.hook_mlp_out[:]',\n",
       "  'blocks.1.hook_mlp_out[:]blocks.1.hook_mlp_in[:]',\n",
       "  'blocks.10.attn.hook_k[:, :, 7]blocks.10.hook_k_input[:, :, 7]',\n",
       "  'blocks.10.attn.hook_q[:, :, 0]blocks.10.hook_q_input[:, :, 0]',\n",
       "  'blocks.10.attn.hook_q[:, :, 7]blocks.10.hook_q_input[:, :, 7]',\n",
       "  'blocks.10.attn.hook_result[:, :, 0]blocks.10.attn.hook_k[:, :, 0]',\n",
       "  'blocks.10.attn.hook_result[:, :, 0]blocks.10.attn.hook_q[:, :, 0]',\n",
       "  'blocks.10.attn.hook_result[:, :, 0]blocks.10.attn.hook_v[:, :, 0]',\n",
       "  'blocks.10.attn.hook_result[:, :, 1]blocks.10.attn.hook_k[:, :, 1]',\n",
       "  'blocks.10.attn.hook_result[:, :, 1]blocks.10.attn.hook_q[:, :, 1]',\n",
       "  'blocks.10.attn.hook_result[:, :, 1]blocks.10.attn.hook_v[:, :, 1]',\n",
       "  'blocks.10.attn.hook_result[:, :, 7]blocks.10.attn.hook_k[:, :, 7]',\n",
       "  'blocks.10.attn.hook_result[:, :, 7]blocks.10.attn.hook_q[:, :, 7]',\n",
       "  'blocks.10.attn.hook_result[:, :, 7]blocks.10.attn.hook_v[:, :, 7]',\n",
       "  'blocks.10.attn.hook_v[:, :, 0]blocks.10.hook_v_input[:, :, 0]',\n",
       "  'blocks.10.attn.hook_v[:, :, 1]blocks.10.hook_v_input[:, :, 1]',\n",
       "  'blocks.10.attn.hook_v[:, :, 7]blocks.10.hook_v_input[:, :, 7]',\n",
       "  'blocks.10.hook_k_input[:, :, 7]blocks.0.hook_mlp_out[:]',\n",
       "  'blocks.10.hook_q_input[:, :, 7]blocks.9.attn.hook_result[:, :, 6]',\n",
       "  'blocks.10.hook_q_input[:, :, 7]blocks.9.attn.hook_result[:, :, 9]',\n",
       "  'blocks.11.attn.hook_k[:, :, 10]blocks.11.hook_k_input[:, :, 10]',\n",
       "  'blocks.11.attn.hook_q[:, :, 10]blocks.11.hook_q_input[:, :, 10]',\n",
       "  'blocks.11.attn.hook_result[:, :, 10]blocks.11.attn.hook_k[:, :, 10]',\n",
       "  'blocks.11.attn.hook_result[:, :, 10]blocks.11.attn.hook_q[:, :, 10]',\n",
       "  'blocks.11.attn.hook_result[:, :, 10]blocks.11.attn.hook_v[:, :, 10]',\n",
       "  'blocks.11.attn.hook_result[:, :, 2]blocks.11.attn.hook_k[:, :, 2]',\n",
       "  'blocks.11.attn.hook_result[:, :, 2]blocks.11.attn.hook_q[:, :, 2]',\n",
       "  'blocks.11.attn.hook_result[:, :, 2]blocks.11.attn.hook_v[:, :, 2]',\n",
       "  'blocks.11.attn.hook_v[:, :, 10]blocks.11.hook_v_input[:, :, 10]',\n",
       "  'blocks.11.attn.hook_v[:, :, 2]blocks.11.hook_v_input[:, :, 2]',\n",
       "  'blocks.11.hook_k_input[:, :, 10]blocks.0.hook_mlp_out[:]',\n",
       "  'blocks.11.hook_q_input[:, :, 10]blocks.10.attn.hook_result[:, :, 10]',\n",
       "  'blocks.11.hook_q_input[:, :, 10]blocks.10.attn.hook_result[:, :, 7]',\n",
       "  'blocks.11.hook_q_input[:, :, 10]blocks.9.attn.hook_result[:, :, 6]',\n",
       "  'blocks.11.hook_q_input[:, :, 10]blocks.9.attn.hook_result[:, :, 9]',\n",
       "  'blocks.11.hook_resid_post[:]blocks.10.attn.hook_result[:, :, 0]',\n",
       "  'blocks.11.hook_resid_post[:]blocks.10.attn.hook_result[:, :, 10]',\n",
       "  'blocks.11.hook_resid_post[:]blocks.10.attn.hook_result[:, :, 1]',\n",
       "  'blocks.11.hook_resid_post[:]blocks.10.attn.hook_result[:, :, 7]',\n",
       "  'blocks.11.hook_resid_post[:]blocks.11.attn.hook_result[:, :, 10]',\n",
       "  'blocks.11.hook_resid_post[:]blocks.9.attn.hook_result[:, :, 6]',\n",
       "  'blocks.11.hook_resid_post[:]blocks.9.attn.hook_result[:, :, 9]',\n",
       "  'blocks.2.hook_mlp_out[:]blocks.2.hook_mlp_in[:]',\n",
       "  'blocks.3.attn.hook_k[:, :, 0]blocks.3.hook_k_input[:, :, 0]',\n",
       "  'blocks.3.attn.hook_q[:, :, 0]blocks.3.hook_q_input[:, :, 0]',\n",
       "  'blocks.3.hook_mlp_in[:]blocks.0.hook_mlp_out[:]',\n",
       "  'blocks.3.hook_mlp_in[:]blocks.3.attn.hook_result[:, :, 0]',\n",
       "  'blocks.3.hook_mlp_out[:]blocks.3.hook_mlp_in[:]',\n",
       "  'blocks.4.hook_mlp_in[:]blocks.3.attn.hook_result[:, :, 0]',\n",
       "  'blocks.5.attn.hook_q[:, :, 5]blocks.5.hook_q_input[:, :, 5]',\n",
       "  'blocks.5.attn.hook_q[:, :, 9]blocks.5.hook_q_input[:, :, 9]',\n",
       "  'blocks.5.attn.hook_result[:, :, 5]blocks.5.attn.hook_k[:, :, 5]',\n",
       "  'blocks.5.attn.hook_result[:, :, 5]blocks.5.attn.hook_q[:, :, 5]',\n",
       "  'blocks.5.attn.hook_result[:, :, 5]blocks.5.attn.hook_v[:, :, 5]',\n",
       "  'blocks.5.attn.hook_result[:, :, 9]blocks.5.attn.hook_k[:, :, 9]',\n",
       "  'blocks.5.attn.hook_result[:, :, 9]blocks.5.attn.hook_q[:, :, 9]',\n",
       "  'blocks.5.attn.hook_result[:, :, 9]blocks.5.attn.hook_v[:, :, 9]',\n",
       "  'blocks.5.hook_mlp_in[:]blocks.5.attn.hook_result[:, :, 5]',\n",
       "  'blocks.5.hook_q_input[:, :, 9]blocks.3.attn.hook_result[:, :, 0]',\n",
       "  'blocks.6.hook_mlp_in[:]blocks.5.hook_mlp_out[:]',\n",
       "  'blocks.6.hook_mlp_out[:]blocks.6.hook_mlp_in[:]',\n",
       "  'blocks.7.attn.hook_result[:, :, 3]blocks.7.attn.hook_k[:, :, 3]',\n",
       "  'blocks.7.attn.hook_result[:, :, 3]blocks.7.attn.hook_q[:, :, 3]',\n",
       "  'blocks.7.attn.hook_result[:, :, 3]blocks.7.attn.hook_v[:, :, 3]',\n",
       "  'blocks.7.attn.hook_result[:, :, 9]blocks.7.attn.hook_k[:, :, 9]',\n",
       "  'blocks.7.attn.hook_result[:, :, 9]blocks.7.attn.hook_q[:, :, 9]',\n",
       "  'blocks.7.attn.hook_result[:, :, 9]blocks.7.attn.hook_v[:, :, 9]',\n",
       "  'blocks.7.attn.hook_v[:, :, 3]blocks.7.hook_v_input[:, :, 3]',\n",
       "  'blocks.7.attn.hook_v[:, :, 9]blocks.7.hook_v_input[:, :, 9]',\n",
       "  'blocks.7.hook_mlp_out[:]blocks.7.hook_mlp_in[:]',\n",
       "  'blocks.8.attn.hook_result[:, :, 10]blocks.8.attn.hook_k[:, :, 10]',\n",
       "  'blocks.8.attn.hook_result[:, :, 10]blocks.8.attn.hook_q[:, :, 10]',\n",
       "  'blocks.8.attn.hook_result[:, :, 10]blocks.8.attn.hook_v[:, :, 10]',\n",
       "  'blocks.8.attn.hook_v[:, :, 10]blocks.8.hook_v_input[:, :, 10]',\n",
       "  'blocks.8.hook_k_input[:, :, 10]blocks.5.attn.hook_result[:, :, 5]',\n",
       "  'blocks.8.hook_mlp_out[:]blocks.8.hook_mlp_in[:]',\n",
       "  'blocks.9.attn.hook_q[:, :, 9]blocks.9.hook_q_input[:, :, 9]',\n",
       "  'blocks.9.attn.hook_result[:, :, 6]blocks.9.attn.hook_k[:, :, 6]',\n",
       "  'blocks.9.attn.hook_result[:, :, 6]blocks.9.attn.hook_q[:, :, 6]',\n",
       "  'blocks.9.attn.hook_result[:, :, 6]blocks.9.attn.hook_v[:, :, 6]'}}"
      ]
     },
     "execution_count": 13,
     "metadata": {},
     "output_type": "execute_result"
    }
   ],
   "source": [
    "edges_after_acdcpp"
   ]
  },
  {
   "cell_type": "code",
   "execution_count": 14,
   "metadata": {},
   "outputs": [
    {
     "data": {
      "text/plain": [
       "11.337863168"
      ]
     },
     "execution_count": 14,
     "metadata": {},
     "output_type": "execute_result"
    }
   ],
   "source": [
    "import torch\n",
    "torch.cuda.max_memory_allocated() / 1e9"
   ]
  }
 ],
 "metadata": {
  "kernelspec": {
   "display_name": "unlrn",
   "language": "python",
   "name": "unlrn"
  },
  "language_info": {
   "codemirror_mode": {
    "name": "ipython",
    "version": 3
   },
   "file_extension": ".py",
   "mimetype": "text/x-python",
   "name": "python",
   "nbconvert_exporter": "python",
   "pygments_lexer": "ipython3",
   "version": "3.10.13"
  }
 },
 "nbformat": 4,
 "nbformat_minor": 2
}
