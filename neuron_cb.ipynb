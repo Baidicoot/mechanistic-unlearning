{
 "cells": [
  {
   "cell_type": "code",
   "execution_count": 1,
   "metadata": {},
   "outputs": [],
   "source": [
    "%load_ext autoreload\n",
    "%autoreload 2\n",
    "\n",
    "from circuit_breaking.src import *\n",
    "import torch\n",
    "from functools import partial\n",
    "import matplotlib.pyplot as plt\n",
    "import numpy as np\n",
    "import os\n",
    "from circuit_breaking.src.utils import load_model_from_transformers, from_hf_to_tlens\n",
    "from circuit_breaking.src.masks import MLPHiddenMask\n",
    "from tqdm.auto import tqdm\n",
    "#torch.autograd.set_detect_anomaly(True) "
   ]
  },
  {
   "cell_type": "code",
   "execution_count": null,
   "metadata": {},
   "outputs": [
    {
     "name": "stderr",
     "output_type": "stream",
     "text": [
      "/data/phillip_guo/miniconda3/envs/unlrn/lib/python3.10/site-packages/huggingface_hub/file_download.py:1132: FutureWarning: `resume_download` is deprecated and will be removed in version 1.0.0. Downloads always resume when possible. If you want to force a new download, use `force_download=True`.\n",
      "  warnings.warn(\n"
     ]
    },
    {
     "data": {
      "application/vnd.jupyter.widget-view+json": {
       "model_id": "2a0de31cb416444596d618789aefa6b7",
       "version_major": 2,
       "version_minor": 0
      },
      "text/plain": [
       "Loading checkpoint shards:   0%|          | 0/4 [00:00<?, ?it/s]"
      ]
     },
     "metadata": {},
     "output_type": "display_data"
    },
    {
     "name": "stdout",
     "output_type": "stream",
     "text": [
      "Loaded pretrained model google/gemma-7b into HookedTransformer\n"
     ]
    }
   ],
   "source": [
    "from transformers import GPT2Tokenizer, GPTNeoXTokenizerFast, AutoModelForCausalLM, AutoTokenizer\n",
    "model_name_or_path = \"google/gemma-7b\"\n",
    "model_type = \"gemma\"\n",
    "\n",
    "tokenizer = AutoTokenizer.from_pretrained(\"google/gemma-7b\")\n",
    "tokenizer.pad_token_id = tokenizer.eos_token_id\n",
    "tokenizer.padding_side = \"right\"\n",
    "\n",
    "model = HookedTransformer.from_pretrained(\n",
    "    'google/gemma-7b',\n",
    "    tokenizer=tokenizer,\n",
    "    device='cuda',\n",
    "    default_padding_side=\"right\",\n",
    "    fold_ln=False,\n",
    "    fold_value_biases=False,\n",
    "    center_writing_weights=False,\n",
    "    dtype=torch.bfloat16\n",
    ")\n",
    "\n",
    "model.set_use_attn_result(True)"
   ]
  },
  {
   "cell_type": "code",
   "execution_count": null,
   "metadata": {},
   "outputs": [
    {
     "data": {
      "text/plain": [
       "dict_keys(['a0.0_q', 'a0.1_q', 'a0.2_q', 'a0.3_q', 'a0.4_q', 'a0.5_q', 'a0.6_q', 'a0.7_q', 'a0.8_q', 'a0.9_q', 'a0.10_q', 'a0.11_q', 'a0.12_q', 'a0.13_q', 'a0.14_q', 'a0.15_q', 'a0.0_k', 'a0.1_k', 'a0.2_k', 'a0.3_k', 'a0.4_k', 'a0.5_k', 'a0.6_k', 'a0.7_k', 'a0.8_k', 'a0.9_k', 'a0.10_k', 'a0.11_k', 'a0.12_k', 'a0.13_k', 'a0.14_k', 'a0.15_k', 'a0.0_v', 'a0.1_v', 'a0.2_v', 'a0.3_v', 'a0.4_v', 'a0.5_v', 'a0.6_v', 'a0.7_v', 'a0.8_v', 'a0.9_v', 'a0.10_v', 'a0.11_v', 'a0.12_v', 'a0.13_v', 'a0.14_v', 'a0.15_v', 'a0.0_result', 'a0.1_result', 'a0.2_result', 'a0.3_result', 'a0.4_result', 'a0.5_result', 'a0.6_result', 'a0.7_result', 'a0.8_result', 'a0.9_result', 'a0.10_result', 'a0.11_result', 'a0.12_result', 'a0.13_result', 'a0.14_result', 'a0.15_result', 'a1.0_q', 'a1.1_q', 'a1.2_q', 'a1.3_q', 'a1.4_q', 'a1.5_q', 'a1.6_q', 'a1.7_q', 'a1.8_q', 'a1.9_q', 'a1.10_q', 'a1.11_q', 'a1.12_q', 'a1.13_q', 'a1.14_q', 'a1.15_q', 'a1.0_k', 'a1.1_k', 'a1.2_k', 'a1.3_k', 'a1.4_k', 'a1.5_k', 'a1.6_k', 'a1.7_k', 'a1.8_k', 'a1.9_k', 'a1.10_k', 'a1.11_k', 'a1.12_k', 'a1.13_k', 'a1.14_k', 'a1.15_k', 'a1.0_v', 'a1.1_v', 'a1.2_v', 'a1.3_v', 'a1.4_v', 'a1.5_v', 'a1.6_v', 'a1.7_v', 'a1.8_v', 'a1.9_v', 'a1.10_v', 'a1.11_v', 'a1.12_v', 'a1.13_v', 'a1.14_v', 'a1.15_v', 'a1.0_result', 'a1.1_result', 'a1.2_result', 'a1.3_result', 'a1.4_result', 'a1.5_result', 'a1.6_result', 'a1.7_result', 'a1.8_result', 'a1.9_result', 'a1.10_result', 'a1.11_result', 'a1.12_result', 'a1.13_result', 'a1.14_result', 'a1.15_result', 'a2.0_q', 'a2.1_q', 'a2.2_q', 'a2.3_q', 'a2.4_q', 'a2.5_q', 'a2.6_q', 'a2.7_q', 'a2.8_q', 'a2.9_q', 'a2.10_q', 'a2.11_q', 'a2.12_q', 'a2.13_q', 'a2.14_q', 'a2.15_q', 'a2.0_k', 'a2.1_k', 'a2.2_k', 'a2.3_k', 'a2.4_k', 'a2.5_k', 'a2.6_k', 'a2.7_k', 'a2.8_k', 'a2.9_k', 'a2.10_k', 'a2.11_k', 'a2.12_k', 'a2.13_k', 'a2.14_k', 'a2.15_k', 'a2.0_v', 'a2.1_v', 'a2.2_v', 'a2.3_v', 'a2.4_v', 'a2.5_v', 'a2.6_v', 'a2.7_v', 'a2.8_v', 'a2.9_v', 'a2.10_v', 'a2.11_v', 'a2.12_v', 'a2.13_v', 'a2.14_v', 'a2.15_v', 'a2.0_result', 'a2.1_result', 'a2.2_result', 'a2.3_result', 'a2.4_result', 'a2.5_result', 'a2.6_result', 'a2.7_result', 'a2.8_result', 'a2.9_result', 'a2.10_result', 'a2.11_result', 'a2.12_result', 'a2.13_result', 'a2.14_result', 'a2.15_result', 'a3.0_q', 'a3.1_q', 'a3.2_q', 'a3.3_q', 'a3.4_q', 'a3.5_q', 'a3.6_q', 'a3.7_q', 'a3.8_q', 'a3.9_q', 'a3.10_q', 'a3.11_q', 'a3.12_q', 'a3.13_q', 'a3.14_q', 'a3.15_q', 'a3.0_k', 'a3.1_k', 'a3.2_k', 'a3.3_k', 'a3.4_k', 'a3.5_k', 'a3.6_k', 'a3.7_k', 'a3.8_k', 'a3.9_k', 'a3.10_k', 'a3.11_k', 'a3.12_k', 'a3.13_k', 'a3.14_k', 'a3.15_k', 'a3.0_v', 'a3.1_v', 'a3.2_v', 'a3.3_v', 'a3.4_v', 'a3.5_v', 'a3.6_v', 'a3.7_v', 'a3.8_v', 'a3.9_v', 'a3.10_v', 'a3.11_v', 'a3.12_v', 'a3.13_v', 'a3.14_v', 'a3.15_v', 'a3.0_result', 'a3.1_result', 'a3.2_result', 'a3.3_result', 'a3.4_result', 'a3.5_result', 'a3.6_result', 'a3.7_result', 'a3.8_result', 'a3.9_result', 'a3.10_result', 'a3.11_result', 'a3.12_result', 'a3.13_result', 'a3.14_result', 'a3.15_result', 'a4.0_q', 'a4.1_q', 'a4.2_q', 'a4.3_q', 'a4.4_q', 'a4.5_q', 'a4.6_q', 'a4.7_q', 'a4.8_q', 'a4.9_q', 'a4.10_q', 'a4.11_q', 'a4.12_q', 'a4.13_q', 'a4.14_q', 'a4.15_q', 'a4.0_k', 'a4.1_k', 'a4.2_k', 'a4.3_k', 'a4.4_k', 'a4.5_k', 'a4.6_k', 'a4.7_k', 'a4.8_k', 'a4.9_k', 'a4.10_k', 'a4.11_k', 'a4.12_k', 'a4.13_k', 'a4.14_k', 'a4.15_k', 'a4.0_v', 'a4.1_v', 'a4.2_v', 'a4.3_v', 'a4.4_v', 'a4.5_v', 'a4.6_v', 'a4.7_v', 'a4.8_v', 'a4.9_v', 'a4.10_v', 'a4.11_v', 'a4.12_v', 'a4.13_v', 'a4.14_v', 'a4.15_v', 'a4.0_result', 'a4.1_result', 'a4.2_result', 'a4.3_result', 'a4.4_result', 'a4.5_result', 'a4.6_result', 'a4.7_result', 'a4.8_result', 'a4.9_result', 'a4.10_result', 'a4.11_result', 'a4.12_result', 'a4.13_result', 'a4.14_result', 'a4.15_result', 'a5.0_q', 'a5.1_q', 'a5.2_q', 'a5.3_q', 'a5.4_q', 'a5.5_q', 'a5.6_q', 'a5.7_q', 'a5.8_q', 'a5.9_q', 'a5.10_q', 'a5.11_q', 'a5.12_q', 'a5.13_q', 'a5.14_q', 'a5.15_q', 'a5.0_k', 'a5.1_k', 'a5.2_k', 'a5.3_k', 'a5.4_k', 'a5.5_k', 'a5.6_k', 'a5.7_k', 'a5.8_k', 'a5.9_k', 'a5.10_k', 'a5.11_k', 'a5.12_k', 'a5.13_k', 'a5.14_k', 'a5.15_k', 'a5.0_v', 'a5.1_v', 'a5.2_v', 'a5.3_v', 'a5.4_v', 'a5.5_v', 'a5.6_v', 'a5.7_v', 'a5.8_v', 'a5.9_v', 'a5.10_v', 'a5.11_v', 'a5.12_v', 'a5.13_v', 'a5.14_v', 'a5.15_v', 'a5.0_result', 'a5.1_result', 'a5.2_result', 'a5.3_result', 'a5.4_result', 'a5.5_result', 'a5.6_result', 'a5.7_result', 'a5.8_result', 'a5.9_result', 'a5.10_result', 'a5.11_result', 'a5.12_result', 'a5.13_result', 'a5.14_result', 'a5.15_result', 'a6.0_q', 'a6.1_q', 'a6.2_q', 'a6.3_q', 'a6.4_q', 'a6.5_q', 'a6.6_q', 'a6.7_q', 'a6.8_q', 'a6.9_q', 'a6.10_q', 'a6.11_q', 'a6.12_q', 'a6.13_q', 'a6.14_q', 'a6.15_q', 'a6.0_k', 'a6.1_k', 'a6.2_k', 'a6.3_k', 'a6.4_k', 'a6.5_k', 'a6.6_k', 'a6.7_k', 'a6.8_k', 'a6.9_k', 'a6.10_k', 'a6.11_k', 'a6.12_k', 'a6.13_k', 'a6.14_k', 'a6.15_k', 'a6.0_v', 'a6.1_v', 'a6.2_v', 'a6.3_v', 'a6.4_v', 'a6.5_v', 'a6.6_v', 'a6.7_v', 'a6.8_v', 'a6.9_v', 'a6.10_v', 'a6.11_v', 'a6.12_v', 'a6.13_v', 'a6.14_v', 'a6.15_v', 'a6.0_result', 'a6.1_result', 'a6.2_result', 'a6.3_result', 'a6.4_result', 'a6.5_result', 'a6.6_result', 'a6.7_result', 'a6.8_result', 'a6.9_result', 'a6.10_result', 'a6.11_result', 'a6.12_result', 'a6.13_result', 'a6.14_result', 'a6.15_result', 'a7.0_q', 'a7.1_q', 'a7.2_q', 'a7.3_q', 'a7.4_q', 'a7.5_q', 'a7.6_q', 'a7.7_q', 'a7.8_q', 'a7.9_q', 'a7.10_q', 'a7.11_q', 'a7.12_q', 'a7.13_q', 'a7.14_q', 'a7.15_q', 'a7.0_k', 'a7.1_k', 'a7.2_k', 'a7.3_k', 'a7.4_k', 'a7.5_k', 'a7.6_k', 'a7.7_k', 'a7.8_k', 'a7.9_k', 'a7.10_k', 'a7.11_k', 'a7.12_k', 'a7.13_k', 'a7.14_k', 'a7.15_k', 'a7.0_v', 'a7.1_v', 'a7.2_v', 'a7.3_v', 'a7.4_v', 'a7.5_v', 'a7.6_v', 'a7.7_v', 'a7.8_v', 'a7.9_v', 'a7.10_v', 'a7.11_v', 'a7.12_v', 'a7.13_v', 'a7.14_v', 'a7.15_v', 'a7.0_result', 'a7.1_result', 'a7.2_result', 'a7.3_result', 'a7.4_result', 'a7.5_result', 'a7.6_result', 'a7.7_result', 'a7.8_result', 'a7.9_result', 'a7.10_result', 'a7.11_result', 'a7.12_result', 'a7.13_result', 'a7.14_result', 'a7.15_result', 'a8.0_q', 'a8.1_q', 'a8.2_q', 'a8.3_q', 'a8.4_q', 'a8.5_q', 'a8.6_q', 'a8.7_q', 'a8.8_q', 'a8.9_q', 'a8.10_q', 'a8.11_q', 'a8.12_q', 'a8.13_q', 'a8.14_q', 'a8.15_q', 'a8.0_k', 'a8.1_k', 'a8.2_k', 'a8.3_k', 'a8.4_k', 'a8.5_k', 'a8.6_k', 'a8.7_k', 'a8.8_k', 'a8.9_k', 'a8.10_k', 'a8.11_k', 'a8.12_k', 'a8.13_k', 'a8.14_k', 'a8.15_k', 'a8.0_v', 'a8.1_v', 'a8.2_v', 'a8.3_v', 'a8.4_v', 'a8.5_v', 'a8.6_v', 'a8.7_v', 'a8.8_v', 'a8.9_v', 'a8.10_v', 'a8.11_v', 'a8.12_v', 'a8.13_v', 'a8.14_v', 'a8.15_v', 'a8.0_result', 'a8.1_result', 'a8.2_result', 'a8.3_result', 'a8.4_result', 'a8.5_result', 'a8.6_result', 'a8.7_result', 'a8.8_result', 'a8.9_result', 'a8.10_result', 'a8.11_result', 'a8.12_result', 'a8.13_result', 'a8.14_result', 'a8.15_result', 'a9.0_q', 'a9.1_q', 'a9.2_q', 'a9.3_q', 'a9.4_q', 'a9.5_q', 'a9.6_q', 'a9.7_q', 'a9.8_q', 'a9.9_q', 'a9.10_q', 'a9.11_q', 'a9.12_q', 'a9.13_q', 'a9.14_q', 'a9.15_q', 'a9.0_k', 'a9.1_k', 'a9.2_k', 'a9.3_k', 'a9.4_k', 'a9.5_k', 'a9.6_k', 'a9.7_k', 'a9.8_k', 'a9.9_k', 'a9.10_k', 'a9.11_k', 'a9.12_k', 'a9.13_k', 'a9.14_k', 'a9.15_k', 'a9.0_v', 'a9.1_v', 'a9.2_v', 'a9.3_v', 'a9.4_v', 'a9.5_v', 'a9.6_v', 'a9.7_v', 'a9.8_v', 'a9.9_v', 'a9.10_v', 'a9.11_v', 'a9.12_v', 'a9.13_v', 'a9.14_v', 'a9.15_v', 'a9.0_result', 'a9.1_result', 'a9.2_result', 'a9.3_result', 'a9.4_result', 'a9.5_result', 'a9.6_result', 'a9.7_result', 'a9.8_result', 'a9.9_result', 'a9.10_result', 'a9.11_result', 'a9.12_result', 'a9.13_result', 'a9.14_result', 'a9.15_result', 'a10.0_q', 'a10.1_q', 'a10.2_q', 'a10.3_q', 'a10.4_q', 'a10.5_q', 'a10.6_q', 'a10.7_q', 'a10.8_q', 'a10.9_q', 'a10.10_q', 'a10.11_q', 'a10.12_q', 'a10.13_q', 'a10.14_q', 'a10.15_q', 'a10.0_k', 'a10.1_k', 'a10.2_k', 'a10.3_k', 'a10.4_k', 'a10.5_k', 'a10.6_k', 'a10.7_k', 'a10.8_k', 'a10.9_k', 'a10.10_k', 'a10.11_k', 'a10.12_k', 'a10.13_k', 'a10.14_k', 'a10.15_k', 'a10.0_v', 'a10.1_v', 'a10.2_v', 'a10.3_v', 'a10.4_v', 'a10.5_v', 'a10.6_v', 'a10.7_v', 'a10.8_v', 'a10.9_v', 'a10.10_v', 'a10.11_v', 'a10.12_v', 'a10.13_v', 'a10.14_v', 'a10.15_v', 'a10.0_result', 'a10.1_result', 'a10.2_result', 'a10.3_result', 'a10.4_result', 'a10.5_result', 'a10.6_result', 'a10.7_result', 'a10.8_result', 'a10.9_result', 'a10.10_result', 'a10.11_result', 'a10.12_result', 'a10.13_result', 'a10.14_result', 'a10.15_result', 'a11.0_q', 'a11.1_q', 'a11.2_q', 'a11.3_q', 'a11.4_q', 'a11.5_q', 'a11.6_q', 'a11.7_q', 'a11.8_q', 'a11.9_q', 'a11.10_q', 'a11.11_q', 'a11.12_q', 'a11.13_q', 'a11.14_q', 'a11.15_q', 'a11.0_k', 'a11.1_k', 'a11.2_k', 'a11.3_k', 'a11.4_k', 'a11.5_k', 'a11.6_k', 'a11.7_k', 'a11.8_k', 'a11.9_k', 'a11.10_k', 'a11.11_k', 'a11.12_k', 'a11.13_k', 'a11.14_k', 'a11.15_k', 'a11.0_v', 'a11.1_v', 'a11.2_v', 'a11.3_v', 'a11.4_v', 'a11.5_v', 'a11.6_v', 'a11.7_v', 'a11.8_v', 'a11.9_v', 'a11.10_v', 'a11.11_v', 'a11.12_v', 'a11.13_v', 'a11.14_v', 'a11.15_v', 'a11.0_result', 'a11.1_result', 'a11.2_result', 'a11.3_result', 'a11.4_result', 'a11.5_result', 'a11.6_result', 'a11.7_result', 'a11.8_result', 'a11.9_result', 'a11.10_result', 'a11.11_result', 'a11.12_result', 'a11.13_result', 'a11.14_result', 'a11.15_result', 'a12.0_q', 'a12.1_q', 'a12.2_q', 'a12.3_q', 'a12.4_q', 'a12.5_q', 'a12.6_q', 'a12.7_q', 'a12.8_q', 'a12.9_q', 'a12.10_q', 'a12.11_q', 'a12.12_q', 'a12.13_q', 'a12.14_q', 'a12.15_q', 'a12.0_k', 'a12.1_k', 'a12.2_k', 'a12.3_k', 'a12.4_k', 'a12.5_k', 'a12.6_k', 'a12.7_k', 'a12.8_k', 'a12.9_k', 'a12.10_k', 'a12.11_k', 'a12.12_k', 'a12.13_k', 'a12.14_k', 'a12.15_k', 'a12.0_v', 'a12.1_v', 'a12.2_v', 'a12.3_v', 'a12.4_v', 'a12.5_v', 'a12.6_v', 'a12.7_v', 'a12.8_v', 'a12.9_v', 'a12.10_v', 'a12.11_v', 'a12.12_v', 'a12.13_v', 'a12.14_v', 'a12.15_v', 'a12.0_result', 'a12.1_result', 'a12.2_result', 'a12.3_result', 'a12.4_result', 'a12.5_result', 'a12.6_result', 'a12.7_result', 'a12.8_result', 'a12.9_result', 'a12.10_result', 'a12.11_result', 'a12.12_result', 'a12.13_result', 'a12.14_result', 'a12.15_result', 'a13.0_q', 'a13.1_q', 'a13.2_q', 'a13.3_q', 'a13.4_q', 'a13.5_q', 'a13.6_q', 'a13.7_q', 'a13.8_q', 'a13.9_q', 'a13.10_q', 'a13.11_q', 'a13.12_q', 'a13.13_q', 'a13.14_q', 'a13.15_q', 'a13.0_k', 'a13.1_k', 'a13.2_k', 'a13.3_k', 'a13.4_k', 'a13.5_k', 'a13.6_k', 'a13.7_k', 'a13.8_k', 'a13.9_k', 'a13.10_k', 'a13.11_k', 'a13.12_k', 'a13.13_k', 'a13.14_k', 'a13.15_k', 'a13.0_v', 'a13.1_v', 'a13.2_v', 'a13.3_v', 'a13.4_v', 'a13.5_v', 'a13.6_v', 'a13.7_v', 'a13.8_v', 'a13.9_v', 'a13.10_v', 'a13.11_v', 'a13.12_v', 'a13.13_v', 'a13.14_v', 'a13.15_v', 'a13.0_result', 'a13.1_result', 'a13.2_result', 'a13.3_result', 'a13.4_result', 'a13.5_result', 'a13.6_result', 'a13.7_result', 'a13.8_result', 'a13.9_result', 'a13.10_result', 'a13.11_result', 'a13.12_result', 'a13.13_result', 'a13.14_result', 'a13.15_result', 'a14.0_q', 'a14.1_q', 'a14.2_q', 'a14.3_q', 'a14.4_q', 'a14.5_q', 'a14.6_q', 'a14.7_q', 'a14.8_q', 'a14.9_q', 'a14.10_q', 'a14.11_q', 'a14.12_q', 'a14.13_q', 'a14.14_q', 'a14.15_q', 'a14.0_k', 'a14.1_k', 'a14.2_k', 'a14.3_k', 'a14.4_k', 'a14.5_k', 'a14.6_k', 'a14.7_k', 'a14.8_k', 'a14.9_k', 'a14.10_k', 'a14.11_k', 'a14.12_k', 'a14.13_k', 'a14.14_k', 'a14.15_k', 'a14.0_v', 'a14.1_v', 'a14.2_v', 'a14.3_v', 'a14.4_v', 'a14.5_v', 'a14.6_v', 'a14.7_v', 'a14.8_v', 'a14.9_v', 'a14.10_v', 'a14.11_v', 'a14.12_v', 'a14.13_v', 'a14.14_v', 'a14.15_v', 'a14.0_result', 'a14.1_result', 'a14.2_result', 'a14.3_result', 'a14.4_result', 'a14.5_result', 'a14.6_result', 'a14.7_result', 'a14.8_result', 'a14.9_result', 'a14.10_result', 'a14.11_result', 'a14.12_result', 'a14.13_result', 'a14.14_result', 'a14.15_result', 'a15.0_q', 'a15.1_q', 'a15.2_q', 'a15.3_q', 'a15.4_q', 'a15.5_q', 'a15.6_q', 'a15.7_q', 'a15.8_q', 'a15.9_q', 'a15.10_q', 'a15.11_q', 'a15.12_q', 'a15.13_q', 'a15.14_q', 'a15.15_q', 'a15.0_k', 'a15.1_k', 'a15.2_k', 'a15.3_k', 'a15.4_k', 'a15.5_k', 'a15.6_k', 'a15.7_k', 'a15.8_k', 'a15.9_k', 'a15.10_k', 'a15.11_k', 'a15.12_k', 'a15.13_k', 'a15.14_k', 'a15.15_k', 'a15.0_v', 'a15.1_v', 'a15.2_v', 'a15.3_v', 'a15.4_v', 'a15.5_v', 'a15.6_v', 'a15.7_v', 'a15.8_v', 'a15.9_v', 'a15.10_v', 'a15.11_v', 'a15.12_v', 'a15.13_v', 'a15.14_v', 'a15.15_v', 'a15.0_result', 'a15.1_result', 'a15.2_result', 'a15.3_result', 'a15.4_result', 'a15.5_result', 'a15.6_result', 'a15.7_result', 'a15.8_result', 'a15.9_result', 'a15.10_result', 'a15.11_result', 'a15.12_result', 'a15.13_result', 'a15.14_result', 'a15.15_result', 'a16.0_q', 'a16.1_q', 'a16.2_q', 'a16.3_q', 'a16.4_q', 'a16.5_q', 'a16.6_q', 'a16.7_q', 'a16.8_q', 'a16.9_q', 'a16.10_q', 'a16.11_q', 'a16.12_q', 'a16.13_q', 'a16.14_q', 'a16.15_q', 'a16.0_k', 'a16.1_k', 'a16.2_k', 'a16.3_k', 'a16.4_k', 'a16.5_k', 'a16.6_k', 'a16.7_k', 'a16.8_k', 'a16.9_k', 'a16.10_k', 'a16.11_k', 'a16.12_k', 'a16.13_k', 'a16.14_k', 'a16.15_k', 'a16.0_v', 'a16.1_v', 'a16.2_v', 'a16.3_v', 'a16.4_v', 'a16.5_v', 'a16.6_v', 'a16.7_v', 'a16.8_v', 'a16.9_v', 'a16.10_v', 'a16.11_v', 'a16.12_v', 'a16.13_v', 'a16.14_v', 'a16.15_v', 'a16.0_result', 'a16.1_result', 'a16.2_result', 'a16.3_result', 'a16.4_result', 'a16.5_result', 'a16.6_result', 'a16.7_result', 'a16.8_result', 'a16.9_result', 'a16.10_result', 'a16.11_result', 'a16.12_result', 'a16.13_result', 'a16.14_result', 'a16.15_result', 'a17.0_q', 'a17.1_q', 'a17.2_q', 'a17.3_q', 'a17.4_q', 'a17.5_q', 'a17.6_q', 'a17.7_q', 'a17.8_q', 'a17.9_q', 'a17.10_q', 'a17.11_q', 'a17.12_q', 'a17.13_q', 'a17.14_q', 'a17.15_q', 'a17.0_k', 'a17.1_k', 'a17.2_k', 'a17.3_k', 'a17.4_k', 'a17.5_k', 'a17.6_k', 'a17.7_k', 'a17.8_k', 'a17.9_k', 'a17.10_k', 'a17.11_k', 'a17.12_k', 'a17.13_k', 'a17.14_k', 'a17.15_k', 'a17.0_v', 'a17.1_v', 'a17.2_v', 'a17.3_v', 'a17.4_v', 'a17.5_v', 'a17.6_v', 'a17.7_v', 'a17.8_v', 'a17.9_v', 'a17.10_v', 'a17.11_v', 'a17.12_v', 'a17.13_v', 'a17.14_v', 'a17.15_v', 'a17.0_result', 'a17.1_result', 'a17.2_result', 'a17.3_result', 'a17.4_result', 'a17.5_result', 'a17.6_result', 'a17.7_result', 'a17.8_result', 'a17.9_result', 'a17.10_result', 'a17.11_result', 'a17.12_result', 'a17.13_result', 'a17.14_result', 'a17.15_result', 'a18.0_q', 'a18.1_q', 'a18.2_q', 'a18.3_q', 'a18.4_q', 'a18.5_q', 'a18.6_q', 'a18.7_q', 'a18.8_q', 'a18.9_q', 'a18.10_q', 'a18.11_q', 'a18.12_q', 'a18.13_q', 'a18.14_q', 'a18.15_q', 'a18.0_k', 'a18.1_k', 'a18.2_k', 'a18.3_k', 'a18.4_k', 'a18.5_k', 'a18.6_k', 'a18.7_k', 'a18.8_k', 'a18.9_k', 'a18.10_k', 'a18.11_k', 'a18.12_k', 'a18.13_k', 'a18.14_k', 'a18.15_k', 'a18.0_v', 'a18.1_v', 'a18.2_v', 'a18.3_v', 'a18.4_v', 'a18.5_v', 'a18.6_v', 'a18.7_v', 'a18.8_v', 'a18.9_v', 'a18.10_v', 'a18.11_v', 'a18.12_v', 'a18.13_v', 'a18.14_v', 'a18.15_v', 'a18.0_result', 'a18.1_result', 'a18.2_result', 'a18.3_result', 'a18.4_result', 'a18.5_result', 'a18.6_result', 'a18.7_result', 'a18.8_result', 'a18.9_result', 'a18.10_result', 'a18.11_result', 'a18.12_result', 'a18.13_result', 'a18.14_result', 'a18.15_result', 'a19.0_q', 'a19.1_q', 'a19.2_q', 'a19.3_q', 'a19.4_q', 'a19.5_q', 'a19.6_q', 'a19.7_q', 'a19.8_q', 'a19.9_q', 'a19.10_q', 'a19.11_q', 'a19.12_q', 'a19.13_q', 'a19.14_q', 'a19.15_q', 'a19.0_k', 'a19.1_k', 'a19.2_k', 'a19.3_k', 'a19.4_k', 'a19.5_k', 'a19.6_k', 'a19.7_k', 'a19.8_k', 'a19.9_k', 'a19.10_k', 'a19.11_k', 'a19.12_k', 'a19.13_k', 'a19.14_k', 'a19.15_k', 'a19.0_v', 'a19.1_v', 'a19.2_v', 'a19.3_v', 'a19.4_v', 'a19.5_v', 'a19.6_v', 'a19.7_v', 'a19.8_v', 'a19.9_v', 'a19.10_v', 'a19.11_v', 'a19.12_v', 'a19.13_v', 'a19.14_v', 'a19.15_v', 'a19.0_result', 'a19.1_result', 'a19.2_result', 'a19.3_result', 'a19.4_result', 'a19.5_result', 'a19.6_result', 'a19.7_result', 'a19.8_result', 'a19.9_result', 'a19.10_result', 'a19.11_result', 'a19.12_result', 'a19.13_result', 'a19.14_result', 'a19.15_result', 'a20.0_q', 'a20.1_q', 'a20.2_q', 'a20.3_q', 'a20.4_q', 'a20.5_q', 'a20.6_q', 'a20.7_q', 'a20.8_q', 'a20.9_q', 'a20.10_q', 'a20.11_q', 'a20.12_q', 'a20.13_q', 'a20.14_q', 'a20.15_q', 'a20.0_k', 'a20.1_k', 'a20.2_k', 'a20.3_k', 'a20.4_k', 'a20.5_k', 'a20.6_k', 'a20.7_k', 'a20.8_k', 'a20.9_k', 'a20.10_k', 'a20.11_k', 'a20.12_k', 'a20.13_k', 'a20.14_k', 'a20.15_k', 'a20.0_v', 'a20.1_v', 'a20.2_v', 'a20.3_v', 'a20.4_v', 'a20.5_v', 'a20.6_v', 'a20.7_v', 'a20.8_v', 'a20.9_v', 'a20.10_v', 'a20.11_v', 'a20.12_v', 'a20.13_v', 'a20.14_v', 'a20.15_v', 'a20.0_result', 'a20.1_result', 'a20.2_result', 'a20.3_result', 'a20.4_result', 'a20.5_result', 'a20.6_result', 'a20.7_result', 'a20.8_result', 'a20.9_result', 'a20.10_result', 'a20.11_result', 'a20.12_result', 'a20.13_result', 'a20.14_result', 'a20.15_result', 'a21.0_q', 'a21.1_q', 'a21.2_q', 'a21.3_q', 'a21.4_q', 'a21.5_q', 'a21.6_q', 'a21.7_q', 'a21.8_q', 'a21.9_q', 'a21.10_q', 'a21.11_q', 'a21.12_q', 'a21.13_q', 'a21.14_q', 'a21.15_q', 'a21.0_k', 'a21.1_k', 'a21.2_k', 'a21.3_k', 'a21.4_k', 'a21.5_k', 'a21.6_k', 'a21.7_k', 'a21.8_k', 'a21.9_k', 'a21.10_k', 'a21.11_k', 'a21.12_k', 'a21.13_k', 'a21.14_k', 'a21.15_k', 'a21.0_v', 'a21.1_v', 'a21.2_v', 'a21.3_v', 'a21.4_v', 'a21.5_v', 'a21.6_v', 'a21.7_v', 'a21.8_v', 'a21.9_v', 'a21.10_v', 'a21.11_v', 'a21.12_v', 'a21.13_v', 'a21.14_v', 'a21.15_v', 'a21.0_result', 'a21.1_result', 'a21.2_result', 'a21.3_result', 'a21.4_result', 'a21.5_result', 'a21.6_result', 'a21.7_result', 'a21.8_result', 'a21.9_result', 'a21.10_result', 'a21.11_result', 'a21.12_result', 'a21.13_result', 'a21.14_result', 'a21.15_result', 'a22.0_q', 'a22.1_q', 'a22.2_q', 'a22.3_q', 'a22.4_q', 'a22.5_q', 'a22.6_q', 'a22.7_q', 'a22.8_q', 'a22.9_q', 'a22.10_q', 'a22.11_q', 'a22.12_q', 'a22.13_q', 'a22.14_q', 'a22.15_q', 'a22.0_k', 'a22.1_k', 'a22.2_k', 'a22.3_k', 'a22.4_k', 'a22.5_k', 'a22.6_k', 'a22.7_k', 'a22.8_k', 'a22.9_k', 'a22.10_k', 'a22.11_k', 'a22.12_k', 'a22.13_k', 'a22.14_k', 'a22.15_k', 'a22.0_v', 'a22.1_v', 'a22.2_v', 'a22.3_v', 'a22.4_v', 'a22.5_v', 'a22.6_v', 'a22.7_v', 'a22.8_v', 'a22.9_v', 'a22.10_v', 'a22.11_v', 'a22.12_v', 'a22.13_v', 'a22.14_v', 'a22.15_v', 'a22.0_result', 'a22.1_result', 'a22.2_result', 'a22.3_result', 'a22.4_result', 'a22.5_result', 'a22.6_result', 'a22.7_result', 'a22.8_result', 'a22.9_result', 'a22.10_result', 'a22.11_result', 'a22.12_result', 'a22.13_result', 'a22.14_result', 'a22.15_result', 'a23.0_q', 'a23.1_q', 'a23.2_q', 'a23.3_q', 'a23.4_q', 'a23.5_q', 'a23.6_q', 'a23.7_q', 'a23.8_q', 'a23.9_q', 'a23.10_q', 'a23.11_q', 'a23.12_q', 'a23.13_q', 'a23.14_q', 'a23.15_q', 'a23.0_k', 'a23.1_k', 'a23.2_k', 'a23.3_k', 'a23.4_k', 'a23.5_k', 'a23.6_k', 'a23.7_k', 'a23.8_k', 'a23.9_k', 'a23.10_k', 'a23.11_k', 'a23.12_k', 'a23.13_k', 'a23.14_k', 'a23.15_k', 'a23.0_v', 'a23.1_v', 'a23.2_v', 'a23.3_v', 'a23.4_v', 'a23.5_v', 'a23.6_v', 'a23.7_v', 'a23.8_v', 'a23.9_v', 'a23.10_v', 'a23.11_v', 'a23.12_v', 'a23.13_v', 'a23.14_v', 'a23.15_v', 'a23.0_result', 'a23.1_result', 'a23.2_result', 'a23.3_result', 'a23.4_result', 'a23.5_result', 'a23.6_result', 'a23.7_result', 'a23.8_result', 'a23.9_result', 'a23.10_result', 'a23.11_result', 'a23.12_result', 'a23.13_result', 'a23.14_result', 'a23.15_result', 'a24.0_q', 'a24.1_q', 'a24.2_q', 'a24.3_q', 'a24.4_q', 'a24.5_q', 'a24.6_q', 'a24.7_q', 'a24.8_q', 'a24.9_q', 'a24.10_q', 'a24.11_q', 'a24.12_q', 'a24.13_q', 'a24.14_q', 'a24.15_q', 'a24.0_k', 'a24.1_k', 'a24.2_k', 'a24.3_k', 'a24.4_k', 'a24.5_k', 'a24.6_k', 'a24.7_k', 'a24.8_k', 'a24.9_k', 'a24.10_k', 'a24.11_k', 'a24.12_k', 'a24.13_k', 'a24.14_k', 'a24.15_k', 'a24.0_v', 'a24.1_v', 'a24.2_v', 'a24.3_v', 'a24.4_v', 'a24.5_v', 'a24.6_v', 'a24.7_v', 'a24.8_v', 'a24.9_v', 'a24.10_v', 'a24.11_v', 'a24.12_v', 'a24.13_v', 'a24.14_v', 'a24.15_v', 'a24.0_result', 'a24.1_result', 'a24.2_result', 'a24.3_result', 'a24.4_result', 'a24.5_result', 'a24.6_result', 'a24.7_result', 'a24.8_result', 'a24.9_result', 'a24.10_result', 'a24.11_result', 'a24.12_result', 'a24.13_result', 'a24.14_result', 'a24.15_result', 'a25.0_q', 'a25.1_q', 'a25.2_q', 'a25.3_q', 'a25.4_q', 'a25.5_q', 'a25.6_q', 'a25.7_q', 'a25.8_q', 'a25.9_q', 'a25.10_q', 'a25.11_q', 'a25.12_q', 'a25.13_q', 'a25.14_q', 'a25.15_q', 'a25.0_k', 'a25.1_k', 'a25.2_k', 'a25.3_k', 'a25.4_k', 'a25.5_k', 'a25.6_k', 'a25.7_k', 'a25.8_k', 'a25.9_k', 'a25.10_k', 'a25.11_k', 'a25.12_k', 'a25.13_k', 'a25.14_k', 'a25.15_k', 'a25.0_v', 'a25.1_v', 'a25.2_v', 'a25.3_v', 'a25.4_v', 'a25.5_v', 'a25.6_v', 'a25.7_v', 'a25.8_v', 'a25.9_v', 'a25.10_v', 'a25.11_v', 'a25.12_v', 'a25.13_v', 'a25.14_v', 'a25.15_v', 'a25.0_result', 'a25.1_result', 'a25.2_result', 'a25.3_result', 'a25.4_result', 'a25.5_result', 'a25.6_result', 'a25.7_result', 'a25.8_result', 'a25.9_result', 'a25.10_result', 'a25.11_result', 'a25.12_result', 'a25.13_result', 'a25.14_result', 'a25.15_result', 'a26.0_q', 'a26.1_q', 'a26.2_q', 'a26.3_q', 'a26.4_q', 'a26.5_q', 'a26.6_q', 'a26.7_q', 'a26.8_q', 'a26.9_q', 'a26.10_q', 'a26.11_q', 'a26.12_q', 'a26.13_q', 'a26.14_q', 'a26.15_q', 'a26.0_k', 'a26.1_k', 'a26.2_k', 'a26.3_k', 'a26.4_k', 'a26.5_k', 'a26.6_k', 'a26.7_k', 'a26.8_k', 'a26.9_k', 'a26.10_k', 'a26.11_k', 'a26.12_k', 'a26.13_k', 'a26.14_k', 'a26.15_k', 'a26.0_v', 'a26.1_v', 'a26.2_v', 'a26.3_v', 'a26.4_v', 'a26.5_v', 'a26.6_v', 'a26.7_v', 'a26.8_v', 'a26.9_v', 'a26.10_v', 'a26.11_v', 'a26.12_v', 'a26.13_v', 'a26.14_v', 'a26.15_v', 'a26.0_result', 'a26.1_result', 'a26.2_result', 'a26.3_result', 'a26.4_result', 'a26.5_result', 'a26.6_result', 'a26.7_result', 'a26.8_result', 'a26.9_result', 'a26.10_result', 'a26.11_result', 'a26.12_result', 'a26.13_result', 'a26.14_result', 'a26.15_result', 'a27.0_q', 'a27.1_q', 'a27.2_q', 'a27.3_q', 'a27.4_q', 'a27.5_q', 'a27.6_q', 'a27.7_q', 'a27.8_q', 'a27.9_q', 'a27.10_q', 'a27.11_q', 'a27.12_q', 'a27.13_q', 'a27.14_q', 'a27.15_q', 'a27.0_k', 'a27.1_k', 'a27.2_k', 'a27.3_k', 'a27.4_k', 'a27.5_k', 'a27.6_k', 'a27.7_k', 'a27.8_k', 'a27.9_k', 'a27.10_k', 'a27.11_k', 'a27.12_k', 'a27.13_k', 'a27.14_k', 'a27.15_k', 'a27.0_v', 'a27.1_v', 'a27.2_v', 'a27.3_v', 'a27.4_v', 'a27.5_v', 'a27.6_v', 'a27.7_v', 'a27.8_v', 'a27.9_v', 'a27.10_v', 'a27.11_v', 'a27.12_v', 'a27.13_v', 'a27.14_v', 'a27.15_v', 'a27.0_result', 'a27.1_result', 'a27.2_result', 'a27.3_result', 'a27.4_result', 'a27.5_result', 'a27.6_result', 'a27.7_result', 'a27.8_result', 'a27.9_result', 'a27.10_result', 'a27.11_result', 'a27.12_result', 'a27.13_result', 'a27.14_result', 'a27.15_result', 'm0_in', 'm0_out', 'm1_in', 'm1_out', 'm2_in', 'm2_out', 'm3_in', 'm3_out', 'm4_in', 'm4_out', 'm5_in', 'm5_out', 'm6_in', 'm6_out', 'm7_in', 'm7_out', 'm8_in', 'm8_out', 'm9_in', 'm9_out', 'm10_in', 'm10_out', 'm11_in', 'm11_out', 'm12_in', 'm12_out', 'm13_in', 'm13_out', 'm14_in', 'm14_out', 'm15_in', 'm15_out', 'm16_in', 'm16_out', 'm17_in', 'm17_out', 'm18_in', 'm18_out', 'm19_in', 'm19_out', 'm20_in', 'm20_out', 'm21_in', 'm21_out', 'm22_in', 'm22_out', 'm23_in', 'm23_out', 'm24_in', 'm24_out', 'm25_in', 'm25_out', 'm26_in', 'm26_out', 'm27_in', 'm27_out'])"
      ]
     },
     "execution_count": 3,
     "metadata": {},
     "output_type": "execute_result"
    }
   ],
   "source": [
    "import pickle\n",
    "with open(\"models/google_gemma-7b_sports_all_ap_graph.pkl\", \"rb\") as f:\n",
    "    ap_graph = pickle.load(f)\n",
    "ap_graph.keys()"
   ]
  },
  {
   "cell_type": "code",
   "execution_count": null,
   "metadata": {},
   "outputs": [
    {
     "name": "stdout",
     "output_type": "stream",
     "text": [
      "dict_keys(['hook_embed', 'blocks.0.hook_resid_pre', 'blocks.0.ln1.hook_scale', 'blocks.0.ln1.hook_normalized', 'blocks.0.attn.hook_q', 'blocks.0.attn.hook_k', 'blocks.0.attn.hook_v', 'blocks.0.attn.hook_rot_q', 'blocks.0.attn.hook_rot_k', 'blocks.0.attn.hook_attn_scores', 'blocks.0.attn.hook_pattern', 'blocks.0.attn.hook_z', 'blocks.0.attn.hook_result', 'blocks.0.hook_attn_out', 'blocks.0.hook_resid_mid', 'blocks.0.ln2.hook_scale', 'blocks.0.ln2.hook_normalized', 'blocks.0.mlp.hook_pre', 'blocks.0.mlp.hook_pre_linear', 'blocks.0.mlp.hook_post', 'blocks.0.hook_mlp_out', 'blocks.0.hook_resid_post', 'blocks.1.hook_resid_pre', 'blocks.1.ln1.hook_scale', 'blocks.1.ln1.hook_normalized', 'blocks.1.attn.hook_q', 'blocks.1.attn.hook_k', 'blocks.1.attn.hook_v', 'blocks.1.attn.hook_rot_q', 'blocks.1.attn.hook_rot_k', 'blocks.1.attn.hook_attn_scores', 'blocks.1.attn.hook_pattern', 'blocks.1.attn.hook_z', 'blocks.1.attn.hook_result', 'blocks.1.hook_attn_out', 'blocks.1.hook_resid_mid', 'blocks.1.ln2.hook_scale', 'blocks.1.ln2.hook_normalized', 'blocks.1.mlp.hook_pre', 'blocks.1.mlp.hook_pre_linear', 'blocks.1.mlp.hook_post', 'blocks.1.hook_mlp_out', 'blocks.1.hook_resid_post', 'blocks.2.hook_resid_pre', 'blocks.2.ln1.hook_scale', 'blocks.2.ln1.hook_normalized', 'blocks.2.attn.hook_q', 'blocks.2.attn.hook_k', 'blocks.2.attn.hook_v', 'blocks.2.attn.hook_rot_q', 'blocks.2.attn.hook_rot_k', 'blocks.2.attn.hook_attn_scores', 'blocks.2.attn.hook_pattern', 'blocks.2.attn.hook_z', 'blocks.2.attn.hook_result', 'blocks.2.hook_attn_out', 'blocks.2.hook_resid_mid', 'blocks.2.ln2.hook_scale', 'blocks.2.ln2.hook_normalized', 'blocks.2.mlp.hook_pre', 'blocks.2.mlp.hook_pre_linear', 'blocks.2.mlp.hook_post', 'blocks.2.hook_mlp_out', 'blocks.2.hook_resid_post', 'blocks.3.hook_resid_pre', 'blocks.3.ln1.hook_scale', 'blocks.3.ln1.hook_normalized', 'blocks.3.attn.hook_q', 'blocks.3.attn.hook_k', 'blocks.3.attn.hook_v', 'blocks.3.attn.hook_rot_q', 'blocks.3.attn.hook_rot_k', 'blocks.3.attn.hook_attn_scores', 'blocks.3.attn.hook_pattern', 'blocks.3.attn.hook_z', 'blocks.3.attn.hook_result', 'blocks.3.hook_attn_out', 'blocks.3.hook_resid_mid', 'blocks.3.ln2.hook_scale', 'blocks.3.ln2.hook_normalized', 'blocks.3.mlp.hook_pre', 'blocks.3.mlp.hook_pre_linear', 'blocks.3.mlp.hook_post', 'blocks.3.hook_mlp_out', 'blocks.3.hook_resid_post', 'blocks.4.hook_resid_pre', 'blocks.4.ln1.hook_scale', 'blocks.4.ln1.hook_normalized', 'blocks.4.attn.hook_q', 'blocks.4.attn.hook_k', 'blocks.4.attn.hook_v', 'blocks.4.attn.hook_rot_q', 'blocks.4.attn.hook_rot_k', 'blocks.4.attn.hook_attn_scores', 'blocks.4.attn.hook_pattern', 'blocks.4.attn.hook_z', 'blocks.4.attn.hook_result', 'blocks.4.hook_attn_out', 'blocks.4.hook_resid_mid', 'blocks.4.ln2.hook_scale', 'blocks.4.ln2.hook_normalized', 'blocks.4.mlp.hook_pre', 'blocks.4.mlp.hook_pre_linear', 'blocks.4.mlp.hook_post', 'blocks.4.hook_mlp_out', 'blocks.4.hook_resid_post', 'blocks.5.hook_resid_pre', 'blocks.5.ln1.hook_scale', 'blocks.5.ln1.hook_normalized', 'blocks.5.attn.hook_q', 'blocks.5.attn.hook_k', 'blocks.5.attn.hook_v', 'blocks.5.attn.hook_rot_q', 'blocks.5.attn.hook_rot_k', 'blocks.5.attn.hook_attn_scores', 'blocks.5.attn.hook_pattern', 'blocks.5.attn.hook_z', 'blocks.5.attn.hook_result', 'blocks.5.hook_attn_out', 'blocks.5.hook_resid_mid', 'blocks.5.ln2.hook_scale', 'blocks.5.ln2.hook_normalized', 'blocks.5.mlp.hook_pre', 'blocks.5.mlp.hook_pre_linear', 'blocks.5.mlp.hook_post', 'blocks.5.hook_mlp_out', 'blocks.5.hook_resid_post', 'blocks.6.hook_resid_pre', 'blocks.6.ln1.hook_scale', 'blocks.6.ln1.hook_normalized', 'blocks.6.attn.hook_q', 'blocks.6.attn.hook_k', 'blocks.6.attn.hook_v', 'blocks.6.attn.hook_rot_q', 'blocks.6.attn.hook_rot_k', 'blocks.6.attn.hook_attn_scores', 'blocks.6.attn.hook_pattern', 'blocks.6.attn.hook_z', 'blocks.6.attn.hook_result', 'blocks.6.hook_attn_out', 'blocks.6.hook_resid_mid', 'blocks.6.ln2.hook_scale', 'blocks.6.ln2.hook_normalized', 'blocks.6.mlp.hook_pre', 'blocks.6.mlp.hook_pre_linear', 'blocks.6.mlp.hook_post', 'blocks.6.hook_mlp_out', 'blocks.6.hook_resid_post', 'blocks.7.hook_resid_pre', 'blocks.7.ln1.hook_scale', 'blocks.7.ln1.hook_normalized', 'blocks.7.attn.hook_q', 'blocks.7.attn.hook_k', 'blocks.7.attn.hook_v', 'blocks.7.attn.hook_rot_q', 'blocks.7.attn.hook_rot_k', 'blocks.7.attn.hook_attn_scores', 'blocks.7.attn.hook_pattern', 'blocks.7.attn.hook_z', 'blocks.7.attn.hook_result', 'blocks.7.hook_attn_out', 'blocks.7.hook_resid_mid', 'blocks.7.ln2.hook_scale', 'blocks.7.ln2.hook_normalized', 'blocks.7.mlp.hook_pre', 'blocks.7.mlp.hook_pre_linear', 'blocks.7.mlp.hook_post', 'blocks.7.hook_mlp_out', 'blocks.7.hook_resid_post', 'blocks.8.hook_resid_pre', 'blocks.8.ln1.hook_scale', 'blocks.8.ln1.hook_normalized', 'blocks.8.attn.hook_q', 'blocks.8.attn.hook_k', 'blocks.8.attn.hook_v', 'blocks.8.attn.hook_rot_q', 'blocks.8.attn.hook_rot_k', 'blocks.8.attn.hook_attn_scores', 'blocks.8.attn.hook_pattern', 'blocks.8.attn.hook_z', 'blocks.8.attn.hook_result', 'blocks.8.hook_attn_out', 'blocks.8.hook_resid_mid', 'blocks.8.ln2.hook_scale', 'blocks.8.ln2.hook_normalized', 'blocks.8.mlp.hook_pre', 'blocks.8.mlp.hook_pre_linear', 'blocks.8.mlp.hook_post', 'blocks.8.hook_mlp_out', 'blocks.8.hook_resid_post', 'blocks.9.hook_resid_pre', 'blocks.9.ln1.hook_scale', 'blocks.9.ln1.hook_normalized', 'blocks.9.attn.hook_q', 'blocks.9.attn.hook_k', 'blocks.9.attn.hook_v', 'blocks.9.attn.hook_rot_q', 'blocks.9.attn.hook_rot_k', 'blocks.9.attn.hook_attn_scores', 'blocks.9.attn.hook_pattern', 'blocks.9.attn.hook_z', 'blocks.9.attn.hook_result', 'blocks.9.hook_attn_out', 'blocks.9.hook_resid_mid', 'blocks.9.ln2.hook_scale', 'blocks.9.ln2.hook_normalized', 'blocks.9.mlp.hook_pre', 'blocks.9.mlp.hook_pre_linear', 'blocks.9.mlp.hook_post', 'blocks.9.hook_mlp_out', 'blocks.9.hook_resid_post', 'blocks.10.hook_resid_pre', 'blocks.10.ln1.hook_scale', 'blocks.10.ln1.hook_normalized', 'blocks.10.attn.hook_q', 'blocks.10.attn.hook_k', 'blocks.10.attn.hook_v', 'blocks.10.attn.hook_rot_q', 'blocks.10.attn.hook_rot_k', 'blocks.10.attn.hook_attn_scores', 'blocks.10.attn.hook_pattern', 'blocks.10.attn.hook_z', 'blocks.10.attn.hook_result', 'blocks.10.hook_attn_out', 'blocks.10.hook_resid_mid', 'blocks.10.ln2.hook_scale', 'blocks.10.ln2.hook_normalized', 'blocks.10.mlp.hook_pre', 'blocks.10.mlp.hook_pre_linear', 'blocks.10.mlp.hook_post', 'blocks.10.hook_mlp_out', 'blocks.10.hook_resid_post', 'blocks.11.hook_resid_pre', 'blocks.11.ln1.hook_scale', 'blocks.11.ln1.hook_normalized', 'blocks.11.attn.hook_q', 'blocks.11.attn.hook_k', 'blocks.11.attn.hook_v', 'blocks.11.attn.hook_rot_q', 'blocks.11.attn.hook_rot_k', 'blocks.11.attn.hook_attn_scores', 'blocks.11.attn.hook_pattern', 'blocks.11.attn.hook_z', 'blocks.11.attn.hook_result', 'blocks.11.hook_attn_out', 'blocks.11.hook_resid_mid', 'blocks.11.ln2.hook_scale', 'blocks.11.ln2.hook_normalized', 'blocks.11.mlp.hook_pre', 'blocks.11.mlp.hook_pre_linear', 'blocks.11.mlp.hook_post', 'blocks.11.hook_mlp_out', 'blocks.11.hook_resid_post', 'blocks.12.hook_resid_pre', 'blocks.12.ln1.hook_scale', 'blocks.12.ln1.hook_normalized', 'blocks.12.attn.hook_q', 'blocks.12.attn.hook_k', 'blocks.12.attn.hook_v', 'blocks.12.attn.hook_rot_q', 'blocks.12.attn.hook_rot_k', 'blocks.12.attn.hook_attn_scores', 'blocks.12.attn.hook_pattern', 'blocks.12.attn.hook_z', 'blocks.12.attn.hook_result', 'blocks.12.hook_attn_out', 'blocks.12.hook_resid_mid', 'blocks.12.ln2.hook_scale', 'blocks.12.ln2.hook_normalized', 'blocks.12.mlp.hook_pre', 'blocks.12.mlp.hook_pre_linear', 'blocks.12.mlp.hook_post', 'blocks.12.hook_mlp_out', 'blocks.12.hook_resid_post', 'blocks.13.hook_resid_pre', 'blocks.13.ln1.hook_scale', 'blocks.13.ln1.hook_normalized', 'blocks.13.attn.hook_q', 'blocks.13.attn.hook_k', 'blocks.13.attn.hook_v', 'blocks.13.attn.hook_rot_q', 'blocks.13.attn.hook_rot_k', 'blocks.13.attn.hook_attn_scores', 'blocks.13.attn.hook_pattern', 'blocks.13.attn.hook_z', 'blocks.13.attn.hook_result', 'blocks.13.hook_attn_out', 'blocks.13.hook_resid_mid', 'blocks.13.ln2.hook_scale', 'blocks.13.ln2.hook_normalized', 'blocks.13.mlp.hook_pre', 'blocks.13.mlp.hook_pre_linear', 'blocks.13.mlp.hook_post', 'blocks.13.hook_mlp_out', 'blocks.13.hook_resid_post', 'blocks.14.hook_resid_pre', 'blocks.14.ln1.hook_scale', 'blocks.14.ln1.hook_normalized', 'blocks.14.attn.hook_q', 'blocks.14.attn.hook_k', 'blocks.14.attn.hook_v', 'blocks.14.attn.hook_rot_q', 'blocks.14.attn.hook_rot_k', 'blocks.14.attn.hook_attn_scores', 'blocks.14.attn.hook_pattern', 'blocks.14.attn.hook_z', 'blocks.14.attn.hook_result', 'blocks.14.hook_attn_out', 'blocks.14.hook_resid_mid', 'blocks.14.ln2.hook_scale', 'blocks.14.ln2.hook_normalized', 'blocks.14.mlp.hook_pre', 'blocks.14.mlp.hook_pre_linear', 'blocks.14.mlp.hook_post', 'blocks.14.hook_mlp_out', 'blocks.14.hook_resid_post', 'blocks.15.hook_resid_pre', 'blocks.15.ln1.hook_scale', 'blocks.15.ln1.hook_normalized', 'blocks.15.attn.hook_q', 'blocks.15.attn.hook_k', 'blocks.15.attn.hook_v', 'blocks.15.attn.hook_rot_q', 'blocks.15.attn.hook_rot_k', 'blocks.15.attn.hook_attn_scores', 'blocks.15.attn.hook_pattern', 'blocks.15.attn.hook_z', 'blocks.15.attn.hook_result', 'blocks.15.hook_attn_out', 'blocks.15.hook_resid_mid', 'blocks.15.ln2.hook_scale', 'blocks.15.ln2.hook_normalized', 'blocks.15.mlp.hook_pre', 'blocks.15.mlp.hook_pre_linear', 'blocks.15.mlp.hook_post', 'blocks.15.hook_mlp_out', 'blocks.15.hook_resid_post', 'blocks.16.hook_resid_pre', 'blocks.16.ln1.hook_scale', 'blocks.16.ln1.hook_normalized', 'blocks.16.attn.hook_q', 'blocks.16.attn.hook_k', 'blocks.16.attn.hook_v', 'blocks.16.attn.hook_rot_q', 'blocks.16.attn.hook_rot_k', 'blocks.16.attn.hook_attn_scores', 'blocks.16.attn.hook_pattern', 'blocks.16.attn.hook_z', 'blocks.16.attn.hook_result', 'blocks.16.hook_attn_out', 'blocks.16.hook_resid_mid', 'blocks.16.ln2.hook_scale', 'blocks.16.ln2.hook_normalized', 'blocks.16.mlp.hook_pre', 'blocks.16.mlp.hook_pre_linear', 'blocks.16.mlp.hook_post', 'blocks.16.hook_mlp_out', 'blocks.16.hook_resid_post', 'blocks.17.hook_resid_pre', 'blocks.17.ln1.hook_scale', 'blocks.17.ln1.hook_normalized', 'blocks.17.attn.hook_q', 'blocks.17.attn.hook_k', 'blocks.17.attn.hook_v', 'blocks.17.attn.hook_rot_q', 'blocks.17.attn.hook_rot_k', 'blocks.17.attn.hook_attn_scores', 'blocks.17.attn.hook_pattern', 'blocks.17.attn.hook_z', 'blocks.17.attn.hook_result', 'blocks.17.hook_attn_out', 'blocks.17.hook_resid_mid', 'blocks.17.ln2.hook_scale', 'blocks.17.ln2.hook_normalized', 'blocks.17.mlp.hook_pre', 'blocks.17.mlp.hook_pre_linear', 'blocks.17.mlp.hook_post', 'blocks.17.hook_mlp_out', 'blocks.17.hook_resid_post', 'blocks.18.hook_resid_pre', 'blocks.18.ln1.hook_scale', 'blocks.18.ln1.hook_normalized', 'blocks.18.attn.hook_q', 'blocks.18.attn.hook_k', 'blocks.18.attn.hook_v', 'blocks.18.attn.hook_rot_q', 'blocks.18.attn.hook_rot_k', 'blocks.18.attn.hook_attn_scores', 'blocks.18.attn.hook_pattern', 'blocks.18.attn.hook_z', 'blocks.18.attn.hook_result', 'blocks.18.hook_attn_out', 'blocks.18.hook_resid_mid', 'blocks.18.ln2.hook_scale', 'blocks.18.ln2.hook_normalized', 'blocks.18.mlp.hook_pre', 'blocks.18.mlp.hook_pre_linear', 'blocks.18.mlp.hook_post', 'blocks.18.hook_mlp_out', 'blocks.18.hook_resid_post', 'blocks.19.hook_resid_pre', 'blocks.19.ln1.hook_scale', 'blocks.19.ln1.hook_normalized', 'blocks.19.attn.hook_q', 'blocks.19.attn.hook_k', 'blocks.19.attn.hook_v', 'blocks.19.attn.hook_rot_q', 'blocks.19.attn.hook_rot_k', 'blocks.19.attn.hook_attn_scores', 'blocks.19.attn.hook_pattern', 'blocks.19.attn.hook_z', 'blocks.19.attn.hook_result', 'blocks.19.hook_attn_out', 'blocks.19.hook_resid_mid', 'blocks.19.ln2.hook_scale', 'blocks.19.ln2.hook_normalized', 'blocks.19.mlp.hook_pre', 'blocks.19.mlp.hook_pre_linear', 'blocks.19.mlp.hook_post', 'blocks.19.hook_mlp_out', 'blocks.19.hook_resid_post', 'blocks.20.hook_resid_pre', 'blocks.20.ln1.hook_scale', 'blocks.20.ln1.hook_normalized', 'blocks.20.attn.hook_q', 'blocks.20.attn.hook_k', 'blocks.20.attn.hook_v', 'blocks.20.attn.hook_rot_q', 'blocks.20.attn.hook_rot_k', 'blocks.20.attn.hook_attn_scores', 'blocks.20.attn.hook_pattern', 'blocks.20.attn.hook_z', 'blocks.20.attn.hook_result', 'blocks.20.hook_attn_out', 'blocks.20.hook_resid_mid', 'blocks.20.ln2.hook_scale', 'blocks.20.ln2.hook_normalized', 'blocks.20.mlp.hook_pre', 'blocks.20.mlp.hook_pre_linear', 'blocks.20.mlp.hook_post', 'blocks.20.hook_mlp_out', 'blocks.20.hook_resid_post', 'blocks.21.hook_resid_pre', 'blocks.21.ln1.hook_scale', 'blocks.21.ln1.hook_normalized', 'blocks.21.attn.hook_q', 'blocks.21.attn.hook_k', 'blocks.21.attn.hook_v', 'blocks.21.attn.hook_rot_q', 'blocks.21.attn.hook_rot_k', 'blocks.21.attn.hook_attn_scores', 'blocks.21.attn.hook_pattern', 'blocks.21.attn.hook_z', 'blocks.21.attn.hook_result', 'blocks.21.hook_attn_out', 'blocks.21.hook_resid_mid', 'blocks.21.ln2.hook_scale', 'blocks.21.ln2.hook_normalized', 'blocks.21.mlp.hook_pre', 'blocks.21.mlp.hook_pre_linear', 'blocks.21.mlp.hook_post', 'blocks.21.hook_mlp_out', 'blocks.21.hook_resid_post', 'blocks.22.hook_resid_pre', 'blocks.22.ln1.hook_scale', 'blocks.22.ln1.hook_normalized', 'blocks.22.attn.hook_q', 'blocks.22.attn.hook_k', 'blocks.22.attn.hook_v', 'blocks.22.attn.hook_rot_q', 'blocks.22.attn.hook_rot_k', 'blocks.22.attn.hook_attn_scores', 'blocks.22.attn.hook_pattern', 'blocks.22.attn.hook_z', 'blocks.22.attn.hook_result', 'blocks.22.hook_attn_out', 'blocks.22.hook_resid_mid', 'blocks.22.ln2.hook_scale', 'blocks.22.ln2.hook_normalized', 'blocks.22.mlp.hook_pre', 'blocks.22.mlp.hook_pre_linear', 'blocks.22.mlp.hook_post', 'blocks.22.hook_mlp_out', 'blocks.22.hook_resid_post', 'blocks.23.hook_resid_pre', 'blocks.23.ln1.hook_scale', 'blocks.23.ln1.hook_normalized', 'blocks.23.attn.hook_q', 'blocks.23.attn.hook_k', 'blocks.23.attn.hook_v', 'blocks.23.attn.hook_rot_q', 'blocks.23.attn.hook_rot_k', 'blocks.23.attn.hook_attn_scores', 'blocks.23.attn.hook_pattern', 'blocks.23.attn.hook_z', 'blocks.23.attn.hook_result', 'blocks.23.hook_attn_out', 'blocks.23.hook_resid_mid', 'blocks.23.ln2.hook_scale', 'blocks.23.ln2.hook_normalized', 'blocks.23.mlp.hook_pre', 'blocks.23.mlp.hook_pre_linear', 'blocks.23.mlp.hook_post', 'blocks.23.hook_mlp_out', 'blocks.23.hook_resid_post', 'blocks.24.hook_resid_pre', 'blocks.24.ln1.hook_scale', 'blocks.24.ln1.hook_normalized', 'blocks.24.attn.hook_q', 'blocks.24.attn.hook_k', 'blocks.24.attn.hook_v', 'blocks.24.attn.hook_rot_q', 'blocks.24.attn.hook_rot_k', 'blocks.24.attn.hook_attn_scores', 'blocks.24.attn.hook_pattern', 'blocks.24.attn.hook_z', 'blocks.24.attn.hook_result', 'blocks.24.hook_attn_out', 'blocks.24.hook_resid_mid', 'blocks.24.ln2.hook_scale', 'blocks.24.ln2.hook_normalized', 'blocks.24.mlp.hook_pre', 'blocks.24.mlp.hook_pre_linear', 'blocks.24.mlp.hook_post', 'blocks.24.hook_mlp_out', 'blocks.24.hook_resid_post', 'blocks.25.hook_resid_pre', 'blocks.25.ln1.hook_scale', 'blocks.25.ln1.hook_normalized', 'blocks.25.attn.hook_q', 'blocks.25.attn.hook_k', 'blocks.25.attn.hook_v', 'blocks.25.attn.hook_rot_q', 'blocks.25.attn.hook_rot_k', 'blocks.25.attn.hook_attn_scores', 'blocks.25.attn.hook_pattern', 'blocks.25.attn.hook_z', 'blocks.25.attn.hook_result', 'blocks.25.hook_attn_out', 'blocks.25.hook_resid_mid', 'blocks.25.ln2.hook_scale', 'blocks.25.ln2.hook_normalized', 'blocks.25.mlp.hook_pre', 'blocks.25.mlp.hook_pre_linear', 'blocks.25.mlp.hook_post', 'blocks.25.hook_mlp_out', 'blocks.25.hook_resid_post', 'blocks.26.hook_resid_pre', 'blocks.26.ln1.hook_scale', 'blocks.26.ln1.hook_normalized', 'blocks.26.attn.hook_q', 'blocks.26.attn.hook_k', 'blocks.26.attn.hook_v', 'blocks.26.attn.hook_rot_q', 'blocks.26.attn.hook_rot_k', 'blocks.26.attn.hook_attn_scores', 'blocks.26.attn.hook_pattern', 'blocks.26.attn.hook_z', 'blocks.26.attn.hook_result', 'blocks.26.hook_attn_out', 'blocks.26.hook_resid_mid', 'blocks.26.ln2.hook_scale', 'blocks.26.ln2.hook_normalized', 'blocks.26.mlp.hook_pre', 'blocks.26.mlp.hook_pre_linear', 'blocks.26.mlp.hook_post', 'blocks.26.hook_mlp_out', 'blocks.26.hook_resid_post', 'blocks.27.hook_resid_pre', 'blocks.27.ln1.hook_scale', 'blocks.27.ln1.hook_normalized', 'blocks.27.attn.hook_q', 'blocks.27.attn.hook_k', 'blocks.27.attn.hook_v', 'blocks.27.attn.hook_rot_q', 'blocks.27.attn.hook_rot_k', 'blocks.27.attn.hook_attn_scores', 'blocks.27.attn.hook_pattern', 'blocks.27.attn.hook_z', 'blocks.27.attn.hook_result', 'blocks.27.hook_attn_out', 'blocks.27.hook_resid_mid', 'blocks.27.ln2.hook_scale', 'blocks.27.ln2.hook_normalized', 'blocks.27.mlp.hook_pre', 'blocks.27.mlp.hook_pre_linear', 'blocks.27.mlp.hook_post', 'blocks.27.hook_mlp_out', 'blocks.27.hook_resid_post', 'ln_final.hook_scale', 'ln_final.hook_normalized'])\n",
      "blocks.4.attn.hook_k\n",
      "torch.Size([1, 7, 24576])\n",
      "torch.Size([1, 7, 16, 256])\n"
     ]
    }
   ],
   "source": [
    "from transformer_lens import HookedTransformer, utils\n",
    "with torch.no_grad():\n",
    "    _logits, cache = model.run_with_cache(\"Why did the chicken cross the\")\n",
    "    print(cache.keys())\n",
    "\n",
    "print(utils.get_act_name(\"k\", layer=4))\n",
    "# print(cache[utils.get_act_name(\"k\", layer=4)])\n",
    "print(cache['blocks.0.mlp.hook_post'].shape)\n",
    "print(cache['blocks.0.attn.hook_q'].shape)"
   ]
  },
  {
   "cell_type": "code",
   "execution_count": null,
   "metadata": {},
   "outputs": [
    {
     "data": {
      "application/vnd.jupyter.widget-view+json": {
       "model_id": "2a7024fa35744774b57175bc73f07cc5",
       "version_major": 2,
       "version_minor": 0
      },
      "text/plain": [
       "Resolving data files:   0%|          | 0/30 [00:00<?, ?it/s]"
      ]
     },
     "metadata": {},
     "output_type": "display_data"
    },
    {
     "data": {
      "application/vnd.jupyter.widget-view+json": {
       "model_id": "639e2250747144f7803abad7b48453b0",
       "version_major": 2,
       "version_minor": 0
      },
      "text/plain": [
       "Resolving data files:   0%|          | 0/30 [00:00<?, ?it/s]"
      ]
     },
     "metadata": {},
     "output_type": "display_data"
    },
    {
     "name": "stdout",
     "output_type": "stream",
     "text": [
      "No test dataset available. Using train dataset for testing.\n"
     ]
    },
    {
     "data": {
      "application/vnd.jupyter.widget-view+json": {
       "model_id": "51c05d5c7fbb4f599501a790710b778f",
       "version_major": 2,
       "version_minor": 0
      },
      "text/plain": [
       "Resolving data files:   0%|          | 0/30 [00:00<?, ?it/s]"
      ]
     },
     "metadata": {},
     "output_type": "display_data"
    },
    {
     "data": {
      "application/vnd.jupyter.widget-view+json": {
       "model_id": "0ba315afb5da4f929f25242431fea750",
       "version_major": 2,
       "version_minor": 0
      },
      "text/plain": [
       "Resolving data files:   0%|          | 0/30 [00:00<?, ?it/s]"
      ]
     },
     "metadata": {},
     "output_type": "display_data"
    },
    {
     "name": "stdout",
     "output_type": "stream",
     "text": [
      "No test dataset available. Using train dataset for testing.\n"
     ]
    }
   ],
   "source": [
    "from tasks import PileTask, OWTTask, InductionTask, GreaterThanTask\n",
    "from tasks.ioi.IOITask import IOITask, IOITask_NPO, IOITask_Uniform\n",
    "from tasks.induction.InductionTask import InductionTask, InductionTask_NPO, InductionTask_Uniform\n",
    "from tasks.facts.SportsTask import SportsTask, SportsTask_NPO, SportsTask_Uniform\n",
    "from tasks.facts.SportsTaskAdversarial import adversarial_sports_eval\n",
    "from tasks.facts.SportsTaskSideEffects import run_side_effects_evals\n",
    "\n",
    "\n",
    "train_batch_size = 16\n",
    "eval_batch_size=64\n",
    "\n",
    "device = \"cuda\"\n",
    "train_loss_type = \"sports\"\n",
    "forget_sport = \"basketball\"\n",
    "maintain_sport = None\n",
    "# val_sport = \"baseball\"\n",
    "\n",
    "\n",
    "sports_1mp = SportsTask(batch_size=train_batch_size, tokenizer=tokenizer, device=device, prep_acdcpp=False, criterion=\"log_1_minus_p\", forget_sport_subset={forget_sport}, is_forget_dataset=True)\n",
    "\n",
    "if maintain_sport is None:\n",
    "    maintain_sports = SportsTask(batch_size=train_batch_size, tokenizer=tokenizer, device=device, prep_acdcpp=False, criterion=\"cross_entropy\", forget_sport_subset={forget_sport}, is_forget_dataset=False)\n",
    "else:\n",
    "    maintain_sports = SportsTask(batch_size=train_batch_size, tokenizer=tokenizer, device=device, prep_acdcpp=False, criterion=\"cross_entropy\", forget_sport_subset={maintain_sport}, is_forget_dataset=True)\n",
    "\n",
    "train_pile = PileTask(batch_size=train_batch_size, tokenizer=tokenizer, device=device, ctx_length=256, shuffle=True, buffer_size=50000)\n",
    "train_tasks = {\"sports_1mp\": (sports_1mp, .2), \"maintain_sports\": (maintain_sports, 1), \"pile\": (train_pile, 1)}\n",
    "\n",
    "# want to eval on other sports\n",
    "forget_sport_eval = SportsTask(batch_size=eval_batch_size, tokenizer=tokenizer, device=device, prep_acdcpp=False, criterion=\"cross_entropy\", forget_sport_subset={forget_sport}, is_forget_dataset=True)\n",
    "test_pile = PileTask(batch_size=eval_batch_size, tokenizer=tokenizer, device=device, ctx_length=100, shuffle=True, buffer_size=50000)\n",
    "\n",
    "induction_eval = InductionTask(batch_size=eval_batch_size, tokenizer=tokenizer, prep_acdcpp=False, seq_len=15, device=device)\n",
    "if maintain_sport is None:\n",
    "    maintain_sports_eval = SportsTask(batch_size=eval_batch_size, tokenizer=tokenizer, device=device, prep_acdcpp=False, criterion=\"cross_entropy\", forget_sport_subset={forget_sport}, is_forget_dataset=False)\n",
    "    eval_tasks = {\"induction\": induction_eval, \"pile\": test_pile, \"forget_sport\": forget_sport_eval, \"maintain_sport\": maintain_sports_eval}\n",
    "else:\n",
    "    maintain_sport_eval = SportsTask(batch_size=eval_batch_size, tokenizer=tokenizer, device=device, prep_acdcpp=False, criterion=\"cross_entropy\", forget_sport_subset={maintain_sport}, is_forget_dataset=True)\n",
    "    val_sport_eval = SportsTask(batch_size=eval_batch_size, tokenizer=tokenizer, device=device, prep_acdcpp=False, criterion=\"cross_entropy\", forget_sport_subset={val_sport}, is_forget_dataset=True)\n",
    "    eval_tasks = {\"induction\": induction_eval, \"pile\": test_pile, \"forget_sport\": \n",
    "                  forget_sport_eval, \"maintain_sport\": maintain_sport_eval, \"val_sport\": val_sport_eval}"
   ]
  },
  {
   "cell_type": "markdown",
   "metadata": {},
   "source": [
    "### Test passing gradients through localized mask"
   ]
  },
  {
   "cell_type": "code",
   "execution_count": 6,
   "metadata": {},
   "outputs": [
    {
     "name": "stdout",
     "output_type": "stream",
     "text": [
      "Component: blocks.1.attn.hook_q, shape torch.Size([1, 7, 16, 256])\n",
      "Component: blocks.2.attn.hook_result, shape torch.Size([1, 7, 16, 3072])\n",
      "Component: blocks.3.attn.hook_k, shape torch.Size([1, 7, 16, 256])\n",
      "Component: blocks.4.attn.hook_v, shape torch.Size([1, 7, 16, 256])\n",
      "Component: blocks.3.mlp.hook_pre, shape torch.Size([1, 7, 24576])\n",
      "Component: blocks.10.mlp.hook_post, shape torch.Size([1, 7, 24576])\n",
      "Component: blocks.10.mlp.hook_pre, shape torch.Size([1, 7, 24576])\n"
     ]
    }
   ],
   "source": [
    "from circuit_breaking.src.masks import NeuronLevelMask\n",
    "\n",
    "# components = ['blocks.0.attn.hook_k', 'blocks.0.attn.hook_q', 'blocks.0.attn.hook_v', \n",
    "#               'blocks.0.attn.hook_result', \n",
    "#               'blocks.0.mlp.hook_pre', 'blocks.0.mlp.hook_pre_linear', 'blocks.0.mlp.hook_post', \n",
    "#             #   'blocks.0.hook_q_input', 'blocks.0.hook_k_input', 'blocks.0.hook_v_input', \n",
    "#             #   'blocks.0.hook_mlp_in', \n",
    "#               'blocks.0.hook_attn_out', \n",
    "#               'blocks.0.hook_mlp_out', \n",
    "#               'blocks.0.mlp.hook_pre', 'blocks.0.mlp.hook_pre_linear', 'blocks.0.mlp.hook_post', 'blocks.0.hook_mlp_out', ]\n",
    "components = [\"blocks.1.attn.hook_q\", \"blocks.2.attn.hook_result\", \"blocks.3.attn.hook_k\", \"blocks.4.attn.hook_v\", \"blocks.3.mlp.hook_pre\", \"blocks.10.mlp.hook_post\", \"blocks.10.mlp.hook_pre\"]\n",
    "component_heads = {\"blocks.1.attn.hook_q\": [3], \"blocks.2.attn.hook_result\": list(range(model.cfg.n_heads)), \"blocks.3.attn.hook_k\": [4, 10], \"blocks.4.attn.hook_v\": [4, 10]}\n",
    "\n",
    "for component in components:\n",
    "    print(f\"Component: {component}, shape {cache[component].shape}\")\n",
    "\n",
    "localized_mask = NeuronLevelMask(model, components=components, component_heads=component_heads)"
   ]
  },
  {
   "cell_type": "code",
   "execution_count": 7,
   "metadata": {},
   "outputs": [
    {
     "name": "stdout",
     "output_type": "stream",
     "text": [
      "Param masks.blocks&1&attn&hook_q, shape torch.Size([16, 256]), param.requires_grad=True\n",
      "Param masks.blocks&2&attn&hook_result, shape torch.Size([16, 3072]), param.requires_grad=True\n",
      "Param masks.blocks&3&attn&hook_k, shape torch.Size([16, 256]), param.requires_grad=True\n",
      "Param masks.blocks&4&attn&hook_v, shape torch.Size([16, 256]), param.requires_grad=True\n",
      "Param masks.blocks&3&mlp&hook_pre, shape torch.Size([24576]), param.requires_grad=True\n",
      "Param masks.blocks&10&mlp&hook_post, shape torch.Size([24576]), param.requires_grad=True\n",
      "Param masks.blocks&10&mlp&hook_pre, shape torch.Size([24576]), param.requires_grad=True\n",
      "Param attn_mask_frozen.blocks&1&attn&hook_q, shape torch.Size([16, 1]), param.requires_grad=False\n",
      "Param attn_mask_frozen.blocks&2&attn&hook_result, shape torch.Size([16, 1]), param.requires_grad=False\n",
      "Param attn_mask_frozen.blocks&3&attn&hook_k, shape torch.Size([16, 1]), param.requires_grad=False\n",
      "Param attn_mask_frozen.blocks&4&attn&hook_v, shape torch.Size([16, 1]), param.requires_grad=False\n",
      "Param attn_mask_unfrozen.blocks&1&attn&hook_q, shape torch.Size([16, 1]), param.requires_grad=False\n",
      "Param attn_mask_unfrozen.blocks&2&attn&hook_result, shape torch.Size([16, 1]), param.requires_grad=False\n",
      "Param attn_mask_unfrozen.blocks&3&attn&hook_k, shape torch.Size([16, 1]), param.requires_grad=False\n",
      "Param attn_mask_unfrozen.blocks&4&attn&hook_v, shape torch.Size([16, 1]), param.requires_grad=False\n"
     ]
    }
   ],
   "source": [
    "for name, param in localized_mask.named_parameters():\n",
    "    print(f\"Param {name}, shape {param.shape}, {param.requires_grad=}\")"
   ]
  },
  {
   "cell_type": "code",
   "execution_count": 8,
   "metadata": {},
   "outputs": [
    {
     "data": {
      "application/vnd.jupyter.widget-view+json": {
       "model_id": "c5241f6a84514f27b046140335b2825e",
       "version_major": 2,
       "version_minor": 0
      },
      "text/plain": [
       "Resolving data files:   0%|          | 0/30 [00:00<?, ?it/s]"
      ]
     },
     "metadata": {},
     "output_type": "display_data"
    },
    {
     "data": {
      "application/vnd.jupyter.widget-view+json": {
       "model_id": "3ea894b9e18f4814a9c05399d36ab812",
       "version_major": 2,
       "version_minor": 0
      },
      "text/plain": [
       "Resolving data files:   0%|          | 0/30 [00:00<?, ?it/s]"
      ]
     },
     "metadata": {},
     "output_type": "display_data"
    },
    {
     "name": "stdout",
     "output_type": "stream",
     "text": [
      "No test dataset available. Using train dataset for testing.\n"
     ]
    }
   ],
   "source": [
    "pile = PileTask(batch_size=train_batch_size, tokenizer=tokenizer, device=device, ctx_length=256, shuffle=True, buffer_size=1000)\n",
    "# localized_mask.cpu()\n",
    "print(torch.cuda.memory_allocated())\n",
    "localized_mask.cuda()\n",
    "print(torch.cuda.memory_allocated())\n",
    "loss = pile.get_train_loss(model)\n",
    "print(torch.cuda.memory_allocated())\n",
    "loss.backward()\n",
    "print(torch.cuda.memory_allocated())\n",
    "for name, param in model.named_parameters():\n",
    "    if param.requires_grad:\n",
    "        print(f\"Param {name}, shape {param.shape}, {param.requires_grad=}\")"
   ]
  },
  {
   "cell_type": "code",
   "execution_count": 11,
   "metadata": {},
   "outputs": [
    {
     "ename": "AttributeError",
     "evalue": "'NeuronLevelMask' object has no attribute 'attn_masks'",
     "output_type": "error",
     "traceback": [
      "\u001b[0;31m---------------------------------------------------------------------------\u001b[0m",
      "\u001b[0;31mAttributeError\u001b[0m                            Traceback (most recent call last)",
      "Cell \u001b[0;32mIn[11], line 2\u001b[0m\n\u001b[1;32m      1\u001b[0m \u001b[38;5;66;03m# component_heads = {\"blocks.1.attn.hook_q\": [3], \"blocks.2.attn.hook_result\": list(range(model.cfg.n_heads)), \"blocks.3.attn.hook_k\": [4, 10], \"blocks.4.attn.hook_v\": [4, 10]}\u001b[39;00m\n\u001b[0;32m----> 2\u001b[0m \u001b[38;5;28mprint\u001b[39m(\u001b[43mlocalized_mask\u001b[49m\u001b[38;5;241;43m.\u001b[39;49m\u001b[43mattn_masks\u001b[49m[localized_mask\u001b[38;5;241m.\u001b[39mconvert_param_name(\u001b[38;5;124m\"\u001b[39m\u001b[38;5;124mblocks.1.attn.hook_q\u001b[39m\u001b[38;5;124m\"\u001b[39m)]\u001b[38;5;241m.\u001b[39mgrad[[\u001b[38;5;241m0\u001b[39m, \u001b[38;5;241m1\u001b[39m, \u001b[38;5;241m2\u001b[39m, \u001b[38;5;241m4\u001b[39m, \u001b[38;5;241m5\u001b[39m, \u001b[38;5;241m6\u001b[39m, \u001b[38;5;241m7\u001b[39m, \u001b[38;5;241m8\u001b[39m, \u001b[38;5;241m9\u001b[39m, \u001b[38;5;241m10\u001b[39m, \u001b[38;5;241m11\u001b[39m, \u001b[38;5;241m12\u001b[39m, \u001b[38;5;241m13\u001b[39m, \u001b[38;5;241m14\u001b[39m, \u001b[38;5;241m15\u001b[39m]]\u001b[38;5;241m.\u001b[39mnorm())\n\u001b[1;32m      3\u001b[0m \u001b[38;5;28mprint\u001b[39m(localized_mask\u001b[38;5;241m.\u001b[39mattn_masks[localized_mask\u001b[38;5;241m.\u001b[39mconvert_param_name(\u001b[38;5;124m\"\u001b[39m\u001b[38;5;124mblocks.1.attn.hook_q\u001b[39m\u001b[38;5;124m\"\u001b[39m)]\u001b[38;5;241m.\u001b[39mgrad[\u001b[38;5;241m3\u001b[39m]\u001b[38;5;241m.\u001b[39mnorm())\n\u001b[1;32m      5\u001b[0m \u001b[38;5;28mprint\u001b[39m((localized_mask\u001b[38;5;241m.\u001b[39mattn_masks[localized_mask\u001b[38;5;241m.\u001b[39mconvert_param_name(\u001b[38;5;124m\"\u001b[39m\u001b[38;5;124mblocks.2.attn.hook_result\u001b[39m\u001b[38;5;124m\"\u001b[39m)]\u001b[38;5;241m.\u001b[39mgrad \u001b[38;5;241m!=\u001b[39m \u001b[38;5;241m0\u001b[39m)\u001b[38;5;241m.\u001b[39mfloat()\u001b[38;5;241m.\u001b[39mmean())\n",
      "File \u001b[0;32m~/miniconda3/envs/unlrn/lib/python3.10/site-packages/torch/nn/modules/module.py:1695\u001b[0m, in \u001b[0;36mModule.__getattr__\u001b[0;34m(self, name)\u001b[0m\n\u001b[1;32m   1693\u001b[0m     \u001b[38;5;28;01mif\u001b[39;00m name \u001b[38;5;129;01min\u001b[39;00m modules:\n\u001b[1;32m   1694\u001b[0m         \u001b[38;5;28;01mreturn\u001b[39;00m modules[name]\n\u001b[0;32m-> 1695\u001b[0m \u001b[38;5;28;01mraise\u001b[39;00m \u001b[38;5;167;01mAttributeError\u001b[39;00m(\u001b[38;5;124mf\u001b[39m\u001b[38;5;124m\"\u001b[39m\u001b[38;5;124m'\u001b[39m\u001b[38;5;132;01m{\u001b[39;00m\u001b[38;5;28mtype\u001b[39m(\u001b[38;5;28mself\u001b[39m)\u001b[38;5;241m.\u001b[39m\u001b[38;5;18m__name__\u001b[39m\u001b[38;5;132;01m}\u001b[39;00m\u001b[38;5;124m'\u001b[39m\u001b[38;5;124m object has no attribute \u001b[39m\u001b[38;5;124m'\u001b[39m\u001b[38;5;132;01m{\u001b[39;00mname\u001b[38;5;132;01m}\u001b[39;00m\u001b[38;5;124m'\u001b[39m\u001b[38;5;124m\"\u001b[39m)\n",
      "\u001b[0;31mAttributeError\u001b[0m: 'NeuronLevelMask' object has no attribute 'attn_masks'"
     ]
    }
   ],
   "source": [
    "# component_heads = {\"blocks.1.attn.hook_q\": [3], \"blocks.2.attn.hook_result\": list(range(model.cfg.n_heads)), \"blocks.3.attn.hook_k\": [4, 10], \"blocks.4.attn.hook_v\": [4, 10]}\n",
    "print(localized_mask.attn_masks[localized_mask.convert_param_name(\"blocks.1.attn.hook_q\")].grad[[0, 1, 2, 4, 5, 6, 7, 8, 9, 10, 11, 12, 13, 14, 15]].norm())\n",
    "print(localized_mask.attn_masks[localized_mask.convert_param_name(\"blocks.1.attn.hook_q\")].grad[3].norm())\n",
    "\n",
    "print((localized_mask.attn_masks[localized_mask.convert_param_name(\"blocks.2.attn.hook_result\")].grad != 0).float().mean())\n",
    "\n",
    "# Assuming localized_mask is already defined and contains the necessary gradients\n",
    "grad_tensor = localized_mask.attn_masks[localized_mask.convert_param_name(\"blocks.2.attn.hook_result\")].grad\n",
    "zero_grad_indices = torch.nonzero(grad_tensor == 0, as_tuple=False)\n",
    "# print(zero_grad_indices)\n",
    "\n",
    "print(localized_mask.attn_masks[localized_mask.convert_param_name(\"blocks.3.attn.hook_k\")].grad.norm(dim=1))\n",
    "\n",
    "print(localized_mask.attn_mask_frozen[localized_mask.convert_param_name(\"blocks.3.attn.hook_k\")].grad)\n",
    "print(localized_mask.attn_mask_unfrozen[localized_mask.convert_param_name(\"blocks.3.attn.hook_k\")].grad)"
   ]
  },
  {
   "cell_type": "code",
   "execution_count": null,
   "metadata": {},
   "outputs": [
    {
     "name": "stdout",
     "output_type": "stream",
     "text": [
      "tensor(0.0002, device='cuda:0')\n",
      "tensor([ 2.9802e-05,  1.1832e-05,  5.0366e-06,  ...,  6.0499e-06,\n",
      "        -1.6809e-05,  7.3969e-05], device='cuda:0')\n",
      "tensor([-8.6546e-05,  5.7429e-05, -5.3644e-07,  ...,  1.1921e-07,\n",
      "         1.7315e-05,  1.1802e-05], device='cuda:0')\n"
     ]
    }
   ],
   "source": [
    "# components = [\"blocks.1.attn.hook_q\", \"blocks.2.attn.hook_result\", \"blocks.3.attn.hook_k\", \"blocks.4.attn.hook_v\", \"blocks.3.mlp.hook_pre\", \"blocks.10.mlp.hook_post\", \"blocks.10.mlp.hook_pre\"]\n",
    "print((localized_mask.masks[localized_mask.convert_param_name(\"blocks.10.mlp.hook_post\")].grad == 0).float().mean())\n",
    "print(localized_mask.masks[localized_mask.convert_param_name(\"blocks.10.mlp.hook_pre\")].grad)\n",
    "print(localized_mask.masks[localized_mask.convert_param_name(\"blocks.3.mlp.hook_pre\")].grad)"
   ]
  },
  {
   "cell_type": "markdown",
   "metadata": {},
   "source": [
    "### Train Masks"
   ]
  },
  {
   "cell_type": "code",
   "execution_count": null,
   "metadata": {},
   "outputs": [
    {
     "name": "stdout",
     "output_type": "stream",
     "text": [
      "len(all_attr_values)=168\n",
      "Thresholding importance at 0.20463522672653203\n",
      "(['blocks.18.attn.hook_result', 'blocks.21.mlp.hook_pre', 'blocks.21.mlp.hook_post', 'blocks.23.mlp.hook_post', 'blocks.25.attn.hook_result', 'blocks.25.mlp.hook_pre', 'blocks.27.attn.hook_q', 'blocks.27.attn.hook_k', 'blocks.27.mlp.hook_post'], defaultdict(<class 'list'>, {'blocks.18.attn.hook_result': [0, 1, 2, 3, 4, 5, 6, 7, 8, 9, 10, 11, 12, 13, 14, 15], 'blocks.25.attn.hook_result': [0, 1, 2, 3, 4, 5, 6, 7, 8, 9, 10, 11, 12, 13, 14, 15], 'blocks.27.attn.hook_q': [0, 1, 2, 3, 4, 5, 6, 7, 8, 9, 10, 11, 12, 13, 14, 15], 'blocks.27.attn.hook_k': [0, 1, 2, 3, 4, 5, 6, 7, 8, 9, 10, 11, 12, 13, 14, 15]}))\n",
      "Thresholding importance at 0.11414513221153846\n",
      "(['blocks.0.mlp.hook_pre', 'blocks.13.mlp.hook_pre', 'blocks.19.mlp.hook_pre', 'blocks.20.mlp.hook_post', 'blocks.21.mlp.hook_pre', 'blocks.21.mlp.hook_post', 'blocks.22.mlp.hook_post', 'blocks.23.mlp.hook_pre', 'blocks.23.mlp.hook_post', 'blocks.25.mlp.hook_pre', 'blocks.25.mlp.hook_post', 'blocks.26.mlp.hook_post', 'blocks.27.mlp.hook_post', 'blocks.17.attn.hook_v', 'blocks.18.attn.hook_v', 'blocks.18.attn.hook_result', 'blocks.20.attn.hook_v', 'blocks.20.attn.hook_result', 'blocks.27.attn.hook_q', 'blocks.27.attn.hook_k'], defaultdict(<class 'list'>, {'blocks.17.attn.hook_v': [7], 'blocks.18.attn.hook_v': [11], 'blocks.18.attn.hook_result': [11], 'blocks.20.attn.hook_v': [5], 'blocks.20.attn.hook_result': [5], 'blocks.27.attn.hook_q': [1], 'blocks.27.attn.hook_k': [1]}))\n"
     ]
    }
   ],
   "source": [
    "def convert_attrs_to_components(attrs, combine_heads=False, n_layers=model.cfg.n_layers, n_heads=model.cfg.n_heads):\n",
    "    \"\"\"\n",
    "    attrs is dictionary of e.g. {'a0.0_q': float, 'm27_in': float}\n",
    "\n",
    "    If combine_heads, then it will combine all 'a0.0_q', 'a0.1_q', ..., 'a0.15_q', etc into one component.\n",
    "    \"\"\"\n",
    "\n",
    "    component_dict = defaultdict(int)\n",
    "    attn_head_dict = defaultdict(dict)\n",
    "    for layer in range(n_layers):\n",
    "        for attn_type, component_name in [(\"q\", f\"blocks.{layer}.attn.hook_q\"), (\"k\", f\"blocks.{layer}.attn.hook_k\"), (\"v\", f\"blocks.{layer}.attn.hook_v\"), (\"result\", f\"blocks.{layer}.attn.hook_result\")]:\n",
    "            for head in range(n_heads):    \n",
    "                if combine_heads:\n",
    "                    component_dict[component_name] += attrs[f\"a{layer}.{head}_{attn_type}\"]\n",
    "                else:\n",
    "                    attn_head_dict[component_name][head] = attrs[f\"a{layer}.{head}_{attn_type}\"]\n",
    "        for mlp_type, component_name in [(\"in\", f\"blocks.{layer}.mlp.hook_pre\"), (\"out\", f\"blocks.{layer}.mlp.hook_post\")]:\n",
    "            component_dict[component_name] += attrs[f\"m{layer}_{mlp_type}\"]\n",
    "    if combine_heads:\n",
    "        return (component_dict,)\n",
    "    return (component_dict, attn_head_dict,)\n",
    "\n",
    "\n",
    "def get_top_components(component_dict, attn_head_dict=None, threshold=None, top_p=None, top_k=None, use_abs=True, n_layers=model.cfg.n_layers, n_heads=model.cfg.n_heads):\n",
    "    \"\"\"\n",
    "    component_dict is a dictionary of components to their importance values. If attn_head_dict is not None, then component_dict and attn_head_dict should not overlap in values.\n",
    "\n",
    "    Can either use a threshold, top_p, or top_k to determine the top components to return (can only specify one). top_p should be a value ranging from 0 to 100. If use_abs is True, then it will take the absolute value of the importance values. \n",
    "    \"\"\"\n",
    "    if attn_head_dict is not None:\n",
    "        assert (component_dict.keys() & attn_head_dict.keys()) == set(), \"Overlapping keys between component_dict and attn_head_dict\"\n",
    "    \n",
    "    # assert only one of threshold, top_p, top_k is specified\n",
    "    assert sum([threshold is not None, top_p is not None, top_k is not None]) == 1, \"Can only specify one of threshold, top_p, top_k\"\n",
    "    # will calculate a threshold for top_p or top_k\n",
    "\n",
    "    if top_p is not None:\n",
    "        all_attr_values = list(component_dict.values())\n",
    "        if attn_head_dict is not None:\n",
    "            all_attr_values += [val for head_dict in attn_head_dict.values() for val in head_dict.values()]\n",
    "\n",
    "        all_attr_values = np.array(all_attr_values)\n",
    "        if use_abs:\n",
    "            all_attr_values = np.abs(all_attr_values)\n",
    "        print(f\"{len(all_attr_values)=}\")\n",
    "        threshold = np.percentile(all_attr_values, 100 - top_p)\n",
    "    elif top_k is not None:\n",
    "        all_attr_values = list(component_dict.values())\n",
    "        if attn_head_dict is not None:\n",
    "            all_attr_values += [val for head_dict in attn_head_dict.values() for val in head_dict.values()]\n",
    "\n",
    "        all_attr_values = np.array(all_attr_values)\n",
    "        if use_abs:\n",
    "            all_attr_values = np.abs(all_attr_values)\n",
    "        threshold = np.sort(all_attr_values)[-top_k]\n",
    "    \n",
    "    print(f\"Thresholding importance at {threshold}\")\n",
    "    final_components = []\n",
    "    final_attn_heads = defaultdict(list)\n",
    "\n",
    "    for component, importance in component_dict.items():\n",
    "        if use_abs:\n",
    "            importance = abs(importance)\n",
    "        if importance >= threshold:\n",
    "            final_components.append(component)    \n",
    "\n",
    "    if attn_head_dict is not None:\n",
    "        for component, head_dict in attn_head_dict.items():\n",
    "            head_list = []\n",
    "            for head, importance in head_dict.items():\n",
    "                if use_abs:\n",
    "                    importance = abs(importance)\n",
    "                if importance >= threshold:\n",
    "                    head_list.append(head)\n",
    "            if len(head_list) > 0:\n",
    "                final_attn_heads[component] = head_list\n",
    "                final_components.append(component)\n",
    "    else:\n",
    "        for component in final_components:\n",
    "            if \"attn\" in component:\n",
    "                # want to mask over all possible heads\n",
    "                final_attn_heads[component] = list(range(n_heads))\n",
    "    \n",
    "    return final_components, final_attn_heads\n",
    "print(get_top_components(*convert_attrs_to_components(ap_graph, combine_heads=True), top_p=5))\n",
    "print(get_top_components(*convert_attrs_to_components(ap_graph, combine_heads=False), top_k=20))\n"
   ]
  },
  {
   "cell_type": "code",
   "execution_count": null,
   "metadata": {},
   "outputs": [
    {
     "name": "stdout",
     "output_type": "stream",
     "text": [
      "len(all_attr_values)=1848\n",
      "Thresholding importance at 0.0332934452937199\n",
      "['blocks.0.mlp.hook_pre', 'blocks.1.mlp.hook_post', 'blocks.2.mlp.hook_post', 'blocks.4.mlp.hook_pre', 'blocks.5.mlp.hook_pre', 'blocks.10.mlp.hook_pre', 'blocks.11.mlp.hook_post', 'blocks.12.mlp.hook_pre', 'blocks.12.mlp.hook_post', 'blocks.13.mlp.hook_pre', 'blocks.13.mlp.hook_post', 'blocks.14.mlp.hook_pre', 'blocks.14.mlp.hook_post', 'blocks.15.mlp.hook_pre', 'blocks.15.mlp.hook_post', 'blocks.16.mlp.hook_pre', 'blocks.17.mlp.hook_post', 'blocks.18.mlp.hook_pre', 'blocks.18.mlp.hook_post', 'blocks.19.mlp.hook_pre', 'blocks.20.mlp.hook_pre', 'blocks.20.mlp.hook_post', 'blocks.21.mlp.hook_pre', 'blocks.21.mlp.hook_post', 'blocks.22.mlp.hook_pre', 'blocks.22.mlp.hook_post', 'blocks.23.mlp.hook_pre', 'blocks.23.mlp.hook_post', 'blocks.24.mlp.hook_pre', 'blocks.24.mlp.hook_post', 'blocks.25.mlp.hook_pre', 'blocks.25.mlp.hook_post', 'blocks.26.mlp.hook_pre', 'blocks.26.mlp.hook_post', 'blocks.27.mlp.hook_pre', 'blocks.27.mlp.hook_post', 'blocks.14.attn.hook_q', 'blocks.14.attn.hook_k', 'blocks.15.attn.hook_v', 'blocks.15.attn.hook_result', 'blocks.16.attn.hook_v', 'blocks.16.attn.hook_result', 'blocks.17.attn.hook_k', 'blocks.17.attn.hook_v', 'blocks.17.attn.hook_result', 'blocks.18.attn.hook_k', 'blocks.18.attn.hook_v', 'blocks.18.attn.hook_result', 'blocks.19.attn.hook_k', 'blocks.19.attn.hook_v', 'blocks.19.attn.hook_result', 'blocks.20.attn.hook_k', 'blocks.20.attn.hook_v', 'blocks.20.attn.hook_result', 'blocks.21.attn.hook_q', 'blocks.21.attn.hook_v', 'blocks.21.attn.hook_result', 'blocks.22.attn.hook_k', 'blocks.22.attn.hook_v', 'blocks.22.attn.hook_result', 'blocks.23.attn.hook_v', 'blocks.24.attn.hook_v', 'blocks.24.attn.hook_result', 'blocks.25.attn.hook_v', 'blocks.25.attn.hook_result', 'blocks.26.attn.hook_v', 'blocks.27.attn.hook_q', 'blocks.27.attn.hook_k', 'blocks.27.attn.hook_v', 'blocks.27.attn.hook_result']\n",
      "defaultdict(<class 'list'>, {'blocks.14.attn.hook_q': [8], 'blocks.14.attn.hook_k': [14], 'blocks.15.attn.hook_v': [10], 'blocks.15.attn.hook_result': [10], 'blocks.16.attn.hook_v': [0, 8], 'blocks.16.attn.hook_result': [0, 5, 8], 'blocks.17.attn.hook_k': [7, 13], 'blocks.17.attn.hook_v': [2, 7, 8, 9], 'blocks.17.attn.hook_result': [7, 8], 'blocks.18.attn.hook_k': [4, 9], 'blocks.18.attn.hook_v': [4, 9, 11], 'blocks.18.attn.hook_result': [4, 11], 'blocks.19.attn.hook_k': [1], 'blocks.19.attn.hook_v': [1, 3, 10], 'blocks.19.attn.hook_result': [1, 3, 10], 'blocks.20.attn.hook_k': [2], 'blocks.20.attn.hook_v': [2, 5], 'blocks.20.attn.hook_result': [2, 5], 'blocks.21.attn.hook_q': [4], 'blocks.21.attn.hook_v': [4], 'blocks.21.attn.hook_result': [4], 'blocks.22.attn.hook_k': [15], 'blocks.22.attn.hook_v': [15], 'blocks.22.attn.hook_result': [15], 'blocks.23.attn.hook_v': [2], 'blocks.24.attn.hook_v': [12], 'blocks.24.attn.hook_result': [12], 'blocks.25.attn.hook_v': [8, 9], 'blocks.25.attn.hook_result': [8, 9], 'blocks.26.attn.hook_v': [7], 'blocks.27.attn.hook_q': [1], 'blocks.27.attn.hook_k': [1], 'blocks.27.attn.hook_v': [1, 3, 10], 'blocks.27.attn.hook_result': [3, 10]})\n"
     ]
    }
   ],
   "source": [
    "use_localized_mask = True\n",
    "\n",
    "combine_heads = False\n",
    "top_p = 5\n",
    "\n",
    "if use_localized_mask:\n",
    "    final_components, final_attn_heads = get_top_components(*convert_attrs_to_components(ap_graph, combine_heads=combine_heads), top_p=top_p)\n",
    "\n",
    "    print(final_components)\n",
    "    print(final_attn_heads)\n",
    "\n",
    "    mask = NeuronLevelMask(model, components=final_components, component_heads=final_attn_heads)\n",
    "\n",
    "else:\n",
    "    all_components, all_attn_heads = get_top_components(*convert_attrs_to_components(ap_graph, combine_heads=combine_heads), top_p=100)\n",
    "    print(len(all_components))\n",
    "    print(len(all_attn_heads))\n",
    "    assert (torch.tensor([len(x) for x in all_attn_heads.values()]) == model.cfg.n_heads).all()\n",
    "\n",
    "    mask = NeuronLevelMask(model, components=all_components, component_heads=all_attn_heads)\n"
   ]
  },
  {
   "cell_type": "code",
   "execution_count": null,
   "metadata": {},
   "outputs": [],
   "source": [
    "# print(torch.cuda.memory_allocated())\n",
    "# reg_loss = localized_mask.regularization_loss()\n",
    "# print(reg_loss)\n",
    "# print(torch.cuda.memory_allocated())\n",
    "# reg_loss.backward()\n",
    "# print(torch.cuda.memory_allocated())\n",
    "# print(localized_mask.masks[localized_mask.convert_param_name('blocks.1.mlp.hook_post')].grad.norm())\n",
    "# print(localized_mask.attn_masks[localized_mask.convert_param_name('blocks.16.attn.hook_result')].grad.norm(dim=1))\n",
    "\n",
    "# print(localized_mask.attn_mask_unfrozen[localized_mask.convert_param_name('blocks.16.attn.hook_result')].grad)\n",
    "# print(localized_mask.attn_mask_frozen[localized_mask.convert_param_name('blocks.16.attn.hook_result')].grad)"
   ]
  },
  {
   "cell_type": "code",
   "execution_count": null,
   "metadata": {},
   "outputs": [
    {
     "data": {
      "application/vnd.jupyter.widget-view+json": {
       "model_id": "91a30970db4c4179896e0f481220f2cd",
       "version_major": 2,
       "version_minor": 0
      },
      "text/plain": [
       "  0%|          | 0/10 [00:00<?, ?it/s]"
      ]
     },
     "metadata": {},
     "output_type": "display_data"
    },
    {
     "name": "stdout",
     "output_type": "stream",
     "text": [
      "Running adversarial evals\n"
     ]
    },
    {
     "name": "stderr",
     "output_type": "stream",
     "text": [
      "/data/phillip_guo/miniconda3/envs/unlrn/lib/python3.10/site-packages/huggingface_hub/file_download.py:1132: FutureWarning: `resume_download` is deprecated and will be removed in version 1.0.0. Downloads always resume when possible. If you want to force a new download, use `force_download=True`.\n",
      "  warnings.warn(\n"
     ]
    },
    {
     "name": "stdout",
     "output_type": "stream",
     "text": [
      "Running adversarial evals\n"
     ]
    },
    {
     "name": "stderr",
     "output_type": "stream",
     "text": [
      "/data/phillip_guo/miniconda3/envs/unlrn/lib/python3.10/site-packages/huggingface_hub/file_download.py:1132: FutureWarning: `resume_download` is deprecated and will be removed in version 1.0.0. Downloads always resume when possible. If you want to force a new download, use `force_download=True`.\n",
      "  warnings.warn(\n"
     ]
    }
   ],
   "source": [
    "# mask = MLPHiddenMask(model).cuda()\n",
    "\n",
    "learning_rate = 5e-2\n",
    "n_epochs = 100\n",
    "grad_accum_steps = 4\n",
    "# max_gpu_batch_size=8\n",
    "beta = 10\n",
    "clip_grad = 1\n",
    "\n",
    "evaluate_every = 5\n",
    "n_eval_iters = 5\n",
    "deep_evaluate_every = 10\n",
    "do_adversarial_evals = True\n",
    "do_side_effects_evals = False\n",
    "\n",
    "from collections import defaultdict\n",
    "all_train_losses = defaultdict(list)\n",
    "all_test_losses = defaultdict(list)\n",
    "adversarial_evals = []\n",
    "side_effect_evals = []\n",
    "mask.cuda()\n",
    "\n",
    "# Initialize optimizer\n",
    "\n",
    "optimizer = torch.optim.AdamW(mask.parameters(), lr=learning_rate)\n",
    "scheduler = torch.optim.lr_scheduler.CosineAnnealingLR(optimizer=optimizer, T_max=n_epochs)\n",
    "# Cycle dataloaders\n",
    "# Train a sparse mask\n",
    "pbar = tqdm(range(n_epochs))\n",
    "for epoch in pbar:\n",
    "    # Sample batches\n",
    "    # Reset grad\n",
    "    optimizer.zero_grad()\n",
    "    # Compute normal loss over retain\n",
    "    for task_name, (task, task_weight) in train_tasks.items():\n",
    "        task_loss = 0\n",
    "        for i in range(grad_accum_steps):\n",
    "            loss = task.get_train_loss(model) / grad_accum_steps\n",
    "            task_loss += loss.item()\n",
    "            loss *= task_weight\n",
    "            loss.backward()\n",
    "        all_train_losses[task_name].append(task_loss)\n",
    "        \n",
    "    # Add sparsity loss and backprop\n",
    "    loss = beta * mask.regularization_loss()\n",
    "    loss.backward()\n",
    "    all_train_losses[\"reg\"].append(loss.item())\n",
    "    # Step and log\n",
    "    if clip_grad is not None:\n",
    "        torch.nn.utils.clip_grad_norm_(mask.parameters(), clip_grad)\n",
    "    # zero_nan_grads(mask)\n",
    "    optimizer.step()\n",
    "    mask.on_step_end()\n",
    "    scheduler.step()\n",
    "\n",
    "    if epoch % evaluate_every == 0 or epoch == n_epochs - 1:\n",
    "        for task_name, task in eval_tasks.items():\n",
    "            task_loss = 0\n",
    "            for i in range(n_eval_iters):\n",
    "                task_loss += task.get_test_loss(model).item()\n",
    "            all_test_losses[task_name].append(task_loss / n_eval_iters)\n",
    "    if epoch % deep_evaluate_every == 0 or epoch == n_epochs - 1:\n",
    "        if do_adversarial_evals:\n",
    "            print(\"Running adversarial evals\")\n",
    "            adversarial_evals.append(adversarial_sports_eval(model, model_type=model_type, batch_size=eval_batch_size, use_system_prompt=True))\n",
    "        if do_side_effects_evals:\n",
    "            print(\"Running side effects evals\")\n",
    "            side_effect_evals.append(run_side_effects_evals(model, model_type=model_type, batch_size=eval_batch_size, evals_to_run=[\"Sports Answers\"]))\n",
    "    "
   ]
  },
  {
   "cell_type": "code",
   "execution_count": null,
   "metadata": {},
   "outputs": [],
   "source": [
    "# save masks state dict to neuron_cb\n",
    "torch.save(mask.state_dict(), f\"masks/neuron_cb/{model_type}_{'localized' if use_localized_mask else 'nonlocalized'}_{combine_heads=}_unlearn_{forget_sport}.pt\")"
   ]
  },
  {
   "cell_type": "markdown",
   "metadata": {},
   "source": [
    "## Analyze Mask"
   ]
  },
  {
   "cell_type": "code",
   "execution_count": 11,
   "metadata": {},
   "outputs": [
    {
     "data": {
      "image/png": "[encoded data removed]",
      "text/plain": [
       "<Figure size 640x480 with 1 Axes>"
      ]
     },
     "metadata": {},
     "output_type": "display_data"
    }
   ],
   "source": [
    "# Visualize the neuron coefficients\n",
    "all_values = torch.cat([m.data.flatten() for m in mask.masks.values()], dim=0).cpu()\n",
    "sorted = all_values.sort().values\n",
    "plt.semilogx(sorted)\n",
    "plt.title(\"Neuron Mask Values\")\n",
    "plt.ylabel(\"Mask Value\")\n",
    "plt.show()"
   ]
  },
  {
   "cell_type": "code",
   "execution_count": 14,
   "metadata": {},
   "outputs": [
    {
     "data": {
      "text/plain": [
       "dict_keys(['blocks&0&mlp&hook_pre', 'blocks&1&mlp&hook_post', 'blocks&2&mlp&hook_post', 'blocks&4&mlp&hook_pre', 'blocks&5&mlp&hook_pre', 'blocks&10&mlp&hook_pre', 'blocks&11&mlp&hook_post', 'blocks&12&mlp&hook_pre', 'blocks&12&mlp&hook_post', 'blocks&13&mlp&hook_pre', 'blocks&13&mlp&hook_post', 'blocks&14&mlp&hook_pre', 'blocks&14&mlp&hook_post', 'blocks&15&mlp&hook_pre', 'blocks&15&mlp&hook_post', 'blocks&16&mlp&hook_pre', 'blocks&17&mlp&hook_post', 'blocks&18&mlp&hook_pre', 'blocks&18&mlp&hook_post', 'blocks&19&mlp&hook_pre', 'blocks&20&mlp&hook_pre', 'blocks&20&mlp&hook_post', 'blocks&21&mlp&hook_pre', 'blocks&21&mlp&hook_post', 'blocks&22&mlp&hook_pre', 'blocks&22&mlp&hook_post', 'blocks&23&mlp&hook_pre', 'blocks&23&mlp&hook_post', 'blocks&24&mlp&hook_pre', 'blocks&24&mlp&hook_post', 'blocks&25&mlp&hook_pre', 'blocks&25&mlp&hook_post', 'blocks&26&mlp&hook_pre', 'blocks&26&mlp&hook_post', 'blocks&27&mlp&hook_pre', 'blocks&27&mlp&hook_post', 'blocks&14&attn&hook_q', 'blocks&14&attn&hook_k', 'blocks&15&attn&hook_v', 'blocks&15&attn&hook_result', 'blocks&16&attn&hook_v', 'blocks&16&attn&hook_result', 'blocks&17&attn&hook_k', 'blocks&17&attn&hook_v', 'blocks&17&attn&hook_result', 'blocks&18&attn&hook_k', 'blocks&18&attn&hook_v', 'blocks&18&attn&hook_result', 'blocks&19&attn&hook_k', 'blocks&19&attn&hook_v', 'blocks&19&attn&hook_result', 'blocks&20&attn&hook_k', 'blocks&20&attn&hook_v', 'blocks&20&attn&hook_result', 'blocks&21&attn&hook_q', 'blocks&21&attn&hook_v', 'blocks&21&attn&hook_result', 'blocks&22&attn&hook_k', 'blocks&22&attn&hook_v', 'blocks&22&attn&hook_result', 'blocks&23&attn&hook_v', 'blocks&24&attn&hook_v', 'blocks&24&attn&hook_result', 'blocks&25&attn&hook_v', 'blocks&25&attn&hook_result', 'blocks&26&attn&hook_v', 'blocks&27&attn&hook_q', 'blocks&27&attn&hook_k', 'blocks&27&attn&hook_v', 'blocks&27&attn&hook_result'])"
      ]
     },
     "execution_count": 14,
     "metadata": {},
     "output_type": "execute_result"
    }
   ],
   "source": [
    "mask.mask_masks.keys()"
   ]
  },
  {
   "cell_type": "code",
   "execution_count": 17,
   "metadata": {},
   "outputs": [
    {
     "data": {
      "image/png": "[encoded data removed]",
      "text/plain": [
       "<Figure size 640x480 with 1 Axes>"
      ]
     },
     "metadata": {},
     "output_type": "display_data"
    }
   ],
   "source": [
    "# Visualize the neuron coefficients\n",
    "mask.undiscretize()\n",
    "mask.discretize_topk(1000)\n",
    "all_values = {layer: 0 for layer in range(model.cfg.n_layers)}\n",
    "for component in mask.mask_masks:\n",
    "    layer = int(component.split(\"&\")[1])\n",
    "    all_values[layer] += (mask.mask_masks[component].data == 1).sum().item()\n",
    "\n",
    "# all_values = [(m.data == 1).sum().item() for m in mask.mask_masks.values()]\n",
    "plt.plot(all_values.values())\n",
    "plt.title(\"Where the Top-1000 Masked Neurons Are\")\n",
    "plt.ylabel(\"# Of Neurons at Layer\")\n",
    "plt.xlabel(\"Layer\")\n",
    "plt.show()"
   ]
  },
  {
   "cell_type": "code",
   "execution_count": 9,
   "metadata": {},
   "outputs": [
    {
     "name": "stderr",
     "output_type": "stream",
     "text": [
      "/data/phillip_guo/miniconda3/envs/unlrn/lib/python3.10/site-packages/huggingface_hub/file_download.py:1132: FutureWarning: `resume_download` is deprecated and will be removed in version 1.0.0. Downloads always resume when possible. If you want to force a new download, use `force_download=True`.\n",
      "  warnings.warn(\n"
     ]
    },
    {
     "name": "stdout",
     "output_type": "stream",
     "text": [
      "System Prompt: adversarial evals are {'Normal': {'football': 0.996875, 'baseball': 1.0, 'basketball': 0.80390625}, 'MC': {'football': 0.98046875, 'baseball': 0.94921875, 'basketball': 0.865625}, 'Capitalized': {'football': 0.99296875, 'baseball': 1.0, 'basketball': 0.81328125}, 'Dashed': {'football': 0.659896194934845, 'baseball': 0.9808665990829468, 'basketball': 0.9124550938606263}}\n"
     ]
    },
    {
     "name": "stderr",
     "output_type": "stream",
     "text": [
      "/data/phillip_guo/miniconda3/envs/unlrn/lib/python3.10/site-packages/huggingface_hub/file_download.py:1132: FutureWarning: `resume_download` is deprecated and will be removed in version 1.0.0. Downloads always resume when possible. If you want to force a new download, use `force_download=True`.\n",
      "  warnings.warn(\n"
     ]
    },
    {
     "name": "stdout",
     "output_type": "stream",
     "text": [
      "No System Prompt: adversarial evals are {'Normal': {'football': 0.99609375, 'baseball': 0.98515625, 'basketball': 0.08134765625000001}, 'MC': {'football': 0.95078125, 'baseball': 0.8578125000000001, 'basketball': 0.7671875}, 'Capitalized': {'football': 0.9984375000000001, 'baseball': 0.97265625, 'basketball': 0.10683593749999999}, 'Dashed': {'football': 0.9331541180610657, 'baseball': 0.9926276803016663, 'basketball': 0.8452224969863892}}\n"
     ]
    },
    {
     "name": "stderr",
     "output_type": "stream",
     "text": [
      "/data/phillip_guo/miniconda3/envs/unlrn/lib/python3.10/site-packages/huggingface_hub/file_download.py:1132: FutureWarning: `resume_download` is deprecated and will be removed in version 1.0.0. Downloads always resume when possible. If you want to force a new download, use `force_download=True`.\n",
      "  warnings.warn(\n"
     ]
    },
    {
     "data": {
      "application/vnd.jupyter.widget-view+json": {
       "model_id": "5a06c5aac30a474c9b08664721ca1ff3",
       "version_major": 2,
       "version_minor": 0
      },
      "text/plain": [
       "  0%|          | 0/200 [00:00<?, ?it/s]"
      ]
     },
     "metadata": {},
     "output_type": "display_data"
    },
    {
     "name": "stdout",
     "output_type": "stream",
     "text": [
      "Sports Answers:\n",
      "football: 50/50\n",
      "baseball: 50/50\n",
      "basketball: 49/50\n",
      "tennis: 49/50\n",
      "Processing questions 0 to 64 of 200\n",
      "Falling back to custom generation due to exception: HookedTransformer.generate() got an unexpected keyword argument 'input_ids'\n",
      "Running model as a model inference function instead of a huggingface model.\n",
      "Processing questions 64 to 128 of 200\n",
      "Falling back to custom generation due to exception: HookedTransformer.generate() got an unexpected keyword argument 'input_ids'\n",
      "Running model as a model inference function instead of a huggingface model.\n",
      "Processing questions 128 to 192 of 200\n",
      "Falling back to custom generation due to exception: HookedTransformer.generate() got an unexpected keyword argument 'input_ids'\n",
      "Running model as a model inference function instead of a huggingface model.\n",
      "Processing questions 192 to 256 of 200\n",
      "Falling back to custom generation due to exception: HookedTransformer.generate() got an unexpected keyword argument 'input_ids'\n",
      "Running model as a model inference function instead of a huggingface model.\n"
     ]
    },
    {
     "data": {
      "application/vnd.jupyter.widget-view+json": {
       "model_id": "e0c20412089447c68d398de72fcc78ac",
       "version_major": 2,
       "version_minor": 0
      },
      "text/plain": [
       "  0%|          | 0/10 [00:00<?, ?it/s]"
      ]
     },
     "metadata": {},
     "output_type": "display_data"
    },
    {
     "data": {
      "application/vnd.jupyter.widget-view+json": {
       "model_id": "72ef9248beaf44548e12044f23f6bff5",
       "version_major": 2,
       "version_minor": 0
      },
      "text/plain": [
       "0it [00:00, ?it/s]"
      ]
     },
     "metadata": {},
     "output_type": "display_data"
    },
    {
     "name": "stdout",
     "output_type": "stream",
     "text": [
      "Unlearned Model Familiarity: defaultdict(<class 'int'>, {'baseball': 0.02})\n",
      "Moving model to device:  cuda\n"
     ]
    },
    {
     "name": "stderr",
     "output_type": "stream",
     "text": [
      "0it [00:00, ?it/s]"
     ]
    },
    {
     "name": "stdout",
     "output_type": "stream",
     "text": [
      "generating model responses...\n"
     ]
    },
    {
     "name": "stderr",
     "output_type": "stream",
     "text": [
      "\n"
     ]
    },
    {
     "ename": "TypeError",
     "evalue": "HookedTransformer.generate() got an unexpected keyword argument 'input_ids'",
     "output_type": "error",
     "traceback": [
      "\u001b[0;31m---------------------------------------------------------------------------\u001b[0m",
      "\u001b[0;31mTypeError\u001b[0m                                 Traceback (most recent call last)",
      "Cell \u001b[0;32mIn[9], line 7\u001b[0m\n\u001b[1;32m      4\u001b[0m final_adversarial_eval \u001b[38;5;241m=\u001b[39m adversarial_sports_eval(model, model_type\u001b[38;5;241m=\u001b[39mmodel_type, batch_size\u001b[38;5;241m=\u001b[39meval_batch_size, use_system_prompt\u001b[38;5;241m=\u001b[39m\u001b[38;5;28;01mFalse\u001b[39;00m)\n\u001b[1;32m      5\u001b[0m \u001b[38;5;28mprint\u001b[39m(\u001b[38;5;124mf\u001b[39m\u001b[38;5;124m\"\u001b[39m\u001b[38;5;124mNo System Prompt: adversarial evals are \u001b[39m\u001b[38;5;132;01m{\u001b[39;00mfinal_adversarial_eval\u001b[38;5;132;01m}\u001b[39;00m\u001b[38;5;124m\"\u001b[39m)\n\u001b[0;32m----> 7\u001b[0m final_side_effects \u001b[38;5;241m=\u001b[39m \u001b[43mrun_side_effects_evals\u001b[49m\u001b[43m(\u001b[49m\u001b[43mmodel\u001b[49m\u001b[43m,\u001b[49m\u001b[43m \u001b[49m\u001b[43mmodel_type\u001b[49m\u001b[38;5;241;43m=\u001b[39;49m\u001b[43mmodel_type\u001b[49m\u001b[43m,\u001b[49m\u001b[43m \u001b[49m\u001b[43mbatch_size\u001b[49m\u001b[38;5;241;43m=\u001b[39;49m\u001b[43meval_batch_size\u001b[49m\u001b[43m,\u001b[49m\u001b[43m \u001b[49m\u001b[43mevals_to_run\u001b[49m\u001b[38;5;241;43m=\u001b[39;49m\u001b[43m[\u001b[49m\u001b[38;5;124;43m\"\u001b[39;49m\u001b[38;5;124;43mSports Answers\u001b[39;49m\u001b[38;5;124;43m\"\u001b[39;49m\u001b[43m,\u001b[49m\u001b[43m \u001b[49m\u001b[38;5;124;43m\"\u001b[39;49m\u001b[38;5;124;43mSports Familiarity\u001b[39;49m\u001b[38;5;124;43m\"\u001b[39;49m\u001b[43m,\u001b[49m\u001b[43m \u001b[49m\u001b[38;5;124;43m\"\u001b[39;49m\u001b[38;5;124;43mGeneral\u001b[39;49m\u001b[38;5;124;43m\"\u001b[39;49m\u001b[43m,\u001b[49m\u001b[43m \u001b[49m\u001b[38;5;124;43m\"\u001b[39;49m\u001b[38;5;124;43mCross Entropy\u001b[39;49m\u001b[38;5;124;43m\"\u001b[39;49m\u001b[43m]\u001b[49m\u001b[43m,\u001b[49m\u001b[43m \u001b[49m\u001b[43mverbose\u001b[49m\u001b[38;5;241;43m=\u001b[39;49m\u001b[38;5;28;43;01mTrue\u001b[39;49;00m\u001b[43m)\u001b[49m\n\u001b[1;32m      8\u001b[0m \u001b[38;5;28mprint\u001b[39m(final_side_effects)\n",
      "File \u001b[0;32m~/mechanistic-unlearning/tasks/facts/SportsTaskSideEffects.py:496\u001b[0m, in \u001b[0;36mrun_side_effects_evals\u001b[0;34m(model, evals_to_run, model_type, use_short, eval_model, batch_size, verbose)\u001b[0m\n\u001b[1;32m    493\u001b[0m     return_dict[\u001b[38;5;124m\"\u001b[39m\u001b[38;5;124mSports Familiarity\u001b[39m\u001b[38;5;124m\"\u001b[39m] \u001b[38;5;241m=\u001b[39m familiarity\n\u001b[1;32m    495\u001b[0m \u001b[38;5;28;01mif\u001b[39;00m \u001b[38;5;124m\"\u001b[39m\u001b[38;5;124mGeneral\u001b[39m\u001b[38;5;124m\"\u001b[39m \u001b[38;5;129;01min\u001b[39;00m evals_to_run:\n\u001b[0;32m--> 496\u001b[0m     general_capabilities \u001b[38;5;241m=\u001b[39m \u001b[43mrun_general_evals\u001b[49m\u001b[43m(\u001b[49m\u001b[43mmodel\u001b[49m\u001b[43m,\u001b[49m\u001b[43m \u001b[49m\u001b[43mmodel_type\u001b[49m\u001b[38;5;241;43m=\u001b[39;49m\u001b[43mmodel_type\u001b[49m\u001b[43m,\u001b[49m\u001b[43m \u001b[49m\u001b[43mevals_to_include\u001b[49m\u001b[38;5;241;43m=\u001b[39;49m\u001b[43m[\u001b[49m\u001b[38;5;124;43m\"\u001b[39;49m\u001b[38;5;124;43mMMLU\u001b[39;49m\u001b[38;5;124;43m\"\u001b[39;49m\u001b[43m]\u001b[49m\u001b[43m)\u001b[49m\n\u001b[1;32m    497\u001b[0m     \u001b[38;5;28;01mif\u001b[39;00m verbose:\n\u001b[1;32m    498\u001b[0m         \u001b[38;5;28mprint\u001b[39m(\u001b[38;5;124m\"\u001b[39m\u001b[38;5;124mGeneral Capabilities:\u001b[39m\u001b[38;5;124m\"\u001b[39m)\n",
      "File \u001b[0;32m~/mechanistic-unlearning/tasks/harmbench/FastHarmBenchEvals.py:115\u001b[0m, in \u001b[0;36mrun_general_evals\u001b[0;34m(model, model_type, temperature, verbose, sample_size, no_print, evals_to_include)\u001b[0m\n\u001b[1;32m    113\u001b[0m capability \u001b[38;5;241m=\u001b[39m capabilities_dict[capability_name]\n\u001b[1;32m    114\u001b[0m n_batches \u001b[38;5;241m=\u001b[39m math\u001b[38;5;241m.\u001b[39mceil(sample_size \u001b[38;5;241m/\u001b[39m \u001b[38;5;241m25\u001b[39m)\n\u001b[0;32m--> 115\u001b[0m acc \u001b[38;5;241m=\u001b[39m \u001b[43mcapability\u001b[49m\u001b[38;5;241;43m.\u001b[39;49m\u001b[43mget_accuracy\u001b[49m\u001b[43m(\u001b[49m\u001b[43mmodel\u001b[49m\u001b[43m,\u001b[49m\u001b[43m \u001b[49m\u001b[43mtokenizer\u001b[49m\u001b[38;5;241;43m=\u001b[39;49m\u001b[43mtokenizer\u001b[49m\u001b[43m,\u001b[49m\u001b[43m \u001b[49m\u001b[43mtemperature\u001b[49m\u001b[38;5;241;43m=\u001b[39;49m\u001b[43mtemperature\u001b[49m\u001b[43m,\u001b[49m\u001b[43m \u001b[49m\u001b[43mbatch_size\u001b[49m\u001b[38;5;241;43m=\u001b[39;49m\u001b[38;5;241;43m25\u001b[39;49m\u001b[43m,\u001b[49m\u001b[43m \u001b[49m\u001b[43mn_batches\u001b[49m\u001b[38;5;241;43m=\u001b[39;49m\u001b[43mn_batches\u001b[49m\u001b[43m,\u001b[49m\u001b[43m \u001b[49m\u001b[43mverbose\u001b[49m\u001b[38;5;241;43m=\u001b[39;49m\u001b[43mverbose\u001b[49m\u001b[43m)\u001b[49m\n\u001b[1;32m    116\u001b[0m accuracy_dict[capability_name] \u001b[38;5;241m=\u001b[39m acc\n\u001b[1;32m    117\u001b[0m \u001b[38;5;28;01mif\u001b[39;00m \u001b[38;5;129;01mnot\u001b[39;00m no_print:\n",
      "File \u001b[0;32m~/mechanistic-unlearning/tasks/general_capabilities/multiple_choice_tasks.py:232\u001b[0m, in \u001b[0;36mMultipleChoiceQuestion.get_accuracy\u001b[0;34m(self, model, tokenizer, temperature, batch_size, n_batches, verbose, fsdp, **kwargs)\u001b[0m\n\u001b[1;32m    223\u001b[0m     model_responses \u001b[38;5;241m=\u001b[39m \u001b[38;5;28mself\u001b[39m\u001b[38;5;241m.\u001b[39m_fsdp_generate_sentence(\n\u001b[1;32m    224\u001b[0m         model\u001b[38;5;241m=\u001b[39mmodel,\n\u001b[1;32m    225\u001b[0m         tokenizer\u001b[38;5;241m=\u001b[39mtokenizer,\n\u001b[0;32m   (...)\u001b[0m\n\u001b[1;32m    229\u001b[0m         temperature\u001b[38;5;241m=\u001b[39mtemperature,\n\u001b[1;32m    230\u001b[0m     )\n\u001b[1;32m    231\u001b[0m \u001b[38;5;28;01melse\u001b[39;00m:\n\u001b[0;32m--> 232\u001b[0m     model_responses \u001b[38;5;241m=\u001b[39m \u001b[38;5;28;43mself\u001b[39;49m\u001b[38;5;241;43m.\u001b[39;49m\u001b[43m_generate_sentence\u001b[49m\u001b[43m(\u001b[49m\n\u001b[1;32m    233\u001b[0m \u001b[43m        \u001b[49m\u001b[43mstrs\u001b[49m\u001b[38;5;241;43m=\u001b[39;49m\u001b[43mquestions\u001b[49m\u001b[43m,\u001b[49m\n\u001b[1;32m    234\u001b[0m \u001b[43m        \u001b[49m\u001b[43mmodel\u001b[49m\u001b[38;5;241;43m=\u001b[39;49m\u001b[43mmodel\u001b[49m\u001b[43m,\u001b[49m\n\u001b[1;32m    235\u001b[0m \u001b[43m        \u001b[49m\u001b[43mtokenizer\u001b[49m\u001b[38;5;241;43m=\u001b[39;49m\u001b[43mtokenizer\u001b[49m\u001b[43m,\u001b[49m\n\u001b[1;32m    236\u001b[0m \u001b[43m        \u001b[49m\u001b[43mmax_new_tokens\u001b[49m\u001b[38;5;241;43m=\u001b[39;49m\u001b[38;5;28;43mself\u001b[39;49m\u001b[38;5;241;43m.\u001b[39;49m\u001b[43mmax_new_tokens\u001b[49m\u001b[43m,\u001b[49m\n\u001b[1;32m    237\u001b[0m \u001b[43m        \u001b[49m\u001b[43minclude_input\u001b[49m\u001b[38;5;241;43m=\u001b[39;49m\u001b[38;5;28;43;01mFalse\u001b[39;49;00m\u001b[43m,\u001b[49m\n\u001b[1;32m    238\u001b[0m \u001b[43m        \u001b[49m\u001b[43mtemperature\u001b[49m\u001b[38;5;241;43m=\u001b[39;49m\u001b[43mtemperature\u001b[49m\u001b[43m,\u001b[49m\n\u001b[1;32m    239\u001b[0m \u001b[43m        \u001b[49m\u001b[38;5;241;43m*\u001b[39;49m\u001b[38;5;241;43m*\u001b[39;49m\u001b[43mkwargs\u001b[49m\u001b[43m,\u001b[49m\n\u001b[1;32m    240\u001b[0m \u001b[43m    \u001b[49m\u001b[43m)\u001b[49m\n\u001b[1;32m    242\u001b[0m accuracy_total \u001b[38;5;241m+\u001b[39m\u001b[38;5;241m=\u001b[39m \u001b[38;5;28msum\u001b[39m(\n\u001b[1;32m    243\u001b[0m     [\u001b[38;5;241m1\u001b[39m \u001b[38;5;28;01mif\u001b[39;00m answer\u001b[38;5;241m.\u001b[39mstrip() \u001b[38;5;129;01min\u001b[39;00m model_response\u001b[38;5;241m.\u001b[39mstrip() \u001b[38;5;28;01melse\u001b[39;00m \u001b[38;5;241m0\u001b[39m \u001b[38;5;28;01mfor\u001b[39;00m model_response, answer \u001b[38;5;129;01min\u001b[39;00m \u001b[38;5;28mzip\u001b[39m(model_responses, answers)]\n\u001b[1;32m    244\u001b[0m )\n\u001b[1;32m    245\u001b[0m n_total \u001b[38;5;241m+\u001b[39m\u001b[38;5;241m=\u001b[39m \u001b[38;5;28mlen\u001b[39m(questions)\n",
      "File \u001b[0;32m~/mechanistic-unlearning/tasks/general_capabilities/multiple_choice_tasks.py:68\u001b[0m, in \u001b[0;36mMultipleChoiceQuestion._generate_sentence\u001b[0;34m(self, model, tokenizer, strs, with_logprobs, max_new_tokens, top_tokens, show_token_strs, temperature, include_input, device)\u001b[0m\n\u001b[1;32m     62\u001b[0m     do_sample \u001b[38;5;241m=\u001b[39m \u001b[38;5;28;01mFalse\u001b[39;00m\n\u001b[1;32m     64\u001b[0m tokenized_inputs \u001b[38;5;241m=\u001b[39m {\n\u001b[1;32m     65\u001b[0m     k: v\u001b[38;5;241m.\u001b[39mto(device) \u001b[38;5;28;01mfor\u001b[39;00m k, v \u001b[38;5;129;01min\u001b[39;00m tokenized_inputs\u001b[38;5;241m.\u001b[39mitems()\n\u001b[1;32m     66\u001b[0m }  \u001b[38;5;66;03m# Move to model's device\u001b[39;00m\n\u001b[0;32m---> 68\u001b[0m outputs \u001b[38;5;241m=\u001b[39m \u001b[43mmodel\u001b[49m\u001b[38;5;241;43m.\u001b[39;49m\u001b[43mgenerate\u001b[49m\u001b[43m(\u001b[49m\n\u001b[1;32m     69\u001b[0m \u001b[43m    \u001b[49m\u001b[38;5;241;43m*\u001b[39;49m\u001b[38;5;241;43m*\u001b[39;49m\u001b[43mtokenized_inputs\u001b[49m\u001b[43m,\u001b[49m\n\u001b[1;32m     70\u001b[0m \u001b[43m    \u001b[49m\u001b[43mmax_length\u001b[49m\u001b[38;5;241;43m=\u001b[39;49m\u001b[43mtokenized_inputs\u001b[49m\u001b[43m[\u001b[49m\u001b[38;5;124;43m\"\u001b[39;49m\u001b[38;5;124;43minput_ids\u001b[39;49m\u001b[38;5;124;43m\"\u001b[39;49m\u001b[43m]\u001b[49m\u001b[38;5;241;43m.\u001b[39;49m\u001b[43mshape\u001b[49m\u001b[43m[\u001b[49m\u001b[38;5;241;43m1\u001b[39;49m\u001b[43m]\u001b[49m\u001b[43m \u001b[49m\u001b[38;5;241;43m+\u001b[39;49m\u001b[43m \u001b[49m\u001b[43mmax_new_tokens\u001b[49m\u001b[43m,\u001b[49m\n\u001b[1;32m     71\u001b[0m \u001b[43m    \u001b[49m\u001b[43mtemperature\u001b[49m\u001b[38;5;241;43m=\u001b[39;49m\u001b[43mtemperature\u001b[49m\u001b[43m,\u001b[49m\n\u001b[1;32m     72\u001b[0m \u001b[43m    \u001b[49m\u001b[43mtop_k\u001b[49m\u001b[38;5;241;43m=\u001b[39;49m\u001b[43mtop_tokens\u001b[49m\u001b[43m,\u001b[49m\n\u001b[1;32m     73\u001b[0m \u001b[43m    \u001b[49m\u001b[43mreturn_dict_in_generate\u001b[49m\u001b[38;5;241;43m=\u001b[39;49m\u001b[38;5;28;43;01mTrue\u001b[39;49;00m\u001b[43m,\u001b[49m\n\u001b[1;32m     74\u001b[0m \u001b[43m    \u001b[49m\u001b[43moutput_scores\u001b[49m\u001b[38;5;241;43m=\u001b[39;49m\u001b[43mwith_logprobs\u001b[49m\u001b[43m,\u001b[49m\n\u001b[1;32m     75\u001b[0m \u001b[43m    \u001b[49m\u001b[43mpad_token_id\u001b[49m\u001b[38;5;241;43m=\u001b[39;49m\u001b[43mtokenizer\u001b[49m\u001b[38;5;241;43m.\u001b[39;49m\u001b[43mpad_token_id\u001b[49m\u001b[43m,\u001b[49m\n\u001b[1;32m     76\u001b[0m \u001b[43m    \u001b[49m\u001b[43mdo_sample\u001b[49m\u001b[38;5;241;43m=\u001b[39;49m\u001b[43mdo_sample\u001b[49m\u001b[43m,\u001b[49m\n\u001b[1;32m     77\u001b[0m \u001b[43m\u001b[49m\u001b[43m)\u001b[49m\n\u001b[1;32m     79\u001b[0m sequences \u001b[38;5;241m=\u001b[39m outputs\u001b[38;5;241m.\u001b[39msequences\n\u001b[1;32m     80\u001b[0m scores \u001b[38;5;241m=\u001b[39m outputs\u001b[38;5;241m.\u001b[39mscores \u001b[38;5;28;01mif\u001b[39;00m with_logprobs \u001b[38;5;28;01melse\u001b[39;00m \u001b[38;5;28;01mNone\u001b[39;00m\n",
      "File \u001b[0;32m~/miniconda3/envs/unlrn/lib/python3.10/site-packages/torch/utils/_contextlib.py:115\u001b[0m, in \u001b[0;36mcontext_decorator.<locals>.decorate_context\u001b[0;34m(*args, **kwargs)\u001b[0m\n\u001b[1;32m    112\u001b[0m \u001b[38;5;129m@functools\u001b[39m\u001b[38;5;241m.\u001b[39mwraps(func)\n\u001b[1;32m    113\u001b[0m \u001b[38;5;28;01mdef\u001b[39;00m \u001b[38;5;21mdecorate_context\u001b[39m(\u001b[38;5;241m*\u001b[39margs, \u001b[38;5;241m*\u001b[39m\u001b[38;5;241m*\u001b[39mkwargs):\n\u001b[1;32m    114\u001b[0m     \u001b[38;5;28;01mwith\u001b[39;00m ctx_factory():\n\u001b[0;32m--> 115\u001b[0m         \u001b[38;5;28;01mreturn\u001b[39;00m \u001b[43mfunc\u001b[49m\u001b[43m(\u001b[49m\u001b[38;5;241;43m*\u001b[39;49m\u001b[43margs\u001b[49m\u001b[43m,\u001b[49m\u001b[43m \u001b[49m\u001b[38;5;241;43m*\u001b[39;49m\u001b[38;5;241;43m*\u001b[39;49m\u001b[43mkwargs\u001b[49m\u001b[43m)\u001b[49m\n",
      "\u001b[0;31mTypeError\u001b[0m: HookedTransformer.generate() got an unexpected keyword argument 'input_ids'"
     ]
    }
   ],
   "source": [
    "# Final evals\n",
    "final_adversarial_eval = adversarial_sports_eval(model, model_type=model_type, batch_size=eval_batch_size, use_system_prompt=True)\n",
    "print(f\"System Prompt: adversarial evals are {final_adversarial_eval}\")\n",
    "final_adversarial_eval = adversarial_sports_eval(model, model_type=model_type, batch_size=eval_batch_size, use_system_prompt=False)\n",
    "print(f\"No System Prompt: adversarial evals are {final_adversarial_eval}\")\n",
    "\n",
    "final_side_effects = run_side_effects_evals(model, model_type=model_type, batch_size=eval_batch_size, evals_to_run=[\"Sports Answers\", \"Sports Familiarity\", \"Cross Entropy\"], verbose=True)\n",
    "print(final_side_effects)"
   ]
  },
  {
   "cell_type": "code",
   "execution_count": null,
   "metadata": {},
   "outputs": [],
   "source": []
  }
 ],
 "metadata": {
  "kernelspec": {
   "display_name": "unlrn",
   "language": "python",
   "name": "unlrn"
  },
  "language_info": {
   "codemirror_mode": {
    "name": "ipython",
    "version": 3
   },
   "file_extension": ".py",
   "mimetype": "text/x-python",
   "name": "python",
   "nbconvert_exporter": "python",
   "pygments_lexer": "ipython3",
   "version": "3.10.13"
  }
 },
 "nbformat": 4,
 "nbformat_minor": 2
}
