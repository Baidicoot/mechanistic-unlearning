{
 "cells": [
  {
   "cell_type": "code",
   "execution_count": 1,
   "metadata": {},
   "outputs": [
    {
     "name": "stdout",
     "output_type": "stream",
     "text": [
      "Device: cuda\n"
     ]
    }
   ],
   "source": [
    "%load_ext autoreload\n",
    "%autoreload 2\n",
    "import os\n",
    "import sys\n",
    "sys.path.append('acdcpp/Automatic-Circuit-Discovery/')\n",
    "sys.path.append('acdcpp/')\n",
    "from acdc import TLACDCExperiment\n",
    "from acdcpp.ACDCPPExperiment import ACDCPPExperiment\n",
    "\n",
    "import os\n",
    "import sys\n",
    "import re\n",
    "\n",
    "# import acdc\n",
    "from acdc.TLACDCExperiment import TLACDCExperiment\n",
    "from acdc.acdc_utils import TorchIndex, EdgeType\n",
    "import numpy as np\n",
    "import torch as t\n",
    "from torch import Tensor\n",
    "import einops\n",
    "import itertools\n",
    "\n",
    "from transformer_lens import HookedTransformer, ActivationCache\n",
    "\n",
    "from tqdm import tqdm\n",
    "import plotly\n",
    "from rich import print as rprint\n",
    "from rich.table import Table\n",
    "\n",
    "from jaxtyping import Float, Bool\n",
    "from typing import Callable, Tuple, Union, Dict, Optional\n",
    "\n",
    "import torch\n",
    "import pickle\n",
    "\n",
    "device = t.device('cuda') if t.cuda.is_available() else t.device('cpu')\n",
    "print(f'Device: {device}')"
   ]
  },
  {
   "cell_type": "markdown",
   "metadata": {},
   "source": [
    "## Model Loading"
   ]
  },
  {
   "cell_type": "code",
   "execution_count": 2,
   "metadata": {},
   "outputs": [
    {
     "name": "stdout",
     "output_type": "stream",
     "text": [
      "Using device: cuda:0\n"
     ]
    }
   ],
   "source": [
    "from cb_utils.models import load_demo_gpt2, tokenizer\n",
    "\n",
    "def load_gpt2_model(mask_type, localization_path):\n",
    "    try:\n",
    "        with open(f\"{localization_path}\", \"rb\") as f:\n",
    "            acdcpp_nodes, acdcpp_edges, acdcpp_mask_dict, acdcpp_weight_mask_attn_dict, acdcpp_weight_mask_mlp_dict = pickle.load(f)\n",
    "\n",
    "        mask_dict_superset = acdcpp_mask_dict if mask_type==\"edge\" else None\n",
    "        weight_mask_attn_dict = acdcpp_weight_mask_attn_dict if mask_type==\"weight\" else None\n",
    "        weight_mask_mlp_dict = acdcpp_weight_mask_mlp_dict if mask_type==\"weight\" else None\n",
    "\n",
    "    except:\n",
    "        acdcpp_nodes = None\n",
    "        acdcpp_edges = None\n",
    "        acdcpp_mask_dict = None\n",
    "        acdcpp_weight_mask_attn_dict = None\n",
    "        acdcpp_weight_mask_mlp_dict = None\n",
    "\n",
    "        mask_dict_superset = None\n",
    "        weight_mask_attn_dict = None\n",
    "        weight_mask_mlp_dict = None\n",
    "    base_weight_attn_dict = None\n",
    "    base_weight_mlp_dict = None\n",
    "\n",
    "    edge_masks = mask_type == 'edge'\n",
    "    weight_masks = mask_type == 'weight'\n",
    "    if mask_type == 'edge':\n",
    "        model = load_demo_gpt2(means=False, edge_mask=True, weight_mask=False,\n",
    "                        edge_masks=edge_masks, mask_dict_superset=mask_dict_superset)\n",
    "    elif mask_type == 'weight':\n",
    "        model = load_demo_gpt2(means=False, edge_mask=False, weight_mask=True,\n",
    "                        weight_masks_attn=weight_masks, weight_masks_mlp=weight_masks, weight_mask_attn_dict=weight_mask_attn_dict, weight_mask_mlp_dict=weight_mask_mlp_dict)\n",
    "    else:\n",
    "        model = load_demo_gpt2(means=False, edge_mask=False, weight_mask=False,\n",
    "                        edge_masks=edge_masks, mask_dict_superset=mask_dict_superset, weight_masks_attn=weight_masks, weight_masks_mlp=weight_masks, weight_mask_attn_dict=weight_mask_attn_dict, weight_mask_mlp_dict=weight_mask_mlp_dict, train_base_weights=False, base_weight_attn_dict=base_weight_attn_dict, base_weight_mlp_dict=base_weight_mlp_dict)\n",
    "    return model\n",
    "\n",
    "def load_params(model, mask_params_path):\n",
    "    with open(f\"{mask_params_path}\", \"rb\") as f:\n",
    "        new_param_names, new_mask_params = pickle.load(f)\n",
    "        # zip to dictionary\n",
    "        new_mask_params = {name: param for name, param in zip(new_param_names, new_mask_params)}\n",
    "\n",
    "    for name, p in model.named_parameters():\n",
    "        if p.requires_grad:\n",
    "            p.data = new_mask_params[name]\n",
    "    \n",
    "    return model, new_param_names, new_mask_params"
   ]
  },
  {
   "cell_type": "code",
   "execution_count": 3,
   "metadata": {},
   "outputs": [],
   "source": [
    "# want to test random_masks\n",
    "def create_random_params(mask_params, prop_0s=None):\n",
    "    # count total number of 1s and 0s in mask_params\n",
    "    if prop_0s is None:\n",
    "        tot_0s = 0\n",
    "        tot_1s = 0\n",
    "        for param in mask_params:\n",
    "            tot_0s += (param == 0).sum()\n",
    "            tot_1s += (param == 1).sum()\n",
    "        prop_0s = tot_0s / (tot_0s + tot_1s)\n",
    "    \n",
    "    new_params = {}\n",
    "    # create random masks with same ratio\n",
    "    for param_name in mask_params:\n",
    "        param = mask_params[param_name]\n",
    "        new_param = t.rand_like(param) > prop_0s\n",
    "        new_param = new_param.to(param.device)\n",
    "        # require grad, set floating point\n",
    "        new_param = new_param.float()\n",
    "        new_param.requires_grad = True\n",
    "        new_params[param_name] = new_param\n",
    "    \n",
    "    return new_params\n",
    "\n",
    "\n",
    "def load_random_params(model, mask_params_path, prop_0s=None):\n",
    "    with open(f\"{mask_params_path}\", \"rb\") as f:\n",
    "        new_param_names, new_mask_params = pickle.load(f)\n",
    "        # zip to dictionary\n",
    "        new_mask_params = {name: param for name, param in zip(new_param_names, new_mask_params)}\n",
    "\n",
    "    new_mask_params = create_random_params(new_mask_params, prop_0s=prop_0s)\n",
    "    \n",
    "    for name, p in model.named_parameters():\n",
    "        if p.requires_grad:\n",
    "            p.data = new_mask_params[name]\n",
    "            print(\"number of 0s:\", (p.data == 0).sum())\n",
    "    \n",
    "    return model, new_param_names, new_mask_params"
   ]
  },
  {
   "cell_type": "code",
   "execution_count": 4,
   "metadata": {},
   "outputs": [],
   "source": [
    "# for induction\n",
    "localization_paths = {\n",
    "    \"acdcpp\": \"localizations/eap/induction/gpt2_threshold=0.03.pkl\",\n",
    "    \"ct\": \"localizations/causal_tracing/induction/gpt2_small_localizations.pkl\",\n",
    "    \"none\": None\n",
    "}\n",
    "\n",
    "# mask_params_paths = {\n",
    "#     \"acdcpp\": {\"edge\": \"masks/induction/edge_masks_localize=acdcpp/ckpts/mask_params_final.pkl\",\n",
    "#                 \"weight\": \"masks/induction/weight_masks_localize=acdcpp/ckpts/mask_params_final.pkl\"},\n",
    "#     \"ct\": {\"edge\": \"masks/induction/edge_masks_localize=ct/ckpts/mask_params_final.pkl\",\n",
    "#             \"weight\": \"masks/induction/weight_masks_localize=ct/ckpts/mask_params_final.pkl\"},\n",
    "#     \"none\": {\"edge\": \"masks/induction/edge_masks_localize=none/ckpts/mask_params_final.pkl\",\n",
    "#             \"weight\": \"masks/induction/weight_masks_localize=none/ckpts/mask_params_final.pkl\"}\n",
    "# }\n",
    "\n",
    "mask_params_paths = {\n",
    "    \"acdcpp\": {\"edge\": \"masks/induction/edge_masks_localize=acdcpp/ckpts/mask_params_epoch=50.pkl\",\n",
    "                \"weight\": \"masks/induction/weight_masks_localize=acdcpp/ckpts/mask_params_epoch=50.pkl\"},\n",
    "    \"ct\": {\"edge\": \"masks/induction/edge_masks_localize=ct/ckpts/mask_params_epoch=50.pkl\",\n",
    "            \"weight\": \"masks/induction/weight_masks_localize=ct/ckpts/mask_params_epoch=50.pkl\"},\n",
    "    \"none\": {\"edge\": \"masks/induction/edge_masks_localize=none/ckpts/mask_params_epoch=50.pkl\",\n",
    "            \"weight\": \"masks/induction/weight_masks_localize=none/ckpts/mask_params_epoch=50.pkl\"}\n",
    "}"
   ]
  },
  {
   "cell_type": "code",
   "execution_count": 20,
   "metadata": {},
   "outputs": [
    {
     "name": "stderr",
     "output_type": "stream",
     "text": [
      "/data/phillip_guo/miniconda3/envs/unlrn/lib/python3.10/site-packages/datasets/table.py:1421: FutureWarning: promote has been superseded by promote_options='default'.\n",
      "  table = cls._concat_blocks(blocks, axis=0)\n"
     ]
    },
    {
     "name": "stdout",
     "output_type": "stream",
     "text": [
      "localization_type: acdcpp, mask_type: edge\n",
      "Loaded edge-masked transformer\n",
      "localization_type: acdcpp, mask_type: weight\n",
      "Loaded weight-masked transformer\n",
      "localization_type: ct, mask_type: edge\n",
      "Loaded edge-masked transformer\n",
      "localization_type: ct, mask_type: weight\n",
      "Loaded weight-masked transformer\n",
      "localization_type: none, mask_type: edge\n",
      "Loaded edge-masked transformer\n",
      "localization_type: none, mask_type: weight\n",
      "Loaded weight-masked transformer\n"
     ]
    }
   ],
   "source": [
    "import pandas as pd\n",
    "\n",
    "# want to record accuracy on different metrics for each localization type and mask type, stored in a dataframe\n",
    "# columns should be localization_type, rows should be mask_type, and the values should be the accuracy\n",
    "\n",
    "batch_size = 80\n",
    "\n",
    "from tasks import IOITask, SportsTask, OWTTask, IOITask_Uniform, GreaterThanTask, InductionTask, InductionTask_Uniform\n",
    "owt = OWTTask(batch_size=batch_size, tokenizer=tokenizer, device=device, ctx_length=40)\n",
    "greaterthan = GreaterThanTask(batch_size=batch_size, tokenizer=tokenizer, device=device)\n",
    "ioi = IOITask(batch_size=batch_size, tokenizer=tokenizer, device=device, prep_acdcpp=False, nb_templates=4, prompt_type=\"ABBA\")\n",
    "induction = InductionTask(batch_size=batch_size, tokenizer=tokenizer, prep_acdcpp=False, seq_len=15)\n",
    "induction_df = pd.DataFrame(columns=[\"acdcpp\", \"ct\", \"none\"], index=[\"edge\", \"weight\"])\n",
    "gt_df = pd.DataFrame(columns=[\"acdcpp\", \"ct\", \"none\"], index=[\"edge\", \"weight\"])\n",
    "owt_df = pd.DataFrame(columns=[\"acdcpp\", \"ct\", \"none\"], index=[\"edge\", \"weight\"])\n",
    "ioi_df = pd.DataFrame(columns=[\"acdcpp\", \"ct\", \"none\"], index=[\"edge\", \"weight\"])\n",
    "\n",
    "task_dict = {\"owt\": (owt, owt_df), \"gt\": (greaterthan, gt_df), \"ioi\": (ioi, ioi_df), \"induction\": (induction, induction_df)}\n",
    "\n",
    "prop_0s = .2\n",
    "n_iters = 5\n",
    "\n",
    "for localization_type in mask_params_paths:\n",
    "    for mask_type in mask_params_paths[localization_type]:\n",
    "        print(f\"localization_type: {localization_type}, mask_type: {mask_type}\")\n",
    "        localization_path = localization_paths[localization_type]\n",
    "        mask_params_path = mask_params_paths[localization_type][mask_type]\n",
    "\n",
    "        \n",
    "        model = load_gpt2_model(mask_type, localization_path)\n",
    "        \n",
    "        \n",
    "        model, new_param_names, new_mask_params = load_random_params(model, mask_params_path, prop_0s=prop_0s)\n",
    "\n",
    "        for task_name, (task, df) in task_dict.items():\n",
    "            if task_name == \"owt\":\n",
    "                loss = 0\n",
    "                for i in range(n_iters):\n",
    "                    loss += task.get_test_loss(model).item()\n",
    "                df.loc[mask_type, localization_type] = loss / n_iters\n",
    "            else:\n",
    "                acc = 0\n",
    "                for i in range(n_iters):\n",
    "                    acc += task.get_test_accuracy(model)\n",
    "                df.loc[mask_type, localization_type] = acc / n_iters\n"
   ]
  },
  {
   "cell_type": "code",
   "execution_count": 21,
   "metadata": {},
   "outputs": [
    {
     "name": "stdout",
     "output_type": "stream",
     "text": [
      "Masking random 20.0% of induction-localized components\n",
      "Induction Accuracy\n"
     ]
    },
    {
     "data": {
      "text/html": [
       "<div>\n",
       "<style scoped>\n",
       "    .dataframe tbody tr th:only-of-type {\n",
       "        vertical-align: middle;\n",
       "    }\n",
       "\n",
       "    .dataframe tbody tr th {\n",
       "        vertical-align: top;\n",
       "    }\n",
       "\n",
       "    .dataframe thead th {\n",
       "        text-align: right;\n",
       "    }\n",
       "</style>\n",
       "<table border=\"1\" class=\"dataframe\">\n",
       "  <thead>\n",
       "    <tr style=\"text-align: right;\">\n",
       "      <th></th>\n",
       "      <th>acdcpp</th>\n",
       "      <th>ct</th>\n",
       "      <th>none</th>\n",
       "    </tr>\n",
       "  </thead>\n",
       "  <tbody>\n",
       "    <tr>\n",
       "      <th>edge</th>\n",
       "      <td>0.975</td>\n",
       "      <td>0.995</td>\n",
       "      <td>0.09</td>\n",
       "    </tr>\n",
       "    <tr>\n",
       "      <th>weight</th>\n",
       "      <td>0.8275</td>\n",
       "      <td>1.0</td>\n",
       "      <td>0.3975</td>\n",
       "    </tr>\n",
       "  </tbody>\n",
       "</table>\n",
       "</div>"
      ],
      "text/plain": [
       "        acdcpp     ct    none\n",
       "edge     0.975  0.995    0.09\n",
       "weight  0.8275    1.0  0.3975"
      ]
     },
     "metadata": {},
     "output_type": "display_data"
    },
    {
     "name": "stdout",
     "output_type": "stream",
     "text": [
      "IOI Accuracy\n"
     ]
    },
    {
     "data": {
      "text/html": [
       "<div>\n",
       "<style scoped>\n",
       "    .dataframe tbody tr th:only-of-type {\n",
       "        vertical-align: middle;\n",
       "    }\n",
       "\n",
       "    .dataframe tbody tr th {\n",
       "        vertical-align: top;\n",
       "    }\n",
       "\n",
       "    .dataframe thead th {\n",
       "        text-align: right;\n",
       "    }\n",
       "</style>\n",
       "<table border=\"1\" class=\"dataframe\">\n",
       "  <thead>\n",
       "    <tr style=\"text-align: right;\">\n",
       "      <th></th>\n",
       "      <th>acdcpp</th>\n",
       "      <th>ct</th>\n",
       "      <th>none</th>\n",
       "    </tr>\n",
       "  </thead>\n",
       "  <tbody>\n",
       "    <tr>\n",
       "      <th>edge</th>\n",
       "      <td>1.0</td>\n",
       "      <td>0.9925</td>\n",
       "      <td>0.345</td>\n",
       "    </tr>\n",
       "    <tr>\n",
       "      <th>weight</th>\n",
       "      <td>0.75</td>\n",
       "      <td>0.99</td>\n",
       "      <td>0.2475</td>\n",
       "    </tr>\n",
       "  </tbody>\n",
       "</table>\n",
       "</div>"
      ],
      "text/plain": [
       "       acdcpp      ct    none\n",
       "edge      1.0  0.9925   0.345\n",
       "weight   0.75    0.99  0.2475"
      ]
     },
     "metadata": {},
     "output_type": "display_data"
    },
    {
     "name": "stdout",
     "output_type": "stream",
     "text": [
      "OWT Cross-Entropy\n"
     ]
    },
    {
     "data": {
      "text/html": [
       "<div>\n",
       "<style scoped>\n",
       "    .dataframe tbody tr th:only-of-type {\n",
       "        vertical-align: middle;\n",
       "    }\n",
       "\n",
       "    .dataframe tbody tr th {\n",
       "        vertical-align: top;\n",
       "    }\n",
       "\n",
       "    .dataframe thead th {\n",
       "        text-align: right;\n",
       "    }\n",
       "</style>\n",
       "<table border=\"1\" class=\"dataframe\">\n",
       "  <thead>\n",
       "    <tr style=\"text-align: right;\">\n",
       "      <th></th>\n",
       "      <th>acdcpp</th>\n",
       "      <th>ct</th>\n",
       "      <th>none</th>\n",
       "    </tr>\n",
       "  </thead>\n",
       "  <tbody>\n",
       "    <tr>\n",
       "      <th>edge</th>\n",
       "      <td>4.150366</td>\n",
       "      <td>3.740044</td>\n",
       "      <td>9.615586</td>\n",
       "    </tr>\n",
       "    <tr>\n",
       "      <th>weight</th>\n",
       "      <td>4.539439</td>\n",
       "      <td>3.726847</td>\n",
       "      <td>4.874142</td>\n",
       "    </tr>\n",
       "  </tbody>\n",
       "</table>\n",
       "</div>"
      ],
      "text/plain": [
       "          acdcpp        ct      none\n",
       "edge    4.150366  3.740044  9.615586\n",
       "weight  4.539439  3.726847  4.874142"
      ]
     },
     "metadata": {},
     "output_type": "display_data"
    },
    {
     "name": "stdout",
     "output_type": "stream",
     "text": [
      "GreaterThan Accuracy\n"
     ]
    },
    {
     "data": {
      "text/html": [
       "<div>\n",
       "<style scoped>\n",
       "    .dataframe tbody tr th:only-of-type {\n",
       "        vertical-align: middle;\n",
       "    }\n",
       "\n",
       "    .dataframe tbody tr th {\n",
       "        vertical-align: top;\n",
       "    }\n",
       "\n",
       "    .dataframe thead th {\n",
       "        text-align: right;\n",
       "    }\n",
       "</style>\n",
       "<table border=\"1\" class=\"dataframe\">\n",
       "  <thead>\n",
       "    <tr style=\"text-align: right;\">\n",
       "      <th></th>\n",
       "      <th>acdcpp</th>\n",
       "      <th>ct</th>\n",
       "      <th>none</th>\n",
       "    </tr>\n",
       "  </thead>\n",
       "  <tbody>\n",
       "    <tr>\n",
       "      <th>edge</th>\n",
       "      <td>0.9875</td>\n",
       "      <td>0.9875</td>\n",
       "      <td>0.225</td>\n",
       "    </tr>\n",
       "    <tr>\n",
       "      <th>weight</th>\n",
       "      <td>0.9</td>\n",
       "      <td>0.9875</td>\n",
       "      <td>0.7125</td>\n",
       "    </tr>\n",
       "  </tbody>\n",
       "</table>\n",
       "</div>"
      ],
      "text/plain": [
       "        acdcpp      ct    none\n",
       "edge    0.9875  0.9875   0.225\n",
       "weight     0.9  0.9875  0.7125"
      ]
     },
     "metadata": {},
     "output_type": "display_data"
    }
   ],
   "source": [
    "print(f\"Masking random {prop_0s*100}% of induction-localized components\")\n",
    "\n",
    "print(\"Induction Accuracy\")\n",
    "display(induction_df)\n",
    "\n",
    "print(\"IOI Accuracy\")\n",
    "display(ioi_df)\n",
    "\n",
    "print(\"OWT Cross-Entropy\")\n",
    "display(owt_df)\n",
    "\n",
    "print(\"GreaterThan Accuracy\")\n",
    "display(gt_df)\n"
   ]
  },
  {
   "cell_type": "code",
   "execution_count": null,
   "metadata": {},
   "outputs": [],
   "source": []
  }
 ],
 "metadata": {
  "kernelspec": {
   "display_name": "unlrn",
   "language": "python",
   "name": "unlrn"
  },
  "language_info": {
   "codemirror_mode": {
    "name": "ipython",
    "version": 3
   },
   "file_extension": ".py",
   "mimetype": "text/x-python",
   "name": "python",
   "nbconvert_exporter": "python",
   "pygments_lexer": "ipython3",
   "version": "3.10.13"
  }
 },
 "nbformat": 4,
 "nbformat_minor": 2
}
