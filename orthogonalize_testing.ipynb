{
 "cells": [
  {
   "cell_type": "code",
   "execution_count": 1,
   "metadata": {},
   "outputs": [],
   "source": [
    "%load_ext autoreload\n",
    "%autoreload 2\n",
    "from transformer_lens import HookedTransformer\n",
    "from orthogonalized_model import OrthogonalizedTransformer, generate_weight_order\n",
    "import torch\n",
    "from concept_erasure import LeaceEraser\n",
    "from tasks.facts.SportsTask import SportsTask\n",
    "from tqdm import tqdm\n",
    "from transformers import AutoTokenizer, AutoModelForCausalLM"
   ]
  },
  {
   "cell_type": "code",
   "execution_count": 2,
   "metadata": {},
   "outputs": [
    {
     "name": "stderr",
     "output_type": "stream",
     "text": [
      "Gemma's activation function should be approximate GeLU and not exact GeLU.\n",
      "Changing the activation function to `gelu_pytorch_tanh`.if you want to use the legacy `gelu`, edit the `model.config` to set `hidden_activation=gelu`   instead of `hidden_act`. See https://github.com/huggingface/transformers/pull/29402 for more details.\n"
     ]
    },
    {
     "data": {
      "application/vnd.jupyter.widget-view+json": {
       "model_id": "180e4dba35754f4b926a30e652ec2aef",
       "version_major": 2,
       "version_minor": 0
      },
      "text/plain": [
       "Loading checkpoint shards:   0%|          | 0/4 [00:00<?, ?it/s]"
      ]
     },
     "metadata": {},
     "output_type": "display_data"
    }
   ],
   "source": [
    "MODEL_NAME = \"google/gemma-7b\"\n",
    "device = \"cuda\"\n",
    "\n",
    "model = AutoModelForCausalLM.from_pretrained(\n",
    "    MODEL_NAME,\n",
    "    torch_dtype=torch.bfloat16,\n",
    ").to(device)\n",
    "tokenizer = AutoTokenizer.from_pretrained(MODEL_NAME)\n",
    "tokenizer.padding_side = \"left\""
   ]
  },
  {
   "cell_type": "code",
   "execution_count": 3,
   "metadata": {},
   "outputs": [],
   "source": [
    "task = SportsTask(batch_size=128, tokenizer=tokenizer, device=device)"
   ]
  },
  {
   "cell_type": "markdown",
   "metadata": {},
   "source": [
    "## Concept Scrubbing"
   ]
  },
  {
   "cell_type": "code",
   "execution_count": 4,
   "metadata": {},
   "outputs": [
    {
     "name": "stderr",
     "output_type": "stream",
     "text": [
      "  0%|          | 0/57 [00:00<?, ?it/s]"
     ]
    },
    {
     "name": "stderr",
     "output_type": "stream",
     "text": [
      "100%|██████████| 57/57 [02:56<00:00,  3.10s/it]\n"
     ]
    }
   ],
   "source": [
    "sport_label_id_mapping = {\n",
    "    \"football\": [1, 0, 0],\n",
    "    \"baseball\": [0, 1, 0],\n",
    "    \"basketball\": [0, 0, 1],\n",
    "}\n",
    "\n",
    "ortho_model = OrthogonalizedTransformer(model)\n",
    "\n",
    "for module_name in tqdm(generate_weight_order(model.model.config)):\n",
    "    activations = []\n",
    "    labels = []\n",
    "\n",
    "    for batch in task.train_loader:\n",
    "        batch_labels = [\n",
    "            torch.tensor(sport_label_id_mapping[label], dtype=torch.float32).to(device)\n",
    "            for label in batch[\"sport\"]\n",
    "        ]\n",
    "\n",
    "        batch = tokenizer.batch_encode_plus(\n",
    "            batch[\"prompt\"],\n",
    "            return_tensors=\"pt\",\n",
    "            padding=True,\n",
    "            return_attention_mask=True,\n",
    "        )\n",
    "\n",
    "        with torch.no_grad():\n",
    "            cache = ortho_model.get_activations(\n",
    "                module_to_hook=module_name,\n",
    "                input_ids=batch[\"input_ids\"].to(device),\n",
    "                attention_mask=batch[\"attention_mask\"].to(device),\n",
    "            )\n",
    "\n",
    "        activations.append(cache[:, -1])\n",
    "        labels.extend(batch_labels)\n",
    "\n",
    "    activations = torch.cat(activations).to(dtype=torch.float32)\n",
    "    labels = torch.stack(labels).to(dtype=torch.float32)\n",
    "\n",
    "    eraser = LeaceEraser.fit(activations, labels)\n",
    "    ortho_model.orthogonalize_weight(module_name, eraser.P.to(dtype=torch.bfloat16))"
   ]
  },
  {
   "cell_type": "markdown",
   "metadata": {},
   "source": [
    "### Evaluating the scrubbed model"
   ]
  },
  {
   "cell_type": "code",
   "execution_count": 5,
   "metadata": {},
   "outputs": [
    {
     "data": {
      "text/plain": [
       "0.33540767431259155"
      ]
     },
     "execution_count": 5,
     "metadata": {},
     "output_type": "execute_result"
    }
   ],
   "source": [
    "tokenizer.padding_side = \"right\"\n",
    "\n",
    "task = SportsTask(batch_size=64, tokenizer=tokenizer, device=device)\n",
    "\n",
    "task.get_test_accuracy(model)"
   ]
  },
  {
   "cell_type": "code",
   "execution_count": 6,
   "metadata": {},
   "outputs": [],
   "source": [
    "model.save_pretrained(\"orthogonalized_model\")"
   ]
  }
 ],
 "metadata": {
  "kernelspec": {
   "display_name": ".venv",
   "language": "python",
   "name": "python3"
  },
  "language_info": {
   "codemirror_mode": {
    "name": "ipython",
    "version": 3
   },
   "file_extension": ".py",
   "mimetype": "text/x-python",
   "name": "python",
   "nbconvert_exporter": "python",
   "pygments_lexer": "ipython3",
   "version": "3.10.13"
  }
 },
 "nbformat": 4,
 "nbformat_minor": 2
}
