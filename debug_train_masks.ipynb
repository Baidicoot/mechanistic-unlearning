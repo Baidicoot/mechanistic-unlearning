{
 "cells": [
  {
   "cell_type": "code",
   "execution_count": 1,
   "metadata": {},
   "outputs": [
    {
     "name": "stdout",
     "output_type": "stream",
     "text": [
      "Device: cuda\n"
     ]
    }
   ],
   "source": [
    "#!/usr/bin/env python\n",
    "# coding: utf-8\n",
    "\n",
    "# # Set up models for edge or weight masking\n",
    "\n",
    "# ## Workflow:\n",
    "# - Load model\n",
    "# - Use Task with clean and corrupt data, use ACDCPP and get the ACDCPP-style edges\n",
    "# - Convert ACDCPP-style edges to edge mask, get either edge superset of node superset\n",
    "# - Apply these masks to the mask training, either by limiting edge mask to only edge superset, node superset, or by limiting weight mask to node superset\n",
    "# \n",
    "# - Also need to test other baselines, like regular finetuning\n",
    "\n",
    "# In[1]:\n",
    "\n",
    "\n",
    "import os\n",
    "import sys\n",
    "import pickle\n",
    "sys.path.append('acdcpp/Automatic-Circuit-Discovery/')\n",
    "sys.path.append('acdcpp/')\n",
    "from acdc import TLACDCExperiment\n",
    "from acdcpp.ACDCPPExperiment import ACDCPPExperiment\n",
    "import os\n",
    "import sys\n",
    "import re\n",
    "\n",
    "from acdc.TLACDCExperiment import TLACDCExperiment\n",
    "from acdc.acdc_utils import TorchIndex, EdgeType\n",
    "import numpy as np\n",
    "import torch as t\n",
    "from torch import Tensor\n",
    "import einops\n",
    "import itertools\n",
    "from transformer_lens import HookedTransformer, ActivationCache\n",
    "import tqdm.notebook as tqdm\n",
    "import plotly\n",
    "from rich import print as rprint\n",
    "from rich.table import Table\n",
    "from jaxtyping import Float, Bool\n",
    "from typing import Callable, Tuple, Union, Dict, Optional\n",
    "import torch\n",
    "\n",
    "device = t.device('cuda') if t.cuda.is_available() else t.device('cpu')\n",
    "print(f'Device: {device}')\n",
    "from ACDCPPExperiment import ACDCPPExperiment\n",
    "from cb_utils.mask_utils import get_masks_from_acdcpp_exp\n",
    "\n",
    "\n",
    "# In[3]:\n",
    "\n",
    "import json\n",
    "import argparse\n",
    "import os\n",
    "\n",
    "# Create the parser\n",
    "# parser = argparse.ArgumentParser(description=\"Set model parameters\")\n",
    "\n",
    "# # Add the arguments\n",
    "# parser.add_argument('--config_dir', type=str, required=True, help='Path to the directory with configuration file')\n",
    "\n",
    "# # Parse the arguments\n",
    "# args = parser.parse_args()\n"
   ]
  },
  {
   "cell_type": "code",
   "execution_count": 2,
   "metadata": {},
   "outputs": [
    {
     "name": "stdout",
     "output_type": "stream",
     "text": [
      "{((5, 'm5'), (5, 'a5.5')), ((7, 'a7.6'), (5, 'a5.9')), ((12, 'output'), (10, 'a10.0')), ((7, 'a7.6'), (6, 'a6.9')), ((12, 'output'), (11, 'a11.8')), ((6, 'm6'), (5, 'a5.1')), ((12, 'output'), (7, 'a7.2')), ((0, 'a0.1'), (-1, 'embed')), ((12, 'output'), (11, 'm11')), ((12, 'output'), (10, 'a10.1')), ((12, 'output'), (7, 'm7')), ((12, 'output'), (9, 'a9.6')), ((11, 'm11'), (11, 'a11.8')), ((12, 'output'), (7, 'a7.10')), ((12, 'output'), (9, 'm9')), ((12, 'output'), (10, 'a10.7')), ((12, 'output'), (9, 'a9.9')), ((7, 'a7.6'), (6, 'a6.6')), ((12, 'output'), (11, 'a11.9')), ((7, 'a7.6'), (5, 'a5.5')), ((11, 'm11'), (9, 'm9')), ((12, 'output'), (11, 'a11.10')), ((12, 'output'), (10, 'm10')), ((7, 'a7.6'), (5, 'a5.1')), ((12, 'output'), (6, 'a6.9'))}\n",
      "Using device: cuda:0\n",
      "Loaded edge-masked transformer\n"
     ]
    },
    {
     "name": "stderr",
     "output_type": "stream",
     "text": [
      "/data/phillip_guo/miniconda3/envs/unlrn/lib/python3.10/site-packages/datasets/table.py:1421: FutureWarning: promote has been superseded by promote_options='default'.\n",
      "  table = cls._concat_blocks(blocks, axis=0)\n"
     ]
    },
    {
     "name": "stdout",
     "output_type": "stream",
     "text": [
      "['output_mask', 'blocks.0.edge_mask_attentions', 'blocks.0.edge_mask_mlp', 'blocks.1.edge_mask_attentions', 'blocks.1.edge_mask_mlp', 'blocks.2.edge_mask_attentions', 'blocks.2.edge_mask_mlp', 'blocks.3.edge_mask_attentions', 'blocks.3.edge_mask_mlp', 'blocks.4.edge_mask_attentions', 'blocks.4.edge_mask_mlp', 'blocks.5.edge_mask_attentions', 'blocks.5.edge_mask_mlp', 'blocks.6.edge_mask_attentions', 'blocks.6.edge_mask_mlp', 'blocks.7.edge_mask_attentions', 'blocks.7.edge_mask_mlp', 'blocks.8.edge_mask_attentions', 'blocks.8.edge_mask_mlp', 'blocks.9.edge_mask_attentions', 'blocks.9.edge_mask_mlp', 'blocks.10.edge_mask_attentions', 'blocks.10.edge_mask_mlp', 'blocks.11.edge_mask_attentions', 'blocks.11.edge_mask_mlp']\n"
     ]
    }
   ],
   "source": [
    "\n",
    "# Load the configuration file\n",
    "# config_dir = \"masks/induction_copy/weight_masks_localize=ct\"\n",
    "config_dir = \"masks/induction_copy/edge_masks_localize=acdcpp\"\n",
    "with open(config_dir+\"/config.json\", 'r') as f:\n",
    "    config = json.load(f)\n",
    "\n",
    "# Now you can use these arguments in your code\n",
    "edge_masks = config.get('edge_masks', False)\n",
    "weight_masks_attn = config.get('weight_masks_attn', False)\n",
    "weight_masks_mlp = config.get('weight_masks_mlp', False)\n",
    "train_base_weights = config.get('train_base_weights', False)\n",
    "localize_acdcpp = config.get('localize_acdcpp', False)\n",
    "localize_ct = config.get('localize_ct', False)\n",
    "\n",
    "assert not (localize_acdcpp and localize_ct), \"Cannot localize with both acdcpp and ct\"\n",
    "\n",
    "# localization_method = config.get('localization_method', None)\n",
    "# assert \"acdcpp\" == localization_method or \n",
    "localize_task = config.get('localize_task', \"induction\")\n",
    "\n",
    "use_uniform = config.get('use_uniform', False)\n",
    "uniform_type = config.get('uniform_type', \"all_tokens\")\n",
    "unlrn_task_weight = config.get('unlrn_task_weight', -0.2)\n",
    "epochs_left = config.get('epochs_left', 200)\n",
    "steps_per_epoch = config.get('steps_per_epoch', 20)\n",
    "accum_grad_steps = config.get('accum_grad_steps', 1)\n",
    "lr = config.get('lr', 1e-4)\n",
    "weight_decay = config.get('weight_decay', 0)\n",
    "evaluate_every = config.get('evaluate_every', 2)\n",
    "discretize_every = config.get('discretize_every', 40)\n",
    "threshold = config.get('threshold', 0.5)\n",
    "use_wandb = config.get('use_wandb', True)\n",
    "edge_mask_reg_strength = config.get('edge_mask_reg_strength', 100)\n",
    "weight_mask_reg_strength = config.get('weight_mask_reg_strength', 100)\n",
    "num_eval_steps = config.get('num_eval_steps', 10)\n",
    "save_every = config.get('save_every', None)\n",
    "# For 'save_path', since the default is not provided in the JSON, assuming None as default\n",
    "save_path = config.get('save_path', None)\n",
    "save_efficient = config.get('save_efficient', True)\n",
    "# Assuming 'scale_reg_strength' is also a parameter you want to load with a default value\n",
    "scale_reg_strength = config.get('scale_reg_strength', False)\n",
    "localization_dir_path = config.get('localization_dir_path', None)\n",
    "# If save_path is None, set it to the directory of the config file\n",
    "if config['save_path'] is None:\n",
    "    save_path = config_dir + f\"/ckpts\"\n",
    "\n",
    "if localization_dir_path is None:\n",
    "    localization_method = None\n",
    "    if localize_acdcpp:\n",
    "        localization_method = \"acdcpp\"\n",
    "    elif localize_ct:\n",
    "        localization_method = \"ct\"\n",
    "    localization_dir_path = f\"localizations/{localize_task}/{localization_method}/\"\n",
    "\n",
    "\n",
    "# In[3.5]\n",
    "\n",
    "\n",
    "if localize_acdcpp or localize_ct:\n",
    "    with open(f\"{localization_dir_path}\", \"rb\") as f:\n",
    "        acdcpp_nodes, acdcpp_edges, acdcpp_mask_dict, acdcpp_weight_mask_attn_dict, acdcpp_weight_mask_mlp_dict = pickle.load(f)\n",
    "\n",
    "    mask_dict_superset = acdcpp_mask_dict if edge_masks else None\n",
    "    weight_mask_attn_dict = acdcpp_weight_mask_attn_dict if weight_masks_attn else None\n",
    "    weight_mask_mlp_dict = acdcpp_weight_mask_mlp_dict if weight_masks_mlp else None\n",
    "    base_weight_attn_dict = acdcpp_weight_mask_attn_dict if train_base_weights else None\n",
    "    base_weight_mlp_dict = acdcpp_weight_mask_mlp_dict if train_base_weights else None\n",
    "\n",
    "else:\n",
    "    acdcpp_nodes = None\n",
    "    acdcpp_edges = None\n",
    "    acdcpp_mask_dict = None\n",
    "    acdcpp_weight_mask_attn_dict = None\n",
    "    acdcpp_weight_mask_mlp_dict = None\n",
    "\n",
    "    mask_dict_superset = None\n",
    "    weight_mask_attn_dict = None\n",
    "    weight_mask_mlp_dict = None\n",
    "    base_weight_attn_dict = None\n",
    "    base_weight_mlp_dict = None\n",
    "\n",
    "\n",
    "print(acdcpp_edges)\n",
    "# In[12]:\n",
    "\n",
    "\n",
    "from cb_utils.transformer import DemoTransformer\n",
    "from cb_utils.models import load_demo_gpt2, tokenizer\n",
    "#%%\n",
    "\n",
    "\n",
    "if edge_masks:\n",
    "    model = load_demo_gpt2(means=False, edge_mask=True, weight_mask=False,\n",
    "                       edge_masks=edge_masks, mask_dict_superset=mask_dict_superset)\n",
    "elif weight_masks_attn or weight_masks_mlp:\n",
    "    model = load_demo_gpt2(means=False, edge_mask=False, weight_mask=True,\n",
    "                       weight_masks_attn=weight_masks_attn, weight_masks_mlp=weight_masks_mlp, weight_mask_attn_dict=weight_mask_attn_dict, weight_mask_mlp_dict=weight_mask_mlp_dict)\n",
    "else:\n",
    "    model = load_demo_gpt2(means=False, edge_mask=False, weight_mask=False,\n",
    "                       edge_masks=edge_masks, mask_dict_superset=mask_dict_superset, weight_masks_attn=weight_masks_attn, weight_masks_mlp=weight_masks_mlp, weight_mask_attn_dict=weight_mask_attn_dict, weight_mask_mlp_dict=weight_mask_mlp_dict, train_base_weights=train_base_weights, base_weight_attn_dict=base_weight_attn_dict, base_weight_mlp_dict=base_weight_mlp_dict)\n",
    "\n",
    "# In[13]:\n",
    "\n",
    "from tasks import IOITask, SportsTask, OWTTask, IOITask_Uniform, GreaterThanTask, InductionTask, InductionTask_Uniform\n",
    "batch_size = 80\n",
    "# sports = SportsTask(batch_size=batch_size*2, tokenizer=tokenizer, device=device)\n",
    "owt = OWTTask(batch_size=batch_size, tokenizer=tokenizer, device=device, ctx_length=40)\n",
    "greaterthan = GreaterThanTask(batch_size=batch_size, tokenizer=tokenizer, device=device)\n",
    "ioi = IOITask(batch_size=batch_size, tokenizer=tokenizer, device=device, prep_acdcpp=False, nb_templates=4, prompt_type=\"ABBA\")\n",
    "induction = InductionTask(batch_size=batch_size, tokenizer=tokenizer, prep_acdcpp=False, seq_len=15)\n",
    "\n",
    "if localize_task == \"ioi\":\n",
    "    ioi_uniform = IOITask_Uniform(batch_size=batch_size, tokenizer=tokenizer, device=device, uniform_over=uniform_type, nb_templates=4, prompt_type=\"ABBA\")\n",
    "\n",
    "    ioi_task_2 = IOITask(batch_size=batch_size*2, tokenizer=tokenizer, device=device, nb_templates=1, prompt_type=\"ABBA\", template_start_idx=4) # slightly different template\n",
    "\n",
    "    ioi_task_3 = IOITask(batch_size=batch_size*2, tokenizer=tokenizer, device=device, nb_templates=1, prompt_type=\"BABA\", template_start_idx=0) # different name format\n",
    "\n",
    "    # train_tasks = {\"ioi\": ioi, \"owt\": owt}\n",
    "    if use_uniform:\n",
    "        train_tasks = {\"ioi_uniform\": ioi_uniform, \"owt\": owt}\n",
    "        task_weights = {\"ioi_uniform\": unlrn_task_weight, \"owt\": 1} # I think means preserve OWT, corrupt IOI\n",
    "    else:\n",
    "        train_tasks = {\"ioi\": ioi, \"owt\": owt}\n",
    "        task_weights = {\"ioi\": unlrn_task_weight, \"owt\": 1}\n",
    "\n",
    "    eval_tasks = {\"ioi\": ioi, \"induction\": induction, \"owt\": owt, \"ioi_2\": ioi_task_2, \"ioi_3\": ioi_task_3, \"greaterthan\": greaterthan}\n",
    "\n",
    "elif localize_task == \"induction\":\n",
    "    induction_uniform = InductionTask_Uniform(batch_size=batch_size, tokenizer=tokenizer, prep_acdcpp=False, seq_len=15, uniform_over=uniform_type)\n",
    "    \n",
    "    if use_uniform:\n",
    "        train_tasks = {\"induction_uniform\": induction_uniform, \"owt\": owt}\n",
    "        task_weights = {\"induction_uniform\": unlrn_task_weight, \"owt\": 1}\n",
    "\n",
    "    else:\n",
    "        train_tasks = {\"induction\": induction, \"owt\": owt}\n",
    "        task_weights = {\"induction\": unlrn_task_weight, \"owt\": 1}\n",
    "\n",
    "    eval_tasks = {\"ioi\": ioi, \"induction\": induction, \"owt\": owt, \"greaterthan\": greaterthan}\n",
    "\n",
    "# In[14]:\n",
    "\n",
    "mask_params = []\n",
    "param_names = []\n",
    "for name, p in model.named_parameters():\n",
    "    if p.requires_grad:\n",
    "        param_names.append(name)\n",
    "        mask_params.append(p)\n",
    "\n",
    "print(param_names)\n",
    "\n",
    "# In[16]:"
   ]
  },
  {
   "cell_type": "code",
   "execution_count": 3,
   "metadata": {},
   "outputs": [
    {
     "name": "stdout",
     "output_type": "stream",
     "text": [
      "tensor(0, device='cuda:0') tensor(11611, device='cuda:0')\n"
     ]
    }
   ],
   "source": [
    "tot_0s = 0\n",
    "tot_1s = 0\n",
    "for param in mask_params:\n",
    "    tot_0s += (param == 0).sum()\n",
    "    tot_1s += (param == 1).sum()\n",
    "print(tot_0s, tot_1s)"
   ]
  },
  {
   "cell_type": "code",
   "execution_count": 4,
   "metadata": {},
   "outputs": [
    {
     "name": "stderr",
     "output_type": "stream",
     "text": [
      "\u001b[34m\u001b[1mwandb\u001b[0m: Currently logged in as: \u001b[33mphilliphguo\u001b[0m (\u001b[33mquirky_lats_at_mats\u001b[0m). Use \u001b[1m`wandb login --relogin`\u001b[0m to force relogin\n"
     ]
    },
    {
     "data": {
      "text/html": [
       "wandb version 0.16.3 is available!  To upgrade, please run:\n",
       " $ pip install wandb --upgrade"
      ],
      "text/plain": [
       "<IPython.core.display.HTML object>"
      ]
     },
     "metadata": {},
     "output_type": "display_data"
    },
    {
     "data": {
      "text/html": [
       "Tracking run with wandb version 0.16.0"
      ],
      "text/plain": [
       "<IPython.core.display.HTML object>"
      ]
     },
     "metadata": {},
     "output_type": "display_data"
    },
    {
     "data": {
      "text/html": [
       "Run data is saved locally in <code>/data/phillip_guo/mechanistic-unlearning/wandb/run-20240305_085056-g8plbrva</code>"
      ],
      "text/plain": [
       "<IPython.core.display.HTML object>"
      ]
     },
     "metadata": {},
     "output_type": "display_data"
    },
    {
     "data": {
      "text/html": [
       "Syncing run <strong><a href='https://wandb.ai/quirky_lats_at_mats/mech_unlearning/runs/g8plbrva' target=\"_blank\">vague-silence-13</a></strong> to <a href='https://wandb.ai/quirky_lats_at_mats/mech_unlearning' target=\"_blank\">Weights & Biases</a> (<a href='https://wandb.me/run' target=\"_blank\">docs</a>)<br/>"
      ],
      "text/plain": [
       "<IPython.core.display.HTML object>"
      ]
     },
     "metadata": {},
     "output_type": "display_data"
    },
    {
     "data": {
      "text/html": [
       " View project at <a href='https://wandb.ai/quirky_lats_at_mats/mech_unlearning' target=\"_blank\">https://wandb.ai/quirky_lats_at_mats/mech_unlearning</a>"
      ],
      "text/plain": [
       "<IPython.core.display.HTML object>"
      ]
     },
     "metadata": {},
     "output_type": "display_data"
    },
    {
     "data": {
      "text/html": [
       " View run at <a href='https://wandb.ai/quirky_lats_at_mats/mech_unlearning/runs/g8plbrva' target=\"_blank\">https://wandb.ai/quirky_lats_at_mats/mech_unlearning/runs/g8plbrva</a>"
      ],
      "text/plain": [
       "<IPython.core.display.HTML object>"
      ]
     },
     "metadata": {},
     "output_type": "display_data"
    },
    {
     "name": "stderr",
     "output_type": "stream",
     "text": [
      "100%|██████████| 51/51 [03:49<00:00,  4.50s/it]\n"
     ]
    },
    {
     "data": {
      "application/vnd.jupyter.widget-view+json": {
       "model_id": "0caa162007654dd9811e07ab1862ec26",
       "version_major": 2,
       "version_minor": 0
      },
      "text/plain": [
       "VBox(children=(Label(value='0.014 MB of 0.014 MB uploaded\\r'), FloatProgress(value=1.0, max=1.0)))"
      ]
     },
     "metadata": {},
     "output_type": "display_data"
    },
    {
     "name": "stderr",
     "output_type": "stream",
     "text": [
      "wandb: WARNING Source type is set to 'repo' but some required information is missing from the environment. A job will not be created from this run. See https://docs.wandb.ai/guides/launch/create-job\n"
     ]
    },
    {
     "data": {
      "text/html": [
       "<style>\n",
       "    table.wandb td:nth-child(1) { padding: 0 10px; text-align: left ; width: auto;} td:nth-child(2) {text-align: left ; width: 100%}\n",
       "    .wandb-row { display: flex; flex-direction: row; flex-wrap: wrap; justify-content: flex-start; width: 100% }\n",
       "    .wandb-col { display: flex; flex-direction: column; flex-basis: 100%; flex: 1; padding: 10px; }\n",
       "    </style>\n",
       "<div class=\"wandb-row\"><div class=\"wandb-col\"><h3>Run history:</h3><br/><table class=\"wandb\"><tr><td>edge_reg_term</td><td>██▇▇▆▆▅▅▄▄▃▃▂▂▂▂▁▁▁▁▁▁▁▁▂▂▃▃▄▄▅▆▆▇██████</td></tr><tr><td>num_ablated_edges</td><td>▁▁▁▁▁▁▁▁▁▁▁▁▁▁</td></tr><tr><td>num_ablated_weights</td><td>▁▁▁▁▁▁▁▁▁▁▁▁▁▁</td></tr><tr><td>test_loss_greaterthan</td><td>██▁███▁▁█▁███</td></tr><tr><td>test_loss_greaterthan_acc</td><td>▁▁▁▁▁▁▁▁▁▁▁▁▁</td></tr><tr><td>test_loss_greaterthan_logit_diff</td><td>▁▁▁▁▁▁▁▁▁▁▁▁▁</td></tr><tr><td>test_loss_induction</td><td>▃▃▇▃▁▃▂▆▅▁█▃▃</td></tr><tr><td>test_loss_induction_acc</td><td>▅██▅▅███▁████</td></tr><tr><td>test_loss_induction_logit_diff</td><td>▄▄▃▁▂▄▅▂▃▂▂▆█</td></tr><tr><td>test_loss_ioi</td><td>▄▂▆▅▆▅▃█▃▇▇▁▆</td></tr><tr><td>test_loss_ioi_acc</td><td>▅▅▁█▅███▅█▅▁█</td></tr><tr><td>test_loss_ioi_logit_diff</td><td>▄▄▅█▆▂▃▆▇▄▅▃▁</td></tr><tr><td>test_loss_owt</td><td>▂███▄▄▅▄▇▅▆▄▁</td></tr><tr><td>test_loss_owt_acc</td><td>▁▁▁▁▁▁▁▁▁▁▁▁▁</td></tr><tr><td>test_loss_owt_logit_diff</td><td>▁▁▁▁▁▁▁▁▁▁▁▁▁</td></tr><tr><td>train_loss_induction_uniform</td><td>▂█▆▅▆▄▅▂▅▅▅▆▆▅▄▁▅▃▇▄▆▃▄▄▆▃▄▃▇▅▄▁▆▇▆▂▃▄▄▃</td></tr><tr><td>train_loss_owt</td><td>▂▆▃▃▅▁▂▅▄▄▃▂▃▂▂▃▄▅▂▄▄▄▃▄▁▅▆▄▄▁▃▄▄▅▇▆▂▄█▄</td></tr><tr><td>weight_mask_reg</td><td>▁▁▁▁▁▁▁▁▁▁▁▁▁▁▁▁▁▁▁▁▁▁▁▁▁▁▁▁▁▁▁▁▁▁▁▁▁▁▁▁</td></tr></table><br/></div><div class=\"wandb-col\"><h3>Run summary:</h3><br/><table class=\"wandb\"><tr><td>edge_reg_term</td><td>1.0</td></tr><tr><td>num_ablated_edges</td><td>0</td></tr><tr><td>num_ablated_weights</td><td>0</td></tr><tr><td>test_loss_greaterthan</td><td>3.91161</td></tr><tr><td>test_loss_greaterthan_acc</td><td>0.9875</td></tr><tr><td>test_loss_greaterthan_logit_diff</td><td>0.0</td></tr><tr><td>test_loss_induction</td><td>0.45831</td></tr><tr><td>test_loss_induction_acc</td><td>1.0</td></tr><tr><td>test_loss_induction_logit_diff</td><td>15.538</td></tr><tr><td>test_loss_ioi</td><td>1.03807</td></tr><tr><td>test_loss_ioi_acc</td><td>1.0</td></tr><tr><td>test_loss_ioi_logit_diff</td><td>2.92081</td></tr><tr><td>test_loss_owt</td><td>3.59015</td></tr><tr><td>test_loss_owt_acc</td><td>0.0</td></tr><tr><td>test_loss_owt_logit_diff</td><td>0.0</td></tr><tr><td>train_loss_induction_uniform</td><td>17.08981</td></tr><tr><td>train_loss_owt</td><td>3.7854</td></tr><tr><td>weight_mask_reg</td><td>0</td></tr></table><br/></div></div>"
      ],
      "text/plain": [
       "<IPython.core.display.HTML object>"
      ]
     },
     "metadata": {},
     "output_type": "display_data"
    },
    {
     "data": {
      "text/html": [
       " View run <strong style=\"color:#cdcd00\">vague-silence-13</strong> at: <a href='https://wandb.ai/quirky_lats_at_mats/mech_unlearning/runs/g8plbrva' target=\"_blank\">https://wandb.ai/quirky_lats_at_mats/mech_unlearning/runs/g8plbrva</a><br/>Synced 6 W&B file(s), 0 media file(s), 0 artifact file(s) and 0 other file(s)"
      ],
      "text/plain": [
       "<IPython.core.display.HTML object>"
      ]
     },
     "metadata": {},
     "output_type": "display_data"
    },
    {
     "data": {
      "text/html": [
       "Find logs at: <code>./wandb/run-20240305_085056-g8plbrva/logs</code>"
      ],
      "text/plain": [
       "<IPython.core.display.HTML object>"
      ]
     },
     "metadata": {},
     "output_type": "display_data"
    }
   ],
   "source": [
    "\n",
    "from cb_utils.learn_mask import train_masks\n",
    "\n",
    "# wandb_config = {\n",
    "#     \"edge_masks\": edge_masks, \"weight_masks_attn\": weight_masks_attn, \"weight_masks_mlp\": weight_masks_mlp,  \"train_base_weights\": train_base_weights, \"localize_acdcpp\": localize_acdcpp, \"localize_task\": localize_task,\n",
    "#     \"uniform_type\": uniform_type, \"unlrn_task_weight\": unlrn_task_weight, \"use_uniform\": use_uniform, \n",
    "#     \"epochs\": epochs_left, \"steps_per_epoch\": steps_per_epoch, \"lr\": lr, \"weight_decay\": weight_decay, \"evaluate_every\": evaluate_every, \"discretize_every\": discretize_every, \"threshold\": threshold, \"edge_mask_reg_strength\": edge_mask_reg_strength, \"weight_mask_reg_strength\": weight_mask_reg_strength}\n",
    "# set wandb_config to config\n",
    "wandb_config = config\n",
    "\n",
    "if scale_reg_strength:\n",
    "    orig_edge_mask_reg_strength = edge_mask_reg_strength\n",
    "    orig_weight_mask_reg_strength = weight_mask_reg_strength\n",
    "    edge_mask_reg_strength = lambda epoch: orig_edge_mask_reg_strength * (epoch - 20)\n",
    "    weight_mask_reg_strength = lambda epoch: orig_weight_mask_reg_strength * (epoch - 20)\n",
    "\n",
    "optimizer = torch.optim.AdamW(mask_params, lr=lr, weight_decay=weight_decay)\n",
    "train_losses, test_losses = train_masks(model, tasks=train_tasks, optimizer=optimizer, num_epochs=epochs_left, steps_per_epoch=steps_per_epoch, accum_grad_steps=accum_grad_steps,\n",
    "            # param_names=param_names, mask_params=mask_params, \n",
    "            task_weights=task_weights, eval_tasks=eval_tasks, evaluate_every=evaluate_every, discretize_every=discretize_every, save_every=save_every,\n",
    "            threshold=threshold, edge_mask_reg_strength=edge_mask_reg_strength, weight_mask_reg_strength=weight_mask_reg_strength, verbose=False, use_wandb=use_wandb, wandb_config=wandb_config, save_dir=save_path, save_efficient=save_efficient)\n",
    "\n",
    "\n",
    "# In[17]:\n",
    "\n",
    "\n",
    "# import pickle\n",
    "# # with open(f\"masks/trained_mask_params_{epochs_left=}_{edge_mask_reg_strength=}_{uniform_type=}/final_params.pkl\", \"wb\") as f:\n",
    "# # with open(f\"{save_path}/final_params.pkl\", \"wb\") as f:\n",
    "# #     pickle.dump(mask_params, f)\n",
    "# os.makedirs(save_path, exist_ok=True)\n",
    "# if save_efficient:\n",
    "#     model_path = f\"{save_path}/mask_params_final.pkl\"\n",
    "#     with open(model_path, \"wb\") as f:\n",
    "#         pickle.dump((param_names, mask_params), f)\n",
    "# else:\n",
    "#     model_path = f\"{save_path}/mask_params_final.pth\"\n",
    "#     torch.save(model.state_dict(), model_path)\n",
    "\n",
    "# with open(f\"{save_path}/final_losses.pkl\", \"wb\") as f:\n",
    "#     pickle.dump((train_losses, test_losses), f)\n",
    "\n",
    "# In[18]:\n"
   ]
  },
  {
   "cell_type": "code",
   "execution_count": 11,
   "metadata": {},
   "outputs": [
    {
     "data": {
      "text/plain": [
       "dict_keys(['induction_uniform', 'owt', 'edge_reg_term', 'weight_mask_reg', 'edge_mask_reg', 'weight_mask_regs'])"
      ]
     },
     "execution_count": 11,
     "metadata": {},
     "output_type": "execute_result"
    }
   ],
   "source": [
    "train_losses.keys()"
   ]
  },
  {
   "cell_type": "code",
   "execution_count": 12,
   "metadata": {},
   "outputs": [
    {
     "data": {
      "image/png": "[encoded data removed]",
      "text/plain": [
       "<Figure size 640x480 with 1 Axes>"
      ]
     },
     "metadata": {},
     "output_type": "display_data"
    }
   ],
   "source": [
    "from matplotlib import pyplot as plt\n",
    "# weight_mask_regs = [x[2].item() for x in train_losses[\"weight_mask_reg\"]]\n",
    "# plt.plot(weight_mask_regs)\n",
    "edge_mask_regs = [x[2].item() for x in train_losses[\"edge_reg_term\"]]\n",
    "plt.plot(edge_mask_regs)\n",
    "plt.show()"
   ]
  },
  {
   "cell_type": "code",
   "execution_count": 13,
   "metadata": {},
   "outputs": [
    {
     "name": "stdout",
     "output_type": "stream",
     "text": [
      "output_mask tensor(0, device='cuda:0') tensor(157, device='cuda:0')\n",
      "blocks.0.edge_mask_attentions tensor(0, device='cuda:0') tensor(12, device='cuda:0')\n",
      "blocks.0.edge_mask_mlp tensor(0, device='cuda:0') tensor(13, device='cuda:0')\n",
      "blocks.1.edge_mask_attentions tensor(0, device='cuda:0') tensor(168, device='cuda:0')\n",
      "blocks.1.edge_mask_mlp tensor(0, device='cuda:0') tensor(26, device='cuda:0')\n",
      "blocks.2.edge_mask_attentions tensor(0, device='cuda:0') tensor(324, device='cuda:0')\n",
      "blocks.2.edge_mask_mlp tensor(0, device='cuda:0') tensor(39, device='cuda:0')\n",
      "blocks.3.edge_mask_attentions tensor(0, device='cuda:0') tensor(480, device='cuda:0')\n",
      "blocks.3.edge_mask_mlp tensor(0, device='cuda:0') tensor(52, device='cuda:0')\n",
      "blocks.4.edge_mask_attentions tensor(0, device='cuda:0') tensor(636, device='cuda:0')\n",
      "blocks.4.edge_mask_mlp tensor(0, device='cuda:0') tensor(65, device='cuda:0')\n",
      "blocks.5.edge_mask_attentions tensor(0, device='cuda:0') tensor(792, device='cuda:0')\n",
      "blocks.5.edge_mask_mlp tensor(0, device='cuda:0') tensor(78, device='cuda:0')\n",
      "blocks.6.edge_mask_attentions tensor(0, device='cuda:0') tensor(948, device='cuda:0')\n",
      "blocks.6.edge_mask_mlp tensor(0, device='cuda:0') tensor(91, device='cuda:0')\n",
      "blocks.7.edge_mask_attentions tensor(0, device='cuda:0') tensor(1104, device='cuda:0')\n",
      "blocks.7.edge_mask_mlp tensor(0, device='cuda:0') tensor(104, device='cuda:0')\n",
      "blocks.8.edge_mask_attentions tensor(0, device='cuda:0') tensor(1260, device='cuda:0')\n",
      "blocks.8.edge_mask_mlp tensor(0, device='cuda:0') tensor(117, device='cuda:0')\n",
      "blocks.9.edge_mask_attentions tensor(0, device='cuda:0') tensor(1416, device='cuda:0')\n",
      "blocks.9.edge_mask_mlp tensor(0, device='cuda:0') tensor(130, device='cuda:0')\n",
      "blocks.10.edge_mask_attentions tensor(0, device='cuda:0') tensor(1572, device='cuda:0')\n",
      "blocks.10.edge_mask_mlp tensor(0, device='cuda:0') tensor(143, device='cuda:0')\n",
      "blocks.11.edge_mask_attentions tensor(0, device='cuda:0') tensor(1728, device='cuda:0')\n",
      "blocks.11.edge_mask_mlp tensor(0, device='cuda:0') tensor(156, device='cuda:0')\n"
     ]
    }
   ],
   "source": [
    "for name, p in zip(param_names, mask_params):\n",
    "    if p.requires_grad:\n",
    "        # print(name, p)\n",
    "        # count how many zeros in p\n",
    "        print(name, (p == 0).sum(), (p == 1).sum())\n",
    "\n"
   ]
  },
  {
   "cell_type": "code",
   "execution_count": null,
   "metadata": {},
   "outputs": [],
   "source": []
  }
 ],
 "metadata": {
  "kernelspec": {
   "display_name": "unlrn",
   "language": "python",
   "name": "unlrn"
  },
  "language_info": {
   "codemirror_mode": {
    "name": "ipython",
    "version": 3
   },
   "file_extension": ".py",
   "mimetype": "text/x-python",
   "name": "python",
   "nbconvert_exporter": "python",
   "pygments_lexer": "ipython3",
   "version": "3.10.13"
  }
 },
 "nbformat": 4,
 "nbformat_minor": 2
}
